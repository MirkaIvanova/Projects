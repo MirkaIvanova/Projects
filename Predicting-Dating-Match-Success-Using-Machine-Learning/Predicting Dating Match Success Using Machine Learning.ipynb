{
 "cells": [
  {
   "cell_type": "code",
   "execution_count": 1,
   "id": "c9e20da0-2687-40f3-bc70-0ade766dc9f4",
   "metadata": {
    "deletable": true,
    "editable": true,
    "frozen": false
   },
   "outputs": [],
   "source": [
    "# !pip install category_encoders\n",
    "# !pip install colorama\n",
    "# !pip install imbalanced-learn\n",
    "# !pip install hyperopt\n",
    "# !pip install optuna"
   ]
  },
  {
   "cell_type": "markdown",
   "id": "3e7c45a5-cf30-4b9e-b0d8-bd307e809ba3",
   "metadata": {
    "deletable": true,
    "editable": true,
    "frozen": false
   },
   "source": [
    "## Import"
   ]
  },
  {
   "cell_type": "code",
   "execution_count": 2,
   "id": "e1ed8416-2696-4a02-9dbd-1709a99ed523",
   "metadata": {
    "deletable": true,
    "editable": true,
    "frozen": false
   },
   "outputs": [],
   "source": [
    "from datetime import datetime\n",
    "from sklearn.discriminant_analysis import LinearDiscriminantAnalysis\n",
    "from sklearn.ensemble import (\n",
    "    GradientBoostingClassifier,\n",
    "    HistGradientBoostingClassifier,\n",
    "    RandomForestClassifier,\n",
    ")\n",
    "from sklearn.linear_model import (\n",
    "    LogisticRegression,\n",
    "    PassiveAggressiveClassifier,\n",
    "    Perceptron,\n",
    ")\n",
    "from sklearn.metrics import (\n",
    "    f1_score,\n",
    "    make_scorer,\n",
    "    precision_score,\n",
    "    recall_score,\n",
    ")\n",
    "from sklearn.model_selection import train_test_split\n",
    "from sklearn.neighbors import KNeighborsClassifier\n",
    "from sklearn.preprocessing import MaxAbsScaler\n",
    "from sklearn.svm import SVC\n",
    "from sklearn.tree import DecisionTreeClassifier\n",
    "from xgboost import XGBClassifier\n",
    "\n",
    "import matplotlib.pyplot as plt\n",
    "import numpy as np\n",
    "import pandas as pd"
   ]
  },
  {
   "cell_type": "code",
   "execution_count": 3,
   "id": "75dd2c3e-70b3-444d-9e14-2c290cfbe398",
   "metadata": {
    "deletable": true,
    "editable": true,
    "frozen": false
   },
   "outputs": [],
   "source": [
    "from src import custom_dataframe\n",
    "from src.chainable_plt import ChainablePlt\n",
    "from src.clean_categorical_columns import (\n",
    "    clean_field_of_study,\n",
    "    clean_location,\n",
    "    clean_university_names,\n",
    ")\n",
    "from src.create_evaluate_pipeline import (\n",
    "    display_top_models,\n",
    "    evaluate_parameter_grid,\n",
    "    predict_and_score,\n",
    "    print_scores,\n",
    ")\n",
    "from src.helpers import load_model_params\n",
    "from src.feature_engineering import add_partner_columns, create_equality_features\n",
    "from src.imputers import impute_columns_by_gender, questionnaire_impute_0"
   ]
  },
  {
   "cell_type": "code",
   "execution_count": 4,
   "id": "53a58946-265f-4c40-9b35-593db5108d58",
   "metadata": {
    "deletable": true,
    "editable": true,
    "frozen": false
   },
   "outputs": [],
   "source": [
    "pd.set_option('display.max_colwidth', 500) \n",
    "pd.set_option('display.max_info_columns', 500) \n",
    "pd.set_option('display.max_rows', 100)"
   ]
  },
  {
   "cell_type": "code",
   "execution_count": 5,
   "id": "d8c57304-b417-4d38-9ba8-254934f6a84e",
   "metadata": {
    "deletable": true,
    "editable": true,
    "frozen": false
   },
   "outputs": [],
   "source": [
    "cplt = ChainablePlt(plt)\n",
    "RANDOM_STATE = 42"
   ]
  },
  {
   "cell_type": "markdown",
   "id": "10b92f3a-ba65-4b0f-a3db-af23ea11938d",
   "metadata": {
    "deletable": true,
    "editable": true,
    "frozen": false
   },
   "source": [
    "# Predicting Dating Match Success Using Machine Learning"
   ]
  },
  {
   "cell_type": "markdown",
   "id": "7f95e722-cb86-4be3-9366-bf4f381949b3",
   "metadata": {
    "deletable": true,
    "editable": true,
    "frozen": false
   },
   "source": [
    "## ❤️TODO"
   ]
  },
  {
   "cell_type": "markdown",
   "id": "9d87d5df-8545-4e4d-941d-14439494b2be",
   "metadata": {
    "deletable": true,
    "editable": true,
    "frozen": false
   },
   "source": [
    "- delete all unneeded files and functions from the FS\n",
    "- abstract\n",
    "- add section numbers\n",
    "- save final model\n",
    "- add check for duplicate rows in teh beginning\n",
    "- unfreeze all frozen cells\n",
    "- feature selection"
   ]
  },
  {
   "cell_type": "markdown",
   "id": "9af4ceaf-a223-4bf5-ba25-2208757fe203",
   "metadata": {
    "deletable": true,
    "editable": true,
    "frozen": false
   },
   "source": [
    "- link to functions\n",
    "- custom_dataframe\n",
    "- OneHot (or other) encoder or get_dummies, instead of eq, diff,\n",
    "- find all plt and convert them to cplt\n",
    "- docstrings"
   ]
  },
  {
   "cell_type": "markdown",
   "id": "a8878b53-489f-4391-b710-912c38b0f4a0",
   "metadata": {
    "deletable": true,
    "editable": true,
    "frozen": false
   },
   "source": [
    "- the functions in clean-origin_columns.py can be made simpler, add docstrings\n",
    "- date, date_o, do_out, goi_out_o - try ordinal encoding because thats how we normalized the values\n",
    "- display_top_models better printing\n",
    "- Evaluating combination 1/3 - improve\n",
    "- find outliers, one-class SVM, RANSAC (3)\n",
    "- desribe what didn't work: SMOTE"
   ]
  },
  {
   "cell_type": "code",
   "execution_count": 6,
   "id": "2bf2db88-f8e5-41fd-9f2c-b634ebf20052",
   "metadata": {
    "deletable": true,
    "editable": true,
    "frozen": false
   },
   "outputs": [],
   "source": [
    "# ❤️MII за сега това е най-добрият модел:\n",
    "\n",
    "xgb_param_grid = {\n",
    "    \"model\": [XGBClassifier(objective='binary:logistic', random_state=RANDOM_STATE)],\n",
    "    \"model__booster\": [\"gbtree\"],  # Type of booster to use\n",
    "\n",
    "    # Tree Booster Parameters (used in gbtree and dart boosters)\n",
    "    \"model__eta\":               [0.2],     # [0.01, 0.05, 0.1, 0.2, 0.3],  # Learning rate (slower = more robust)\n",
    "    \"model__max_depth\":         [10],      # default=6\n",
    "    \"model__min_child_weight\":  [5],       # default=1\n",
    "    \"model__gamma\":             [0],       # default=0\n",
    "    \"model__subsample\":         [1.0],     # default: 1\n",
    "    \"model__colsample_bytree\":  [1.0],     # default=1\n",
    "    \"model__colsample_bylevel\": [1.0],     # default=1\n",
    "    \"model__colsample_bynode\":  [1.0],     # default=1\n",
    "    \"model__lambda\":            [1],       # default=1, L2 regularization term on weights\n",
    "    \"model__alpha\":             [0],       # default=0, L1 regularization term on weights\n",
    "    \"model__tree_method\":       [\"hist\"],  # Method for building trees\n",
    "    \"model__scale_pos_weight\":  [1],  # default=1, Balance for positive classes\n",
    "    \"model__objective\":         [\"binary:logistic\"],  # Loss function for classification\n",
    "    \"model__n_estimators\":      [100]  # Number of boosting rounds\n",
    "}"
   ]
  },
  {
   "cell_type": "code",
   "execution_count": 7,
   "id": "5b46e809-a221-44b8-acbb-c0ea017d908e",
   "metadata": {
    "deletable": true,
    "editable": true,
    "frozen": false
   },
   "outputs": [],
   "source": [
    "# ❤️MII DELETEME!\n",
    "from IPython.core.magic import register_cell_magic\n",
    "\n",
    "@register_cell_magic\n",
    "def skip(line, cell):\n",
    "    return"
   ]
  },
  {
   "cell_type": "markdown",
   "id": "c69e208a-233b-456f-ade7-9f2af426e503",
   "metadata": {
    "deletable": true,
    "editable": true,
    "frozen": false
   },
   "source": [
    "## Purpose of the project"
   ]
  },
  {
   "cell_type": "markdown",
   "id": "26cf6574-bc46-428d-b4e4-20c4feda2644",
   "metadata": {
    "deletable": true,
    "editable": true,
    "frozen": false
   },
   "source": [
    "The goal of this project is to create a machine learning model for a dating application that can predict with which users a newly registered user will be a good match. When users sign up for the dating app, they will complete a survey answering questions about their demographics, location, interests, and what they value in a potential partner. The machine learning model developed using this speed dating dataset will then be able to analyze the user's survey responses and predict which other users on the app would be a good match for them. By uncovering the key factors that influence successful matches from the speed dating experiment data, the model can be applied to provide personalized match recommendations for users of the dating application."
   ]
  },
  {
   "cell_type": "markdown",
   "id": "dfc4ec92-310d-483d-a12b-54c66f7d7485",
   "metadata": {
    "deletable": true,
    "editable": true,
    "frozen": false
   },
   "source": [
    "## Load the data and a quick look"
   ]
  },
  {
   "cell_type": "code",
   "execution_count": 8,
   "id": "fc8072b9-ed73-4e29-8c81-2dda044057d5",
   "metadata": {
    "deletable": true,
    "editable": true,
    "frozen": false
   },
   "outputs": [],
   "source": [
    "df = pd.read_csv(\"dating_data/02_Speed Dating Data.csv\", encoding='ISO-8859-1')"
   ]
  },
  {
   "cell_type": "code",
   "execution_count": 9,
   "id": "9441645f-e183-4d9d-80a9-d79b61203a5a",
   "metadata": {
    "deletable": true,
    "editable": true,
    "frozen": false
   },
   "outputs": [
    {
     "data": {
      "text/plain": [
       "(8378, 195)"
      ]
     },
     "execution_count": 9,
     "metadata": {},
     "output_type": "execute_result"
    }
   ],
   "source": [
    "df.shape"
   ]
  },
  {
   "cell_type": "code",
   "execution_count": 10,
   "id": "c596877a-de08-40b1-9584-2857cd4b1325",
   "metadata": {
    "deletable": true,
    "editable": true,
    "frozen": false
   },
   "outputs": [
    {
     "name": "stdout",
     "output_type": "stream",
     "text": [
      "<class 'pandas.core.frame.DataFrame'>\n",
      "RangeIndex: 8378 entries, 0 to 8377\n",
      "Data columns (total 195 columns):\n",
      " #    Column    Non-Null Count  Dtype  \n",
      "---   ------    --------------  -----  \n",
      " 0    iid       8378 non-null   int64  \n",
      " 1    id        8377 non-null   float64\n",
      " 2    gender    8378 non-null   int64  \n",
      " 3    idg       8378 non-null   int64  \n",
      " 4    condtn    8378 non-null   int64  \n",
      " 5    wave      8378 non-null   int64  \n",
      " 6    round     8378 non-null   int64  \n",
      " 7    position  8378 non-null   int64  \n",
      " 8    positin1  6532 non-null   float64\n",
      " 9    order     8378 non-null   int64  \n",
      " 10   partner   8378 non-null   int64  \n",
      " 11   pid       8368 non-null   float64\n",
      " 12   match     8378 non-null   int64  \n",
      " 13   int_corr  8220 non-null   float64\n",
      " 14   samerace  8378 non-null   int64  \n",
      " 15   age_o     8274 non-null   float64\n",
      " 16   race_o    8305 non-null   float64\n",
      " 17   pf_o_att  8289 non-null   float64\n",
      " 18   pf_o_sin  8289 non-null   float64\n",
      " 19   pf_o_int  8289 non-null   float64\n",
      " 20   pf_o_fun  8280 non-null   float64\n",
      " 21   pf_o_amb  8271 non-null   float64\n",
      " 22   pf_o_sha  8249 non-null   float64\n",
      " 23   dec_o     8378 non-null   int64  \n",
      " 24   attr_o    8166 non-null   float64\n",
      " 25   sinc_o    8091 non-null   float64\n",
      " 26   intel_o   8072 non-null   float64\n",
      " 27   fun_o     8018 non-null   float64\n",
      " 28   amb_o     7656 non-null   float64\n",
      " 29   shar_o    7302 non-null   float64\n",
      " 30   like_o    8128 non-null   float64\n",
      " 31   prob_o    8060 non-null   float64\n",
      " 32   met_o     7993 non-null   float64\n",
      " 33   age       8283 non-null   float64\n",
      " 34   field     8315 non-null   object \n",
      " 35   field_cd  8296 non-null   float64\n",
      " 36   undergra  4914 non-null   object \n",
      " 37   mn_sat    3133 non-null   object \n",
      " 38   tuition   3583 non-null   object \n",
      " 39   race      8315 non-null   float64\n",
      " 40   imprace   8299 non-null   float64\n",
      " 41   imprelig  8299 non-null   float64\n",
      " 42   from      8299 non-null   object \n",
      " 43   zipcode   7314 non-null   object \n",
      " 44   income    4279 non-null   object \n",
      " 45   goal      8299 non-null   float64\n",
      " 46   date      8281 non-null   float64\n",
      " 47   go_out    8299 non-null   float64\n",
      " 48   career    8289 non-null   object \n",
      " 49   career_c  8240 non-null   float64\n",
      " 50   sports    8299 non-null   float64\n",
      " 51   tvsports  8299 non-null   float64\n",
      " 52   exercise  8299 non-null   float64\n",
      " 53   dining    8299 non-null   float64\n",
      " 54   museums   8299 non-null   float64\n",
      " 55   art       8299 non-null   float64\n",
      " 56   hiking    8299 non-null   float64\n",
      " 57   gaming    8299 non-null   float64\n",
      " 58   clubbing  8299 non-null   float64\n",
      " 59   reading   8299 non-null   float64\n",
      " 60   tv        8299 non-null   float64\n",
      " 61   theater   8299 non-null   float64\n",
      " 62   movies    8299 non-null   float64\n",
      " 63   concerts  8299 non-null   float64\n",
      " 64   music     8299 non-null   float64\n",
      " 65   shopping  8299 non-null   float64\n",
      " 66   yoga      8299 non-null   float64\n",
      " 67   exphappy  8277 non-null   float64\n",
      " 68   expnum    1800 non-null   float64\n",
      " 69   attr1_1   8299 non-null   float64\n",
      " 70   sinc1_1   8299 non-null   float64\n",
      " 71   intel1_1  8299 non-null   float64\n",
      " 72   fun1_1    8289 non-null   float64\n",
      " 73   amb1_1    8279 non-null   float64\n",
      " 74   shar1_1   8257 non-null   float64\n",
      " 75   attr4_1   6489 non-null   float64\n",
      " 76   sinc4_1   6489 non-null   float64\n",
      " 77   intel4_1  6489 non-null   float64\n",
      " 78   fun4_1    6489 non-null   float64\n",
      " 79   amb4_1    6489 non-null   float64\n",
      " 80   shar4_1   6467 non-null   float64\n",
      " 81   attr2_1   8299 non-null   float64\n",
      " 82   sinc2_1   8299 non-null   float64\n",
      " 83   intel2_1  8299 non-null   float64\n",
      " 84   fun2_1    8299 non-null   float64\n",
      " 85   amb2_1    8289 non-null   float64\n",
      " 86   shar2_1   8289 non-null   float64\n",
      " 87   attr3_1   8273 non-null   float64\n",
      " 88   sinc3_1   8273 non-null   float64\n",
      " 89   fun3_1    8273 non-null   float64\n",
      " 90   intel3_1  8273 non-null   float64\n",
      " 91   amb3_1    8273 non-null   float64\n",
      " 92   attr5_1   4906 non-null   float64\n",
      " 93   sinc5_1   4906 non-null   float64\n",
      " 94   intel5_1  4906 non-null   float64\n",
      " 95   fun5_1    4906 non-null   float64\n",
      " 96   amb5_1    4906 non-null   float64\n",
      " 97   dec       8378 non-null   int64  \n",
      " 98   attr      8176 non-null   float64\n",
      " 99   sinc      8101 non-null   float64\n",
      " 100  intel     8082 non-null   float64\n",
      " 101  fun       8028 non-null   float64\n",
      " 102  amb       7666 non-null   float64\n",
      " 103  shar      7311 non-null   float64\n",
      " 104  like      8138 non-null   float64\n",
      " 105  prob      8069 non-null   float64\n",
      " 106  met       8003 non-null   float64\n",
      " 107  match_es  7205 non-null   float64\n",
      " 108  attr1_s   4096 non-null   float64\n",
      " 109  sinc1_s   4096 non-null   float64\n",
      " 110  intel1_s  4096 non-null   float64\n",
      " 111  fun1_s    4096 non-null   float64\n",
      " 112  amb1_s    4096 non-null   float64\n",
      " 113  shar1_s   4096 non-null   float64\n",
      " 114  attr3_s   4000 non-null   float64\n",
      " 115  sinc3_s   4000 non-null   float64\n",
      " 116  intel3_s  4000 non-null   float64\n",
      " 117  fun3_s    4000 non-null   float64\n",
      " 118  amb3_s    4000 non-null   float64\n",
      " 119  satis_2   7463 non-null   float64\n",
      " 120  length    7463 non-null   float64\n",
      " 121  numdat_2  7433 non-null   float64\n",
      " 122  attr7_2   1984 non-null   float64\n",
      " 123  sinc7_2   1955 non-null   float64\n",
      " 124  intel7_2  1984 non-null   float64\n",
      " 125  fun7_2    1984 non-null   float64\n",
      " 126  amb7_2    1955 non-null   float64\n",
      " 127  shar7_2   1974 non-null   float64\n",
      " 128  attr1_2   7445 non-null   float64\n",
      " 129  sinc1_2   7463 non-null   float64\n",
      " 130  intel1_2  7463 non-null   float64\n",
      " 131  fun1_2    7463 non-null   float64\n",
      " 132  amb1_2    7463 non-null   float64\n",
      " 133  shar1_2   7463 non-null   float64\n",
      " 134  attr4_2   5775 non-null   float64\n",
      " 135  sinc4_2   5775 non-null   float64\n",
      " 136  intel4_2  5775 non-null   float64\n",
      " 137  fun4_2    5775 non-null   float64\n",
      " 138  amb4_2    5775 non-null   float64\n",
      " 139  shar4_2   5775 non-null   float64\n",
      " 140  attr2_2   5775 non-null   float64\n",
      " 141  sinc2_2   5775 non-null   float64\n",
      " 142  intel2_2  5775 non-null   float64\n",
      " 143  fun2_2    5775 non-null   float64\n",
      " 144  amb2_2    5775 non-null   float64\n",
      " 145  shar2_2   5775 non-null   float64\n",
      " 146  attr3_2   7463 non-null   float64\n",
      " 147  sinc3_2   7463 non-null   float64\n",
      " 148  intel3_2  7463 non-null   float64\n",
      " 149  fun3_2    7463 non-null   float64\n",
      " 150  amb3_2    7463 non-null   float64\n",
      " 151  attr5_2   4377 non-null   float64\n",
      " 152  sinc5_2   4377 non-null   float64\n",
      " 153  intel5_2  4377 non-null   float64\n",
      " 154  fun5_2    4377 non-null   float64\n",
      " 155  amb5_2    4377 non-null   float64\n",
      " 156  you_call  3974 non-null   float64\n",
      " 157  them_cal  3974 non-null   float64\n",
      " 158  date_3    3974 non-null   float64\n",
      " 159  numdat_3  1496 non-null   float64\n",
      " 160  num_in_3  668 non-null    float64\n",
      " 161  attr1_3   3974 non-null   float64\n",
      " 162  sinc1_3   3974 non-null   float64\n",
      " 163  intel1_3  3974 non-null   float64\n",
      " 164  fun1_3    3974 non-null   float64\n",
      " 165  amb1_3    3974 non-null   float64\n",
      " 166  shar1_3   3974 non-null   float64\n",
      " 167  attr7_3   2016 non-null   float64\n",
      " 168  sinc7_3   2016 non-null   float64\n",
      " 169  intel7_3  2016 non-null   float64\n",
      " 170  fun7_3    2016 non-null   float64\n",
      " 171  amb7_3    2016 non-null   float64\n",
      " 172  shar7_3   2016 non-null   float64\n",
      " 173  attr4_3   2959 non-null   float64\n",
      " 174  sinc4_3   2959 non-null   float64\n",
      " 175  intel4_3  2959 non-null   float64\n",
      " 176  fun4_3    2959 non-null   float64\n",
      " 177  amb4_3    2959 non-null   float64\n",
      " 178  shar4_3   2959 non-null   float64\n",
      " 179  attr2_3   2959 non-null   float64\n",
      " 180  sinc2_3   2959 non-null   float64\n",
      " 181  intel2_3  2959 non-null   float64\n",
      " 182  fun2_3    2959 non-null   float64\n",
      " 183  amb2_3    2959 non-null   float64\n",
      " 184  shar2_3   2016 non-null   float64\n",
      " 185  attr3_3   3974 non-null   float64\n",
      " 186  sinc3_3   3974 non-null   float64\n",
      " 187  intel3_3  3974 non-null   float64\n",
      " 188  fun3_3    3974 non-null   float64\n",
      " 189  amb3_3    3974 non-null   float64\n",
      " 190  attr5_3   2016 non-null   float64\n",
      " 191  sinc5_3   2016 non-null   float64\n",
      " 192  intel5_3  2016 non-null   float64\n",
      " 193  fun5_3    2016 non-null   float64\n",
      " 194  amb5_3    2016 non-null   float64\n",
      "dtypes: float64(174), int64(13), object(8)\n",
      "memory usage: 12.5+ MB\n"
     ]
    }
   ],
   "source": [
    "df.info()"
   ]
  },
  {
   "cell_type": "code",
   "execution_count": 11,
   "id": "72c13a48-79a3-40f4-abc4-3509652c43cc",
   "metadata": {
    "deletable": true,
    "editable": true,
    "frozen": false
   },
   "outputs": [
    {
     "name": "stdout",
     "output_type": "stream",
     "text": [
      "A quick look at the columns: \n",
      " ['iid', 'id', 'gender', 'idg', 'condtn', 'wave', 'round', 'position', 'positin1', 'order', 'partner', 'pid', 'match', 'int_corr', 'samerace', 'age_o', 'race_o', 'pf_o_att', 'pf_o_sin', 'pf_o_int', 'pf_o_fun', 'pf_o_amb', 'pf_o_sha', 'dec_o', 'attr_o', 'sinc_o', 'intel_o', 'fun_o', 'amb_o', 'shar_o', 'like_o', 'prob_o', 'met_o', 'age', 'field', 'field_cd', 'undergra', 'mn_sat', 'tuition', 'race', 'imprace', 'imprelig', 'from', 'zipcode', 'income', 'goal', 'date', 'go_out', 'career', 'career_c', 'sports', 'tvsports', 'exercise', 'dining', 'museums', 'art', 'hiking', 'gaming', 'clubbing', 'reading', 'tv', 'theater', 'movies', 'concerts', 'music', 'shopping', 'yoga', 'exphappy', 'expnum', 'attr1_1', 'sinc1_1', 'intel1_1', 'fun1_1', 'amb1_1', 'shar1_1', 'attr4_1', 'sinc4_1', 'intel4_1', 'fun4_1', 'amb4_1', 'shar4_1', 'attr2_1', 'sinc2_1', 'intel2_1', 'fun2_1', 'amb2_1', 'shar2_1', 'attr3_1', 'sinc3_1', 'fun3_1', 'intel3_1', 'amb3_1', 'attr5_1', 'sinc5_1', 'intel5_1', 'fun5_1', 'amb5_1', 'dec', 'attr', 'sinc', 'intel', 'fun', 'amb', 'shar', 'like', 'prob', 'met', 'match_es', 'attr1_s', 'sinc1_s', 'intel1_s', 'fun1_s', 'amb1_s', 'shar1_s', 'attr3_s', 'sinc3_s', 'intel3_s', 'fun3_s', 'amb3_s', 'satis_2', 'length', 'numdat_2', 'attr7_2', 'sinc7_2', 'intel7_2', 'fun7_2', 'amb7_2', 'shar7_2', 'attr1_2', 'sinc1_2', 'intel1_2', 'fun1_2', 'amb1_2', 'shar1_2', 'attr4_2', 'sinc4_2', 'intel4_2', 'fun4_2', 'amb4_2', 'shar4_2', 'attr2_2', 'sinc2_2', 'intel2_2', 'fun2_2', 'amb2_2', 'shar2_2', 'attr3_2', 'sinc3_2', 'intel3_2', 'fun3_2', 'amb3_2', 'attr5_2', 'sinc5_2', 'intel5_2', 'fun5_2', 'amb5_2', 'you_call', 'them_cal', 'date_3', 'numdat_3', 'num_in_3', 'attr1_3', 'sinc1_3', 'intel1_3', 'fun1_3', 'amb1_3', 'shar1_3', 'attr7_3', 'sinc7_3', 'intel7_3', 'fun7_3', 'amb7_3', 'shar7_3', 'attr4_3', 'sinc4_3', 'intel4_3', 'fun4_3', 'amb4_3', 'shar4_3', 'attr2_3', 'sinc2_3', 'intel2_3', 'fun2_3', 'amb2_3', 'shar2_3', 'attr3_3', 'sinc3_3', 'intel3_3', 'fun3_3', 'amb3_3', 'attr5_3', 'sinc5_3', 'intel5_3', 'fun5_3', 'amb5_3']\n"
     ]
    }
   ],
   "source": [
    "print(\"A quick look at the columns: \\n\", str(df.columns.to_list()))"
   ]
  },
  {
   "cell_type": "code",
   "execution_count": 12,
   "id": "5f124704-6811-4040-8e3b-59259e024718",
   "metadata": {
    "deletable": true,
    "editable": true,
    "frozen": false
   },
   "outputs": [
    {
     "data": {
      "text/plain": [
       "iid            0\n",
       "id             1\n",
       "gender         0\n",
       "idg            0\n",
       "condtn         0\n",
       "wave           0\n",
       "round          0\n",
       "position       0\n",
       "positin1    1846\n",
       "order          0\n",
       "partner        0\n",
       "pid           10\n",
       "match          0\n",
       "int_corr     158\n",
       "samerace       0\n",
       "age_o        104\n",
       "race_o        73\n",
       "pf_o_att      89\n",
       "pf_o_sin      89\n",
       "pf_o_int      89\n",
       "pf_o_fun      98\n",
       "pf_o_amb     107\n",
       "pf_o_sha     129\n",
       "dec_o          0\n",
       "attr_o       212\n",
       "sinc_o       287\n",
       "intel_o      306\n",
       "fun_o        360\n",
       "amb_o        722\n",
       "shar_o      1076\n",
       "like_o       250\n",
       "prob_o       318\n",
       "met_o        385\n",
       "age           95\n",
       "field         63\n",
       "field_cd      82\n",
       "undergra    3464\n",
       "mn_sat      5245\n",
       "tuition     4795\n",
       "race          63\n",
       "imprace       79\n",
       "imprelig      79\n",
       "from          79\n",
       "zipcode     1064\n",
       "income      4099\n",
       "goal          79\n",
       "date          97\n",
       "go_out        79\n",
       "career        89\n",
       "career_c     138\n",
       "sports        79\n",
       "tvsports      79\n",
       "exercise      79\n",
       "dining        79\n",
       "museums       79\n",
       "art           79\n",
       "hiking        79\n",
       "gaming        79\n",
       "clubbing      79\n",
       "reading       79\n",
       "tv            79\n",
       "theater       79\n",
       "movies        79\n",
       "concerts      79\n",
       "music         79\n",
       "shopping      79\n",
       "yoga          79\n",
       "exphappy     101\n",
       "expnum      6578\n",
       "attr1_1       79\n",
       "sinc1_1       79\n",
       "intel1_1      79\n",
       "fun1_1        89\n",
       "amb1_1        99\n",
       "shar1_1      121\n",
       "attr4_1     1889\n",
       "sinc4_1     1889\n",
       "intel4_1    1889\n",
       "fun4_1      1889\n",
       "amb4_1      1889\n",
       "shar4_1     1911\n",
       "attr2_1       79\n",
       "sinc2_1       79\n",
       "intel2_1      79\n",
       "fun2_1        79\n",
       "amb2_1        89\n",
       "shar2_1       89\n",
       "attr3_1      105\n",
       "sinc3_1      105\n",
       "fun3_1       105\n",
       "intel3_1     105\n",
       "amb3_1       105\n",
       "attr5_1     3472\n",
       "sinc5_1     3472\n",
       "intel5_1    3472\n",
       "fun5_1      3472\n",
       "amb5_1      3472\n",
       "dec            0\n",
       "attr         202\n",
       "sinc         277\n",
       "intel        296\n",
       "fun          350\n",
       "amb          712\n",
       "shar        1067\n",
       "like         240\n",
       "prob         309\n",
       "met          375\n",
       "match_es    1173\n",
       "attr1_s     4282\n",
       "sinc1_s     4282\n",
       "intel1_s    4282\n",
       "fun1_s      4282\n",
       "amb1_s      4282\n",
       "shar1_s     4282\n",
       "attr3_s     4378\n",
       "sinc3_s     4378\n",
       "intel3_s    4378\n",
       "fun3_s      4378\n",
       "amb3_s      4378\n",
       "satis_2      915\n",
       "length       915\n",
       "numdat_2     945\n",
       "attr7_2     6394\n",
       "sinc7_2     6423\n",
       "intel7_2    6394\n",
       "fun7_2      6394\n",
       "amb7_2      6423\n",
       "shar7_2     6404\n",
       "attr1_2      933\n",
       "sinc1_2      915\n",
       "intel1_2     915\n",
       "fun1_2       915\n",
       "amb1_2       915\n",
       "shar1_2      915\n",
       "attr4_2     2603\n",
       "sinc4_2     2603\n",
       "intel4_2    2603\n",
       "fun4_2      2603\n",
       "amb4_2      2603\n",
       "shar4_2     2603\n",
       "attr2_2     2603\n",
       "sinc2_2     2603\n",
       "intel2_2    2603\n",
       "fun2_2      2603\n",
       "amb2_2      2603\n",
       "shar2_2     2603\n",
       "attr3_2      915\n",
       "sinc3_2      915\n",
       "intel3_2     915\n",
       "fun3_2       915\n",
       "amb3_2       915\n",
       "attr5_2     4001\n",
       "sinc5_2     4001\n",
       "intel5_2    4001\n",
       "fun5_2      4001\n",
       "amb5_2      4001\n",
       "you_call    4404\n",
       "them_cal    4404\n",
       "date_3      4404\n",
       "numdat_3    6882\n",
       "num_in_3    7710\n",
       "attr1_3     4404\n",
       "sinc1_3     4404\n",
       "intel1_3    4404\n",
       "fun1_3      4404\n",
       "amb1_3      4404\n",
       "shar1_3     4404\n",
       "attr7_3     6362\n",
       "sinc7_3     6362\n",
       "intel7_3    6362\n",
       "fun7_3      6362\n",
       "amb7_3      6362\n",
       "shar7_3     6362\n",
       "attr4_3     5419\n",
       "sinc4_3     5419\n",
       "intel4_3    5419\n",
       "fun4_3      5419\n",
       "amb4_3      5419\n",
       "shar4_3     5419\n",
       "attr2_3     5419\n",
       "sinc2_3     5419\n",
       "intel2_3    5419\n",
       "fun2_3      5419\n",
       "amb2_3      5419\n",
       "shar2_3     6362\n",
       "attr3_3     4404\n",
       "sinc3_3     4404\n",
       "intel3_3    4404\n",
       "fun3_3      4404\n",
       "amb3_3      4404\n",
       "attr5_3     6362\n",
       "sinc5_3     6362\n",
       "intel5_3    6362\n",
       "fun5_3      6362\n",
       "amb5_3      6362\n",
       "dtype: int64"
      ]
     },
     "execution_count": 12,
     "metadata": {},
     "output_type": "execute_result"
    }
   ],
   "source": [
    "pd.set_option('display.max_rows', 200)\n",
    "df.isna().sum()"
   ]
  },
  {
   "cell_type": "code",
   "execution_count": 13,
   "id": "f796d279-6997-4fce-9307-ef6d39452af5",
   "metadata": {
    "deletable": true,
    "editable": true,
    "frozen": false
   },
   "outputs": [],
   "source": [
    "pd.set_option('display.max_rows', 100)"
   ]
  },
  {
   "cell_type": "markdown",
   "id": "42353214-2428-4b74-9f69-225e3a8b693c",
   "metadata": {
    "deletable": true,
    "editable": true,
    "frozen": false
   },
   "source": [
    "### The data at a glance"
   ]
  },
  {
   "cell_type": "markdown",
   "id": "68c643aa-7ed3-4090-a311-c2397e3fb43b",
   "metadata": {
    "deletable": true,
    "editable": true,
    "frozen": false
   },
   "source": [
    "We have a dataset of 8378 rows, 195 columns. Most of the features are numerical but there are some of type object.\n",
    "\n",
    "Some feature names are self explanatory but most have some nomenclature that needs investigation.\n",
    "\n",
    "There are features with 75% missing values. "
   ]
  },
  {
   "cell_type": "markdown",
   "id": "2a45077b-cd34-4afb-b302-a2035597b1fb",
   "metadata": {
    "deletable": true,
    "editable": true,
    "frozen": false
   },
   "source": [
    "## Description of the data"
   ]
  },
  {
   "cell_type": "markdown",
   "id": "ab886b85-d8cf-4f11-b483-f1d7feb314fb",
   "metadata": {
    "deletable": true,
    "editable": true,
    "frozen": false
   },
   "source": [
    "### Dataset Overview"
   ]
  },
  {
   "cell_type": "markdown",
   "id": "908fb250-3ca7-4937-8dc7-5f38cfabf565",
   "metadata": {
    "deletable": true,
    "editable": true,
    "frozen": false
   },
   "source": [
    "This dataset was compiled by Columbia Business School professors Ray Fisman and Sheena Iyengar between 2002-2004 for their research paper [\"Gender Differences in Mate Selection: Evidence From a Speed Dating Experiment\"](http://www.stat.columbia.edu/~gelman/stuff_for_blog/sheena.pdf) (published in The Quarterly Journal of Economics, 2006 <a href=\"#ref1\">[1]</a>. The experiment provides unique insights into modern dating behavior and mate selection preferences. The dataset and its companion key file live [here](http://www.stat.columbia.edu/~gelman/arm/examples/speed.dating/) <a href=\"#ref2\">[2]</a>. "
   ]
  },
  {
   "cell_type": "markdown",
   "id": "713683d5-3607-4f11-8c01-115442b83c7b",
   "metadata": {
    "deletable": true,
    "editable": true,
    "frozen": false
   },
   "source": [
    "### Data Collection Methodology"
   ]
  },
  {
   "cell_type": "markdown",
   "id": "c8a840e5-8b2f-4ff2-a71d-ade20976b47f",
   "metadata": {
    "deletable": true,
    "editable": true,
    "frozen": false
   },
   "source": [
    "The participants attended experimental speed dating events where they had four-minute \"first dates\" with other participants of the opposite sex. After each date, participants indicated whether they would like to see their date again. Participants rated their dates on six key attributes:\n",
    "  1. Attractiveness\n",
    "  2. Sincerity\n",
    "  3. Intelligence\n",
    "  4. Fun\n",
    "  5. Ambition\n",
    "  6. Shared Interests"
   ]
  },
  {
   "cell_type": "markdown",
   "id": "ce96c77b-4181-490f-a34e-5d06d672143e",
   "metadata": {
    "deletable": true,
    "editable": true,
    "frozen": false
   },
   "source": [
    "### Dataset Features"
   ]
  },
  {
   "cell_type": "markdown",
   "id": "12338c44-1bf1-418d-8a75-a2c97c95f003",
   "metadata": {
    "deletable": true,
    "editable": true,
    "frozen": false
   },
   "source": [
    "The dataset contains 195 features, including:"
   ]
  },
  {
   "cell_type": "markdown",
   "id": "9aa3f99c-dfb8-456c-8170-ae40cd999a54",
   "metadata": {
    "deletable": true,
    "editable": true,
    "frozen": false
   },
   "source": [
    "#### Demographic Information"
   ]
  },
  {
   "cell_type": "markdown",
   "id": "50b8ffcc-268b-4cb6-81ff-518aa72e63e1",
   "metadata": {
    "deletable": true,
    "editable": true,
    "frozen": false
   },
   "source": [
    "- Age-related features (age, age_o, d_age)\n",
    "- Field of study/work\n",
    "- Race and racial preferences\n",
    "- Wave (event identifier)"
   ]
  },
  {
   "cell_type": "markdown",
   "id": "61fef4bd-a106-4313-a0ec-e766f8c59c2d",
   "metadata": {
    "deletable": true,
    "editable": true,
    "frozen": false
   },
   "source": [
    "#### Personal Attributes"
   ]
  },
  {
   "cell_type": "markdown",
   "id": "add3441a-74c0-4ff8-a4a7-bdd9f36f583b",
   "metadata": {
    "deletable": true,
    "editable": true,
    "frozen": false
   },
   "source": [
    "- Self-perception ratings\n",
    "- Dating habits\n",
    "- Lifestyle information\n",
    "- Interest-related features (shopping, music, etc.)"
   ]
  },
  {
   "cell_type": "markdown",
   "id": "ec5eca6e-acf4-4b62-a243-9ebf0076df1b",
   "metadata": {
    "deletable": true,
    "editable": true,
    "frozen": false
   },
   "source": [
    "#### Partner Preferences"
   ]
  },
  {
   "cell_type": "markdown",
   "id": "afeda28a-9c9e-4685-b315-14acc0d3d158",
   "metadata": {
    "deletable": true,
    "editable": true,
    "frozen": false
   },
   "source": [
    "- Expected partner attributes\n",
    "- Partner ratings\n",
    "- Importance weights for different characteristics\n",
    "- Match decisions"
   ]
  },
  {
   "cell_type": "markdown",
   "id": "93c7759b-4345-40ae-b34d-1ee275344e77",
   "metadata": {
    "deletable": true,
    "editable": true,
    "frozen": false
   },
   "source": [
    "### Dataset values"
   ]
  },
  {
   "cell_type": "markdown",
   "id": "50252f2a-1124-460f-a37d-a919b60146e8",
   "metadata": {
    "deletable": true,
    "editable": true,
    "frozen": false
   },
   "source": [
    "Most of the features are numerical, capturing preferences on a scale from 1 to 10. Additionally, some preferences were recorded by asking participants to allocate 100 points among different options. A few features are categorical, for example:\n",
    "\n",
    "**Race:**\n",
    "- 1: Black/African American  \n",
    "- 2: European/Caucasian-American  \n",
    "- 3: Latino/Hispanic American  \n",
    "- 4: Asian/Pacific Islander/Asian-American  \n",
    "- 5: Native American  \n",
    "- 6: Other  \n",
    "\n",
    "**How frequently do you go on dates?**\n",
    "- 1: Several times a week  \n",
    "- 2: Twice a week  \n",
    "- 3: Once a week  \n",
    "- 4: Twice a month  \n",
    "- 5: Once a month  \n",
    "- 6: Several times a year  \n",
    "- 7: Almost never    "
   ]
  },
  {
   "cell_type": "markdown",
   "id": "663381dc-3d14-49b9-a8a5-4b46a4ebf806",
   "metadata": {
    "deletable": true,
    "editable": true,
    "frozen": false
   },
   "source": [
    "## Getting to know the feature names and what they represent"
   ]
  },
  {
   "cell_type": "markdown",
   "id": "5f28df59-72c0-420a-b740-b557e8a14cf8",
   "metadata": {
    "deletable": true,
    "editable": true,
    "frozen": false
   },
   "source": [
    "The data key file explains that the data was collected at different time points. First, the participants completed an initial survey (at Time 1). Then, during the event, they filled out a scorecard (with features ending in \"_s\"). After the event, they completed two additional surveys (at Time 2 and Time 3). \n",
    "\n",
    "For this project, we only need the data that was collected at Time 1."
   ]
  },
  {
   "cell_type": "markdown",
   "id": "b7102019-d106-4070-b94e-7b2598de36f9",
   "metadata": {
    "deletable": true,
    "editable": true,
    "frozen": false
   },
   "source": [
    "### Features describing the event"
   ]
  },
  {
   "cell_type": "markdown",
   "id": "f660f75c-0d40-4131-8466-f9f42f54ff71",
   "metadata": {
    "deletable": true,
    "editable": true,
    "frozen": false
   },
   "source": [
    "<table border=\"1\" style=\"float: left;\">\n",
    "    <thead>\n",
    "        <tr>\n",
    "            <th>pertains to the subject</th>\n",
    "            <th>pertains to the partner</th>\n",
    "            <th>meaning of the feature</th>\n",
    "        </tr>\n",
    "    </thead>\n",
    "    <tbody>\n",
    "        <tr>\n",
    "            <td>iid</td>\n",
    "            <td>pid</td>\n",
    "            <td>Unique identifier of subject/partner</td>\n",
    "        </tr>\n",
    "        <tr><td>id</td><td></td><td>subject number within wave</td></tr>\n",
    "        <tr><td>gender</td><td></td><td>Female=0, Male=1</td></tr>\n",
    "        <tr><td>idg</td><td></td><td>subject number within gender, group(id gender)</td></tr>\n",
    "        <tr><td>condtn</td><td></td><td>1=limited choice, 2=extensive choice</td></tr>\n",
    "        <tr><td>wave</td><td></td><td>see additional info</td></tr>\n",
    "        <tr><td>round</td><td></td><td>number of people that met in wave</td></tr>\n",
    "        <tr><td>position</td><td></td><td>station number where met partner</td></tr>\n",
    "        <tr><td>positin1</td><td></td><td>station number where started</td></tr>\n",
    "        <tr><td>order</td><td></td><td>the number of date that night when met partner</td></tr>\n",
    "        <tr><td></td><td>partner</td><td>partner’s id number the night of event (check whether exists)</td></tr>\n",
    "        <tr><td>match</td><td></td><td>1=yes, 0=no</td></tr>\n",
    "        <tr><td>int_corr</td><td></td><td>correlation between participant’s and partner’s ratings of interests in Time 1</td></tr>\n",
    "        <tr><td>samerace</td><td></td><td>participant and the partner were the same race. 1=yes, 0=no</td></tr>\n",
    "        <tr><td>exphappy</td><td></td><td>How happy do you expect to be with the people you meet during the speed-dating event? (1-10)</td></tr>\n",
    "        <tr><td>expnum</td><td></td><td>Out of the 20 people you will meet, how many do you expect will be interested in dating you?</td></tr>\n",
    "    </tbody>\n",
    "</table>"
   ]
  },
  {
   "cell_type": "markdown",
   "id": "897d2b4b-11b1-4752-93c2-42ca429b56b1",
   "metadata": {
    "deletable": true,
    "editable": true,
    "frozen": false
   },
   "source": [
    "### Signup survey (Time 1)"
   ]
  },
  {
   "cell_type": "markdown",
   "id": "fa0bb743-1632-4364-8998-1bb4d4184a62",
   "metadata": {
    "deletable": true,
    "editable": true,
    "frozen": false
   },
   "source": [
    "<table border=\"1\" style=\"float: left;\">\n",
    "    <thead>\n",
    "        <tr>\n",
    "            <th>pertains to the subject</th>\n",
    "            <th>pertains to the partner</th>\n",
    "            <th>meaning of the feature</th>\n",
    "        </tr>\n",
    "    </thead>\n",
    "    <tbody>\n",
    "<tr><td></td><td></td><td><b><br>Bio</b>                                                                                      </td></tr>\n",
    "<tr><td>age        </td><td>age_o</td><td>Age of participant                                                                       </td></tr>    \n",
    "<tr><td>race       </td><td>race_o</td><td>Race (category 1-6)                                                                      </td></tr>                                  \n",
    "<tr><td>field\t   </td><td></td><td>Field of study                                                                           </td></tr>       \n",
    "<tr><td>field_cd   </td><td></td><td>field coded (1-18, see details)                                                          </td></tr>                                           \n",
    "<tr><td>undergra   </td><td></td><td>school attended for undergraduate degree                                                 </td></tr>                                            \n",
    "<tr><td>mn_sat \t   </td><td></td><td>Median SAT score for the undergraduate institution where attended.                       </td></tr>                  \n",
    "<tr><td>tuition    </td><td></td><td>Tuition listed for each response to undergrad                                            </td></tr>                                       \n",
    "<tr><td>imprace    </td><td></td><td>How important is it to you that your date be of the same racial/ethnic background? (1-10)</td></tr>\n",
    "<tr><td>imprelig   </td><td></td><td>How important is it to you that your date be of the same religious background? (1-10)    </td></tr>  \n",
    "<tr><td>from       </td><td></td><td>Where are you from originally?                             </td></tr>                             \n",
    "<tr><td>zipcode    </td><td></td><td>What was the zip code of the area where you grew up?       </td></tr>                                   \n",
    "<tr><td>income     </td><td></td><td>Median household income based on zipcode                   </td></tr>                                              \n",
    "<tr><td>goal       </td><td></td><td>What is your primary goal in participating in this event?  </td></tr>                             \n",
    "<tr><td>date       </td><td></td><td>In general, how frequently do you go on dates?             </td></tr>                                      \n",
    "<tr><td>go_out     </td><td></td><td>How often do you go out (not necessarily on dates)?        </td></tr>                                 \n",
    "<tr><td>career     </td><td></td><td>What is your intended career?                              </td></tr>                                                       \n",
    "<tr><td>career_c   </td><td></td><td>Intended career coded                                      </td></tr>                                                                  \n",
    "<tr><td></td><td></td><td><b><br>How interested are you in this? (1-10)?</b></td></tr>\n",
    "<tr><td>sports     </td><td></td><td>Playing sports/ athletics   </td></tr>                                 \n",
    "<tr><td>tvsports   </td><td></td><td>Watching sports             </td></tr>                                          \n",
    "<tr><td>exercise   </td><td></td><td>Body building/exercising    </td></tr>                                \n",
    "<tr><td>dining     </td><td></td><td>Dining out                  </td></tr>                                  \n",
    "<tr><td>museums    </td><td></td><td>Museums/galleries           </td></tr>                                  \n",
    "<tr><td>art        </td><td></td><td>Art                         </td></tr>                                  \n",
    "<tr><td>hiking     </td><td></td><td>Hiking/camping              </td></tr>                                  \n",
    "<tr><td>gaming     </td><td></td><td>Gaming                      </td></tr>                                     \n",
    "<tr><td>clubbing   </td><td></td><td>Dancing/clubbing            </td></tr>                                   \n",
    "<tr><td>reading    </td><td></td><td>Reading                     </td></tr>                                    \n",
    "<tr><td>tv         </td><td></td><td>Watching TV                 </td></tr>                                          \n",
    "<tr><td>theater    </td><td></td><td>Theater                     </td></tr>                                           \n",
    "<tr><td>movies     </td><td></td><td>Movies                      </td></tr>                                         \n",
    "<tr><td>concerts   </td><td></td><td>Going to concerts           </td></tr>                                        \n",
    "<tr><td>music      </td><td></td><td>Music                       </td></tr>                                        \n",
    "<tr><td>shopping   </td><td></td><td>Shopping                    </td></tr>                                       \n",
    "<tr><td>yoga       </td><td></td><td>Yoga/meditation             </td></tr>                                        \n",
    "<tr><td></td><td></td><td><b><br>What you look for in the opposite sex (by waves)?</b></td></tr>\n",
    "<tr><td>attr1_1    </td><td></td><td>Attractive    </td></tr>                   \n",
    "<tr><td>sinc1_1    </td><td></td><td>Sincere       </td></tr>                   \n",
    "<tr><td>intel1_1   </td><td></td><td>Intelligent   </td></tr>                  \n",
    "<tr><td>fun1_1     </td><td></td><td>Fun           </td></tr>                   \n",
    "<tr><td>amb1_1     </td><td></td><td>Ambitious     </td></tr>                   \n",
    "<tr><td>shar1_1    </td><td></td><td>Has shared interests/hobbies </td></tr>   \n",
    "<tr><td></td><td></td><td><b><br>What do you think the opposite sex looks for in a date (by waves)?</b></td></tr>\n",
    "<tr><td>attr2_1    </td><td></td><td>Attractive     </td></tr>                    \n",
    "<tr><td>sinc2_1    </td><td></td><td>Sincere        </td></tr>                     \n",
    "<tr><td>intel2_1   </td><td></td><td>Intelligent    </td></tr>                    \n",
    "<tr><td>fun2_1     </td><td></td><td>Fun            </td></tr>                    \n",
    "<tr><td>amb2_1     </td><td></td><td>Ambitious      </td></tr>                    \n",
    "<tr><td>shar2_1    </td><td></td><td>Has shared interests/hobbies </td></tr>     \n",
    "<tr><td></td><td></td><td><b><br>How do you think you measure up? (1-10)</b></td></tr>\t\n",
    "<tr><td>attr3_1    </td><td></td><td>Attractive     </td></tr>                     \n",
    "<tr><td>sinc3_1    </td><td></td><td>Sincere        </td></tr>                                           \n",
    "<tr><td>intel3_1   </td><td></td><td>Intelligent    </td></tr>                                             \n",
    "<tr><td>fun3_1     </td><td></td><td>Fun            </td></tr>                                       \n",
    "<tr><td>amb3_1     </td><td></td><td>Ambitious      </td></tr>                       \n",
    "<tr><td></td><td></td><td><b><br>What you think MOST of others look for in a date (by waves)?</b></td></tr>\n",
    "<tr><td>attr4_1    </td><td></td><td>Attractive    </td></tr>                    \n",
    "<tr><td>sinc4_1    </td><td></td><td>Sincere       </td></tr>                    \n",
    "<tr><td>intel4_1   </td><td></td><td>Intelligent   </td></tr>                    \n",
    "<tr><td>fun4_1     </td><td></td><td>Fun           </td></tr>                    \n",
    "<tr><td>amb4_1     </td><td></td><td>Ambitious     </td></tr>                   \n",
    "<tr><td>shar4_1    </td><td></td><td>Shared Interests/Hobbies </td></tr>        \n",
    "<tr><td></td><td></td><td><b><br>How do you think others perceive you? (1-10)?</b></td></tr>\n",
    "<tr><td>attr5_1    </td><td></td><td>Attractive   </td></tr>                            \n",
    "<tr><td>sinc5_1    </td><td></td><td>Sincere      </td></tr>                         \n",
    "<tr><td>intel5_1   </td><td></td><td>Intelligent  </td></tr>                           \n",
    "<tr><td>fun5_1     </td><td></td><td>Fun          </td></tr>                    \n",
    "<tr><td>amb5_1     </td><td></td><td>Ambitious    </td></tr>     \n",
    "</tbody>\n",
    "</table>"
   ]
  },
  {
   "cell_type": "markdown",
   "id": "58354ad2-337b-4699-8442-783046648e05",
   "metadata": {
    "deletable": true,
    "editable": true,
    "frozen": false
   },
   "source": [
    "### Scorecard (filled during the event)"
   ]
  },
  {
   "cell_type": "markdown",
   "id": "0e3cb83f-8048-42c9-a8ce-8be5a43d16cb",
   "metadata": {
    "deletable": true,
    "editable": true,
    "frozen": false
   },
   "source": [
    "<table border=\"1\" style=\"float: left;\">\n",
    "    <thead>\n",
    "        <tr>\n",
    "            <th>pertains to the subject</th>\n",
    "            <th>pertains to the partner</th>\n",
    "            <th>meaning of the feature</th>\n",
    "        </tr>\n",
    "    </thead>\n",
    "    <tbody>\n",
    "        <tr>\n",
    "            <td>dec</td>\n",
    "            <td>dec_o</td>\n",
    "            <td>Decision per date id 1=yes 0=no</td>\n",
    "        </tr>\n",
    "        <tr>\n",
    "            <td></td>\n",
    "            <td></td>\n",
    "            <td><b><br>Rating by partner the night of the event: (1-10):</b></td>\n",
    "        </tr>\n",
    "        <tr><td>attr</td><td>attr_o</td><td>Attractive</td></tr>\n",
    "        <tr><td>sinc</td><td>sinc_o</td><td>Sincere</td></tr>\n",
    "        <tr><td>intel</td><td>intel_o</td><td>Intelligent</td></tr>\n",
    "        <tr><td>fun</td><td>fun_o</td><td>Fun</td></tr>\n",
    "        <tr><td>amb</td><td>amb_o</td><td>Ambitious</td></tr>\n",
    "        <tr><td>shar</td><td>shar_o</td><td>Shared Interests</td></tr>\n",
    "        <tr>\n",
    "            <td></td>\n",
    "            <td></td>\n",
    "            <td><b><br>Survey during the event:</b></td>\n",
    "        </tr>\n",
    "        <tr><td>like</td><td>like_o</td><td>How much do you like this person? (1-10)</td></tr>\n",
    "        <tr><td>prob</td><td>prob_o</td><td>How probable do you think it is that this person will say yes for you? (1-10)</td></tr>\n",
    "        <tr><td>met</td><td>met_o</td><td>Have you met this person before? 1=yes, 2=no</td></tr>\n",
    "        <tr><td>match_es</td><td></td><td>How many matches do you estimate you will get (both check Yes to decision)</td></tr>\n",
    "        <tr>\n",
    "            <td></td>\n",
    "            <td></td>\n",
    "            <td><b><br>Rate the importance of this attribute in a potential date (1-10):</b></td>\n",
    "        </tr>\n",
    "        <tr><td>attr1_s</td><td>pf_o_att</td><td>Attractive</td></tr>\n",
    "        <tr><td>sinc1_s</td><td>pf_o_sin</td><td>Sincere</td></tr>\n",
    "        <tr><td>intel1_s</td><td>pf_o_int</td><td>Intelligent</td></tr>\n",
    "        <tr><td>fun1_s</td><td>pf_o_fun</td><td>Fun</td></tr>\n",
    "        <tr><td>amb1_s</td><td>pf_o_amb</td><td>Ambitious</td></tr>\n",
    "        <tr><td>shar1_s</td><td>pf_o_sha</td><td>Shared Interests</td></tr>\n",
    "        <tr><td></td><td></td><td><b><br>Rate your opinion of your own attributes (1-10):</b></td></tr>\n",
    "        <tr><td>attr3_s</td> <td></td><td>Attractive</td></tr>\n",
    "        <tr><td>sinc3_s</td> <td></td><td>Sincere</td></tr>\n",
    "        <tr><td>intel3_s</td><td></td><td>Intelligent</td></tr>\n",
    "        <tr><td>fun3_s</td>  <td></td><td>Fun</td></tr>\n",
    "        <tr><td>amb3_s</td>  <td></td><td>Ambitious</td></tr>\n",
    "    </tbody>\n",
    "</table>"
   ]
  },
  {
   "cell_type": "markdown",
   "id": "5521ff01-0e13-47c1-a3c0-98d62c07a51b",
   "metadata": {
    "deletable": true,
    "editable": true,
    "frozen": false
   },
   "source": [
    "### First followup survey (Time 2)"
   ]
  },
  {
   "cell_type": "markdown",
   "id": "4685c4dd-d5a0-4a9a-890c-581df268cc39",
   "metadata": {
    "deletable": true,
    "editable": true,
    "frozen": false
   },
   "source": [
    "<table border=\"1\" style=\"float: left;\">\n",
    "    <thead>\n",
    "        <tr>\n",
    "            <th>pertains to the subject</th>\n",
    "            <th>pertains to the partner</th>\n",
    "            <th>meaning of the feature</th>\n",
    "        </tr>\n",
    "    </thead>\n",
    "    <tbody>\n",
    "        <tr><td></td><td></td><td><b><br>General questions:</b></td></tr>\n",
    "        <tr><td>satis_2  </td><td></td><td>How satisfied were you with the people you met? (1-10)                      </td></tr> \n",
    "        <tr><td>length   </td><td></td><td>Four minutes is: Too little=1, Too much=2, Just Right=3                     </td></tr> \n",
    "        <tr><td>numdat_2 </td><td></td><td>The number of Speed Dates you had was: Too few=1, Too many=2, Just right=3  </td></tr> \n",
    "        <tr><td></td><td></td><td><b><br>What you look for in the opposite sex? (by waves)</b></td></tr>\t\n",
    "        <tr><td>attr1_2  </td><td></td><td>Attractive         </td></tr>  \n",
    "        <tr><td>sinc1_2  </td><td></td><td>Sincere            </td></tr>  \n",
    "        <tr><td>intel1_2 </td><td></td><td>Intelligent        </td></tr>  \n",
    "        <tr><td>fun1_2   </td><td></td><td>Fun                </td></tr>  \n",
    "        <tr><td>amb1_2   </td><td></td><td>Ambitious          </td></tr>  \n",
    "        <tr><td>shar1_2  </td><td></td><td>Shared interests   </td></tr>  \n",
    "        <tr><td></td><td></td><td><b><br>What do you think the opposite sex looks for in a date? (by waves)</b></td></tr>\n",
    "        <tr><td>attr2_2  </td><td></td><td>Attractive         </td></tr>  \n",
    "        <tr><td>sinc2_2  </td><td></td><td>Sincere            </td></tr>  \n",
    "        <tr><td>intel2_2 </td><td></td><td>Intelligent        </td></tr>  \n",
    "        <tr><td>fun2_2   </td><td></td><td>Fun                </td></tr>  \n",
    "        <tr><td>amb2_2   </td><td></td><td>Ambitious          </td></tr>  \n",
    "        <tr><td>shar2_2  </td><td></td><td>Shared interests   </td></tr>  \n",
    "        <tr><td></td><td></td><td><b><br>How do you think you measure up? (1-10)</b></td></tr>\t   \n",
    "        <tr><td>attr3_2  </td><td></td><td>Attractive   </td></tr>        \n",
    "        <tr><td>sinc3_2  </td><td></td><td>Sincere      </td></tr>        \n",
    "        <tr><td>intel3_2 </td><td></td><td>Intelligent  </td></tr>        \n",
    "        <tr><td>fun3_2   </td><td></td><td>Fun          </td></tr>        \n",
    "        <tr><td>amb3_2   </td><td></td><td>Ambitious    </td></tr>        \n",
    "        <tr><td></td><td></td><td><b><br>What you think MOST of others look for in a date? (distribute 100 points)\t</b></td></tr>\t\n",
    "        <tr><td>attr4_2  </td><td></td><td>Attractive        </td></tr>   \n",
    "        <tr><td>sinc4_2  </td><td></td><td>Sincere           </td></tr>   \n",
    "        <tr><td>intel4_2 </td><td></td><td>Intelligent       </td></tr>   \n",
    "        <tr><td>fun4_2   </td><td></td><td>Fun               </td></tr>   \n",
    "        <tr><td>amb4_2   </td><td></td><td>Ambitious         </td></tr>   \n",
    "        <tr><td>shar4_2  </td><td></td><td>Shared Interests  </td></tr>   \n",
    "        <tr><td></td><td></td><td><b><br>How do you think others perceive you? (1-10)</b></td></tr>\t\t\n",
    "        <tr><td>attr5_2  </td><td></td><td>Attractive          </td></tr> \n",
    "        <tr><td>sinc5_2  </td><td></td><td>Sincere             </td></tr> \n",
    "        <tr><td>intel5_2 </td><td></td><td>Intelligent         </td></tr> \n",
    "        <tr><td>fun5_2   </td><td></td><td>Fun                 </td></tr> \n",
    "        <tr><td>amb5_2   </td><td></td><td>Ambitious           </td></tr> \n",
    "        <tr><td></td><td></td><td><b><br>What is the importance of these attributes in your decisions (distribute 100 points)</b></td></tr>\t\t\n",
    "        <tr><td>attr7_2  </td><td></td><td>Attractive          </td></tr> \n",
    "        <tr><td>sinc7_2  </td><td></td><td>Sincere             </td></tr> \n",
    "        <tr><td>intel7_2 </td><td></td><td>Intelligent         </td></tr> \n",
    "        <tr><td>fun7_2   </td><td></td><td>Fun                 </td></tr> \n",
    "        <tr><td>amb7_2   </td><td></td><td>Ambitious           </td></tr> \n",
    "        <tr><td>shar7_2  </td><td></td><td>Shared interests    </td></tr>     \n",
    "    </tbody>\n",
    "</table>"
   ]
  },
  {
   "cell_type": "markdown",
   "id": "4cf1daf2-1b91-433f-a88c-345ca6ba1765",
   "metadata": {
    "deletable": true,
    "editable": true,
    "frozen": false
   },
   "source": [
    "### Second followup survey (Time 3)"
   ]
  },
  {
   "cell_type": "markdown",
   "id": "b27fe57c-ca6f-4117-9418-6ef1bab5faf8",
   "metadata": {
    "deletable": true,
    "editable": true,
    "frozen": false
   },
   "source": [
    "<table border=\"1\" style=\"float: left;\">\n",
    "    <thead>\n",
    "        <tr>\n",
    "            <th>pertains to the subject</th>\n",
    "            <th>pertains to the partner</th>\n",
    "            <th>meaning of the feature</th>\n",
    "        </tr>\n",
    "    </thead>\n",
    "    <tbody>\n",
    "        <tr><td></td><td></td><td><b><br>General questions:</b></td></tr>\t\n",
    "        <tr><td>you_call   </td><td></td><td>Of the matches that you received how many have you contacted?                                       </td></tr>\n",
    "        <tr><td>them_cal   </td><td></td><td>Of the matches that you received how many have contacted you?                                       </td></tr>\n",
    "        <tr><td>date_3     </td><td></td><td>Have you been on a date with any of your matches? Yes=1 No=2                                        </td></tr>\n",
    "        <tr><td>numdat_3   </td><td></td><td>If you have been on at least one date how many of your matches have you been on a date with so far? </td></tr>\n",
    "        <tr><td>num_in_3   </td><td></td><td>???                                                                                                 </td></tr>\n",
    "        <tr><td></td><td></td><td><b><br>What you look for in the opposite sex? (1-10)</b></td></tr>\t\n",
    "        <tr><td>attr1_3    </td><td></td><td>Attractive               </td></tr>\n",
    "        <tr><td>sinc1_3    </td><td></td><td>Sincere                  </td></tr>\n",
    "        <tr><td>intel1_3   </td><td></td><td>Intelligent              </td></tr> \n",
    "        <tr><td>fun1_3     </td><td></td><td>Fun                      </td></tr>\n",
    "        <tr><td>amb1_3     </td><td></td><td>Ambitious                </td></tr>\n",
    "        <tr><td>shar1_3    </td><td></td><td>Shared interests         </td></tr>\n",
    "        <tr><td></td><td></td><td><b><br>What do you think the opposite sex looks for in a date? (1-10)</b></td></tr>\t\n",
    "        <tr><td>attr2_3    </td><td></td><td>Attractive               </td></tr>\n",
    "        <tr><td>sinc2_3    </td><td></td><td>Sincere                  </td></tr>\n",
    "        <tr><td>intel2_3   </td><td></td><td>Intelligent              </td></tr>\n",
    "        <tr><td>fun2_3     </td><td></td><td>Fun                      </td></tr>\n",
    "        <tr><td>amb2_3     </td><td></td><td>Ambitious                </td></tr> \n",
    "        <tr><td>shar2_3    </td><td></td><td>Shared interests         </td></tr>\n",
    "        <tr><td></td><td></td><td><b><br>How do you think you measure up? (1-10)</b></td></tr>\t\t\n",
    "        <tr><td>attr3_3    </td><td></td><td>Attractive               </td></tr>\n",
    "        <tr><td>sinc3_3    </td><td></td><td>Sincere                  </td></tr>\n",
    "        <tr><td>intel3_3   </td><td></td><td>Intelligent              </td></tr>\n",
    "        <tr><td>fun3_3     </td><td></td><td>Fun                      </td></tr>\n",
    "        <tr><td>amb3_3     </td><td></td><td>Ambitious                </td></tr>\n",
    "        <tr><td></td><td></td><td><b><br>What you think MOST of others look for in a date? (distribute 100 points)</b></td></tr>\t\n",
    "        <tr><td>attr4_3    </td><td></td><td>Attractive               </td></tr>\n",
    "        <tr><td>sinc4_3    </td><td></td><td>Sincere                  </td></tr>   \n",
    "        <tr><td>intel4_3   </td><td></td><td>Intelligent              </td></tr>       \n",
    "        <tr><td>fun4_3     </td><td></td><td>Fun                      </td></tr>\n",
    "        <tr><td>amb4_3     </td><td></td><td>Ambitious                </td></tr>     \n",
    "        <tr><td>shar4_3    </td><td></td><td>Shared interests         </td></tr>            \n",
    "        <tr><td></td><td></td><td><b><br>How do you think others perceive you? (1-10)</b></td></tr>\t\n",
    "        <tr><td>attr5_3    </td><td></td><td>Attractive               </td></tr>\n",
    "        <tr><td>sinc5_3    </td><td></td><td>Sincere                  </td></tr>\n",
    "        <tr><td>intel5_3   </td><td></td><td>Intelligent              </td></tr>\n",
    "        <tr><td>fun5_3     </td><td></td><td>Fun                      </td></tr>\n",
    "        <tr><td>amb5_3     </td><td></td><td>Ambitious                </td></tr>\n",
    "        <tr><td></td><td></td><td><b><br>What is the importance of these attributes in your decisions (distribute 100 points)</b></td></tr>\t\t\n",
    "        <tr><td>attr7_3    </td><td></td><td>Attractive               </td></tr>\n",
    "        <tr><td>sinc7_3    </td><td></td><td>Sincere                  </td></tr>  \n",
    "        <tr><td>intel7_3   </td><td></td><td>Intelligent              </td></tr>   \n",
    "        <tr><td>fun7_3     </td><td></td><td>Fun                      </td></tr>\n",
    "        <tr><td>amb7_3     </td><td></td><td>Ambitious                </td></tr>    \n",
    "        <tr><td>shar7_3    </td><td></td><td>Shared interests         </td></tr>                       \n",
    "    </tbody>\n",
    "</table>"
   ]
  },
  {
   "cell_type": "markdown",
   "id": "80794938-561b-4b47-8b38-68097584c6f5",
   "metadata": {
    "deletable": true,
    "editable": true,
    "frozen": false
   },
   "source": [
    "## Initial Drop of columns and rows"
   ]
  },
  {
   "cell_type": "markdown",
   "id": "4a104446-7020-407b-b03d-e21345aaf287",
   "metadata": {
    "deletable": true,
    "editable": true,
    "frozen": false
   },
   "source": [
    "Since this speed dating dataset includes information gathered both from an initial questionnaire as well as the subsequent in-person speed dating events, certain features in the dataset are not directly applicable to the dating app use case. For the dating app, the goal is to predict compatible matches between users before they have actually met each other. As such, we will need to exclude any features from the dataset that pertain specifically to the details and outcomes of the speed dating interactions, as that would be considered \"future\" data that users of the dating app would not have access to when the model makes its predictions. By focusing the model only on the user profile information and preferences collected via the initial questionnaire, we can develop a matchmaking system that can provide relevant match recommendations to dating app users before they connect in person."
   ]
  },
  {
   "cell_type": "markdown",
   "id": "89ede396-5f7d-4bf1-a726-e71a26e025ac",
   "metadata": {
    "deletable": true,
    "editable": true,
    "frozen": false
   },
   "source": [
    "### Remove columns representing future data"
   ]
  },
  {
   "cell_type": "markdown",
   "id": "1d4aa38d-0f4b-44b6-9aeb-364b8054c1a0",
   "metadata": {
    "deletable": true,
    "editable": true,
    "frozen": false
   },
   "source": [
    "Future data refers to any data involving a physical meeting between two individuals. We'll exclude it from the dataset because our goal is for the model to make predictions based solely on users' questionnaire responses.\n",
    "\n",
    "First we need to remove columns that describe the event itself, or the participants answers about the event:"
   ]
  },
  {
   "cell_type": "code",
   "execution_count": 14,
   "id": "5068919f-50d7-4172-94a4-f6b1ba3e3611",
   "metadata": {
    "deletable": true,
    "editable": true,
    "frozen": false
   },
   "outputs": [],
   "source": [
    "# Event organizational details\n",
    "event_details = [\"id\", \"idg\", \"round\", \"order\", \"condtn\", \"partner\", \"exphappy\", \"expnum\", \"match_es\", \"match\", 'positin1', 'position',]\n",
    "partners_prefs_0 = [\"pf_o_att\", \"pf_o_sin\", \"pf_o_int\", \"pf_o_fun\", \"pf_o_amb\", \"pf_o_sha\"]\n",
    "followup_time2 = ['satis_2', 'length', 'numdat_2']\n",
    "followup_time3 = ['you_call', 'them_cal', 'date_3', 'numdat_3', 'num_in_3']"
   ]
  },
  {
   "cell_type": "markdown",
   "id": "e0d52813-24a6-4e88-b020-341e07c99b63",
   "metadata": {
    "deletable": true,
    "editable": true,
    "frozen": false
   },
   "source": [
    "We will also remove the participants' ratings of each other:"
   ]
  },
  {
   "cell_type": "code",
   "execution_count": 15,
   "id": "d9237c83-2798-4502-8a3b-3d7636c52ca9",
   "metadata": {
    "deletable": true,
    "editable": true,
    "frozen": false
   },
   "outputs": [],
   "source": [
    "# Rate each date's attributes on a scale of 1-10 (scorecard)\n",
    "attributes_per_date_s = ['attr', 'sinc', 'intel', 'fun', 'amb', 'shar']\n",
    "\n",
    "# Rating and decision by partner the night of the event (partner's answers on the scorecard)\n",
    "rating_by_partner_s = ['attr_o', 'sinc_o', 'intel_o', 'fun_o', 'amb_o', 'shar_o']"
   ]
  },
  {
   "cell_type": "markdown",
   "id": "3513e2dc-ed43-4594-845e-1c785bd71659",
   "metadata": {
    "deletable": true,
    "editable": true,
    "frozen": false
   },
   "source": [
    "Also remove answers from the scorecard which the participants filled after the event:"
   ]
  },
  {
   "cell_type": "code",
   "execution_count": 16,
   "id": "6d8f6980-96a6-4911-9d5a-1d14f1e5878d",
   "metadata": {
    "deletable": true,
    "editable": true,
    "frozen": false
   },
   "outputs": [],
   "source": [
    "date_likeability_s = [\"like\", \"prob\", \"met\"]\n",
    "subjects_likeability_to_date_2 = [\"like_o\", \"prob_o\", \"met_o\", \"dec_o\"]\n",
    "question1_scorecard = [\"amb1_s\", \"attr1_s\", \"sinc1_s\", \"fun1_s\", \"intel1_s\", \"shar1_s\"]\n",
    "question3_scorecard = [\"amb3_s\", \"attr3_s\", \"sinc3_s\", \"fun3_s\", \"intel3_s\"]"
   ]
  },
  {
   "cell_type": "markdown",
   "id": "bf028346-405a-4f9d-aa5e-728de9dba0ad",
   "metadata": {
    "deletable": true,
    "editable": true,
    "frozen": false
   },
   "source": [
    "These are two questionnaires asked at time 2 and time 3, both after the event:"
   ]
  },
  {
   "cell_type": "code",
   "execution_count": 17,
   "id": "d5bda344-11ea-4625-85dd-ed984507af1d",
   "metadata": {
    "deletable": true,
    "editable": true,
    "frozen": false
   },
   "outputs": [],
   "source": [
    "# How much the subject likes the partner\n",
    "question1_time2 = [\"amb1_2\", \"attr1_2\", \"fun1_2\", \"intel1_2\", \"shar1_2\", \"sinc1_2\"]\n",
    "question2_time2 = [\"amb2_2\", \"attr2_2\", \"fun2_2\", \"intel2_2\", \"shar2_2\", \"sinc2_2\"]\n",
    "question3_time2 = [\"amb3_2\", \"attr3_2\", \"fun3_2\", \"intel3_2\", \"sinc3_2\"]\n",
    "question4_time2 = [\"amb4_2\", \"attr4_2\", \"fun4_2\", \"intel4_2\", \"sinc4_2\", \"shar4_2\"]\n",
    "question5_time2 = [\"amb5_2\", \"attr5_2\", \"fun5_2\", \"intel5_2\", \"sinc5_2\"]\n",
    "question7_time2 = [\"amb7_2\", \"attr7_2\", \"fun7_2\", \"intel7_2\", \"shar7_2\", \"sinc7_2\"]\n",
    "\n",
    "question1_time3 = [\"amb1_3\", \"attr1_3\", \"fun1_3\", \"intel1_3\", \"shar1_3\", \"sinc1_3\"]\n",
    "question2_time3 = [\"amb2_3\", \"attr2_3\", \"fun2_3\", \"intel2_3\", \"shar2_3\", \"sinc2_3\"]\n",
    "question3_time3 = [\"amb3_3\", \"attr3_3\", \"fun3_3\", \"intel3_3\", \"sinc3_3\"]\n",
    "question4_time3 = [\"amb4_3\", \"attr4_3\", \"fun4_3\", \"intel4_3\", \"sinc4_3\", \"shar4_3\"]\n",
    "question5_time3 = [\"amb5_3\", \"attr5_3\", \"fun5_3\", \"intel5_3\", \"sinc5_3\"]\n",
    "question7_time3 = [\"amb7_3\", \"attr7_3\", \"fun7_3\", \"intel7_3\", \"shar7_3\", \"sinc7_3\"]"
   ]
  },
  {
   "cell_type": "markdown",
   "id": "77798754-5ff1-4ca6-a583-ca7240669ac0",
   "metadata": {
    "deletable": true,
    "editable": true,
    "frozen": false
   },
   "source": [
    "And some other non-relevant columns:"
   ]
  },
  {
   "cell_type": "code",
   "execution_count": 18,
   "id": "df578f8f-86b8-4732-a516-adacd9577bae",
   "metadata": {
    "deletable": true,
    "editable": true,
    "frozen": false
   },
   "outputs": [],
   "source": [
    "other = [\"race_o\", \"age_o\"]\n",
    "demographics = [\"career_c\", \"zipcode\", \"tuition\", \"mn_sat\", \"income\"] # 💛MII DELETE AT THE END!!!! \"career\", "
   ]
  },
  {
   "cell_type": "markdown",
   "id": "f669cbdb-f932-4086-b808-e8c7a72f5dd3",
   "metadata": {
    "deletable": true,
    "editable": true,
    "frozen": false
   },
   "source": [
    "Collect all features mentioned above in a single variable:"
   ]
  },
  {
   "cell_type": "code",
   "execution_count": 19,
   "id": "6c75e7ba-ca89-4a46-9078-6bf0d2667222",
   "metadata": {
    "deletable": true,
    "editable": true,
    "frozen": false
   },
   "outputs": [],
   "source": [
    "cols_future_data = event_details + demographics + date_likeability_s + subjects_likeability_to_date_2 + partners_prefs_0 + other\n",
    "cols_future_data = cols_future_data + followup_time2 + followup_time3 \n",
    "cols_future_data = cols_future_data + question1_time2 + question2_time2 + question3_time2 + question4_time2 + question5_time2 + question7_time2 \n",
    "cols_future_data = cols_future_data + question1_time3 + question2_time3 + question3_time3 + question4_time3 + question5_time3 + question7_time3\n",
    "cols_future_data = cols_future_data + question1_scorecard + question3_scorecard + rating_by_partner_s + attributes_per_date_s"
   ]
  },
  {
   "cell_type": "markdown",
   "id": "6f044943-ada1-44f8-a99c-8f3e059dcdd2",
   "metadata": {
    "deletable": true,
    "editable": true,
    "frozen": false
   },
   "source": [
    "And delete all the future data:"
   ]
  },
  {
   "cell_type": "code",
   "execution_count": 20,
   "id": "cf8a06a1-322c-4375-a9b7-a520a2f47e9a",
   "metadata": {
    "deletable": true,
    "editable": true,
    "frozen": false
   },
   "outputs": [],
   "source": [
    "df = df.drop(cols_future_data, axis=1) "
   ]
  },
  {
   "cell_type": "markdown",
   "id": "78fa5204-8bb8-46c0-ba5a-aed9796d391d",
   "metadata": {
    "deletable": true,
    "editable": true,
    "frozen": false
   },
   "source": [
    "### Drop rows where _pid_ is NaN"
   ]
  },
  {
   "cell_type": "markdown",
   "id": "c92920a3-f192-4138-bed6-6051949611f9",
   "metadata": {
    "deletable": true,
    "editable": true,
    "frozen": false
   },
   "source": [
    "The features _iid_ and _pid_ uniquely identify the subject and their partner, respectively. Furthermore, each partner's _pid_ is also present in the dataset as an _iid_. This means that for each date, there are two rows of data - one for the subject and one for their partner. It's crucial that if a _pid_ (partner) is referenced on one row, that _pid_ must exist as an _iid_ on another row. This ensures we have the complete data for a date between two people."
   ]
  },
  {
   "cell_type": "code",
   "execution_count": 21,
   "id": "60ab6326-e9dd-4bc9-b9b5-a799aa72aa5e",
   "metadata": {
    "deletable": true,
    "editable": true,
    "frozen": false
   },
   "outputs": [
    {
     "data": {
      "text/html": [
       "<div>\n",
       "<style scoped>\n",
       "    .dataframe tbody tr th:only-of-type {\n",
       "        vertical-align: middle;\n",
       "    }\n",
       "\n",
       "    .dataframe tbody tr th {\n",
       "        vertical-align: top;\n",
       "    }\n",
       "\n",
       "    .dataframe thead th {\n",
       "        text-align: right;\n",
       "    }\n",
       "</style>\n",
       "<table border=\"1\" class=\"dataframe\">\n",
       "  <thead>\n",
       "    <tr style=\"text-align: right;\">\n",
       "      <th></th>\n",
       "      <th>iid</th>\n",
       "      <th>pid</th>\n",
       "      <th>wave</th>\n",
       "      <th>gender</th>\n",
       "    </tr>\n",
       "  </thead>\n",
       "  <tbody>\n",
       "    <tr>\n",
       "      <th>1755</th>\n",
       "      <td>122</td>\n",
       "      <td>NaN</td>\n",
       "      <td>5</td>\n",
       "      <td>1</td>\n",
       "    </tr>\n",
       "    <tr>\n",
       "      <th>1765</th>\n",
       "      <td>123</td>\n",
       "      <td>NaN</td>\n",
       "      <td>5</td>\n",
       "      <td>1</td>\n",
       "    </tr>\n",
       "    <tr>\n",
       "      <th>1775</th>\n",
       "      <td>124</td>\n",
       "      <td>NaN</td>\n",
       "      <td>5</td>\n",
       "      <td>1</td>\n",
       "    </tr>\n",
       "    <tr>\n",
       "      <th>1785</th>\n",
       "      <td>125</td>\n",
       "      <td>NaN</td>\n",
       "      <td>5</td>\n",
       "      <td>1</td>\n",
       "    </tr>\n",
       "    <tr>\n",
       "      <th>1795</th>\n",
       "      <td>126</td>\n",
       "      <td>NaN</td>\n",
       "      <td>5</td>\n",
       "      <td>1</td>\n",
       "    </tr>\n",
       "    <tr>\n",
       "      <th>1805</th>\n",
       "      <td>127</td>\n",
       "      <td>NaN</td>\n",
       "      <td>5</td>\n",
       "      <td>1</td>\n",
       "    </tr>\n",
       "    <tr>\n",
       "      <th>1815</th>\n",
       "      <td>128</td>\n",
       "      <td>NaN</td>\n",
       "      <td>5</td>\n",
       "      <td>1</td>\n",
       "    </tr>\n",
       "    <tr>\n",
       "      <th>1825</th>\n",
       "      <td>129</td>\n",
       "      <td>NaN</td>\n",
       "      <td>5</td>\n",
       "      <td>1</td>\n",
       "    </tr>\n",
       "    <tr>\n",
       "      <th>1835</th>\n",
       "      <td>130</td>\n",
       "      <td>NaN</td>\n",
       "      <td>5</td>\n",
       "      <td>1</td>\n",
       "    </tr>\n",
       "    <tr>\n",
       "      <th>1845</th>\n",
       "      <td>131</td>\n",
       "      <td>NaN</td>\n",
       "      <td>5</td>\n",
       "      <td>1</td>\n",
       "    </tr>\n",
       "  </tbody>\n",
       "</table>\n",
       "</div>"
      ],
      "text/plain": [
       "      iid  pid  wave  gender\n",
       "1755  122  NaN     5       1\n",
       "1765  123  NaN     5       1\n",
       "1775  124  NaN     5       1\n",
       "1785  125  NaN     5       1\n",
       "1795  126  NaN     5       1\n",
       "1805  127  NaN     5       1\n",
       "1815  128  NaN     5       1\n",
       "1825  129  NaN     5       1\n",
       "1835  130  NaN     5       1\n",
       "1845  131  NaN     5       1"
      ]
     },
     "execution_count": 21,
     "metadata": {},
     "output_type": "execute_result"
    }
   ],
   "source": [
    "df[df.pid.isna()][['iid', 'pid', 'wave', 'gender']]"
   ]
  },
  {
   "cell_type": "markdown",
   "id": "55977793-1bcd-4730-bf42-64c790cc91ff",
   "metadata": {
    "deletable": true,
    "editable": true,
    "frozen": false
   },
   "source": [
    "We see 10 missing _pids_ and all of them are in wave 5. The dataset's documentation states that in each wave there were equal number of men and women. (Actually, the dates in this experiment were only between men and women). \n",
    "\n",
    "If we check the ratio of men/women in wave 5:"
   ]
  },
  {
   "cell_type": "code",
   "execution_count": 22,
   "id": "1dbe19fc-867c-424a-8607-7ee208836b09",
   "metadata": {
    "deletable": true,
    "editable": true,
    "frozen": false
   },
   "outputs": [
    {
     "data": {
      "text/plain": [
       "gender\n",
       "1    100\n",
       "0     90\n",
       "Name: count, dtype: int64"
      ]
     },
     "execution_count": 22,
     "metadata": {},
     "output_type": "execute_result"
    }
   ],
   "source": [
    "df[df.wave == 5].gender.value_counts()"
   ]
  },
  {
   "cell_type": "markdown",
   "id": "25e15cc4-9a1f-45dd-a49b-bd96b3a2d7ed",
   "metadata": {
    "deletable": true,
    "editable": true,
    "frozen": false
   },
   "source": [
    "...we see a mismatch of exactly 10 pids (partners). If we delete the 10 rows with missing pids we will get an equal distribution of men and women in wave 5."
   ]
  },
  {
   "cell_type": "markdown",
   "id": "021f7d0c-d002-4c16-bf49-9a73cc720cc3",
   "metadata": {
    "deletable": true,
    "editable": true,
    "frozen": false
   },
   "source": [
    "Furthermore, we can try to make an educated guess which was the partner of these 10 subjects if we inspect all _iids_:"
   ]
  },
  {
   "cell_type": "code",
   "execution_count": 23,
   "id": "5a55444c-9f8c-4385-8c82-43e06e154b7a",
   "metadata": {
    "deletable": true,
    "editable": true,
    "frozen": false
   },
   "outputs": [
    {
     "data": {
      "text/plain": [
       "array([  1,   2,   3,   4,   5,   6,   7,   8,   9,  10,  11,  12,  13,\n",
       "        14,  15,  16,  17,  18,  19,  20,  21,  22,  23,  24,  25,  26,\n",
       "        27,  28,  29,  30,  31,  32,  33,  34,  35,  36,  37,  38,  39,\n",
       "        40,  41,  42,  43,  44,  45,  46,  47,  48,  49,  50,  51,  52,\n",
       "        53,  54,  55,  56,  57,  58,  59,  60,  61,  62,  63,  64,  65,\n",
       "        66,  67,  68,  69,  70,  71,  72,  73,  74,  75,  76,  77,  78,\n",
       "        79,  80,  81,  82,  83,  84,  85,  86,  87,  88,  89,  90,  91,\n",
       "        92,  93,  94,  95,  96,  97,  98,  99, 100, 101, 102, 103, 104,\n",
       "       105, 106, 107, 108, 109, 110, 111, 112, 113, 114, 115, 116, 117,\n",
       "       119, 120, 121, 122, 123, 124, 125, 126, 127, 128, 129, 130, 131,\n",
       "       132, 133, 134, 135, 136, 137, 138, 139, 140, 141, 142, 143, 144,\n",
       "       145, 146, 147, 148, 149, 150, 151, 152, 153, 154, 155, 156, 157,\n",
       "       158, 159, 160, 161, 162, 163, 164, 165, 166, 167, 168, 169, 170,\n",
       "       171, 172, 173, 174, 175, 176, 177, 178, 179, 180, 181, 182, 183,\n",
       "       184, 185, 186, 187, 188, 189, 190, 191, 192, 193, 194, 195, 196,\n",
       "       197, 198, 199, 200, 201, 202, 203, 204, 205, 206, 207, 208, 209,\n",
       "       210, 211, 212, 213, 214, 215, 216, 217, 218, 219, 220, 221, 222,\n",
       "       223, 224, 225, 226, 227, 228, 229, 230, 231, 232, 233, 234, 235,\n",
       "       236, 237, 238, 239, 240, 241, 242, 243, 244, 245, 246, 247, 248,\n",
       "       249, 250, 251, 252, 253, 254, 255, 256, 257, 258, 259, 260, 261,\n",
       "       262, 263, 264, 265, 266, 267, 268, 269, 270, 271, 272, 273, 274,\n",
       "       275, 276, 277, 278, 279, 280, 281, 282, 283, 284, 285, 286, 287,\n",
       "       288, 289, 290, 291, 292, 293, 294, 295, 296, 297, 298, 299, 300,\n",
       "       301, 302, 303, 304, 305, 306, 307, 308, 309, 310, 311, 312, 313,\n",
       "       314, 315, 316, 317, 318, 319, 320, 321, 322, 323, 324, 325, 326,\n",
       "       327, 328, 329, 330, 331, 332, 333, 334, 335, 336, 337, 338, 339,\n",
       "       340, 341, 342, 343, 344, 345, 346, 347, 348, 349, 350, 351, 352,\n",
       "       353, 354, 355, 356, 357, 358, 359, 360, 361, 362, 363, 364, 365,\n",
       "       366, 367, 368, 369, 370, 371, 372, 373, 374, 375, 376, 377, 378,\n",
       "       379, 380, 381, 382, 383, 384, 385, 386, 387, 388, 389, 390, 391,\n",
       "       392, 393, 394, 395, 396, 397, 398, 399, 400, 401, 402, 403, 404,\n",
       "       405, 406, 407, 408, 409, 410, 411, 412, 413, 414, 415, 416, 417,\n",
       "       418, 419, 420, 421, 422, 423, 424, 425, 426, 427, 428, 429, 430,\n",
       "       431, 432, 433, 434, 435, 436, 437, 438, 439, 440, 441, 442, 443,\n",
       "       444, 445, 446, 447, 448, 449, 450, 451, 452, 453, 454, 455, 456,\n",
       "       457, 458, 459, 460, 461, 462, 463, 464, 465, 466, 467, 468, 469,\n",
       "       470, 471, 472, 473, 474, 475, 476, 477, 478, 479, 480, 481, 482,\n",
       "       483, 484, 485, 486, 487, 488, 489, 490, 491, 492, 493, 494, 495,\n",
       "       496, 497, 498, 499, 500, 501, 502, 503, 504, 505, 506, 507, 508,\n",
       "       509, 510, 511, 512, 513, 514, 515, 516, 517, 518, 519, 520, 521,\n",
       "       522, 523, 524, 525, 526, 527, 528, 529, 530, 531, 532, 533, 534,\n",
       "       535, 536, 537, 538, 539, 540, 541, 542, 543, 544, 545, 546, 547,\n",
       "       548, 549, 550, 551, 552], dtype=int64)"
      ]
     },
     "execution_count": 23,
     "metadata": {},
     "output_type": "execute_result"
    }
   ],
   "source": [
    "df.iid.unique()"
   ]
  },
  {
   "cell_type": "markdown",
   "id": "475c45b9-8b92-4ea2-973f-2ab02b798c7b",
   "metadata": {
    "deletable": true,
    "editable": true,
    "frozen": false
   },
   "source": [
    "The _iids_ appear to be sequential with no missing values, except for iid 118. This suggests that the partner of the 10 subjects with a missing _pid_ was likely the person with _iid_ 118."
   ]
  },
  {
   "cell_type": "code",
   "execution_count": 24,
   "id": "594ee928-380b-46f7-a4fb-d2ae4cd5d2ea",
   "metadata": {
    "deletable": true,
    "editable": true,
    "frozen": false
   },
   "outputs": [],
   "source": [
    "# delete the rows where pid is NaN to make the data consistent\n",
    "df = df.dropna(subset=['pid'])\n",
    "df['pid'] = df['pid'].astype(int)"
   ]
  },
  {
   "cell_type": "markdown",
   "id": "26d45f0d-57fa-4a0c-8595-b66c04a8b4b7",
   "metadata": {
    "deletable": true,
    "editable": true,
    "frozen": false
   },
   "source": [
    "🤔 Separately, and unrelated to the model implemented in this project, our personal speculation is that the surveys were originally conducted on printed paper forms, as this was during the 2002-2004 timeframe, and the form for person with _iid_ 118 was misplaced before the data was digitized."
   ]
  },
  {
   "cell_type": "markdown",
   "id": "a6eab7bd-0b33-49cc-89ac-e125b6d74da8",
   "metadata": {
    "deletable": true,
    "editable": true,
    "frozen": false
   },
   "source": [
    "### Drop rows with unanswered interests"
   ]
  },
  {
   "cell_type": "markdown",
   "id": "9217d449-7d44-4d60-8c96-58a2ce6d095f",
   "metadata": {
    "deletable": true,
    "editable": true,
    "frozen": false
   },
   "source": [
    "Let's check the missing values in the columns representing the subject's interests:"
   ]
  },
  {
   "cell_type": "code",
   "execution_count": 25,
   "id": "279f05aa-267c-445b-a1e4-d3fee756104c",
   "metadata": {
    "deletable": true,
    "editable": true,
    "frozen": false
   },
   "outputs": [],
   "source": [
    "cols_interests = ['music', 'exercise', 'dining', 'tv', 'tvsports', 'sports', 'shopping', 'yoga', 'gaming', \n",
    "                  'reading', 'theater', 'hiking', 'art', 'museums', 'clubbing', 'concerts', 'movies']"
   ]
  },
  {
   "cell_type": "code",
   "execution_count": 26,
   "id": "abe5b958-7399-4311-90f6-412c8ac29110",
   "metadata": {
    "deletable": true,
    "editable": true,
    "frozen": false
   },
   "outputs": [
    {
     "data": {
      "text/plain": [
       "music       79\n",
       "exercise    79\n",
       "dining      79\n",
       "tv          79\n",
       "tvsports    79\n",
       "sports      79\n",
       "shopping    79\n",
       "yoga        79\n",
       "gaming      79\n",
       "reading     79\n",
       "theater     79\n",
       "hiking      79\n",
       "art         79\n",
       "museums     79\n",
       "clubbing    79\n",
       "concerts    79\n",
       "movies      79\n",
       "dtype: int64"
      ]
     },
     "execution_count": 26,
     "metadata": {},
     "output_type": "execute_result"
    }
   ],
   "source": [
    "df[cols_interests].isna().sum()"
   ]
  },
  {
   "cell_type": "markdown",
   "id": "dac9e0b4-f935-4da7-8b97-947fa6749c1b",
   "metadata": {
    "deletable": true,
    "editable": true,
    "frozen": false
   },
   "source": [
    "There are 79 rows with missing values for interests, and what’s really interesting is that the same questions are missing in all of them. It looks like these people skipped the entire section. But we need to keep in mind, 79 rows doesn’t equate to 79 different people!"
   ]
  },
  {
   "cell_type": "code",
   "execution_count": 27,
   "id": "4c8253db-b8fc-4d35-8644-4f2c7bed91f7",
   "metadata": {
    "deletable": true,
    "editable": true,
    "frozen": false
   },
   "outputs": [
    {
     "name": "stdout",
     "output_type": "stream",
     "text": [
      "7 participants did not fill the interests questions.\n"
     ]
    }
   ],
   "source": [
    "# how many people did not answer the interests questions\n",
    "question_dodgers = df[df.yoga.isna()][['iid'] + cols_interests].iid.unique()\n",
    "print(f\"{len(question_dodgers)} participants did not fill the interests questions.\")"
   ]
  },
  {
   "cell_type": "markdown",
   "id": "096feec4-e346-4014-a4b8-89c9403bf8f2",
   "metadata": {
    "deletable": true,
    "editable": true,
    "frozen": false
   },
   "source": [
    "Seven individuals (each with a unique _iid_), didn’t respond to those questions for some reason. It’s worth checking to see if there are other questions they left unanswered."
   ]
  },
  {
   "cell_type": "code",
   "execution_count": 28,
   "id": "9985ec5b-de2a-4b98-bf37-843e842e119c",
   "metadata": {
    "deletable": true,
    "editable": true,
    "frozen": false
   },
   "outputs": [
    {
     "name": "stdout",
     "output_type": "stream",
     "text": [
      "7 individuals left [54 58] questions out of 64 unanswered.\n"
     ]
    },
    {
     "data": {
      "text/plain": [
       "array([54, 58], dtype=int64)"
      ]
     },
     "execution_count": 28,
     "metadata": {},
     "output_type": "execute_result"
    }
   ],
   "source": [
    "# count how many values per row are NA\n",
    "df_interests = df[df.yoga.isna()].copy()\n",
    "df_interests['na_count'] = df_interests.isna().sum(axis=1)\n",
    "\n",
    "print(f\"7 individuals left {df_interests['na_count'].unique()} questions out of {df.shape[1]} unanswered.\")\n",
    "df_interests['na_count'].unique()"
   ]
  },
  {
   "cell_type": "markdown",
   "id": "bdb5d39c-863e-4b6a-94a3-aaea4b37c99b",
   "metadata": {
    "deletable": true,
    "editable": true,
    "frozen": false
   },
   "source": [
    "Proceed with removing the rows with high percentage of missing values. Additionally, ensure the removal of rows corresponding to the partners of these participants, even if their data is complete."
   ]
  },
  {
   "cell_type": "code",
   "execution_count": 29,
   "id": "eaa1fe49-8e41-450e-a49e-3638955d0caa",
   "metadata": {
    "deletable": true,
    "editable": true,
    "frozen": false
   },
   "outputs": [],
   "source": [
    "rows_before = df.shape[0]"
   ]
  },
  {
   "cell_type": "code",
   "execution_count": 30,
   "id": "52ff6879-488b-46f7-89b9-5a2626b427df",
   "metadata": {
    "deletable": true,
    "editable": true,
    "frozen": false
   },
   "outputs": [],
   "source": [
    "rows_to_delete = df[df[cols_interests].isna().all(axis=1)][['iid', 'pid']].apply(tuple, axis=1).tolist()\n",
    "partner_rows_to_delete = [(pid, iid) for iid, pid in rows_to_delete]           # Identify the partner rows to delete (where 'iid' and 'pid' are swapped)\n",
    "\n",
    "df = df[~df[['iid', 'pid']].apply(tuple, axis=1).isin(rows_to_delete)]         # Delete these rows\n",
    "df = df[~df[['iid', 'pid']].apply(tuple, axis=1).isin(partner_rows_to_delete)] # Delete the partner rows"
   ]
  },
  {
   "cell_type": "code",
   "execution_count": 31,
   "id": "94e10fd0-faaf-4252-8fcf-f937873c8d85",
   "metadata": {
    "deletable": true,
    "editable": true,
    "frozen": false
   },
   "outputs": [
    {
     "name": "stdout",
     "output_type": "stream",
     "text": [
      "Deleted 158 rows with high percentage of missing data.\n"
     ]
    }
   ],
   "source": [
    "rows_after = df.shape[0]\n",
    "print(f\"Deleted {rows_before - rows_after} rows with high percentage of missing data.\")"
   ]
  },
  {
   "cell_type": "markdown",
   "id": "cf6583b3-efdc-4626-a77b-67eeb1280702",
   "metadata": {
    "deletable": true,
    "editable": true,
    "frozen": false
   },
   "source": [
    "## Clean categorical features"
   ]
  },
  {
   "cell_type": "markdown",
   "id": "6bda266b-1ddb-43ee-9a10-48a96af9d13a",
   "metadata": {
    "deletable": true,
    "editable": true,
    "frozen": false
   },
   "source": [
    "How many categorical columns are there?"
   ]
  },
  {
   "cell_type": "code",
   "execution_count": 32,
   "id": "ac7d373d-2be0-4459-9a05-4bcb095aafab",
   "metadata": {
    "deletable": true,
    "editable": true,
    "frozen": false
   },
   "outputs": [
    {
     "name": "stdout",
     "output_type": "stream",
     "text": [
      "Categorical columns: ['field', 'undergra', 'from', 'career']\n"
     ]
    }
   ],
   "source": [
    "# 💛MII add also other columns (do not delete them at the beginning)\n",
    "cols_categorical = df.select_dtypes(include='object').columns.to_list()\n",
    "print(\"Categorical columns: \" + str(cols_categorical))"
   ]
  },
  {
   "cell_type": "code",
   "execution_count": 33,
   "id": "362a4892-77b5-4025-9b99-ec3e5c99becd",
   "metadata": {
    "deletable": true,
    "editable": true,
    "frozen": false
   },
   "outputs": [],
   "source": [
    "def create_table_unique_sorted_columns(df, cols_categorical):\n",
    "    # Determine the maximum number of unique non-NA values across all categorical columns\n",
    "    max_unique_length = max(len(df[col].unique()) for col in cols_categorical)\n",
    "    \n",
    "    # Create a DataFrame containing unique values (excluding NA) sorted for each categorical column individually\n",
    "    unique_sorted_table = pd.DataFrame(\n",
    "        {\n",
    "            col: sorted([x for x in df[col].unique() if pd.notna(x)])\n",
    "            + [pd.NA] * (max_unique_length - len([x for x in df[col].unique() if pd.notna(x)]))\n",
    "            for col in cols_categorical\n",
    "        }\n",
    "    )\n",
    "    \n",
    "    # Display the first 100 rows, no need to view more\n",
    "    return unique_sorted_table.head(min(100, max_unique_length))"
   ]
  },
  {
   "cell_type": "markdown",
   "id": "6d787bd4-7657-4f33-9a45-c411f7b6cda7",
   "metadata": {
    "deletable": true,
    "editable": true,
    "frozen": false
   },
   "source": [
    "<div style=\"background-color:moccasin\">\n",
    "    \n",
    "⚠️ The following is not an actual dataframe, but a table where each column contains unique values and has been sorted individually for better visualization."
   ]
  },
  {
   "cell_type": "code",
   "execution_count": 34,
   "id": "12dbc042-9012-4ae9-95e2-adc753a7a19f",
   "metadata": {
    "deletable": true,
    "editable": true,
    "frozen": false
   },
   "outputs": [
    {
     "data": {
      "text/html": [
       "<div>\n",
       "<style scoped>\n",
       "    .dataframe tbody tr th:only-of-type {\n",
       "        vertical-align: middle;\n",
       "    }\n",
       "\n",
       "    .dataframe tbody tr th {\n",
       "        vertical-align: top;\n",
       "    }\n",
       "\n",
       "    .dataframe thead th {\n",
       "        text-align: right;\n",
       "    }\n",
       "</style>\n",
       "<table border=\"1\" class=\"dataframe\">\n",
       "  <thead>\n",
       "    <tr style=\"text-align: right;\">\n",
       "      <th></th>\n",
       "      <th>field</th>\n",
       "      <th>undergra</th>\n",
       "      <th>from</th>\n",
       "      <th>career</th>\n",
       "    </tr>\n",
       "  </thead>\n",
       "  <tbody>\n",
       "    <tr>\n",
       "      <th>0</th>\n",
       "      <td>Acting</td>\n",
       "      <td>American University</td>\n",
       "      <td>94115</td>\n",
       "      <td>?</td>\n",
       "    </tr>\n",
       "    <tr>\n",
       "      <th>1</th>\n",
       "      <td>African-American Studies/History</td>\n",
       "      <td>Amherst College</td>\n",
       "      <td>Alabama</td>\n",
       "      <td>??</td>\n",
       "    </tr>\n",
       "    <tr>\n",
       "      <th>2</th>\n",
       "      <td>American Studies</td>\n",
       "      <td>Arizona State</td>\n",
       "      <td>Albania</td>\n",
       "      <td>ASIC Engineer</td>\n",
       "    </tr>\n",
       "    <tr>\n",
       "      <th>3</th>\n",
       "      <td>American Studies (Masters)</td>\n",
       "      <td>Ateneo de Manila University - Philippines</td>\n",
       "      <td>Albuquerque, NM</td>\n",
       "      <td>Academia</td>\n",
       "    </tr>\n",
       "    <tr>\n",
       "      <th>4</th>\n",
       "      <td>Anthropology</td>\n",
       "      <td>Augustana College</td>\n",
       "      <td>Ann Arbor</td>\n",
       "      <td>Academia or UN</td>\n",
       "    </tr>\n",
       "    <tr>\n",
       "      <th>5</th>\n",
       "      <td>Anthropology/Education</td>\n",
       "      <td>Barnard College</td>\n",
       "      <td>Ann Arbor, MI</td>\n",
       "      <td>Academia, Research, Banking, Life</td>\n",
       "    </tr>\n",
       "    <tr>\n",
       "      <th>6</th>\n",
       "      <td>Applied Maths/Econs</td>\n",
       "      <td>Beijing University</td>\n",
       "      <td>Argentina</td>\n",
       "      <td>Academia; Research; Teaching</td>\n",
       "    </tr>\n",
       "    <tr>\n",
       "      <th>7</th>\n",
       "      <td>Applied Physiology &amp; Nutrition</td>\n",
       "      <td>Bennington College</td>\n",
       "      <td>Arizona</td>\n",
       "      <td>Academic</td>\n",
       "    </tr>\n",
       "    <tr>\n",
       "      <th>8</th>\n",
       "      <td>Architecture</td>\n",
       "      <td>Berklee College Of Music</td>\n",
       "      <td>Asia, Singapore</td>\n",
       "      <td>Academic (Law)</td>\n",
       "    </tr>\n",
       "    <tr>\n",
       "      <th>9</th>\n",
       "      <td>Art Education</td>\n",
       "      <td>Binghamton University</td>\n",
       "      <td>Atlanta</td>\n",
       "      <td>Academic Physician</td>\n",
       "    </tr>\n",
       "    <tr>\n",
       "      <th>10</th>\n",
       "      <td>Art History</td>\n",
       "      <td>Biological Sciences</td>\n",
       "      <td>Atlanta, GA</td>\n",
       "      <td>Academic Work, Consultant</td>\n",
       "    </tr>\n",
       "    <tr>\n",
       "      <th>11</th>\n",
       "      <td>Art History/medicine</td>\n",
       "      <td>Bocconi University Milan</td>\n",
       "      <td>Austin, TX</td>\n",
       "      <td>Academic or Research staff</td>\n",
       "    </tr>\n",
       "    <tr>\n",
       "      <th>12</th>\n",
       "      <td>Arts Administration</td>\n",
       "      <td>Bombay, India</td>\n",
       "      <td>Australia</td>\n",
       "      <td>Academic/ Finance</td>\n",
       "    </tr>\n",
       "    <tr>\n",
       "      <th>13</th>\n",
       "      <td>BUSINESS CONSULTING</td>\n",
       "      <td>Boston College</td>\n",
       "      <td>Azerbaijan</td>\n",
       "      <td>Acting</td>\n",
       "    </tr>\n",
       "    <tr>\n",
       "      <th>14</th>\n",
       "      <td>Bilingual Education</td>\n",
       "      <td>Bowdoin College</td>\n",
       "      <td>BEIJING, CHINA</td>\n",
       "      <td>Actress</td>\n",
       "    </tr>\n",
       "    <tr>\n",
       "      <th>15</th>\n",
       "      <td>Biochemistry</td>\n",
       "      <td>Brandeis University</td>\n",
       "      <td>Baltimore</td>\n",
       "      <td>Am not sure</td>\n",
       "    </tr>\n",
       "    <tr>\n",
       "      <th>16</th>\n",
       "      <td>Biochemistry &amp; Molecular Biophysics</td>\n",
       "      <td>Brown</td>\n",
       "      <td>Bangladesh</td>\n",
       "      <td>Architecture and design</td>\n",
       "    </tr>\n",
       "    <tr>\n",
       "      <th>17</th>\n",
       "      <td>Biology</td>\n",
       "      <td>Brown University</td>\n",
       "      <td>Belgium</td>\n",
       "      <td>Art Management</td>\n",
       "    </tr>\n",
       "    <tr>\n",
       "      <th>18</th>\n",
       "      <td>Biology PhD</td>\n",
       "      <td>Bucharest University</td>\n",
       "      <td>Berkeley</td>\n",
       "      <td>Art educator and Artist</td>\n",
       "    </tr>\n",
       "    <tr>\n",
       "      <th>19</th>\n",
       "      <td>Biomedical Engineering</td>\n",
       "      <td>Bucknell University</td>\n",
       "      <td>Berkeley, CA</td>\n",
       "      <td>Artist</td>\n",
       "    </tr>\n",
       "    <tr>\n",
       "      <th>20</th>\n",
       "      <td>Biomedical Informatics</td>\n",
       "      <td>COOPER UNION</td>\n",
       "      <td>Bogota, Colombia</td>\n",
       "      <td>Asset Management</td>\n",
       "    </tr>\n",
       "    <tr>\n",
       "      <th>21</th>\n",
       "      <td>Biomedical engineering</td>\n",
       "      <td>CSUN</td>\n",
       "      <td>Bombay, India</td>\n",
       "      <td>Assistant District Attorney</td>\n",
       "    </tr>\n",
       "    <tr>\n",
       "      <th>22</th>\n",
       "      <td>Biotechnology</td>\n",
       "      <td>Cagliari - Italy</td>\n",
       "      <td>Born in Iran</td>\n",
       "      <td>Banking</td>\n",
       "    </tr>\n",
       "    <tr>\n",
       "      <th>23</th>\n",
       "      <td>Business</td>\n",
       "      <td>Cal Berkeley</td>\n",
       "      <td>Born in Montana, raised in South Jersey (nr. Philadelphia)</td>\n",
       "      <td>Bilingual Elementary School Teacher</td>\n",
       "    </tr>\n",
       "    <tr>\n",
       "      <th>24</th>\n",
       "      <td>Business &amp; International Affairs</td>\n",
       "      <td>Cal State Univ., Long Beach</td>\n",
       "      <td>Boston</td>\n",
       "      <td>Biostatistics</td>\n",
       "    </tr>\n",
       "    <tr>\n",
       "      <th>25</th>\n",
       "      <td>Business (Finance &amp; Marketing)</td>\n",
       "      <td>California State University Los Angeles</td>\n",
       "      <td>Boston, MA</td>\n",
       "      <td>Biotech/business</td>\n",
       "    </tr>\n",
       "    <tr>\n",
       "      <th>26</th>\n",
       "      <td>Business (MBA)</td>\n",
       "      <td>Cambridge University</td>\n",
       "      <td>Boston, Ma</td>\n",
       "      <td>Brand Management</td>\n",
       "    </tr>\n",
       "    <tr>\n",
       "      <th>27</th>\n",
       "      <td>Business Administration</td>\n",
       "      <td>Case Western Reserve University</td>\n",
       "      <td>Boulder, Colorado</td>\n",
       "      <td>Business</td>\n",
       "    </tr>\n",
       "    <tr>\n",
       "      <th>28</th>\n",
       "      <td>Business School</td>\n",
       "      <td>China</td>\n",
       "      <td>Bowdoin College</td>\n",
       "      <td>Business - Investment Management</td>\n",
       "    </tr>\n",
       "    <tr>\n",
       "      <th>29</th>\n",
       "      <td>Business and International Affairs (MBA/MIA Dual Degree)</td>\n",
       "      <td>ChungShenMedicalUniversity(Taiwan)</td>\n",
       "      <td>Brandeis University</td>\n",
       "      <td>Business Consulting</td>\n",
       "    </tr>\n",
       "    <tr>\n",
       "      <th>30</th>\n",
       "      <td>Business, Media</td>\n",
       "      <td>Colgate University</td>\n",
       "      <td>Brazil</td>\n",
       "      <td>Business Management</td>\n",
       "    </tr>\n",
       "    <tr>\n",
       "      <th>31</th>\n",
       "      <td>Business, marketing</td>\n",
       "      <td>Colorado State</td>\n",
       "      <td>Bronx Science</td>\n",
       "      <td>Business Management and Information Technology</td>\n",
       "    </tr>\n",
       "    <tr>\n",
       "      <th>32</th>\n",
       "      <td>Business- MBA</td>\n",
       "      <td>Columbia</td>\n",
       "      <td>Brooklyn</td>\n",
       "      <td>Business/Law</td>\n",
       "    </tr>\n",
       "    <tr>\n",
       "      <th>33</th>\n",
       "      <td>Business/ Finance/ Real Estate</td>\n",
       "      <td>Columbia Business School</td>\n",
       "      <td>Brooklyn, NY</td>\n",
       "      <td>CEO</td>\n",
       "    </tr>\n",
       "    <tr>\n",
       "      <th>34</th>\n",
       "      <td>Business/Law</td>\n",
       "      <td>Columbia College</td>\n",
       "      <td>Budapest</td>\n",
       "      <td>CEO in For Profit Biomedical Organization</td>\n",
       "    </tr>\n",
       "    <tr>\n",
       "      <th>35</th>\n",
       "      <td>Cell Biology</td>\n",
       "      <td>Columbia College, CU</td>\n",
       "      <td>Buffalo, NY</td>\n",
       "      <td>CONSULTING</td>\n",
       "    </tr>\n",
       "    <tr>\n",
       "      <th>36</th>\n",
       "      <td>Chemistry</td>\n",
       "      <td>Columbia University</td>\n",
       "      <td>Bulgaria</td>\n",
       "      <td>Capital Markets</td>\n",
       "    </tr>\n",
       "    <tr>\n",
       "      <th>37</th>\n",
       "      <td>Classics</td>\n",
       "      <td>ColumbiaU</td>\n",
       "      <td>Burlington, Vermont</td>\n",
       "      <td>Cardiologist</td>\n",
       "    </tr>\n",
       "    <tr>\n",
       "      <th>38</th>\n",
       "      <td>Climate Dynamics</td>\n",
       "      <td>Connecticut College</td>\n",
       "      <td>CALIFORNIA</td>\n",
       "      <td>Child Rights</td>\n",
       "    </tr>\n",
       "    <tr>\n",
       "      <th>39</th>\n",
       "      <td>Climate-Earth and Environ. Science</td>\n",
       "      <td>Conneticut College</td>\n",
       "      <td>CT, FL, TN</td>\n",
       "      <td>Civil Engineer</td>\n",
       "    </tr>\n",
       "    <tr>\n",
       "      <th>40</th>\n",
       "      <td>Clinical Psychology</td>\n",
       "      <td>Cooper Union, Bard college, and SUNY Purchase</td>\n",
       "      <td>California</td>\n",
       "      <td>Clidren's TV</td>\n",
       "    </tr>\n",
       "    <tr>\n",
       "      <th>41</th>\n",
       "      <td>Cognitive Studies in Education</td>\n",
       "      <td>Cornell</td>\n",
       "      <td>California (West Coast)</td>\n",
       "      <td>Clinic Trial</td>\n",
       "    </tr>\n",
       "    <tr>\n",
       "      <th>42</th>\n",
       "      <td>Communications</td>\n",
       "      <td>Cornell University</td>\n",
       "      <td>California and New York</td>\n",
       "      <td>Clinical Psychologist</td>\n",
       "    </tr>\n",
       "    <tr>\n",
       "      <th>43</th>\n",
       "      <td>Communications in Education</td>\n",
       "      <td>Dartmouth College</td>\n",
       "      <td>California, New Jersey</td>\n",
       "      <td>Clinical Psychology</td>\n",
       "    </tr>\n",
       "    <tr>\n",
       "      <th>44</th>\n",
       "      <td>Comparative Literature</td>\n",
       "      <td>Delhi University</td>\n",
       "      <td>Cambridge, MA</td>\n",
       "      <td>Clinical Social Worker</td>\n",
       "    </tr>\n",
       "    <tr>\n",
       "      <th>45</th>\n",
       "      <td>Computational Biochemsistry</td>\n",
       "      <td>Duquesne University</td>\n",
       "      <td>Cambridge, Massachusetts</td>\n",
       "      <td>College Professor</td>\n",
       "    </tr>\n",
       "    <tr>\n",
       "      <th>46</th>\n",
       "      <td>Computer Science</td>\n",
       "      <td>Ecole Normale Suprieure, Paris</td>\n",
       "      <td>Cameroon</td>\n",
       "      <td>Congresswoman, and comedian</td>\n",
       "    </tr>\n",
       "    <tr>\n",
       "      <th>47</th>\n",
       "      <td>Conservation biology</td>\n",
       "      <td>Ecole Polytechnique (France)</td>\n",
       "      <td>Canada</td>\n",
       "      <td>Conservation training and education</td>\n",
       "    </tr>\n",
       "    <tr>\n",
       "      <th>48</th>\n",
       "      <td>Consulting</td>\n",
       "      <td>Ecole Superieure d'Electricite</td>\n",
       "      <td>Cherry Hill, NJ</td>\n",
       "      <td>Consultin \\ Management</td>\n",
       "    </tr>\n",
       "    <tr>\n",
       "      <th>49</th>\n",
       "      <td>Counseling Psychology</td>\n",
       "      <td>Emory University</td>\n",
       "      <td>Chicago</td>\n",
       "      <td>Consulting</td>\n",
       "    </tr>\n",
       "    <tr>\n",
       "      <th>50</th>\n",
       "      <td>Creative Writing</td>\n",
       "      <td>Engineering</td>\n",
       "      <td>Chile</td>\n",
       "      <td>Consulting, later Arts or Non-Profit</td>\n",
       "    </tr>\n",
       "    <tr>\n",
       "      <th>51</th>\n",
       "      <td>Creative Writing (Nonfiction)</td>\n",
       "      <td>Florida International University</td>\n",
       "      <td>China</td>\n",
       "      <td>Corporate Finance, Asset Management/ Hedge Funds</td>\n",
       "    </tr>\n",
       "    <tr>\n",
       "      <th>52</th>\n",
       "      <td>Creative Writing - Nonfiction</td>\n",
       "      <td>Fordham University</td>\n",
       "      <td>Cincinnati, OH</td>\n",
       "      <td>Corporate Lawyer</td>\n",
       "    </tr>\n",
       "    <tr>\n",
       "      <th>53</th>\n",
       "      <td>Curriculum and Teaching/Giftedness</td>\n",
       "      <td>Fu Jen Catholic University, Taiwan</td>\n",
       "      <td>Cincinnati, Ohio</td>\n",
       "      <td>Corporate attorney</td>\n",
       "    </tr>\n",
       "    <tr>\n",
       "      <th>54</th>\n",
       "      <td>EDUCATION</td>\n",
       "      <td>Fudan</td>\n",
       "      <td>Cleveland</td>\n",
       "      <td>Corporate law</td>\n",
       "    </tr>\n",
       "    <tr>\n",
       "      <th>55</th>\n",
       "      <td>ELECTRICAL ENGINEERING</td>\n",
       "      <td>Fudan University, Shanghai, China</td>\n",
       "      <td>Colombia</td>\n",
       "      <td>Counseling Adolescents</td>\n",
       "    </tr>\n",
       "    <tr>\n",
       "      <th>56</th>\n",
       "      <td>Early Childhood Education</td>\n",
       "      <td>GA Tech</td>\n",
       "      <td>Colombia, South America</td>\n",
       "      <td>Country Analysis/Research/Credit Analysis</td>\n",
       "    </tr>\n",
       "    <tr>\n",
       "      <th>57</th>\n",
       "      <td>Earth and Environmental Science</td>\n",
       "      <td>GW</td>\n",
       "      <td>Colorado</td>\n",
       "      <td>Development work</td>\n",
       "    </tr>\n",
       "    <tr>\n",
       "      <th>58</th>\n",
       "      <td>Ecology</td>\n",
       "      <td>George Mason University</td>\n",
       "      <td>Connecticut</td>\n",
       "      <td>Development work on field in the middle of nowhere</td>\n",
       "    </tr>\n",
       "    <tr>\n",
       "      <th>59</th>\n",
       "      <td>Economics</td>\n",
       "      <td>George Washington University</td>\n",
       "      <td>Costa Rica</td>\n",
       "      <td>Diplomat</td>\n",
       "    </tr>\n",
       "    <tr>\n",
       "      <th>60</th>\n",
       "      <td>Economics and Political Science</td>\n",
       "      <td>Georgetown</td>\n",
       "      <td>DC</td>\n",
       "      <td>Diplomat / Int'l civil servant</td>\n",
       "    </tr>\n",
       "    <tr>\n",
       "      <th>61</th>\n",
       "      <td>Economics, English</td>\n",
       "      <td>Georgetown University</td>\n",
       "      <td>Dallas, Texas</td>\n",
       "      <td>Diplomat/Business</td>\n",
       "    </tr>\n",
       "    <tr>\n",
       "      <th>62</th>\n",
       "      <td>Economics, Sociology</td>\n",
       "      <td>HEC FRance</td>\n",
       "      <td>Detroit</td>\n",
       "      <td>Director of Admissions</td>\n",
       "    </tr>\n",
       "    <tr>\n",
       "      <th>63</th>\n",
       "      <td>Ed.D. in higher education policy at TC</td>\n",
       "      <td>HOWARD UNIVERSITY</td>\n",
       "      <td>Detroit suburbs</td>\n",
       "      <td>Director of Training and Development</td>\n",
       "    </tr>\n",
       "    <tr>\n",
       "      <th>64</th>\n",
       "      <td>Education</td>\n",
       "      <td>Hamilton College</td>\n",
       "      <td>Detroit, Michigan, USA</td>\n",
       "      <td>Doctor</td>\n",
       "    </tr>\n",
       "    <tr>\n",
       "      <th>65</th>\n",
       "      <td>Education Administration</td>\n",
       "      <td>Hampshire College</td>\n",
       "      <td>England</td>\n",
       "      <td>EDUCATION ADMINISTRATION</td>\n",
       "    </tr>\n",
       "    <tr>\n",
       "      <th>66</th>\n",
       "      <td>Education Leadership - Public School Administration</td>\n",
       "      <td>Harbin Medical University, China</td>\n",
       "      <td>Erie, PA</td>\n",
       "      <td>Early Childhood Ed. - College/univ. faculity</td>\n",
       "    </tr>\n",
       "    <tr>\n",
       "      <th>67</th>\n",
       "      <td>Education Policy</td>\n",
       "      <td>Harcourt Butler Technological Institute</td>\n",
       "      <td>Europe</td>\n",
       "      <td>Economic Policy Advisor on Latin America</td>\n",
       "    </tr>\n",
       "    <tr>\n",
       "      <th>68</th>\n",
       "      <td>Education- Literacy Specialist</td>\n",
       "      <td>Harvard</td>\n",
       "      <td>Florida</td>\n",
       "      <td>Economic research</td>\n",
       "    </tr>\n",
       "    <tr>\n",
       "      <th>69</th>\n",
       "      <td>Educational Psychology</td>\n",
       "      <td>Harvard College</td>\n",
       "      <td>Florida and Virginia</td>\n",
       "      <td>Economist</td>\n",
       "    </tr>\n",
       "    <tr>\n",
       "      <th>70</th>\n",
       "      <td>Electrical Engg.</td>\n",
       "      <td>Harvard University</td>\n",
       "      <td>France</td>\n",
       "      <td>Education</td>\n",
       "    </tr>\n",
       "    <tr>\n",
       "      <th>71</th>\n",
       "      <td>Electrical Engineering</td>\n",
       "      <td>Harvey Mudd College (Physics)</td>\n",
       "      <td>France  / New York</td>\n",
       "      <td>Education Administration</td>\n",
       "    </tr>\n",
       "    <tr>\n",
       "      <th>72</th>\n",
       "      <td>Elementary Education</td>\n",
       "      <td>Hebrew University</td>\n",
       "      <td>Genova, Italy</td>\n",
       "      <td>Education Policy Analyst</td>\n",
       "    </tr>\n",
       "    <tr>\n",
       "      <th>73</th>\n",
       "      <td>Elementary Education - Preservice</td>\n",
       "      <td>Holy Cross</td>\n",
       "      <td>Georgia, USA</td>\n",
       "      <td>Educational Policy</td>\n",
       "    </tr>\n",
       "    <tr>\n",
       "      <th>74</th>\n",
       "      <td>Elementary/Childhood Education (MA)</td>\n",
       "      <td>Holy Cross College</td>\n",
       "      <td>Germany</td>\n",
       "      <td>Educator</td>\n",
       "    </tr>\n",
       "    <tr>\n",
       "      <th>75</th>\n",
       "      <td>Engineering</td>\n",
       "      <td>Illinois</td>\n",
       "      <td>Great Neck, NY</td>\n",
       "      <td>Elementary Education Teaching</td>\n",
       "    </tr>\n",
       "    <tr>\n",
       "      <th>76</th>\n",
       "      <td>English</td>\n",
       "      <td>Jesus and Mary College,Delhi</td>\n",
       "      <td>Greece</td>\n",
       "      <td>Elementary school teacher</td>\n",
       "    </tr>\n",
       "    <tr>\n",
       "      <th>77</th>\n",
       "      <td>English Education</td>\n",
       "      <td>John Hopkins</td>\n",
       "      <td>Greece/Germany</td>\n",
       "      <td>Energy</td>\n",
       "    </tr>\n",
       "    <tr>\n",
       "      <th>78</th>\n",
       "      <td>English and Comp Lit</td>\n",
       "      <td>Kettering University / GMI</td>\n",
       "      <td>Greenwich, CT</td>\n",
       "      <td>Energy Management</td>\n",
       "    </tr>\n",
       "    <tr>\n",
       "      <th>79</th>\n",
       "      <td>Environmental Engineering</td>\n",
       "      <td>Kunitachi College of Music (in Japan)</td>\n",
       "      <td>HKG</td>\n",
       "      <td>Engineer</td>\n",
       "    </tr>\n",
       "    <tr>\n",
       "      <th>80</th>\n",
       "      <td>Epidemiology</td>\n",
       "      <td>LUISS, Rome</td>\n",
       "      <td>Hastings-on-Hudson, NY</td>\n",
       "      <td>Engineer or iBanker or consultant</td>\n",
       "    </tr>\n",
       "    <tr>\n",
       "      <th>81</th>\n",
       "      <td>Film</td>\n",
       "      <td>Lafayette College</td>\n",
       "      <td>Hawaii</td>\n",
       "      <td>Engineering</td>\n",
       "    </tr>\n",
       "    <tr>\n",
       "      <th>82</th>\n",
       "      <td>Finanace</td>\n",
       "      <td>Loyola College</td>\n",
       "      <td>Hawaii and Los Angeles</td>\n",
       "      <td>English Teacher</td>\n",
       "    </tr>\n",
       "    <tr>\n",
       "      <th>83</th>\n",
       "      <td>Finance</td>\n",
       "      <td>Loyola College in Maryland</td>\n",
       "      <td>Hong Kong</td>\n",
       "      <td>English teacher</td>\n",
       "    </tr>\n",
       "    <tr>\n",
       "      <th>84</th>\n",
       "      <td>Finance&amp;Economics</td>\n",
       "      <td>MIT</td>\n",
       "      <td>Houston</td>\n",
       "      <td>Entertainment/Media</td>\n",
       "    </tr>\n",
       "    <tr>\n",
       "      <th>85</th>\n",
       "      <td>Finance/Economics</td>\n",
       "      <td>MSU, Russia</td>\n",
       "      <td>I am from NYC</td>\n",
       "      <td>Entertainment/Sports</td>\n",
       "    </tr>\n",
       "    <tr>\n",
       "      <th>86</th>\n",
       "      <td>Financial Engineering</td>\n",
       "      <td>Mary Baldwin College</td>\n",
       "      <td>Iceland</td>\n",
       "      <td>Entrepreneur</td>\n",
       "    </tr>\n",
       "    <tr>\n",
       "      <th>87</th>\n",
       "      <td>Fundraising Management</td>\n",
       "      <td>McGill University</td>\n",
       "      <td>India</td>\n",
       "      <td>Entrepreneurship</td>\n",
       "    </tr>\n",
       "    <tr>\n",
       "      <th>88</th>\n",
       "      <td>GS Postbacc PreMed</td>\n",
       "      <td>Miami University</td>\n",
       "      <td>India and NJ</td>\n",
       "      <td>Epidemiologist</td>\n",
       "    </tr>\n",
       "    <tr>\n",
       "      <th>89</th>\n",
       "      <td>GSAS</td>\n",
       "      <td>Middlebury College</td>\n",
       "      <td>India, Holland</td>\n",
       "      <td>Exec. Director of social service non-profit</td>\n",
       "    </tr>\n",
       "    <tr>\n",
       "      <th>90</th>\n",
       "      <td>General management/finance</td>\n",
       "      <td>Monash University - Australia</td>\n",
       "      <td>India/Venezuela</td>\n",
       "      <td>Film</td>\n",
       "    </tr>\n",
       "    <tr>\n",
       "      <th>91</th>\n",
       "      <td>Genetics</td>\n",
       "      <td>NUS</td>\n",
       "      <td>Indiana</td>\n",
       "      <td>Film/Television</td>\n",
       "    </tr>\n",
       "    <tr>\n",
       "      <th>92</th>\n",
       "      <td>Genetics &amp; Development</td>\n",
       "      <td>NYU</td>\n",
       "      <td>Indonesia</td>\n",
       "      <td>Filmmaker</td>\n",
       "    </tr>\n",
       "    <tr>\n",
       "      <th>93</th>\n",
       "      <td>German Literature</td>\n",
       "      <td>Naples, Italy</td>\n",
       "      <td>International Student</td>\n",
       "      <td>Finance</td>\n",
       "    </tr>\n",
       "    <tr>\n",
       "      <th>94</th>\n",
       "      <td>Health policy</td>\n",
       "      <td>National Taiwan University</td>\n",
       "      <td>Iowa</td>\n",
       "      <td>Finance Related</td>\n",
       "    </tr>\n",
       "    <tr>\n",
       "      <th>95</th>\n",
       "      <td>Higher Ed. - M.A.</td>\n",
       "      <td>National University Of Singapore</td>\n",
       "      <td>Israel</td>\n",
       "      <td>Finance/Economics</td>\n",
       "    </tr>\n",
       "    <tr>\n",
       "      <th>96</th>\n",
       "      <td>History</td>\n",
       "      <td>National University of Singapore</td>\n",
       "      <td>Italy</td>\n",
       "      <td>Financial Mathematics-Investment Bank or Hedge Fund-Derivatives Quant Analyst</td>\n",
       "    </tr>\n",
       "    <tr>\n",
       "      <th>97</th>\n",
       "      <td>History (GSAS - PhD)</td>\n",
       "      <td>New York University</td>\n",
       "      <td>J.P. Morgan</td>\n",
       "      <td>Financial Services</td>\n",
       "    </tr>\n",
       "    <tr>\n",
       "      <th>98</th>\n",
       "      <td>History of Religion</td>\n",
       "      <td>Nirma Institute of Technology-India</td>\n",
       "      <td>Japan</td>\n",
       "      <td>Fixed Income Sales &amp; Trading</td>\n",
       "    </tr>\n",
       "    <tr>\n",
       "      <th>99</th>\n",
       "      <td>Human Rights</td>\n",
       "      <td>Northwestern University</td>\n",
       "      <td>Kansas</td>\n",
       "      <td>Foreign Service</td>\n",
       "    </tr>\n",
       "  </tbody>\n",
       "</table>\n",
       "</div>"
      ],
      "text/plain": [
       "                                                       field  \\\n",
       "0                                                     Acting   \n",
       "1                           African-American Studies/History   \n",
       "2                                           American Studies   \n",
       "3                                 American Studies (Masters)   \n",
       "4                                               Anthropology   \n",
       "5                                     Anthropology/Education   \n",
       "6                                        Applied Maths/Econs   \n",
       "7                             Applied Physiology & Nutrition   \n",
       "8                                               Architecture   \n",
       "9                                              Art Education   \n",
       "10                                               Art History   \n",
       "11                                      Art History/medicine   \n",
       "12                                       Arts Administration   \n",
       "13                                       BUSINESS CONSULTING   \n",
       "14                                       Bilingual Education   \n",
       "15                                              Biochemistry   \n",
       "16                       Biochemistry & Molecular Biophysics   \n",
       "17                                                   Biology   \n",
       "18                                               Biology PhD   \n",
       "19                                    Biomedical Engineering   \n",
       "20                                    Biomedical Informatics   \n",
       "21                                    Biomedical engineering   \n",
       "22                                             Biotechnology   \n",
       "23                                                  Business   \n",
       "24                          Business & International Affairs   \n",
       "25                            Business (Finance & Marketing)   \n",
       "26                                            Business (MBA)   \n",
       "27                                   Business Administration   \n",
       "28                                           Business School   \n",
       "29  Business and International Affairs (MBA/MIA Dual Degree)   \n",
       "30                                           Business, Media   \n",
       "31                                       Business, marketing   \n",
       "32                                             Business- MBA   \n",
       "33                            Business/ Finance/ Real Estate   \n",
       "34                                              Business/Law   \n",
       "35                                              Cell Biology   \n",
       "36                                                 Chemistry   \n",
       "37                                                  Classics   \n",
       "38                                          Climate Dynamics   \n",
       "39                        Climate-Earth and Environ. Science   \n",
       "40                                       Clinical Psychology   \n",
       "41                            Cognitive Studies in Education   \n",
       "42                                            Communications   \n",
       "43                               Communications in Education   \n",
       "44                                    Comparative Literature   \n",
       "45                               Computational Biochemsistry   \n",
       "46                                          Computer Science   \n",
       "47                                      Conservation biology   \n",
       "48                                                Consulting   \n",
       "49                                     Counseling Psychology   \n",
       "50                                          Creative Writing   \n",
       "51                             Creative Writing (Nonfiction)   \n",
       "52                             Creative Writing - Nonfiction   \n",
       "53                        Curriculum and Teaching/Giftedness   \n",
       "54                                                 EDUCATION   \n",
       "55                                    ELECTRICAL ENGINEERING   \n",
       "56                                 Early Childhood Education   \n",
       "57                           Earth and Environmental Science   \n",
       "58                                                   Ecology   \n",
       "59                                                 Economics   \n",
       "60                           Economics and Political Science   \n",
       "61                                        Economics, English   \n",
       "62                                      Economics, Sociology   \n",
       "63                    Ed.D. in higher education policy at TC   \n",
       "64                                                 Education   \n",
       "65                                  Education Administration   \n",
       "66       Education Leadership - Public School Administration   \n",
       "67                                          Education Policy   \n",
       "68                            Education- Literacy Specialist   \n",
       "69                                    Educational Psychology   \n",
       "70                                          Electrical Engg.   \n",
       "71                                    Electrical Engineering   \n",
       "72                                      Elementary Education   \n",
       "73                         Elementary Education - Preservice   \n",
       "74                       Elementary/Childhood Education (MA)   \n",
       "75                                               Engineering   \n",
       "76                                                   English   \n",
       "77                                         English Education   \n",
       "78                                      English and Comp Lit   \n",
       "79                                 Environmental Engineering   \n",
       "80                                              Epidemiology   \n",
       "81                                                      Film   \n",
       "82                                                  Finanace   \n",
       "83                                                   Finance   \n",
       "84                                         Finance&Economics   \n",
       "85                                         Finance/Economics   \n",
       "86                                     Financial Engineering   \n",
       "87                                    Fundraising Management   \n",
       "88                                        GS Postbacc PreMed   \n",
       "89                                                      GSAS   \n",
       "90                                General management/finance   \n",
       "91                                                  Genetics   \n",
       "92                                    Genetics & Development   \n",
       "93                                         German Literature   \n",
       "94                                             Health policy   \n",
       "95                                         Higher Ed. - M.A.   \n",
       "96                                                   History   \n",
       "97                                      History (GSAS - PhD)   \n",
       "98                                       History of Religion   \n",
       "99                                              Human Rights   \n",
       "\n",
       "                                         undergra  \\\n",
       "0                             American University   \n",
       "1                                 Amherst College   \n",
       "2                                   Arizona State   \n",
       "3       Ateneo de Manila University - Philippines   \n",
       "4                               Augustana College   \n",
       "5                                 Barnard College   \n",
       "6                              Beijing University   \n",
       "7                              Bennington College   \n",
       "8                        Berklee College Of Music   \n",
       "9                           Binghamton University   \n",
       "10                            Biological Sciences   \n",
       "11                       Bocconi University Milan   \n",
       "12                                  Bombay, India   \n",
       "13                                 Boston College   \n",
       "14                                Bowdoin College   \n",
       "15                            Brandeis University   \n",
       "16                                          Brown   \n",
       "17                               Brown University   \n",
       "18                           Bucharest University   \n",
       "19                            Bucknell University   \n",
       "20                                   COOPER UNION   \n",
       "21                                           CSUN   \n",
       "22                               Cagliari - Italy   \n",
       "23                                   Cal Berkeley   \n",
       "24                    Cal State Univ., Long Beach   \n",
       "25        California State University Los Angeles   \n",
       "26                           Cambridge University   \n",
       "27                Case Western Reserve University   \n",
       "28                                          China   \n",
       "29             ChungShenMedicalUniversity(Taiwan)   \n",
       "30                             Colgate University   \n",
       "31                                 Colorado State   \n",
       "32                                       Columbia   \n",
       "33                       Columbia Business School   \n",
       "34                               Columbia College   \n",
       "35                           Columbia College, CU   \n",
       "36                            Columbia University   \n",
       "37                                      ColumbiaU   \n",
       "38                            Connecticut College   \n",
       "39                             Conneticut College   \n",
       "40  Cooper Union, Bard college, and SUNY Purchase   \n",
       "41                                        Cornell   \n",
       "42                             Cornell University   \n",
       "43                              Dartmouth College   \n",
       "44                               Delhi University   \n",
       "45                            Duquesne University   \n",
       "46                Ecole Normale Suprieure, Paris   \n",
       "47                   Ecole Polytechnique (France)   \n",
       "48                 Ecole Superieure d'Electricite   \n",
       "49                               Emory University   \n",
       "50                                    Engineering   \n",
       "51               Florida International University   \n",
       "52                             Fordham University   \n",
       "53             Fu Jen Catholic University, Taiwan   \n",
       "54                                          Fudan   \n",
       "55              Fudan University, Shanghai, China   \n",
       "56                                        GA Tech   \n",
       "57                                             GW   \n",
       "58                        George Mason University   \n",
       "59                   George Washington University   \n",
       "60                                     Georgetown   \n",
       "61                          Georgetown University   \n",
       "62                                     HEC FRance   \n",
       "63                              HOWARD UNIVERSITY   \n",
       "64                               Hamilton College   \n",
       "65                              Hampshire College   \n",
       "66               Harbin Medical University, China   \n",
       "67        Harcourt Butler Technological Institute   \n",
       "68                                        Harvard   \n",
       "69                                Harvard College   \n",
       "70                             Harvard University   \n",
       "71                  Harvey Mudd College (Physics)   \n",
       "72                              Hebrew University   \n",
       "73                                     Holy Cross   \n",
       "74                             Holy Cross College   \n",
       "75                                       Illinois   \n",
       "76                   Jesus and Mary College,Delhi   \n",
       "77                                   John Hopkins   \n",
       "78                     Kettering University / GMI   \n",
       "79          Kunitachi College of Music (in Japan)   \n",
       "80                                    LUISS, Rome   \n",
       "81                              Lafayette College   \n",
       "82                                 Loyola College   \n",
       "83                     Loyola College in Maryland   \n",
       "84                                            MIT   \n",
       "85                                    MSU, Russia   \n",
       "86                           Mary Baldwin College   \n",
       "87                              McGill University   \n",
       "88                               Miami University   \n",
       "89                             Middlebury College   \n",
       "90                  Monash University - Australia   \n",
       "91                                            NUS   \n",
       "92                                            NYU   \n",
       "93                                  Naples, Italy   \n",
       "94                     National Taiwan University   \n",
       "95               National University Of Singapore   \n",
       "96               National University of Singapore   \n",
       "97                            New York University   \n",
       "98            Nirma Institute of Technology-India   \n",
       "99                        Northwestern University   \n",
       "\n",
       "                                                          from  \\\n",
       "0                                                        94115   \n",
       "1                                                      Alabama   \n",
       "2                                                      Albania   \n",
       "3                                              Albuquerque, NM   \n",
       "4                                                    Ann Arbor   \n",
       "5                                                Ann Arbor, MI   \n",
       "6                                                    Argentina   \n",
       "7                                                      Arizona   \n",
       "8                                              Asia, Singapore   \n",
       "9                                                      Atlanta   \n",
       "10                                                 Atlanta, GA   \n",
       "11                                                  Austin, TX   \n",
       "12                                                   Australia   \n",
       "13                                                  Azerbaijan   \n",
       "14                                              BEIJING, CHINA   \n",
       "15                                                   Baltimore   \n",
       "16                                                  Bangladesh   \n",
       "17                                                     Belgium   \n",
       "18                                                    Berkeley   \n",
       "19                                                Berkeley, CA   \n",
       "20                                            Bogota, Colombia   \n",
       "21                                               Bombay, India   \n",
       "22                                                Born in Iran   \n",
       "23  Born in Montana, raised in South Jersey (nr. Philadelphia)   \n",
       "24                                                      Boston   \n",
       "25                                                  Boston, MA   \n",
       "26                                                  Boston, Ma   \n",
       "27                                           Boulder, Colorado   \n",
       "28                                             Bowdoin College   \n",
       "29                                         Brandeis University   \n",
       "30                                                      Brazil   \n",
       "31                                               Bronx Science   \n",
       "32                                                    Brooklyn   \n",
       "33                                                Brooklyn, NY   \n",
       "34                                                    Budapest   \n",
       "35                                                 Buffalo, NY   \n",
       "36                                                    Bulgaria   \n",
       "37                                         Burlington, Vermont   \n",
       "38                                                  CALIFORNIA   \n",
       "39                                                  CT, FL, TN   \n",
       "40                                                  California   \n",
       "41                                     California (West Coast)   \n",
       "42                                     California and New York   \n",
       "43                                      California, New Jersey   \n",
       "44                                               Cambridge, MA   \n",
       "45                                    Cambridge, Massachusetts   \n",
       "46                                                    Cameroon   \n",
       "47                                                      Canada   \n",
       "48                                             Cherry Hill, NJ   \n",
       "49                                                     Chicago   \n",
       "50                                                       Chile   \n",
       "51                                                       China   \n",
       "52                                              Cincinnati, OH   \n",
       "53                                            Cincinnati, Ohio   \n",
       "54                                                   Cleveland   \n",
       "55                                                    Colombia   \n",
       "56                                     Colombia, South America   \n",
       "57                                                    Colorado   \n",
       "58                                                 Connecticut   \n",
       "59                                                  Costa Rica   \n",
       "60                                                          DC   \n",
       "61                                               Dallas, Texas   \n",
       "62                                                     Detroit   \n",
       "63                                             Detroit suburbs   \n",
       "64                                      Detroit, Michigan, USA   \n",
       "65                                                     England   \n",
       "66                                                    Erie, PA   \n",
       "67                                                      Europe   \n",
       "68                                                     Florida   \n",
       "69                                        Florida and Virginia   \n",
       "70                                                      France   \n",
       "71                                          France  / New York   \n",
       "72                                               Genova, Italy   \n",
       "73                                                Georgia, USA   \n",
       "74                                                     Germany   \n",
       "75                                              Great Neck, NY   \n",
       "76                                                      Greece   \n",
       "77                                              Greece/Germany   \n",
       "78                                               Greenwich, CT   \n",
       "79                                                         HKG   \n",
       "80                                      Hastings-on-Hudson, NY   \n",
       "81                                                      Hawaii   \n",
       "82                                      Hawaii and Los Angeles   \n",
       "83                                                   Hong Kong   \n",
       "84                                                     Houston   \n",
       "85                                               I am from NYC   \n",
       "86                                                     Iceland   \n",
       "87                                                       India   \n",
       "88                                                India and NJ   \n",
       "89                                              India, Holland   \n",
       "90                                             India/Venezuela   \n",
       "91                                                     Indiana   \n",
       "92                                                   Indonesia   \n",
       "93                                       International Student   \n",
       "94                                                        Iowa   \n",
       "95                                                      Israel   \n",
       "96                                                       Italy   \n",
       "97                                                 J.P. Morgan   \n",
       "98                                                       Japan   \n",
       "99                                                      Kansas   \n",
       "\n",
       "                                                                           career  \n",
       "0                                                                               ?  \n",
       "1                                                                              ??  \n",
       "2                                                                   ASIC Engineer  \n",
       "3                                                                        Academia  \n",
       "4                                                                  Academia or UN  \n",
       "5                                               Academia, Research, Banking, Life  \n",
       "6                                                    Academia; Research; Teaching  \n",
       "7                                                                        Academic  \n",
       "8                                                                  Academic (Law)  \n",
       "9                                                              Academic Physician  \n",
       "10                                                      Academic Work, Consultant  \n",
       "11                                                     Academic or Research staff  \n",
       "12                                                              Academic/ Finance  \n",
       "13                                                                         Acting  \n",
       "14                                                                        Actress  \n",
       "15                                                                    Am not sure  \n",
       "16                                                        Architecture and design  \n",
       "17                                                                 Art Management  \n",
       "18                                                        Art educator and Artist  \n",
       "19                                                                         Artist  \n",
       "20                                                               Asset Management  \n",
       "21                                                    Assistant District Attorney  \n",
       "22                                                                        Banking  \n",
       "23                                            Bilingual Elementary School Teacher  \n",
       "24                                                                  Biostatistics  \n",
       "25                                                               Biotech/business  \n",
       "26                                                               Brand Management  \n",
       "27                                                                       Business  \n",
       "28                                               Business - Investment Management  \n",
       "29                                                            Business Consulting  \n",
       "30                                                            Business Management  \n",
       "31                                 Business Management and Information Technology  \n",
       "32                                                                   Business/Law  \n",
       "33                                                                            CEO  \n",
       "34                                      CEO in For Profit Biomedical Organization  \n",
       "35                                                                     CONSULTING  \n",
       "36                                                                Capital Markets  \n",
       "37                                                                   Cardiologist  \n",
       "38                                                                   Child Rights  \n",
       "39                                                                 Civil Engineer  \n",
       "40                                                                   Clidren's TV  \n",
       "41                                                                   Clinic Trial  \n",
       "42                                                          Clinical Psychologist  \n",
       "43                                                            Clinical Psychology  \n",
       "44                                                         Clinical Social Worker  \n",
       "45                                                              College Professor  \n",
       "46                                                    Congresswoman, and comedian  \n",
       "47                                            Conservation training and education  \n",
       "48                                                         Consultin \\ Management  \n",
       "49                                                                     Consulting  \n",
       "50                                           Consulting, later Arts or Non-Profit  \n",
       "51                               Corporate Finance, Asset Management/ Hedge Funds  \n",
       "52                                                               Corporate Lawyer  \n",
       "53                                                             Corporate attorney  \n",
       "54                                                                  Corporate law  \n",
       "55                                                         Counseling Adolescents  \n",
       "56                                      Country Analysis/Research/Credit Analysis  \n",
       "57                                                               Development work  \n",
       "58                             Development work on field in the middle of nowhere  \n",
       "59                                                                       Diplomat  \n",
       "60                                                 Diplomat / Int'l civil servant  \n",
       "61                                                              Diplomat/Business  \n",
       "62                                                         Director of Admissions  \n",
       "63                                           Director of Training and Development  \n",
       "64                                                                         Doctor  \n",
       "65                                                       EDUCATION ADMINISTRATION  \n",
       "66                                   Early Childhood Ed. - College/univ. faculity  \n",
       "67                                       Economic Policy Advisor on Latin America  \n",
       "68                                                              Economic research  \n",
       "69                                                                      Economist  \n",
       "70                                                                      Education  \n",
       "71                                                       Education Administration  \n",
       "72                                                       Education Policy Analyst  \n",
       "73                                                             Educational Policy  \n",
       "74                                                                       Educator  \n",
       "75                                                  Elementary Education Teaching  \n",
       "76                                                      Elementary school teacher  \n",
       "77                                                                         Energy  \n",
       "78                                                              Energy Management  \n",
       "79                                                                       Engineer  \n",
       "80                                              Engineer or iBanker or consultant  \n",
       "81                                                                    Engineering  \n",
       "82                                                                English Teacher  \n",
       "83                                                                English teacher  \n",
       "84                                                            Entertainment/Media  \n",
       "85                                                           Entertainment/Sports  \n",
       "86                                                                   Entrepreneur  \n",
       "87                                                               Entrepreneurship  \n",
       "88                                                                 Epidemiologist  \n",
       "89                                    Exec. Director of social service non-profit  \n",
       "90                                                                           Film  \n",
       "91                                                                Film/Television  \n",
       "92                                                                      Filmmaker  \n",
       "93                                                                        Finance  \n",
       "94                                                                Finance Related  \n",
       "95                                                              Finance/Economics  \n",
       "96  Financial Mathematics-Investment Bank or Hedge Fund-Derivatives Quant Analyst  \n",
       "97                                                             Financial Services  \n",
       "98                                                   Fixed Income Sales & Trading  \n",
       "99                                                                Foreign Service  "
      ]
     },
     "execution_count": 34,
     "metadata": {},
     "output_type": "execute_result"
    }
   ],
   "source": [
    "create_table_unique_sorted_columns(df, cols_categorical)"
   ]
  },
  {
   "cell_type": "markdown",
   "id": "f5da5a18-33d8-4525-a49c-a08d321a7f9a",
   "metadata": {
    "deletable": true,
    "editable": true,
    "frozen": false
   },
   "source": [
    " The features contain numerous variations and near-duplicates of similar strings. Standardizing these values would enhance consistency and clarity. But first we need to fill the holes:"
   ]
  },
  {
   "cell_type": "code",
   "execution_count": 35,
   "id": "824ebc4b-637a-485a-b912-689691a735cd",
   "metadata": {
    "deletable": true,
    "editable": true,
    "frozen": false
   },
   "outputs": [
    {
     "data": {
      "text/plain": [
       "field          0\n",
       "undergra    3334\n",
       "from           0\n",
       "career        10\n",
       "dtype: int64"
      ]
     },
     "execution_count": 35,
     "metadata": {},
     "output_type": "execute_result"
    }
   ],
   "source": [
    "df[cols_categorical].isna().sum()"
   ]
  },
  {
   "cell_type": "code",
   "execution_count": 36,
   "id": "d193713a-e99a-43a4-b0b5-540f37f250cb",
   "metadata": {
    "deletable": true,
    "editable": true,
    "frozen": false
   },
   "outputs": [],
   "source": [
    "df[cols_categorical] = df[cols_categorical].fillna(\"unknown\")\n",
    "df[cols_categorical] = df[cols_categorical].replace(\"?\", \"unknown\")\n",
    "df[cols_categorical] = df[cols_categorical].replace(\"??\", \"unknown\")"
   ]
  },
  {
   "cell_type": "markdown",
   "id": "7a3792ba-4746-4d10-a914-5b3416d322e3",
   "metadata": {
    "deletable": true,
    "editable": true,
    "frozen": false
   },
   "source": [
    "### Decide which categorical features to clean"
   ]
  },
  {
   "cell_type": "code",
   "execution_count": 37,
   "id": "e04fecd3-d572-472c-a731-8c0cb1426a7c",
   "metadata": {
    "deletable": true,
    "editable": true,
    "frozen": false
   },
   "outputs": [
    {
     "data": {
      "text/plain": [
       "field          0\n",
       "undergra    3334\n",
       "from           0\n",
       "career        61\n",
       "dtype: int64"
      ]
     },
     "execution_count": 37,
     "metadata": {},
     "output_type": "execute_result"
    }
   ],
   "source": [
    "df[cols_categorical].apply(lambda x: (x == 'unknown').sum())"
   ]
  },
  {
   "cell_type": "markdown",
   "id": "b6163637-dfc3-4301-bd43-806470790647",
   "metadata": {
    "deletable": true,
    "editable": true,
    "frozen": false
   },
   "source": [
    "It appears that the column _career_ has a relatively small number of missing values. In contrast, _undergra_ has a significant number of missing values, making it a good candidate for removal. However, this column contains valuable information—not only about where a person studied but also potentially about their place of origin (assuming most people attend undergraduate institutions near their hometown).\n",
    "\n",
    "This information can be leveraged to enhance the _from_ column when data is missing. For instance, if _from_ is missing, the university name in _undergra_ might include a geographic clue, such as \"University of Michigan.\"\n",
    "\n",
    "Thus, we will keep the _undergra_ column to make it useful for feature engineering. However, it will not be directly included in the model's training process."
   ]
  },
  {
   "cell_type": "markdown",
   "id": "6ee6a87f-9975-47f9-81ef-160cb8ab39b2",
   "metadata": {
    "deletable": true,
    "editable": true,
    "frozen": false
   },
   "source": [
    "### Field of study"
   ]
  },
  {
   "cell_type": "markdown",
   "id": "546869f0-b63f-42e3-831a-322ebc902e42",
   "metadata": {
    "deletable": true,
    "editable": true,
    "frozen": false
   },
   "source": [
    "This feature indicates the participants' field of study."
   ]
  },
  {
   "cell_type": "markdown",
   "id": "196cbed1-6e79-4db1-aab1-2785ff4cfe77",
   "metadata": {
    "deletable": true,
    "editable": true,
    "frozen": false
   },
   "source": [
    "Function `clean_field_of_study` [defined in src/clean_origin_columns.py](src/clean_origin_columns.py) standardizes academic field entries by:\n",
    "* Converting text to lowercase\n",
    "* Removing text after separators (-, /, etc.)\n",
    "* Mapping related terms to consistent categories (e.g., \"cardiologist\" → \"medicine\", \"physician\"  → \"medicine\")\n",
    "* Removing degree-related phrases (\"master of\", etc.)"
   ]
  },
  {
   "cell_type": "code",
   "execution_count": 38,
   "id": "c6df085b-c0fb-4139-ade1-a8d2c62fe472",
   "metadata": {
    "deletable": true,
    "editable": true,
    "frozen": false
   },
   "outputs": [],
   "source": [
    "df = clean_field_of_study(df, 'field')"
   ]
  },
  {
   "cell_type": "markdown",
   "id": "b19922ff-8138-42cb-8370-bc2bf9da2fae",
   "metadata": {
    "deletable": true,
    "editable": true,
    "frozen": false
   },
   "source": [
    "### Where is the participant from"
   ]
  },
  {
   "cell_type": "markdown",
   "id": "a813a80c-da72-4da8-8d34-594ff358db89",
   "metadata": {
    "deletable": true,
    "editable": true,
    "frozen": false
   },
   "source": [
    "This function, `clean_location`, [defined in src/clean_origin_columns.py](src/clean_origin_columns.py):\n",
    "\n",
    "1. Defines mappings for U.S. states, countries with common aliases, and specific cities to states.\n",
    "2. Includes a set of predefined replacements for common location variations.\n",
    "3. Normalizes location strings by trimming, lowercasing, and mapping them to their standardized form (e.g., city or country).\n",
    "4. Extracts and separates the location into two new columns: `city` and `state_or_country`.\n",
    "5. Handles edge cases like combined locations (e.g., \"California/USA\") and uses city-to-state mappings or undergraduate data to infer missing locations.\n",
    "\n",
    "The function ultimately returns a DataFrame with cleaned and separated location data."
   ]
  },
  {
   "cell_type": "code",
   "execution_count": 39,
   "id": "b11b2231-4633-4bf3-b15d-c47dfd8a2dfe",
   "metadata": {
    "deletable": true,
    "editable": true,
    "frozen": false
   },
   "outputs": [],
   "source": [
    "df = clean_location(df)"
   ]
  },
  {
   "cell_type": "markdown",
   "id": "5c3a7b27-f08a-4ab7-b6ca-8bea389a75a7",
   "metadata": {
    "deletable": true,
    "editable": true,
    "frozen": false
   },
   "source": [
    "### Participant's career"
   ]
  },
  {
   "cell_type": "markdown",
   "id": "e4e653e8-021d-408c-97c8-6b6ee4f82304",
   "metadata": {
    "deletable": true,
    "editable": true,
    "frozen": false
   },
   "source": [
    "We can use the same function as for cleaning the _field_ feature."
   ]
  },
  {
   "cell_type": "code",
   "execution_count": 40,
   "id": "6bbccd0f-522a-4fa2-957c-4df3f18315eb",
   "metadata": {
    "deletable": true,
    "editable": true,
    "frozen": false
   },
   "outputs": [],
   "source": [
    "df = clean_field_of_study(df, \"career\")"
   ]
  },
  {
   "cell_type": "markdown",
   "id": "46818445-39f8-4568-9dca-932194598ece",
   "metadata": {
    "deletable": true,
    "editable": true,
    "frozen": false
   },
   "source": [
    "### Final look at the cleaned categorical columns, including the new columns _city_ and _state_or_country_"
   ]
  },
  {
   "cell_type": "markdown",
   "id": "f96918c8-8ae5-4273-a620-bfe54952defc",
   "metadata": {
    "deletable": true,
    "editable": true,
    "frozen": false
   },
   "source": [
    "<div style=\"background-color:moccasin\">\n",
    "    \n",
    "⚠️ We still need to keep in mind that this is not a dataframe but a side-by-side display of sorted columns."
   ]
  },
  {
   "cell_type": "code",
   "execution_count": 41,
   "id": "75a548f5-3bf1-4f16-a41a-fe829c5ae87e",
   "metadata": {
    "deletable": true,
    "editable": true,
    "frozen": false
   },
   "outputs": [
    {
     "data": {
      "text/html": [
       "<div>\n",
       "<style scoped>\n",
       "    .dataframe tbody tr th:only-of-type {\n",
       "        vertical-align: middle;\n",
       "    }\n",
       "\n",
       "    .dataframe tbody tr th {\n",
       "        vertical-align: top;\n",
       "    }\n",
       "\n",
       "    .dataframe thead th {\n",
       "        text-align: right;\n",
       "    }\n",
       "</style>\n",
       "<table border=\"1\" class=\"dataframe\">\n",
       "  <thead>\n",
       "    <tr style=\"text-align: right;\">\n",
       "      <th></th>\n",
       "      <th>city</th>\n",
       "      <th>state_or_country</th>\n",
       "      <th>field</th>\n",
       "      <th>undergra</th>\n",
       "      <th>career</th>\n",
       "    </tr>\n",
       "  </thead>\n",
       "  <tbody>\n",
       "    <tr>\n",
       "      <th>0</th>\n",
       "      <td>Akron, Oh</td>\n",
       "      <td>Alabama</td>\n",
       "      <td>acting</td>\n",
       "      <td>American University</td>\n",
       "      <td>acadeic</td>\n",
       "    </tr>\n",
       "    <tr>\n",
       "      <th>1</th>\n",
       "      <td>Albuquerque</td>\n",
       "      <td>Albania</td>\n",
       "      <td>african</td>\n",
       "      <td>Amherst College</td>\n",
       "      <td>academics</td>\n",
       "    </tr>\n",
       "    <tr>\n",
       "      <th>2</th>\n",
       "      <td>Ann Arbor</td>\n",
       "      <td>Argentina</td>\n",
       "      <td>american studies</td>\n",
       "      <td>Arizona State</td>\n",
       "      <td>acting</td>\n",
       "    </tr>\n",
       "    <tr>\n",
       "      <th>3</th>\n",
       "      <td>Asia</td>\n",
       "      <td>Arizona</td>\n",
       "      <td>anthropology</td>\n",
       "      <td>Ateneo de Manila University - Philippines</td>\n",
       "      <td>actress</td>\n",
       "    </tr>\n",
       "    <tr>\n",
       "      <th>4</th>\n",
       "      <td>Atlanta</td>\n",
       "      <td>Australia</td>\n",
       "      <td>applied physiology</td>\n",
       "      <td>Augustana College</td>\n",
       "      <td>architecture and design</td>\n",
       "    </tr>\n",
       "    <tr>\n",
       "      <th>5</th>\n",
       "      <td>Austin</td>\n",
       "      <td>Azerbaijan</td>\n",
       "      <td>architecture</td>\n",
       "      <td>Barnard College</td>\n",
       "      <td>art</td>\n",
       "    </tr>\n",
       "    <tr>\n",
       "      <th>6</th>\n",
       "      <td>Baltimore</td>\n",
       "      <td>Bangladesh</td>\n",
       "      <td>art</td>\n",
       "      <td>Beijing University</td>\n",
       "      <td>assistant the universe</td>\n",
       "    </tr>\n",
       "    <tr>\n",
       "      <th>7</th>\n",
       "      <td>Beijing</td>\n",
       "      <td>Belgium</td>\n",
       "      <td>business</td>\n",
       "      <td>Bennington College</td>\n",
       "      <td>banking</td>\n",
       "    </tr>\n",
       "    <tr>\n",
       "      <th>8</th>\n",
       "      <td>Berkeley</td>\n",
       "      <td>Brazil</td>\n",
       "      <td>classics</td>\n",
       "      <td>Berklee College Of Music</td>\n",
       "      <td>boxing champ</td>\n",
       "    </tr>\n",
       "    <tr>\n",
       "      <th>9</th>\n",
       "      <td>Bogota</td>\n",
       "      <td>Bulgaria</td>\n",
       "      <td>climate</td>\n",
       "      <td>Binghamton University</td>\n",
       "      <td>business</td>\n",
       "    </tr>\n",
       "    <tr>\n",
       "      <th>10</th>\n",
       "      <td>Bombay</td>\n",
       "      <td>California</td>\n",
       "      <td>communications</td>\n",
       "      <td>Biological Sciences</td>\n",
       "      <td>capital markets</td>\n",
       "    </tr>\n",
       "    <tr>\n",
       "      <th>11</th>\n",
       "      <td>Born In Montana</td>\n",
       "      <td>Cameroon</td>\n",
       "      <td>consulting</td>\n",
       "      <td>Bocconi University Milan</td>\n",
       "      <td>ceo</td>\n",
       "    </tr>\n",
       "    <tr>\n",
       "      <th>12</th>\n",
       "      <td>Boston</td>\n",
       "      <td>Canada</td>\n",
       "      <td>ecology</td>\n",
       "      <td>Bombay, India</td>\n",
       "      <td>child rights</td>\n",
       "    </tr>\n",
       "    <tr>\n",
       "      <th>13</th>\n",
       "      <td>Boulder</td>\n",
       "      <td>Chile</td>\n",
       "      <td>economics</td>\n",
       "      <td>Boston College</td>\n",
       "      <td>clidren's tv</td>\n",
       "    </tr>\n",
       "    <tr>\n",
       "      <th>14</th>\n",
       "      <td>Brandeis University</td>\n",
       "      <td>China</td>\n",
       "      <td>education</td>\n",
       "      <td>Bowdoin College</td>\n",
       "      <td>comedienne</td>\n",
       "    </tr>\n",
       "    <tr>\n",
       "      <th>15</th>\n",
       "      <td>Bronx</td>\n",
       "      <td>Colombia</td>\n",
       "      <td>elementary</td>\n",
       "      <td>Brandeis University</td>\n",
       "      <td>congresswoman</td>\n",
       "    </tr>\n",
       "    <tr>\n",
       "      <th>16</th>\n",
       "      <td>Brooklyn</td>\n",
       "      <td>Colorado</td>\n",
       "      <td>engineering</td>\n",
       "      <td>Brown</td>\n",
       "      <td>consulting</td>\n",
       "    </tr>\n",
       "    <tr>\n",
       "      <th>17</th>\n",
       "      <td>Budapest</td>\n",
       "      <td>Connecticut</td>\n",
       "      <td>english</td>\n",
       "      <td>Brown University</td>\n",
       "      <td>counseling adolescents</td>\n",
       "    </tr>\n",
       "    <tr>\n",
       "      <th>18</th>\n",
       "      <td>Buffalo</td>\n",
       "      <td>Costa Rica</td>\n",
       "      <td>epidemiology</td>\n",
       "      <td>Bucharest University</td>\n",
       "      <td>country analysis</td>\n",
       "    </tr>\n",
       "    <tr>\n",
       "      <th>19</th>\n",
       "      <td>Burlington</td>\n",
       "      <td>Czech Republic</td>\n",
       "      <td>film</td>\n",
       "      <td>Bucknell University</td>\n",
       "      <td>curriculum developer</td>\n",
       "    </tr>\n",
       "    <tr>\n",
       "      <th>20</th>\n",
       "      <td>California At Santa Cruz</td>\n",
       "      <td>Delaware</td>\n",
       "      <td>finance</td>\n",
       "      <td>COOPER UNION</td>\n",
       "      <td>development work</td>\n",
       "    </tr>\n",
       "    <tr>\n",
       "      <th>21</th>\n",
       "      <td>Cambridge</td>\n",
       "      <td>Florida</td>\n",
       "      <td>french</td>\n",
       "      <td>CSUN</td>\n",
       "      <td>development work on field in the middle of nowhere</td>\n",
       "    </tr>\n",
       "    <tr>\n",
       "      <th>22</th>\n",
       "      <td>Cherry Hill</td>\n",
       "      <td>France</td>\n",
       "      <td>genetics</td>\n",
       "      <td>Cagliari - Italy</td>\n",
       "      <td>dietician</td>\n",
       "    </tr>\n",
       "    <tr>\n",
       "      <th>23</th>\n",
       "      <td>Chicago</td>\n",
       "      <td>Georgia</td>\n",
       "      <td>gs postbacc premed</td>\n",
       "      <td>Cal Berkeley</td>\n",
       "      <td>diplomat</td>\n",
       "    </tr>\n",
       "    <tr>\n",
       "      <th>24</th>\n",
       "      <td>Cincinnati</td>\n",
       "      <td>Germany</td>\n",
       "      <td>gsas</td>\n",
       "      <td>Cal State Univ., Long Beach</td>\n",
       "      <td>director of admissions</td>\n",
       "    </tr>\n",
       "    <tr>\n",
       "      <th>25</th>\n",
       "      <td>Cleveland</td>\n",
       "      <td>Greece</td>\n",
       "      <td>health</td>\n",
       "      <td>California State University Los Angeles</td>\n",
       "      <td>director of training and development</td>\n",
       "    </tr>\n",
       "    <tr>\n",
       "      <th>26</th>\n",
       "      <td>Cologne, Germany</td>\n",
       "      <td>Hawaii</td>\n",
       "      <td>higher ed.</td>\n",
       "      <td>Cambridge University</td>\n",
       "      <td>early childhood ed.</td>\n",
       "    </tr>\n",
       "    <tr>\n",
       "      <th>27</th>\n",
       "      <td>Dallas</td>\n",
       "      <td>Hong Kong</td>\n",
       "      <td>history</td>\n",
       "      <td>Case Western Reserve University</td>\n",
       "      <td>economics</td>\n",
       "    </tr>\n",
       "    <tr>\n",
       "      <th>28</th>\n",
       "      <td>Delhi</td>\n",
       "      <td>Iceland</td>\n",
       "      <td>human rights</td>\n",
       "      <td>China</td>\n",
       "      <td>education</td>\n",
       "    </tr>\n",
       "    <tr>\n",
       "      <th>29</th>\n",
       "      <td>Detroit</td>\n",
       "      <td>Illinois</td>\n",
       "      <td>instructional media and technology</td>\n",
       "      <td>ChungShenMedicalUniversity(Taiwan)</td>\n",
       "      <td>energy</td>\n",
       "    </tr>\n",
       "    <tr>\n",
       "      <th>30</th>\n",
       "      <td>Erie</td>\n",
       "      <td>India</td>\n",
       "      <td>instructional tech</td>\n",
       "      <td>Colgate University</td>\n",
       "      <td>engineering</td>\n",
       "    </tr>\n",
       "    <tr>\n",
       "      <th>31</th>\n",
       "      <td>Europe</td>\n",
       "      <td>Indiana</td>\n",
       "      <td>international affairs</td>\n",
       "      <td>Colorado State</td>\n",
       "      <td>enterpreneur</td>\n",
       "    </tr>\n",
       "    <tr>\n",
       "      <th>32</th>\n",
       "      <td>Genova</td>\n",
       "      <td>Indonesia</td>\n",
       "      <td>international development</td>\n",
       "      <td>Columbia</td>\n",
       "      <td>entertainment</td>\n",
       "    </tr>\n",
       "    <tr>\n",
       "      <th>33</th>\n",
       "      <td>Great Neck</td>\n",
       "      <td>Iowa</td>\n",
       "      <td>international politics</td>\n",
       "      <td>Columbia Business School</td>\n",
       "      <td>entrepreneurship</td>\n",
       "    </tr>\n",
       "    <tr>\n",
       "      <th>34</th>\n",
       "      <td>Greenwich</td>\n",
       "      <td>Iran</td>\n",
       "      <td>international relations</td>\n",
       "      <td>Columbia College</td>\n",
       "      <td>film</td>\n",
       "    </tr>\n",
       "    <tr>\n",
       "      <th>35</th>\n",
       "      <td>Hastings-on-hudson</td>\n",
       "      <td>Israel</td>\n",
       "      <td>international security policy</td>\n",
       "      <td>Columbia College, CU</td>\n",
       "      <td>finance</td>\n",
       "    </tr>\n",
       "    <tr>\n",
       "      <th>36</th>\n",
       "      <td>Heidelberg</td>\n",
       "      <td>Italy</td>\n",
       "      <td>intrernational affairs</td>\n",
       "      <td>Columbia University</td>\n",
       "      <td>fixed income sales</td>\n",
       "    </tr>\n",
       "    <tr>\n",
       "      <th>37</th>\n",
       "      <td>Houston</td>\n",
       "      <td>Japan</td>\n",
       "      <td>journalism</td>\n",
       "      <td>ColumbiaU</td>\n",
       "      <td>foreign service</td>\n",
       "    </tr>\n",
       "    <tr>\n",
       "      <th>38</th>\n",
       "      <td>India And Nj</td>\n",
       "      <td>Kansas</td>\n",
       "      <td>law</td>\n",
       "      <td>Connecticut College</td>\n",
       "      <td>fundraising for non</td>\n",
       "    </tr>\n",
       "    <tr>\n",
       "      <th>39</th>\n",
       "      <td>Kansas City</td>\n",
       "      <td>Louisiana</td>\n",
       "      <td>ma in quantitative methods</td>\n",
       "      <td>Conneticut College</td>\n",
       "      <td>governor</td>\n",
       "    </tr>\n",
       "    <tr>\n",
       "      <th>40</th>\n",
       "      <td>Karlsruhe</td>\n",
       "      <td>Malaysia</td>\n",
       "      <td>management</td>\n",
       "      <td>Cooper Union, Bard college, and SUNY Purchase</td>\n",
       "      <td>health</td>\n",
       "    </tr>\n",
       "    <tr>\n",
       "      <th>41</th>\n",
       "      <td>Katonah</td>\n",
       "      <td>Maryland</td>\n",
       "      <td>marketing</td>\n",
       "      <td>Cornell</td>\n",
       "      <td>hero</td>\n",
       "    </tr>\n",
       "    <tr>\n",
       "      <th>42</th>\n",
       "      <td>Las Vegas</td>\n",
       "      <td>Massachusetts</td>\n",
       "      <td>mathematics</td>\n",
       "      <td>Cornell University</td>\n",
       "      <td>history</td>\n",
       "    </tr>\n",
       "    <tr>\n",
       "      <th>43</th>\n",
       "      <td>Lexington</td>\n",
       "      <td>Mexico</td>\n",
       "      <td>mba</td>\n",
       "      <td>Dartmouth College</td>\n",
       "      <td>humanitarian affairs</td>\n",
       "    </tr>\n",
       "    <tr>\n",
       "      <th>44</th>\n",
       "      <td>London</td>\n",
       "      <td>Michigan</td>\n",
       "      <td>medicine</td>\n",
       "      <td>Delhi University</td>\n",
       "      <td>industry cto</td>\n",
       "    </tr>\n",
       "    <tr>\n",
       "      <th>45</th>\n",
       "      <td>Long Island</td>\n",
       "      <td>Minnesota</td>\n",
       "      <td>mfa</td>\n",
       "      <td>Duquesne University</td>\n",
       "      <td>informatics</td>\n",
       "    </tr>\n",
       "    <tr>\n",
       "      <th>46</th>\n",
       "      <td>Los Angeles</td>\n",
       "      <td>Missouri</td>\n",
       "      <td>money</td>\n",
       "      <td>Ecole Normale Suprieure, Paris</td>\n",
       "      <td>international affairs related career</td>\n",
       "    </tr>\n",
       "    <tr>\n",
       "      <th>47</th>\n",
       "      <td>Manhattan</td>\n",
       "      <td>Nebraska</td>\n",
       "      <td>museum anthropology</td>\n",
       "      <td>Ecole Polytechnique (France)</td>\n",
       "      <td>international development</td>\n",
       "    </tr>\n",
       "    <tr>\n",
       "      <th>48</th>\n",
       "      <td>Manila</td>\n",
       "      <td>Nepal</td>\n",
       "      <td>nutrition</td>\n",
       "      <td>Ecole Superieure d'Electricite</td>\n",
       "      <td>international development work</td>\n",
       "    </tr>\n",
       "    <tr>\n",
       "      <th>49</th>\n",
       "      <td>Memphis</td>\n",
       "      <td>Nevada</td>\n",
       "      <td>philosophy</td>\n",
       "      <td>Emory University</td>\n",
       "      <td>intl development</td>\n",
       "    </tr>\n",
       "    <tr>\n",
       "      <th>50</th>\n",
       "      <td>Miami</td>\n",
       "      <td>New Jersey</td>\n",
       "      <td>polish</td>\n",
       "      <td>Engineering</td>\n",
       "      <td>investment</td>\n",
       "    </tr>\n",
       "    <tr>\n",
       "      <th>51</th>\n",
       "      <td>Milan</td>\n",
       "      <td>New Mexico</td>\n",
       "      <td>psychology</td>\n",
       "      <td>Florida International University</td>\n",
       "      <td>journalism</td>\n",
       "    </tr>\n",
       "    <tr>\n",
       "      <th>52</th>\n",
       "      <td>Milano</td>\n",
       "      <td>New York</td>\n",
       "      <td>public administration</td>\n",
       "      <td>Fordham University</td>\n",
       "      <td>law</td>\n",
       "    </tr>\n",
       "    <tr>\n",
       "      <th>53</th>\n",
       "      <td>Milwaukee</td>\n",
       "      <td>North Carolina</td>\n",
       "      <td>public policy</td>\n",
       "      <td>Fu Jen Catholic University, Taiwan</td>\n",
       "      <td>literacy organization head</td>\n",
       "    </tr>\n",
       "    <tr>\n",
       "      <th>54</th>\n",
       "      <td>Minneapolis</td>\n",
       "      <td>Ohio</td>\n",
       "      <td>qmss</td>\n",
       "      <td>Fudan</td>\n",
       "      <td>lobbyist</td>\n",
       "    </tr>\n",
       "    <tr>\n",
       "      <th>55</th>\n",
       "      <td>Nashville</td>\n",
       "      <td>Oregon</td>\n",
       "      <td>religion</td>\n",
       "      <td>Fudan University, Shanghai, China</td>\n",
       "      <td>m</td>\n",
       "    </tr>\n",
       "    <tr>\n",
       "      <th>56</th>\n",
       "      <td>New Delhi</td>\n",
       "      <td>Panama</td>\n",
       "      <td>research</td>\n",
       "      <td>GA Tech</td>\n",
       "      <td>make money</td>\n",
       "    </tr>\n",
       "    <tr>\n",
       "      <th>57</th>\n",
       "      <td>New Hope</td>\n",
       "      <td>Pennsylvania</td>\n",
       "      <td>science</td>\n",
       "      <td>GW</td>\n",
       "      <td>management</td>\n",
       "    </tr>\n",
       "    <tr>\n",
       "      <th>58</th>\n",
       "      <td>New York Area</td>\n",
       "      <td>Philippines</td>\n",
       "      <td>sipa</td>\n",
       "      <td>George Mason University</td>\n",
       "      <td>marketing</td>\n",
       "    </tr>\n",
       "    <tr>\n",
       "      <th>59</th>\n",
       "      <td>New York City</td>\n",
       "      <td>Poland</td>\n",
       "      <td>soa</td>\n",
       "      <td>George Washington University</td>\n",
       "      <td>mathematics</td>\n",
       "    </tr>\n",
       "    <tr>\n",
       "      <th>60</th>\n",
       "      <td>Northern New Jersey</td>\n",
       "      <td>Puerto Rico</td>\n",
       "      <td>social</td>\n",
       "      <td>Georgetown</td>\n",
       "      <td>mba</td>\n",
       "    </tr>\n",
       "    <tr>\n",
       "      <th>61</th>\n",
       "      <td>Ottawa</td>\n",
       "      <td>Romania</td>\n",
       "      <td>sociology</td>\n",
       "      <td>Georgetown University</td>\n",
       "      <td>medicine</td>\n",
       "    </tr>\n",
       "    <tr>\n",
       "      <th>62</th>\n",
       "      <td>Palm Springs</td>\n",
       "      <td>Russia</td>\n",
       "      <td>speech</td>\n",
       "      <td>HEC FRance</td>\n",
       "      <td>millionaire</td>\n",
       "    </tr>\n",
       "    <tr>\n",
       "      <th>63</th>\n",
       "      <td>Palo Alto</td>\n",
       "      <td>Singapore</td>\n",
       "      <td>statistics</td>\n",
       "      <td>HOWARD UNIVERSITY</td>\n",
       "      <td>museum work</td>\n",
       "    </tr>\n",
       "    <tr>\n",
       "      <th>64</th>\n",
       "      <td>Paris</td>\n",
       "      <td>South Carolina</td>\n",
       "      <td>stats</td>\n",
       "      <td>Hamilton College</td>\n",
       "      <td>music</td>\n",
       "    </tr>\n",
       "    <tr>\n",
       "      <th>65</th>\n",
       "      <td>Philadelphia</td>\n",
       "      <td>South Korea</td>\n",
       "      <td>tc</td>\n",
       "      <td>Hampshire College</td>\n",
       "      <td>naturalist</td>\n",
       "    </tr>\n",
       "    <tr>\n",
       "      <th>66</th>\n",
       "      <td>Pittsburgh</td>\n",
       "      <td>Spain</td>\n",
       "      <td>tesol</td>\n",
       "      <td>Harbin Medical University, China</td>\n",
       "      <td>nonprofit</td>\n",
       "    </tr>\n",
       "    <tr>\n",
       "      <th>67</th>\n",
       "      <td>Portland</td>\n",
       "      <td>Sweden</td>\n",
       "      <td>theater</td>\n",
       "      <td>Harcourt Butler Technological Institute</td>\n",
       "      <td>novelist</td>\n",
       "    </tr>\n",
       "    <tr>\n",
       "      <th>68</th>\n",
       "      <td>Pougkeepsie</td>\n",
       "      <td>Switzerland</td>\n",
       "      <td>theory</td>\n",
       "      <td>Harvard</td>\n",
       "      <td>nutrition</td>\n",
       "    </tr>\n",
       "    <tr>\n",
       "      <th>69</th>\n",
       "      <td>Queens</td>\n",
       "      <td>Taiwan</td>\n",
       "      <td>undergrad</td>\n",
       "      <td>Harvard College</td>\n",
       "      <td>pediatrics</td>\n",
       "    </tr>\n",
       "    <tr>\n",
       "      <th>70</th>\n",
       "      <td>Reading, England</td>\n",
       "      <td>Tennessee</td>\n",
       "      <td>urban planning</td>\n",
       "      <td>Harvard University</td>\n",
       "      <td>pharmaceuticals</td>\n",
       "    </tr>\n",
       "    <tr>\n",
       "      <th>71</th>\n",
       "      <td>Rochester</td>\n",
       "      <td>Texas</td>\n",
       "      <td>working</td>\n",
       "      <td>Harvey Mudd College (Physics)</td>\n",
       "      <td>physicist</td>\n",
       "    </tr>\n",
       "    <tr>\n",
       "      <th>72</th>\n",
       "      <td>Salt Lake City</td>\n",
       "      <td>UK</td>\n",
       "      <td>writing</td>\n",
       "      <td>Hebrew University</td>\n",
       "      <td>planning</td>\n",
       "    </tr>\n",
       "    <tr>\n",
       "      <th>73</th>\n",
       "      <td>San Diego</td>\n",
       "      <td>Uk</td>\n",
       "      <td>&lt;NA&gt;</td>\n",
       "      <td>Holy Cross</td>\n",
       "      <td>political development in africa</td>\n",
       "    </tr>\n",
       "    <tr>\n",
       "      <th>74</th>\n",
       "      <td>San Francisco</td>\n",
       "      <td>Unknown</td>\n",
       "      <td>&lt;NA&gt;</td>\n",
       "      <td>Holy Cross College</td>\n",
       "      <td>politics</td>\n",
       "    </tr>\n",
       "    <tr>\n",
       "      <th>75</th>\n",
       "      <td>Santa Barbara</td>\n",
       "      <td>Uruguay</td>\n",
       "      <td>&lt;NA&gt;</td>\n",
       "      <td>Illinois</td>\n",
       "      <td>porn star</td>\n",
       "    </tr>\n",
       "    <tr>\n",
       "      <th>76</th>\n",
       "      <td>Saratoga</td>\n",
       "      <td>Usa</td>\n",
       "      <td>&lt;NA&gt;</td>\n",
       "      <td>Jesus and Mary College,Delhi</td>\n",
       "      <td>president</td>\n",
       "    </tr>\n",
       "    <tr>\n",
       "      <th>77</th>\n",
       "      <td>Seattle</td>\n",
       "      <td>Utah</td>\n",
       "      <td>&lt;NA&gt;</td>\n",
       "      <td>John Hopkins</td>\n",
       "      <td>private practice dietician</td>\n",
       "    </tr>\n",
       "    <tr>\n",
       "      <th>78</th>\n",
       "      <td>Sf Bay Area</td>\n",
       "      <td>Uzbekistan</td>\n",
       "      <td>&lt;NA&gt;</td>\n",
       "      <td>Kettering University / GMI</td>\n",
       "      <td>pro beach volleyball</td>\n",
       "    </tr>\n",
       "    <tr>\n",
       "      <th>79</th>\n",
       "      <td>Shanghai</td>\n",
       "      <td>Vermont</td>\n",
       "      <td>&lt;NA&gt;</td>\n",
       "      <td>Kunitachi College of Music (in Japan)</td>\n",
       "      <td>producer at a non</td>\n",
       "    </tr>\n",
       "    <tr>\n",
       "      <th>80</th>\n",
       "      <td>Siberia</td>\n",
       "      <td>Virginia</td>\n",
       "      <td>&lt;NA&gt;</td>\n",
       "      <td>LUISS, Rome</td>\n",
       "      <td>professional career</td>\n",
       "    </tr>\n",
       "    <tr>\n",
       "      <th>81</th>\n",
       "      <td>Silver Spring</td>\n",
       "      <td>Washington</td>\n",
       "      <td>&lt;NA&gt;</td>\n",
       "      <td>Lafayette College</td>\n",
       "      <td>professional student</td>\n",
       "    </tr>\n",
       "    <tr>\n",
       "      <th>82</th>\n",
       "      <td>Singapore</td>\n",
       "      <td>Wisconsin</td>\n",
       "      <td>&lt;NA&gt;</td>\n",
       "      <td>Loyola College</td>\n",
       "      <td>program development</td>\n",
       "    </tr>\n",
       "    <tr>\n",
       "      <th>83</th>\n",
       "      <td>Sofia</td>\n",
       "      <td>&lt;NA&gt;</td>\n",
       "      <td>&lt;NA&gt;</td>\n",
       "      <td>Loyola College in Maryland</td>\n",
       "      <td>psychology</td>\n",
       "    </tr>\n",
       "    <tr>\n",
       "      <th>84</th>\n",
       "      <td>South Orange</td>\n",
       "      <td>&lt;NA&gt;</td>\n",
       "      <td>&lt;NA&gt;</td>\n",
       "      <td>MIT</td>\n",
       "      <td>public school principal</td>\n",
       "    </tr>\n",
       "    <tr>\n",
       "      <th>85</th>\n",
       "      <td>St. Louis</td>\n",
       "      <td>&lt;NA&gt;</td>\n",
       "      <td>&lt;NA&gt;</td>\n",
       "      <td>MSU, Russia</td>\n",
       "      <td>public service</td>\n",
       "    </tr>\n",
       "    <tr>\n",
       "      <th>86</th>\n",
       "      <td>State College</td>\n",
       "      <td>&lt;NA&gt;</td>\n",
       "      <td>&lt;NA&gt;</td>\n",
       "      <td>Mary Baldwin College</td>\n",
       "      <td>real estate</td>\n",
       "    </tr>\n",
       "    <tr>\n",
       "      <th>87</th>\n",
       "      <td>Staten Island</td>\n",
       "      <td>&lt;NA&gt;</td>\n",
       "      <td>&lt;NA&gt;</td>\n",
       "      <td>McGill University</td>\n",
       "      <td>reorganizing society. no</td>\n",
       "    </tr>\n",
       "    <tr>\n",
       "      <th>88</th>\n",
       "      <td>Taipei</td>\n",
       "      <td>&lt;NA&gt;</td>\n",
       "      <td>&lt;NA&gt;</td>\n",
       "      <td>Miami University</td>\n",
       "      <td>research</td>\n",
       "    </tr>\n",
       "    <tr>\n",
       "      <th>89</th>\n",
       "      <td>The Philippines</td>\n",
       "      <td>&lt;NA&gt;</td>\n",
       "      <td>&lt;NA&gt;</td>\n",
       "      <td>Middlebury College</td>\n",
       "      <td>school counseling</td>\n",
       "    </tr>\n",
       "    <tr>\n",
       "      <th>90</th>\n",
       "      <td>Tokyo</td>\n",
       "      <td>&lt;NA&gt;</td>\n",
       "      <td>&lt;NA&gt;</td>\n",
       "      <td>Monash University - Australia</td>\n",
       "      <td>school leadership</td>\n",
       "    </tr>\n",
       "    <tr>\n",
       "      <th>91</th>\n",
       "      <td>Toronto</td>\n",
       "      <td>&lt;NA&gt;</td>\n",
       "      <td>&lt;NA&gt;</td>\n",
       "      <td>NUS</td>\n",
       "      <td>science</td>\n",
       "    </tr>\n",
       "    <tr>\n",
       "      <th>92</th>\n",
       "      <td>Torrance</td>\n",
       "      <td>&lt;NA&gt;</td>\n",
       "      <td>&lt;NA&gt;</td>\n",
       "      <td>NYU</td>\n",
       "      <td>security policy</td>\n",
       "    </tr>\n",
       "    <tr>\n",
       "      <th>93</th>\n",
       "      <td>Tuscaloosa</td>\n",
       "      <td>&lt;NA&gt;</td>\n",
       "      <td>&lt;NA&gt;</td>\n",
       "      <td>Naples, Italy</td>\n",
       "      <td>self</td>\n",
       "    </tr>\n",
       "    <tr>\n",
       "      <th>94</th>\n",
       "      <td>Uncc</td>\n",
       "      <td>&lt;NA&gt;</td>\n",
       "      <td>&lt;NA&gt;</td>\n",
       "      <td>National Taiwan University</td>\n",
       "      <td>sex therapist</td>\n",
       "    </tr>\n",
       "    <tr>\n",
       "      <th>95</th>\n",
       "      <td>Unknown</td>\n",
       "      <td>&lt;NA&gt;</td>\n",
       "      <td>&lt;NA&gt;</td>\n",
       "      <td>National University Of Singapore</td>\n",
       "      <td>social</td>\n",
       "    </tr>\n",
       "    <tr>\n",
       "      <th>96</th>\n",
       "      <td>Vestal</td>\n",
       "      <td>&lt;NA&gt;</td>\n",
       "      <td>&lt;NA&gt;</td>\n",
       "      <td>National University of Singapore</td>\n",
       "      <td>software engr</td>\n",
       "    </tr>\n",
       "    <tr>\n",
       "      <th>97</th>\n",
       "      <td>Wa</td>\n",
       "      <td>&lt;NA&gt;</td>\n",
       "      <td>&lt;NA&gt;</td>\n",
       "      <td>New York University</td>\n",
       "      <td>speech</td>\n",
       "    </tr>\n",
       "    <tr>\n",
       "      <th>98</th>\n",
       "      <td>Warsaw</td>\n",
       "      <td>&lt;NA&gt;</td>\n",
       "      <td>&lt;NA&gt;</td>\n",
       "      <td>Nirma Institute of Technology-India</td>\n",
       "      <td>tba</td>\n",
       "    </tr>\n",
       "    <tr>\n",
       "      <th>99</th>\n",
       "      <td>Westchester</td>\n",
       "      <td>&lt;NA&gt;</td>\n",
       "      <td>&lt;NA&gt;</td>\n",
       "      <td>Northwestern University</td>\n",
       "      <td>tech professional</td>\n",
       "    </tr>\n",
       "  </tbody>\n",
       "</table>\n",
       "</div>"
      ],
      "text/plain": [
       "                        city state_or_country  \\\n",
       "0                  Akron, Oh          Alabama   \n",
       "1                Albuquerque          Albania   \n",
       "2                  Ann Arbor        Argentina   \n",
       "3                       Asia          Arizona   \n",
       "4                    Atlanta        Australia   \n",
       "5                     Austin       Azerbaijan   \n",
       "6                  Baltimore       Bangladesh   \n",
       "7                    Beijing          Belgium   \n",
       "8                   Berkeley           Brazil   \n",
       "9                     Bogota         Bulgaria   \n",
       "10                    Bombay       California   \n",
       "11           Born In Montana         Cameroon   \n",
       "12                    Boston           Canada   \n",
       "13                   Boulder            Chile   \n",
       "14       Brandeis University            China   \n",
       "15                     Bronx         Colombia   \n",
       "16                  Brooklyn         Colorado   \n",
       "17                  Budapest      Connecticut   \n",
       "18                   Buffalo       Costa Rica   \n",
       "19                Burlington   Czech Republic   \n",
       "20  California At Santa Cruz         Delaware   \n",
       "21                 Cambridge          Florida   \n",
       "22               Cherry Hill           France   \n",
       "23                   Chicago          Georgia   \n",
       "24                Cincinnati          Germany   \n",
       "25                 Cleveland           Greece   \n",
       "26          Cologne, Germany           Hawaii   \n",
       "27                    Dallas        Hong Kong   \n",
       "28                     Delhi          Iceland   \n",
       "29                   Detroit         Illinois   \n",
       "30                      Erie            India   \n",
       "31                    Europe          Indiana   \n",
       "32                    Genova        Indonesia   \n",
       "33                Great Neck             Iowa   \n",
       "34                 Greenwich             Iran   \n",
       "35        Hastings-on-hudson           Israel   \n",
       "36                Heidelberg            Italy   \n",
       "37                   Houston            Japan   \n",
       "38              India And Nj           Kansas   \n",
       "39               Kansas City        Louisiana   \n",
       "40                 Karlsruhe         Malaysia   \n",
       "41                   Katonah         Maryland   \n",
       "42                 Las Vegas    Massachusetts   \n",
       "43                 Lexington           Mexico   \n",
       "44                    London         Michigan   \n",
       "45               Long Island        Minnesota   \n",
       "46               Los Angeles         Missouri   \n",
       "47                 Manhattan         Nebraska   \n",
       "48                    Manila            Nepal   \n",
       "49                   Memphis           Nevada   \n",
       "50                     Miami       New Jersey   \n",
       "51                     Milan       New Mexico   \n",
       "52                    Milano         New York   \n",
       "53                 Milwaukee   North Carolina   \n",
       "54               Minneapolis             Ohio   \n",
       "55                 Nashville           Oregon   \n",
       "56                 New Delhi           Panama   \n",
       "57                  New Hope     Pennsylvania   \n",
       "58             New York Area      Philippines   \n",
       "59             New York City           Poland   \n",
       "60       Northern New Jersey      Puerto Rico   \n",
       "61                    Ottawa          Romania   \n",
       "62              Palm Springs           Russia   \n",
       "63                 Palo Alto        Singapore   \n",
       "64                     Paris   South Carolina   \n",
       "65              Philadelphia      South Korea   \n",
       "66                Pittsburgh            Spain   \n",
       "67                  Portland           Sweden   \n",
       "68               Pougkeepsie      Switzerland   \n",
       "69                    Queens           Taiwan   \n",
       "70          Reading, England        Tennessee   \n",
       "71                 Rochester            Texas   \n",
       "72            Salt Lake City               UK   \n",
       "73                 San Diego               Uk   \n",
       "74             San Francisco          Unknown   \n",
       "75             Santa Barbara          Uruguay   \n",
       "76                  Saratoga              Usa   \n",
       "77                   Seattle             Utah   \n",
       "78               Sf Bay Area       Uzbekistan   \n",
       "79                  Shanghai          Vermont   \n",
       "80                   Siberia         Virginia   \n",
       "81             Silver Spring       Washington   \n",
       "82                 Singapore        Wisconsin   \n",
       "83                     Sofia             <NA>   \n",
       "84              South Orange             <NA>   \n",
       "85                 St. Louis             <NA>   \n",
       "86             State College             <NA>   \n",
       "87             Staten Island             <NA>   \n",
       "88                    Taipei             <NA>   \n",
       "89           The Philippines             <NA>   \n",
       "90                     Tokyo             <NA>   \n",
       "91                   Toronto             <NA>   \n",
       "92                  Torrance             <NA>   \n",
       "93                Tuscaloosa             <NA>   \n",
       "94                      Uncc             <NA>   \n",
       "95                   Unknown             <NA>   \n",
       "96                    Vestal             <NA>   \n",
       "97                        Wa             <NA>   \n",
       "98                    Warsaw             <NA>   \n",
       "99               Westchester             <NA>   \n",
       "\n",
       "                                 field  \\\n",
       "0                               acting   \n",
       "1                              african   \n",
       "2                     american studies   \n",
       "3                         anthropology   \n",
       "4                   applied physiology   \n",
       "5                         architecture   \n",
       "6                                  art   \n",
       "7                             business   \n",
       "8                             classics   \n",
       "9                              climate   \n",
       "10                      communications   \n",
       "11                          consulting   \n",
       "12                             ecology   \n",
       "13                           economics   \n",
       "14                           education   \n",
       "15                          elementary   \n",
       "16                         engineering   \n",
       "17                             english   \n",
       "18                        epidemiology   \n",
       "19                                film   \n",
       "20                             finance   \n",
       "21                              french   \n",
       "22                            genetics   \n",
       "23                  gs postbacc premed   \n",
       "24                                gsas   \n",
       "25                              health   \n",
       "26                          higher ed.   \n",
       "27                             history   \n",
       "28                        human rights   \n",
       "29  instructional media and technology   \n",
       "30                  instructional tech   \n",
       "31               international affairs   \n",
       "32           international development   \n",
       "33              international politics   \n",
       "34             international relations   \n",
       "35       international security policy   \n",
       "36              intrernational affairs   \n",
       "37                          journalism   \n",
       "38                                 law   \n",
       "39          ma in quantitative methods   \n",
       "40                          management   \n",
       "41                           marketing   \n",
       "42                         mathematics   \n",
       "43                                 mba   \n",
       "44                            medicine   \n",
       "45                                 mfa   \n",
       "46                               money   \n",
       "47                 museum anthropology   \n",
       "48                           nutrition   \n",
       "49                          philosophy   \n",
       "50                              polish   \n",
       "51                          psychology   \n",
       "52               public administration   \n",
       "53                       public policy   \n",
       "54                                qmss   \n",
       "55                            religion   \n",
       "56                            research   \n",
       "57                             science   \n",
       "58                                sipa   \n",
       "59                                 soa   \n",
       "60                              social   \n",
       "61                           sociology   \n",
       "62                              speech   \n",
       "63                          statistics   \n",
       "64                               stats   \n",
       "65                                  tc   \n",
       "66                               tesol   \n",
       "67                             theater   \n",
       "68                              theory   \n",
       "69                           undergrad   \n",
       "70                      urban planning   \n",
       "71                             working   \n",
       "72                             writing   \n",
       "73                                <NA>   \n",
       "74                                <NA>   \n",
       "75                                <NA>   \n",
       "76                                <NA>   \n",
       "77                                <NA>   \n",
       "78                                <NA>   \n",
       "79                                <NA>   \n",
       "80                                <NA>   \n",
       "81                                <NA>   \n",
       "82                                <NA>   \n",
       "83                                <NA>   \n",
       "84                                <NA>   \n",
       "85                                <NA>   \n",
       "86                                <NA>   \n",
       "87                                <NA>   \n",
       "88                                <NA>   \n",
       "89                                <NA>   \n",
       "90                                <NA>   \n",
       "91                                <NA>   \n",
       "92                                <NA>   \n",
       "93                                <NA>   \n",
       "94                                <NA>   \n",
       "95                                <NA>   \n",
       "96                                <NA>   \n",
       "97                                <NA>   \n",
       "98                                <NA>   \n",
       "99                                <NA>   \n",
       "\n",
       "                                         undergra  \\\n",
       "0                             American University   \n",
       "1                                 Amherst College   \n",
       "2                                   Arizona State   \n",
       "3       Ateneo de Manila University - Philippines   \n",
       "4                               Augustana College   \n",
       "5                                 Barnard College   \n",
       "6                              Beijing University   \n",
       "7                              Bennington College   \n",
       "8                        Berklee College Of Music   \n",
       "9                           Binghamton University   \n",
       "10                            Biological Sciences   \n",
       "11                       Bocconi University Milan   \n",
       "12                                  Bombay, India   \n",
       "13                                 Boston College   \n",
       "14                                Bowdoin College   \n",
       "15                            Brandeis University   \n",
       "16                                          Brown   \n",
       "17                               Brown University   \n",
       "18                           Bucharest University   \n",
       "19                            Bucknell University   \n",
       "20                                   COOPER UNION   \n",
       "21                                           CSUN   \n",
       "22                               Cagliari - Italy   \n",
       "23                                   Cal Berkeley   \n",
       "24                    Cal State Univ., Long Beach   \n",
       "25        California State University Los Angeles   \n",
       "26                           Cambridge University   \n",
       "27                Case Western Reserve University   \n",
       "28                                          China   \n",
       "29             ChungShenMedicalUniversity(Taiwan)   \n",
       "30                             Colgate University   \n",
       "31                                 Colorado State   \n",
       "32                                       Columbia   \n",
       "33                       Columbia Business School   \n",
       "34                               Columbia College   \n",
       "35                           Columbia College, CU   \n",
       "36                            Columbia University   \n",
       "37                                      ColumbiaU   \n",
       "38                            Connecticut College   \n",
       "39                             Conneticut College   \n",
       "40  Cooper Union, Bard college, and SUNY Purchase   \n",
       "41                                        Cornell   \n",
       "42                             Cornell University   \n",
       "43                              Dartmouth College   \n",
       "44                               Delhi University   \n",
       "45                            Duquesne University   \n",
       "46                Ecole Normale Suprieure, Paris   \n",
       "47                   Ecole Polytechnique (France)   \n",
       "48                 Ecole Superieure d'Electricite   \n",
       "49                               Emory University   \n",
       "50                                    Engineering   \n",
       "51               Florida International University   \n",
       "52                             Fordham University   \n",
       "53             Fu Jen Catholic University, Taiwan   \n",
       "54                                          Fudan   \n",
       "55              Fudan University, Shanghai, China   \n",
       "56                                        GA Tech   \n",
       "57                                             GW   \n",
       "58                        George Mason University   \n",
       "59                   George Washington University   \n",
       "60                                     Georgetown   \n",
       "61                          Georgetown University   \n",
       "62                                     HEC FRance   \n",
       "63                              HOWARD UNIVERSITY   \n",
       "64                               Hamilton College   \n",
       "65                              Hampshire College   \n",
       "66               Harbin Medical University, China   \n",
       "67        Harcourt Butler Technological Institute   \n",
       "68                                        Harvard   \n",
       "69                                Harvard College   \n",
       "70                             Harvard University   \n",
       "71                  Harvey Mudd College (Physics)   \n",
       "72                              Hebrew University   \n",
       "73                                     Holy Cross   \n",
       "74                             Holy Cross College   \n",
       "75                                       Illinois   \n",
       "76                   Jesus and Mary College,Delhi   \n",
       "77                                   John Hopkins   \n",
       "78                     Kettering University / GMI   \n",
       "79          Kunitachi College of Music (in Japan)   \n",
       "80                                    LUISS, Rome   \n",
       "81                              Lafayette College   \n",
       "82                                 Loyola College   \n",
       "83                     Loyola College in Maryland   \n",
       "84                                            MIT   \n",
       "85                                    MSU, Russia   \n",
       "86                           Mary Baldwin College   \n",
       "87                              McGill University   \n",
       "88                               Miami University   \n",
       "89                             Middlebury College   \n",
       "90                  Monash University - Australia   \n",
       "91                                            NUS   \n",
       "92                                            NYU   \n",
       "93                                  Naples, Italy   \n",
       "94                     National Taiwan University   \n",
       "95               National University Of Singapore   \n",
       "96               National University of Singapore   \n",
       "97                            New York University   \n",
       "98            Nirma Institute of Technology-India   \n",
       "99                        Northwestern University   \n",
       "\n",
       "                                                career  \n",
       "0                                              acadeic  \n",
       "1                                            academics  \n",
       "2                                               acting  \n",
       "3                                              actress  \n",
       "4                              architecture and design  \n",
       "5                                                  art  \n",
       "6                               assistant the universe  \n",
       "7                                              banking  \n",
       "8                                         boxing champ  \n",
       "9                                             business  \n",
       "10                                     capital markets  \n",
       "11                                                 ceo  \n",
       "12                                        child rights  \n",
       "13                                        clidren's tv  \n",
       "14                                          comedienne  \n",
       "15                                       congresswoman  \n",
       "16                                          consulting  \n",
       "17                              counseling adolescents  \n",
       "18                                    country analysis  \n",
       "19                                curriculum developer  \n",
       "20                                    development work  \n",
       "21  development work on field in the middle of nowhere  \n",
       "22                                           dietician  \n",
       "23                                            diplomat  \n",
       "24                              director of admissions  \n",
       "25                director of training and development  \n",
       "26                                 early childhood ed.  \n",
       "27                                           economics  \n",
       "28                                           education  \n",
       "29                                              energy  \n",
       "30                                         engineering  \n",
       "31                                        enterpreneur  \n",
       "32                                       entertainment  \n",
       "33                                    entrepreneurship  \n",
       "34                                                film  \n",
       "35                                             finance  \n",
       "36                                  fixed income sales  \n",
       "37                                     foreign service  \n",
       "38                                 fundraising for non  \n",
       "39                                            governor  \n",
       "40                                              health  \n",
       "41                                                hero  \n",
       "42                                             history  \n",
       "43                                humanitarian affairs  \n",
       "44                                        industry cto  \n",
       "45                                         informatics  \n",
       "46                international affairs related career  \n",
       "47                           international development  \n",
       "48                      international development work  \n",
       "49                                    intl development  \n",
       "50                                          investment  \n",
       "51                                          journalism  \n",
       "52                                                 law  \n",
       "53                          literacy organization head  \n",
       "54                                            lobbyist  \n",
       "55                                                   m  \n",
       "56                                          make money  \n",
       "57                                          management  \n",
       "58                                           marketing  \n",
       "59                                         mathematics  \n",
       "60                                                 mba  \n",
       "61                                            medicine  \n",
       "62                                         millionaire  \n",
       "63                                         museum work  \n",
       "64                                               music  \n",
       "65                                          naturalist  \n",
       "66                                           nonprofit  \n",
       "67                                            novelist  \n",
       "68                                           nutrition  \n",
       "69                                          pediatrics  \n",
       "70                                     pharmaceuticals  \n",
       "71                                           physicist  \n",
       "72                                            planning  \n",
       "73                     political development in africa  \n",
       "74                                            politics  \n",
       "75                                           porn star  \n",
       "76                                           president  \n",
       "77                          private practice dietician  \n",
       "78                                pro beach volleyball  \n",
       "79                                   producer at a non  \n",
       "80                                 professional career  \n",
       "81                                professional student  \n",
       "82                                 program development  \n",
       "83                                          psychology  \n",
       "84                             public school principal  \n",
       "85                                      public service  \n",
       "86                                         real estate  \n",
       "87                            reorganizing society. no  \n",
       "88                                            research  \n",
       "89                                   school counseling  \n",
       "90                                   school leadership  \n",
       "91                                             science  \n",
       "92                                     security policy  \n",
       "93                                                self  \n",
       "94                                       sex therapist  \n",
       "95                                              social  \n",
       "96                                       software engr  \n",
       "97                                              speech  \n",
       "98                                                 tba  \n",
       "99                                   tech professional  "
      ]
     },
     "execution_count": 41,
     "metadata": {},
     "output_type": "execute_result"
    }
   ],
   "source": [
    "create_table_unique_sorted_columns(df, ['city', 'state_or_country', 'field', 'undergra', 'career'])"
   ]
  },
  {
   "cell_type": "markdown",
   "id": "02cc51de-beff-406e-b7d6-21cc5736bed7",
   "metadata": {
    "deletable": true,
    "editable": true,
    "frozen": false
   },
   "source": [
    "## Feature engineering partner characteristics"
   ]
  },
  {
   "cell_type": "markdown",
   "id": "2b8784ce-b106-425e-bb15-448fcb4978b7",
   "metadata": {
    "deletable": true,
    "editable": true,
    "frozen": false
   },
   "source": [
    "The dataset captures speed dating meetings, with each date appearing twice – once from each participant's perspective. When person A meets B, there's one row with A as the primary participant (_iid_) and B as partner (_pid_), and another row vice versa. Each participant has various characteristics. To simplify analysis, we'll create new features with suffix '_o' for partner characteristics by matching _pid_ with _iid_, allowing us to analyze both participants' traits in a single row."
   ]
  },
  {
   "cell_type": "markdown",
   "id": "f47fbe4b-2afe-4a26-85fd-f608648be14c",
   "metadata": {},
   "source": [
    "Function `add_partner_columns` is [defined in src/feature_engineering.py](src/add_partner_columns.py)"
   ]
  },
  {
   "cell_type": "code",
   "execution_count": 42,
   "id": "622e8cc2-b49b-4180-8b80-7ddd94661bec",
   "metadata": {
    "deletable": true,
    "editable": true,
    "frozen": false
   },
   "outputs": [],
   "source": [
    "cols_questionnaire1 = ['attr1_1', 'sinc1_1', 'intel1_1', 'fun1_1', 'amb1_1', 'shar1_1']\n",
    "cols_questionnaire2 = ['attr2_1', 'sinc2_1', 'intel2_1', 'fun2_1', 'amb2_1', 'shar2_1']\n",
    "cols_questionnaire3 = ['attr3_1', 'sinc3_1', 'intel3_1', 'fun3_1', 'amb3_1']\n",
    "cols_questionnaire4 = ['attr4_1', 'sinc4_1', 'intel4_1', 'fun4_1', 'amb4_1', 'shar4_1']\n",
    "cols_questionnaire5 = ['attr5_1', 'sinc5_1', 'intel5_1', 'fun5_1', 'amb5_1']\n",
    "cols_questionnaire = cols_questionnaire1 + cols_questionnaire2 + cols_questionnaire3 + cols_questionnaire4 + cols_questionnaire5"
   ]
  },
  {
   "cell_type": "code",
   "execution_count": 43,
   "id": "0b3b9b67-cc6e-4aea-bcef-63025670f3b0",
   "metadata": {
    "deletable": true,
    "editable": true,
    "frozen": false
   },
   "outputs": [],
   "source": [
    "cols_other = ['race', 'gender', 'age', 'date', 'go_out', 'imprace', 'imprelig', 'dec', 'goal', 'field', 'city', 'state_or_country']"
   ]
  },
  {
   "cell_type": "code",
   "execution_count": 44,
   "id": "147de66c-32b1-449c-acb2-6bbcd4ecd6dc",
   "metadata": {
    "deletable": true,
    "editable": true,
    "frozen": false
   },
   "outputs": [],
   "source": [
    "cols_subject = cols_interests + cols_questionnaire + cols_other"
   ]
  },
  {
   "cell_type": "code",
   "execution_count": 45,
   "id": "41855fdc-d094-435c-8bf9-21c9d3359456",
   "metadata": {
    "deletable": true,
    "editable": true,
    "frozen": false
   },
   "outputs": [],
   "source": [
    "num_features_before = df.shape[1]"
   ]
  },
  {
   "cell_type": "code",
   "execution_count": 46,
   "id": "2b3751cb-b694-4cea-8588-34b9c2555b02",
   "metadata": {
    "deletable": true,
    "editable": true,
    "frozen": false
   },
   "outputs": [],
   "source": [
    "df = add_partner_columns(df, cols_subject)"
   ]
  },
  {
   "cell_type": "code",
   "execution_count": 47,
   "id": "f37b39bc-dced-4fab-b233-6e230ba747a9",
   "metadata": {
    "deletable": true,
    "editable": true,
    "frozen": false
   },
   "outputs": [
    {
     "name": "stdout",
     "output_type": "stream",
     "text": [
      "Added 57 partner features.\n"
     ]
    }
   ],
   "source": [
    "num_features_after = df.shape[1]\n",
    "print(f'Added {num_features_after - num_features_before} partner features.')"
   ]
  },
  {
   "cell_type": "markdown",
   "id": "4351b6f2-6ec0-4cf7-a9e0-c47c7022c317",
   "metadata": {
    "deletable": true,
    "editable": true,
    "frozen": false
   },
   "source": [
    "Check the result:"
   ]
  },
  {
   "cell_type": "code",
   "execution_count": 48,
   "id": "c846d5f6-cb4c-454c-b17b-ae687a4c9e9d",
   "metadata": {
    "deletable": true,
    "editable": true,
    "frozen": false
   },
   "outputs": [
    {
     "name": "stdout",
     "output_type": "stream",
     "text": [
      "The columns now are: \n",
      "age, age_o, amb1_1, amb1_1_o, amb2_1, amb2_1_o, amb3_1, amb3_1_o, amb4_1, amb4_1_o, amb5_1, amb5_1_o, art, art_o, attr1_1, attr1_1_o, attr2_1, attr2_1_o, attr3_1, attr3_1_o, attr4_1, attr4_1_o, attr5_1, attr5_1_o, career, city, city_o, clubbing, clubbing_o, concerts, concerts_o, date, date_o, dec, dec_o, dining, dining_o, exercise, exercise_o, field, field_cd, field_o, from, fun1_1, fun1_1_o, fun2_1, fun2_1_o, fun3_1, fun3_1_o, fun4_1, fun4_1_o, fun5_1, fun5_1_o, gaming, gaming_o, gender, gender_o, go_out, go_out_o, goal, goal_o, hiking, hiking_o, iid, imprace, imprace_o, imprelig, imprelig_o, int_corr, intel1_1, intel1_1_o, intel2_1, intel2_1_o, intel3_1, intel3_1_o, intel4_1, intel4_1_o, intel5_1, intel5_1_o, movies, movies_o, museums, museums_o, music, music_o, pid, race, race_o, reading, reading_o, samerace, shar1_1, shar1_1_o, shar2_1, shar2_1_o, shar4_1, shar4_1_o, shopping, shopping_o, sinc1_1, sinc1_1_o, sinc2_1, sinc2_1_o, sinc3_1, sinc3_1_o, sinc4_1, sinc4_1_o, sinc5_1, sinc5_1_o, sports, sports_o, state_or_country, state_or_country_o, theater, theater_o, tv, tv_o, tvsports, tvsports_o, undergra, wave, yoga, yoga_o\n"
     ]
    }
   ],
   "source": [
    "print(\"The columns now are: \\n\" + \", \".join(sorted(df.columns)))"
   ]
  },
  {
   "cell_type": "markdown",
   "id": "2d98cabb-e8a2-427a-b161-964f7bb0ea96",
   "metadata": {
    "deletable": true,
    "editable": true,
    "frozen": false
   },
   "source": [
    "#### Define partner columns"
   ]
  },
  {
   "cell_type": "code",
   "execution_count": 49,
   "id": "85613ba3-f127-4107-aaa0-7c0dbb2f4bec",
   "metadata": {
    "deletable": true,
    "editable": true,
    "frozen": false
   },
   "outputs": [],
   "source": [
    "cols_questionnaire1_o = ['attr1_1_o', 'sinc1_1_o', 'intel1_1_o', 'fun1_1_o', 'amb1_1_o', 'shar1_1_o']\n",
    "cols_questionnaire2_o = ['attr2_1_o', 'sinc2_1_o', 'intel2_1_o', 'fun2_1_o', 'amb2_1_o', 'shar2_1_o']\n",
    "cols_questionnaire3_o = ['attr3_1_o', 'sinc3_1_o', 'intel3_1_o', 'fun3_1_o', 'amb3_1_o']\n",
    "cols_questionnaire4_o = ['attr4_1_o', 'sinc4_1_o', 'intel4_1_o', 'fun4_1_o', 'amb4_1_o', 'shar4_1_o']\n",
    "cols_questionnaire5_o = ['attr5_1_o', 'sinc5_1_o', 'intel5_1_o', 'fun5_1_o', 'amb5_1_o']\n",
    "cols_questionnaire_o = cols_questionnaire1_o + cols_questionnaire2_o + cols_questionnaire3_o + cols_questionnaire4_o + cols_questionnaire5_o"
   ]
  },
  {
   "cell_type": "code",
   "execution_count": 50,
   "id": "4ee5296d-4036-4d91-ab56-5405a1948c1f",
   "metadata": {
    "deletable": true,
    "editable": true,
    "frozen": false
   },
   "outputs": [],
   "source": [
    "cols_interests_o = ['music_o', 'exercise_o', 'dining_o', 'tv_o', 'tvsports_o', 'sports_o', 'shopping_o', 'yoga_o', \n",
    "                    'gaming_o', 'reading_o', 'theater_o', 'hiking_o', 'art_o', 'museums_o', 'clubbing_o', 'concerts_o', 'movies_o']"
   ]
  },
  {
   "cell_type": "markdown",
   "id": "45a6f0c1-39e6-40d3-bc31-c9ebc7fbf605",
   "metadata": {
    "deletable": true,
    "editable": true,
    "frozen": false
   },
   "source": [
    "## Split data"
   ]
  },
  {
   "cell_type": "markdown",
   "id": "032de68d-6202-4440-9d86-4e92905f2924",
   "metadata": {
    "deletable": true,
    "editable": true,
    "frozen": false
   },
   "source": [
    "Inspect the distribution of the target label (_dec_) by gender:"
   ]
  },
  {
   "cell_type": "code",
   "execution_count": 51,
   "id": "415ee8f3-ee2b-4205-9ded-0067ab96df08",
   "metadata": {
    "deletable": true,
    "editable": true,
    "frozen": false
   },
   "outputs": [
    {
     "data": {
      "text/plain": [
       "gender\n",
       "0    4105\n",
       "1    4105\n",
       "Name: count, dtype: int64"
      ]
     },
     "execution_count": 51,
     "metadata": {},
     "output_type": "execute_result"
    }
   ],
   "source": [
    "df.gender.value_counts()"
   ]
  },
  {
   "cell_type": "code",
   "execution_count": 52,
   "id": "7b3bc04f-dcba-43bd-9680-445064aee7e0",
   "metadata": {
    "deletable": true,
    "editable": true,
    "frozen": false
   },
   "outputs": [
    {
     "data": {
      "image/png": "[encoded data removed]",
      "text/plain": [
       "<Figure size 800x600 with 1 Axes>"
      ]
     },
     "metadata": {},
     "output_type": "display_data"
    }
   ],
   "source": [
    "grouped_counts = df.groupby('gender')['dec'].value_counts().unstack(fill_value=0)\n",
    "\n",
    "ax = grouped_counts.plot(kind='bar', figsize=(8, 6), color=['skyblue', 'salmon'], width=0.2)\n",
    "for container in ax.containers:\n",
    "    ax.bar_label(container, fmt='%d', label_type='edge', fontsize=10)\n",
    "cplt.txylabel('Decisions by Gender', 'Gender (0=Women, 1=Men)', 'How many liked the partner')\n",
    "cplt.xticks(ticks=[0, 1], labels=['Women (0)', 'Men (1)'], rotation=0)\n",
    "cplt.legend(title='Decision (dec)', labels=['No (0)', 'Yes (1)']).tight_layout().show()"
   ]
  },
  {
   "cell_type": "markdown",
   "id": "2bb93242-9d48-4978-bb6b-5182e83b83de",
   "metadata": {
    "deletable": true,
    "editable": true,
    "frozen": false
   },
   "source": [
    "The data reveals that female respondents showed a higher proportion of negative responses ('No') and lower proportion of positive responses ('Yes') compared to their male partners. Based on this pattern, we'll perform stratified sampling across both _dec_ (decision) and _gender_ variables to ensure balanced representation."
   ]
  },
  {
   "cell_type": "code",
   "execution_count": 53,
   "id": "3375ee3d-67d5-4907-9ca1-790c0d0a1664",
   "metadata": {
    "deletable": true,
    "editable": true,
    "frozen": false
   },
   "outputs": [],
   "source": [
    "df['dec_by_gender'] = df[['dec', 'gender']].astype(str).agg('_'.join, axis=1)"
   ]
  },
  {
   "cell_type": "code",
   "execution_count": 54,
   "id": "55b1db0d-8fea-47c2-bad3-1bf1b90999de",
   "metadata": {
    "deletable": true,
    "editable": true,
    "frozen": false
   },
   "outputs": [],
   "source": [
    "X = df.drop(columns=[\"dec\", \"dec_by_gender\"], axis=1)\n",
    "y = df[\"dec\"]\n",
    "X_train, X_test, y_train, y_test = train_test_split(X, y, test_size=0.2, stratify=df[\"dec_by_gender\"], random_state=RANDOM_STATE)"
   ]
  },
  {
   "cell_type": "markdown",
   "id": "8499d311-0add-4b95-bb0c-778225e5434c",
   "metadata": {
    "deletable": true,
    "editable": true,
    "frozen": false
   },
   "source": [
    "Temporarily hide the original dataframe so we don't accidentally refer to it:"
   ]
  },
  {
   "cell_type": "code",
   "execution_count": 55,
   "id": "cad8c9db-afee-4c7d-b03c-8f19ad28565f",
   "metadata": {
    "deletable": true,
    "editable": true,
    "frozen": false
   },
   "outputs": [],
   "source": [
    "df_hide_me, X_hide_me, y_hide_me = df.copy(), X.copy(), y.copy()\n",
    "del df\n",
    "del X\n",
    "del y"
   ]
  },
  {
   "cell_type": "markdown",
   "id": "22be3af0-1434-49c5-8933-daf6ad680f7a",
   "metadata": {
    "deletable": true,
    "editable": true,
    "frozen": false
   },
   "source": [
    "## Impute missing data"
   ]
  },
  {
   "cell_type": "markdown",
   "id": "ee94e075-b8a4-446e-b564-a5fa5de2adba",
   "metadata": {
    "deletable": true,
    "editable": true,
    "frozen": false
   },
   "source": [
    "### Interests columns"
   ]
  },
  {
   "cell_type": "markdown",
   "id": "4769f61b-f7d9-4113-a959-1139862a7c83",
   "metadata": {
    "deletable": true,
    "editable": true,
    "frozen": false
   },
   "source": [
    "Inspect the number of missing values and the min-max range of the existing values:"
   ]
  },
  {
   "cell_type": "code",
   "execution_count": 56,
   "id": "461ad2ae-4319-471c-88ee-b9ef4930766c",
   "metadata": {
    "deletable": true,
    "editable": true,
    "frozen": false
   },
   "outputs": [
    {
     "name": "stdout",
     "output_type": "stream",
     "text": [
      "<class 'pandas.core.frame.DataFrame'>\n",
      "Index: 6568 entries, 4504 to 50\n",
      "Data columns (total 17 columns):\n",
      " #   Column    Non-Null Count  Dtype  \n",
      "---  ------    --------------  -----  \n",
      " 0   music     6568 non-null   float64\n",
      " 1   exercise  6568 non-null   float64\n",
      " 2   dining    6568 non-null   float64\n",
      " 3   tv        6568 non-null   float64\n",
      " 4   tvsports  6568 non-null   float64\n",
      " 5   sports    6568 non-null   float64\n",
      " 6   shopping  6568 non-null   float64\n",
      " 7   yoga      6568 non-null   float64\n",
      " 8   gaming    6568 non-null   float64\n",
      " 9   reading   6568 non-null   float64\n",
      " 10  theater   6568 non-null   float64\n",
      " 11  hiking    6568 non-null   float64\n",
      " 12  art       6568 non-null   float64\n",
      " 13  museums   6568 non-null   float64\n",
      " 14  clubbing  6568 non-null   float64\n",
      " 15  concerts  6568 non-null   float64\n",
      " 16  movies    6568 non-null   float64\n",
      "dtypes: float64(17)\n",
      "memory usage: 923.6 KB\n"
     ]
    }
   ],
   "source": [
    "X_train[cols_interests].info()"
   ]
  },
  {
   "cell_type": "code",
   "execution_count": 57,
   "id": "ee5d0b6d-ec8b-4394-a188-888ba38f1a93",
   "metadata": {
    "deletable": true,
    "editable": true,
    "frozen": false
   },
   "outputs": [
    {
     "data": {
      "text/html": [
       "<div>\n",
       "<style scoped>\n",
       "    .dataframe tbody tr th:only-of-type {\n",
       "        vertical-align: middle;\n",
       "    }\n",
       "\n",
       "    .dataframe tbody tr th {\n",
       "        vertical-align: top;\n",
       "    }\n",
       "\n",
       "    .dataframe thead th {\n",
       "        text-align: right;\n",
       "    }\n",
       "</style>\n",
       "<table border=\"1\" class=\"dataframe\">\n",
       "  <thead>\n",
       "    <tr style=\"text-align: right;\">\n",
       "      <th></th>\n",
       "      <th>music</th>\n",
       "      <th>exercise</th>\n",
       "      <th>dining</th>\n",
       "      <th>tv</th>\n",
       "      <th>tvsports</th>\n",
       "      <th>sports</th>\n",
       "      <th>shopping</th>\n",
       "      <th>yoga</th>\n",
       "      <th>gaming</th>\n",
       "      <th>reading</th>\n",
       "      <th>theater</th>\n",
       "      <th>hiking</th>\n",
       "      <th>art</th>\n",
       "      <th>museums</th>\n",
       "      <th>clubbing</th>\n",
       "      <th>concerts</th>\n",
       "      <th>movies</th>\n",
       "    </tr>\n",
       "  </thead>\n",
       "  <tbody>\n",
       "    <tr>\n",
       "      <th>count</th>\n",
       "      <td>6568.00</td>\n",
       "      <td>6568.00</td>\n",
       "      <td>6568.00</td>\n",
       "      <td>6568.00</td>\n",
       "      <td>6568.00</td>\n",
       "      <td>6568.00</td>\n",
       "      <td>6568.00</td>\n",
       "      <td>6568.00</td>\n",
       "      <td>6568.00</td>\n",
       "      <td>6568.00</td>\n",
       "      <td>6568.00</td>\n",
       "      <td>6568.00</td>\n",
       "      <td>6568.00</td>\n",
       "      <td>6568.00</td>\n",
       "      <td>6568.00</td>\n",
       "      <td>6568.00</td>\n",
       "      <td>6568.00</td>\n",
       "    </tr>\n",
       "    <tr>\n",
       "      <th>mean</th>\n",
       "      <td>7.86</td>\n",
       "      <td>6.27</td>\n",
       "      <td>7.79</td>\n",
       "      <td>5.31</td>\n",
       "      <td>4.59</td>\n",
       "      <td>6.42</td>\n",
       "      <td>5.65</td>\n",
       "      <td>4.35</td>\n",
       "      <td>3.89</td>\n",
       "      <td>7.67</td>\n",
       "      <td>6.80</td>\n",
       "      <td>5.74</td>\n",
       "      <td>6.72</td>\n",
       "      <td>7.00</td>\n",
       "      <td>5.74</td>\n",
       "      <td>6.84</td>\n",
       "      <td>7.92</td>\n",
       "    </tr>\n",
       "    <tr>\n",
       "      <th>std</th>\n",
       "      <td>1.79</td>\n",
       "      <td>2.42</td>\n",
       "      <td>1.76</td>\n",
       "      <td>2.53</td>\n",
       "      <td>2.81</td>\n",
       "      <td>2.63</td>\n",
       "      <td>2.61</td>\n",
       "      <td>2.72</td>\n",
       "      <td>2.64</td>\n",
       "      <td>2.01</td>\n",
       "      <td>2.24</td>\n",
       "      <td>2.56</td>\n",
       "      <td>2.27</td>\n",
       "      <td>2.05</td>\n",
       "      <td>2.49</td>\n",
       "      <td>2.16</td>\n",
       "      <td>1.72</td>\n",
       "    </tr>\n",
       "    <tr>\n",
       "      <th>min</th>\n",
       "      <td>1.00</td>\n",
       "      <td>1.00</td>\n",
       "      <td>1.00</td>\n",
       "      <td>1.00</td>\n",
       "      <td>1.00</td>\n",
       "      <td>1.00</td>\n",
       "      <td>1.00</td>\n",
       "      <td>0.00</td>\n",
       "      <td>0.00</td>\n",
       "      <td>1.00</td>\n",
       "      <td>0.00</td>\n",
       "      <td>0.00</td>\n",
       "      <td>0.00</td>\n",
       "      <td>0.00</td>\n",
       "      <td>0.00</td>\n",
       "      <td>0.00</td>\n",
       "      <td>0.00</td>\n",
       "    </tr>\n",
       "    <tr>\n",
       "      <th>max</th>\n",
       "      <td>10.00</td>\n",
       "      <td>10.00</td>\n",
       "      <td>10.00</td>\n",
       "      <td>10.00</td>\n",
       "      <td>10.00</td>\n",
       "      <td>10.00</td>\n",
       "      <td>10.00</td>\n",
       "      <td>10.00</td>\n",
       "      <td>14.00</td>\n",
       "      <td>13.00</td>\n",
       "      <td>10.00</td>\n",
       "      <td>10.00</td>\n",
       "      <td>10.00</td>\n",
       "      <td>10.00</td>\n",
       "      <td>10.00</td>\n",
       "      <td>10.00</td>\n",
       "      <td>10.00</td>\n",
       "    </tr>\n",
       "    <tr>\n",
       "      <th>median</th>\n",
       "      <td>8.00</td>\n",
       "      <td>7.00</td>\n",
       "      <td>8.00</td>\n",
       "      <td>6.00</td>\n",
       "      <td>4.00</td>\n",
       "      <td>7.00</td>\n",
       "      <td>6.00</td>\n",
       "      <td>4.00</td>\n",
       "      <td>3.00</td>\n",
       "      <td>8.00</td>\n",
       "      <td>7.00</td>\n",
       "      <td>6.00</td>\n",
       "      <td>7.00</td>\n",
       "      <td>7.00</td>\n",
       "      <td>6.00</td>\n",
       "      <td>7.00</td>\n",
       "      <td>8.00</td>\n",
       "    </tr>\n",
       "  </tbody>\n",
       "</table>\n",
       "</div>"
      ],
      "text/plain": [
       "          music  exercise   dining       tv  tvsports   sports  shopping  \\\n",
       "count   6568.00   6568.00  6568.00  6568.00   6568.00  6568.00   6568.00   \n",
       "mean       7.86      6.27     7.79     5.31      4.59     6.42      5.65   \n",
       "std        1.79      2.42     1.76     2.53      2.81     2.63      2.61   \n",
       "min        1.00      1.00     1.00     1.00      1.00     1.00      1.00   \n",
       "max       10.00     10.00    10.00    10.00     10.00    10.00     10.00   \n",
       "median     8.00      7.00     8.00     6.00      4.00     7.00      6.00   \n",
       "\n",
       "           yoga   gaming  reading  theater   hiking      art  museums  \\\n",
       "count   6568.00  6568.00  6568.00  6568.00  6568.00  6568.00  6568.00   \n",
       "mean       4.35     3.89     7.67     6.80     5.74     6.72     7.00   \n",
       "std        2.72     2.64     2.01     2.24     2.56     2.27     2.05   \n",
       "min        0.00     0.00     1.00     0.00     0.00     0.00     0.00   \n",
       "max       10.00    14.00    13.00    10.00    10.00    10.00    10.00   \n",
       "median     4.00     3.00     8.00     7.00     6.00     7.00     7.00   \n",
       "\n",
       "        clubbing  concerts   movies  \n",
       "count    6568.00   6568.00  6568.00  \n",
       "mean        5.74      6.84     7.92  \n",
       "std         2.49      2.16     1.72  \n",
       "min         0.00      0.00     0.00  \n",
       "max        10.00     10.00    10.00  \n",
       "median      6.00      7.00     8.00  "
      ]
     },
     "execution_count": 57,
     "metadata": {},
     "output_type": "execute_result"
    }
   ],
   "source": [
    "X_train[cols_interests].custom.describe()"
   ]
  },
  {
   "cell_type": "markdown",
   "id": "d993a37b-285a-45ff-878d-7ae05d2e394d",
   "metadata": {
    "deletable": true,
    "editable": true,
    "frozen": false
   },
   "source": [
    "Some features have values of 0, despite the key document specifying a range of 1-10. We need to determine whether this means respondents skipped these sections entirely or if they deliberately used 0 to express extremely low interest."
   ]
  },
  {
   "cell_type": "code",
   "execution_count": 58,
   "id": "10767e6c-f762-4d17-a775-cf46df6bb34c",
   "metadata": {
    "deletable": true,
    "editable": true,
    "frozen": false
   },
   "outputs": [
    {
     "data": {
      "text/html": [
       "<div>\n",
       "<style scoped>\n",
       "    .dataframe tbody tr th:only-of-type {\n",
       "        vertical-align: middle;\n",
       "    }\n",
       "\n",
       "    .dataframe tbody tr th {\n",
       "        vertical-align: top;\n",
       "    }\n",
       "\n",
       "    .dataframe thead th {\n",
       "        text-align: right;\n",
       "    }\n",
       "</style>\n",
       "<table border=\"1\" class=\"dataframe\">\n",
       "  <thead>\n",
       "    <tr style=\"text-align: right;\">\n",
       "      <th></th>\n",
       "      <th>iid</th>\n",
       "      <th>music</th>\n",
       "      <th>exercise</th>\n",
       "      <th>dining</th>\n",
       "      <th>tv</th>\n",
       "      <th>tvsports</th>\n",
       "      <th>sports</th>\n",
       "      <th>shopping</th>\n",
       "      <th>yoga</th>\n",
       "      <th>gaming</th>\n",
       "      <th>reading</th>\n",
       "      <th>theater</th>\n",
       "      <th>hiking</th>\n",
       "      <th>art</th>\n",
       "      <th>museums</th>\n",
       "      <th>clubbing</th>\n",
       "      <th>concerts</th>\n",
       "      <th>movies</th>\n",
       "    </tr>\n",
       "  </thead>\n",
       "  <tbody>\n",
       "    <tr>\n",
       "      <th>6378</th>\n",
       "      <td>413</td>\n",
       "      <td>6.0</td>\n",
       "      <td>5.0</td>\n",
       "      <td>7.0</td>\n",
       "      <td>8.0</td>\n",
       "      <td>7.0</td>\n",
       "      <td>6.0</td>\n",
       "      <td>7.0</td>\n",
       "      <td>0.0</td>\n",
       "      <td>5.0</td>\n",
       "      <td>6.0</td>\n",
       "      <td>6.0</td>\n",
       "      <td>5.0</td>\n",
       "      <td>3.0</td>\n",
       "      <td>5.0</td>\n",
       "      <td>4.0</td>\n",
       "      <td>6.0</td>\n",
       "      <td>9.0</td>\n",
       "    </tr>\n",
       "    <tr>\n",
       "      <th>6393</th>\n",
       "      <td>414</td>\n",
       "      <td>1.0</td>\n",
       "      <td>9.0</td>\n",
       "      <td>5.0</td>\n",
       "      <td>7.0</td>\n",
       "      <td>5.0</td>\n",
       "      <td>10.0</td>\n",
       "      <td>2.0</td>\n",
       "      <td>0.0</td>\n",
       "      <td>5.0</td>\n",
       "      <td>8.0</td>\n",
       "      <td>0.0</td>\n",
       "      <td>5.0</td>\n",
       "      <td>0.0</td>\n",
       "      <td>0.0</td>\n",
       "      <td>0.0</td>\n",
       "      <td>0.0</td>\n",
       "      <td>0.0</td>\n",
       "    </tr>\n",
       "    <tr>\n",
       "      <th>6387</th>\n",
       "      <td>413</td>\n",
       "      <td>6.0</td>\n",
       "      <td>5.0</td>\n",
       "      <td>7.0</td>\n",
       "      <td>8.0</td>\n",
       "      <td>7.0</td>\n",
       "      <td>6.0</td>\n",
       "      <td>7.0</td>\n",
       "      <td>0.0</td>\n",
       "      <td>5.0</td>\n",
       "      <td>6.0</td>\n",
       "      <td>6.0</td>\n",
       "      <td>5.0</td>\n",
       "      <td>3.0</td>\n",
       "      <td>5.0</td>\n",
       "      <td>4.0</td>\n",
       "      <td>6.0</td>\n",
       "      <td>9.0</td>\n",
       "    </tr>\n",
       "    <tr>\n",
       "      <th>6404</th>\n",
       "      <td>414</td>\n",
       "      <td>1.0</td>\n",
       "      <td>9.0</td>\n",
       "      <td>5.0</td>\n",
       "      <td>7.0</td>\n",
       "      <td>5.0</td>\n",
       "      <td>10.0</td>\n",
       "      <td>2.0</td>\n",
       "      <td>0.0</td>\n",
       "      <td>5.0</td>\n",
       "      <td>8.0</td>\n",
       "      <td>0.0</td>\n",
       "      <td>5.0</td>\n",
       "      <td>0.0</td>\n",
       "      <td>0.0</td>\n",
       "      <td>0.0</td>\n",
       "      <td>0.0</td>\n",
       "      <td>0.0</td>\n",
       "    </tr>\n",
       "    <tr>\n",
       "      <th>6401</th>\n",
       "      <td>414</td>\n",
       "      <td>1.0</td>\n",
       "      <td>9.0</td>\n",
       "      <td>5.0</td>\n",
       "      <td>7.0</td>\n",
       "      <td>5.0</td>\n",
       "      <td>10.0</td>\n",
       "      <td>2.0</td>\n",
       "      <td>0.0</td>\n",
       "      <td>5.0</td>\n",
       "      <td>8.0</td>\n",
       "      <td>0.0</td>\n",
       "      <td>5.0</td>\n",
       "      <td>0.0</td>\n",
       "      <td>0.0</td>\n",
       "      <td>0.0</td>\n",
       "      <td>0.0</td>\n",
       "      <td>0.0</td>\n",
       "    </tr>\n",
       "    <tr>\n",
       "      <th>6389</th>\n",
       "      <td>413</td>\n",
       "      <td>6.0</td>\n",
       "      <td>5.0</td>\n",
       "      <td>7.0</td>\n",
       "      <td>8.0</td>\n",
       "      <td>7.0</td>\n",
       "      <td>6.0</td>\n",
       "      <td>7.0</td>\n",
       "      <td>0.0</td>\n",
       "      <td>5.0</td>\n",
       "      <td>6.0</td>\n",
       "      <td>6.0</td>\n",
       "      <td>5.0</td>\n",
       "      <td>3.0</td>\n",
       "      <td>5.0</td>\n",
       "      <td>4.0</td>\n",
       "      <td>6.0</td>\n",
       "      <td>9.0</td>\n",
       "    </tr>\n",
       "    <tr>\n",
       "      <th>6403</th>\n",
       "      <td>414</td>\n",
       "      <td>1.0</td>\n",
       "      <td>9.0</td>\n",
       "      <td>5.0</td>\n",
       "      <td>7.0</td>\n",
       "      <td>5.0</td>\n",
       "      <td>10.0</td>\n",
       "      <td>2.0</td>\n",
       "      <td>0.0</td>\n",
       "      <td>5.0</td>\n",
       "      <td>8.0</td>\n",
       "      <td>0.0</td>\n",
       "      <td>5.0</td>\n",
       "      <td>0.0</td>\n",
       "      <td>0.0</td>\n",
       "      <td>0.0</td>\n",
       "      <td>0.0</td>\n",
       "      <td>0.0</td>\n",
       "    </tr>\n",
       "    <tr>\n",
       "      <th>6394</th>\n",
       "      <td>414</td>\n",
       "      <td>1.0</td>\n",
       "      <td>9.0</td>\n",
       "      <td>5.0</td>\n",
       "      <td>7.0</td>\n",
       "      <td>5.0</td>\n",
       "      <td>10.0</td>\n",
       "      <td>2.0</td>\n",
       "      <td>0.0</td>\n",
       "      <td>5.0</td>\n",
       "      <td>8.0</td>\n",
       "      <td>0.0</td>\n",
       "      <td>5.0</td>\n",
       "      <td>0.0</td>\n",
       "      <td>0.0</td>\n",
       "      <td>0.0</td>\n",
       "      <td>0.0</td>\n",
       "      <td>0.0</td>\n",
       "    </tr>\n",
       "    <tr>\n",
       "      <th>6384</th>\n",
       "      <td>413</td>\n",
       "      <td>6.0</td>\n",
       "      <td>5.0</td>\n",
       "      <td>7.0</td>\n",
       "      <td>8.0</td>\n",
       "      <td>7.0</td>\n",
       "      <td>6.0</td>\n",
       "      <td>7.0</td>\n",
       "      <td>0.0</td>\n",
       "      <td>5.0</td>\n",
       "      <td>6.0</td>\n",
       "      <td>6.0</td>\n",
       "      <td>5.0</td>\n",
       "      <td>3.0</td>\n",
       "      <td>5.0</td>\n",
       "      <td>4.0</td>\n",
       "      <td>6.0</td>\n",
       "      <td>9.0</td>\n",
       "    </tr>\n",
       "    <tr>\n",
       "      <th>6398</th>\n",
       "      <td>414</td>\n",
       "      <td>1.0</td>\n",
       "      <td>9.0</td>\n",
       "      <td>5.0</td>\n",
       "      <td>7.0</td>\n",
       "      <td>5.0</td>\n",
       "      <td>10.0</td>\n",
       "      <td>2.0</td>\n",
       "      <td>0.0</td>\n",
       "      <td>5.0</td>\n",
       "      <td>8.0</td>\n",
       "      <td>0.0</td>\n",
       "      <td>5.0</td>\n",
       "      <td>0.0</td>\n",
       "      <td>0.0</td>\n",
       "      <td>0.0</td>\n",
       "      <td>0.0</td>\n",
       "      <td>0.0</td>\n",
       "    </tr>\n",
       "    <tr>\n",
       "      <th>6379</th>\n",
       "      <td>413</td>\n",
       "      <td>6.0</td>\n",
       "      <td>5.0</td>\n",
       "      <td>7.0</td>\n",
       "      <td>8.0</td>\n",
       "      <td>7.0</td>\n",
       "      <td>6.0</td>\n",
       "      <td>7.0</td>\n",
       "      <td>0.0</td>\n",
       "      <td>5.0</td>\n",
       "      <td>6.0</td>\n",
       "      <td>6.0</td>\n",
       "      <td>5.0</td>\n",
       "      <td>3.0</td>\n",
       "      <td>5.0</td>\n",
       "      <td>4.0</td>\n",
       "      <td>6.0</td>\n",
       "      <td>9.0</td>\n",
       "    </tr>\n",
       "    <tr>\n",
       "      <th>6377</th>\n",
       "      <td>413</td>\n",
       "      <td>6.0</td>\n",
       "      <td>5.0</td>\n",
       "      <td>7.0</td>\n",
       "      <td>8.0</td>\n",
       "      <td>7.0</td>\n",
       "      <td>6.0</td>\n",
       "      <td>7.0</td>\n",
       "      <td>0.0</td>\n",
       "      <td>5.0</td>\n",
       "      <td>6.0</td>\n",
       "      <td>6.0</td>\n",
       "      <td>5.0</td>\n",
       "      <td>3.0</td>\n",
       "      <td>5.0</td>\n",
       "      <td>4.0</td>\n",
       "      <td>6.0</td>\n",
       "      <td>9.0</td>\n",
       "    </tr>\n",
       "    <tr>\n",
       "      <th>6386</th>\n",
       "      <td>413</td>\n",
       "      <td>6.0</td>\n",
       "      <td>5.0</td>\n",
       "      <td>7.0</td>\n",
       "      <td>8.0</td>\n",
       "      <td>7.0</td>\n",
       "      <td>6.0</td>\n",
       "      <td>7.0</td>\n",
       "      <td>0.0</td>\n",
       "      <td>5.0</td>\n",
       "      <td>6.0</td>\n",
       "      <td>6.0</td>\n",
       "      <td>5.0</td>\n",
       "      <td>3.0</td>\n",
       "      <td>5.0</td>\n",
       "      <td>4.0</td>\n",
       "      <td>6.0</td>\n",
       "      <td>9.0</td>\n",
       "    </tr>\n",
       "    <tr>\n",
       "      <th>6405</th>\n",
       "      <td>414</td>\n",
       "      <td>1.0</td>\n",
       "      <td>9.0</td>\n",
       "      <td>5.0</td>\n",
       "      <td>7.0</td>\n",
       "      <td>5.0</td>\n",
       "      <td>10.0</td>\n",
       "      <td>2.0</td>\n",
       "      <td>0.0</td>\n",
       "      <td>5.0</td>\n",
       "      <td>8.0</td>\n",
       "      <td>0.0</td>\n",
       "      <td>5.0</td>\n",
       "      <td>0.0</td>\n",
       "      <td>0.0</td>\n",
       "      <td>0.0</td>\n",
       "      <td>0.0</td>\n",
       "      <td>0.0</td>\n",
       "    </tr>\n",
       "    <tr>\n",
       "      <th>6392</th>\n",
       "      <td>414</td>\n",
       "      <td>1.0</td>\n",
       "      <td>9.0</td>\n",
       "      <td>5.0</td>\n",
       "      <td>7.0</td>\n",
       "      <td>5.0</td>\n",
       "      <td>10.0</td>\n",
       "      <td>2.0</td>\n",
       "      <td>0.0</td>\n",
       "      <td>5.0</td>\n",
       "      <td>8.0</td>\n",
       "      <td>0.0</td>\n",
       "      <td>5.0</td>\n",
       "      <td>0.0</td>\n",
       "      <td>0.0</td>\n",
       "      <td>0.0</td>\n",
       "      <td>0.0</td>\n",
       "      <td>0.0</td>\n",
       "    </tr>\n",
       "    <tr>\n",
       "      <th>6395</th>\n",
       "      <td>414</td>\n",
       "      <td>1.0</td>\n",
       "      <td>9.0</td>\n",
       "      <td>5.0</td>\n",
       "      <td>7.0</td>\n",
       "      <td>5.0</td>\n",
       "      <td>10.0</td>\n",
       "      <td>2.0</td>\n",
       "      <td>0.0</td>\n",
       "      <td>5.0</td>\n",
       "      <td>8.0</td>\n",
       "      <td>0.0</td>\n",
       "      <td>5.0</td>\n",
       "      <td>0.0</td>\n",
       "      <td>0.0</td>\n",
       "      <td>0.0</td>\n",
       "      <td>0.0</td>\n",
       "      <td>0.0</td>\n",
       "    </tr>\n",
       "    <tr>\n",
       "      <th>6397</th>\n",
       "      <td>414</td>\n",
       "      <td>1.0</td>\n",
       "      <td>9.0</td>\n",
       "      <td>5.0</td>\n",
       "      <td>7.0</td>\n",
       "      <td>5.0</td>\n",
       "      <td>10.0</td>\n",
       "      <td>2.0</td>\n",
       "      <td>0.0</td>\n",
       "      <td>5.0</td>\n",
       "      <td>8.0</td>\n",
       "      <td>0.0</td>\n",
       "      <td>5.0</td>\n",
       "      <td>0.0</td>\n",
       "      <td>0.0</td>\n",
       "      <td>0.0</td>\n",
       "      <td>0.0</td>\n",
       "      <td>0.0</td>\n",
       "    </tr>\n",
       "    <tr>\n",
       "      <th>6408</th>\n",
       "      <td>414</td>\n",
       "      <td>1.0</td>\n",
       "      <td>9.0</td>\n",
       "      <td>5.0</td>\n",
       "      <td>7.0</td>\n",
       "      <td>5.0</td>\n",
       "      <td>10.0</td>\n",
       "      <td>2.0</td>\n",
       "      <td>0.0</td>\n",
       "      <td>5.0</td>\n",
       "      <td>8.0</td>\n",
       "      <td>0.0</td>\n",
       "      <td>5.0</td>\n",
       "      <td>0.0</td>\n",
       "      <td>0.0</td>\n",
       "      <td>0.0</td>\n",
       "      <td>0.0</td>\n",
       "      <td>0.0</td>\n",
       "    </tr>\n",
       "    <tr>\n",
       "      <th>6407</th>\n",
       "      <td>414</td>\n",
       "      <td>1.0</td>\n",
       "      <td>9.0</td>\n",
       "      <td>5.0</td>\n",
       "      <td>7.0</td>\n",
       "      <td>5.0</td>\n",
       "      <td>10.0</td>\n",
       "      <td>2.0</td>\n",
       "      <td>0.0</td>\n",
       "      <td>5.0</td>\n",
       "      <td>8.0</td>\n",
       "      <td>0.0</td>\n",
       "      <td>5.0</td>\n",
       "      <td>0.0</td>\n",
       "      <td>0.0</td>\n",
       "      <td>0.0</td>\n",
       "      <td>0.0</td>\n",
       "      <td>0.0</td>\n",
       "    </tr>\n",
       "    <tr>\n",
       "      <th>6400</th>\n",
       "      <td>414</td>\n",
       "      <td>1.0</td>\n",
       "      <td>9.0</td>\n",
       "      <td>5.0</td>\n",
       "      <td>7.0</td>\n",
       "      <td>5.0</td>\n",
       "      <td>10.0</td>\n",
       "      <td>2.0</td>\n",
       "      <td>0.0</td>\n",
       "      <td>5.0</td>\n",
       "      <td>8.0</td>\n",
       "      <td>0.0</td>\n",
       "      <td>5.0</td>\n",
       "      <td>0.0</td>\n",
       "      <td>0.0</td>\n",
       "      <td>0.0</td>\n",
       "      <td>0.0</td>\n",
       "      <td>0.0</td>\n",
       "    </tr>\n",
       "    <tr>\n",
       "      <th>6383</th>\n",
       "      <td>413</td>\n",
       "      <td>6.0</td>\n",
       "      <td>5.0</td>\n",
       "      <td>7.0</td>\n",
       "      <td>8.0</td>\n",
       "      <td>7.0</td>\n",
       "      <td>6.0</td>\n",
       "      <td>7.0</td>\n",
       "      <td>0.0</td>\n",
       "      <td>5.0</td>\n",
       "      <td>6.0</td>\n",
       "      <td>6.0</td>\n",
       "      <td>5.0</td>\n",
       "      <td>3.0</td>\n",
       "      <td>5.0</td>\n",
       "      <td>4.0</td>\n",
       "      <td>6.0</td>\n",
       "      <td>9.0</td>\n",
       "    </tr>\n",
       "    <tr>\n",
       "      <th>6406</th>\n",
       "      <td>414</td>\n",
       "      <td>1.0</td>\n",
       "      <td>9.0</td>\n",
       "      <td>5.0</td>\n",
       "      <td>7.0</td>\n",
       "      <td>5.0</td>\n",
       "      <td>10.0</td>\n",
       "      <td>2.0</td>\n",
       "      <td>0.0</td>\n",
       "      <td>5.0</td>\n",
       "      <td>8.0</td>\n",
       "      <td>0.0</td>\n",
       "      <td>5.0</td>\n",
       "      <td>0.0</td>\n",
       "      <td>0.0</td>\n",
       "      <td>0.0</td>\n",
       "      <td>0.0</td>\n",
       "      <td>0.0</td>\n",
       "    </tr>\n",
       "    <tr>\n",
       "      <th>6402</th>\n",
       "      <td>414</td>\n",
       "      <td>1.0</td>\n",
       "      <td>9.0</td>\n",
       "      <td>5.0</td>\n",
       "      <td>7.0</td>\n",
       "      <td>5.0</td>\n",
       "      <td>10.0</td>\n",
       "      <td>2.0</td>\n",
       "      <td>0.0</td>\n",
       "      <td>5.0</td>\n",
       "      <td>8.0</td>\n",
       "      <td>0.0</td>\n",
       "      <td>5.0</td>\n",
       "      <td>0.0</td>\n",
       "      <td>0.0</td>\n",
       "      <td>0.0</td>\n",
       "      <td>0.0</td>\n",
       "      <td>0.0</td>\n",
       "    </tr>\n",
       "    <tr>\n",
       "      <th>6388</th>\n",
       "      <td>413</td>\n",
       "      <td>6.0</td>\n",
       "      <td>5.0</td>\n",
       "      <td>7.0</td>\n",
       "      <td>8.0</td>\n",
       "      <td>7.0</td>\n",
       "      <td>6.0</td>\n",
       "      <td>7.0</td>\n",
       "      <td>0.0</td>\n",
       "      <td>5.0</td>\n",
       "      <td>6.0</td>\n",
       "      <td>6.0</td>\n",
       "      <td>5.0</td>\n",
       "      <td>3.0</td>\n",
       "      <td>5.0</td>\n",
       "      <td>4.0</td>\n",
       "      <td>6.0</td>\n",
       "      <td>9.0</td>\n",
       "    </tr>\n",
       "    <tr>\n",
       "      <th>6391</th>\n",
       "      <td>413</td>\n",
       "      <td>6.0</td>\n",
       "      <td>5.0</td>\n",
       "      <td>7.0</td>\n",
       "      <td>8.0</td>\n",
       "      <td>7.0</td>\n",
       "      <td>6.0</td>\n",
       "      <td>7.0</td>\n",
       "      <td>0.0</td>\n",
       "      <td>5.0</td>\n",
       "      <td>6.0</td>\n",
       "      <td>6.0</td>\n",
       "      <td>5.0</td>\n",
       "      <td>3.0</td>\n",
       "      <td>5.0</td>\n",
       "      <td>4.0</td>\n",
       "      <td>6.0</td>\n",
       "      <td>9.0</td>\n",
       "    </tr>\n",
       "    <tr>\n",
       "      <th>6381</th>\n",
       "      <td>413</td>\n",
       "      <td>6.0</td>\n",
       "      <td>5.0</td>\n",
       "      <td>7.0</td>\n",
       "      <td>8.0</td>\n",
       "      <td>7.0</td>\n",
       "      <td>6.0</td>\n",
       "      <td>7.0</td>\n",
       "      <td>0.0</td>\n",
       "      <td>5.0</td>\n",
       "      <td>6.0</td>\n",
       "      <td>6.0</td>\n",
       "      <td>5.0</td>\n",
       "      <td>3.0</td>\n",
       "      <td>5.0</td>\n",
       "      <td>4.0</td>\n",
       "      <td>6.0</td>\n",
       "      <td>9.0</td>\n",
       "    </tr>\n",
       "  </tbody>\n",
       "</table>\n",
       "</div>"
      ],
      "text/plain": [
       "      iid  music  exercise  dining   tv  tvsports  sports  shopping  yoga  \\\n",
       "6378  413    6.0       5.0     7.0  8.0       7.0     6.0       7.0   0.0   \n",
       "6393  414    1.0       9.0     5.0  7.0       5.0    10.0       2.0   0.0   \n",
       "6387  413    6.0       5.0     7.0  8.0       7.0     6.0       7.0   0.0   \n",
       "6404  414    1.0       9.0     5.0  7.0       5.0    10.0       2.0   0.0   \n",
       "6401  414    1.0       9.0     5.0  7.0       5.0    10.0       2.0   0.0   \n",
       "6389  413    6.0       5.0     7.0  8.0       7.0     6.0       7.0   0.0   \n",
       "6403  414    1.0       9.0     5.0  7.0       5.0    10.0       2.0   0.0   \n",
       "6394  414    1.0       9.0     5.0  7.0       5.0    10.0       2.0   0.0   \n",
       "6384  413    6.0       5.0     7.0  8.0       7.0     6.0       7.0   0.0   \n",
       "6398  414    1.0       9.0     5.0  7.0       5.0    10.0       2.0   0.0   \n",
       "6379  413    6.0       5.0     7.0  8.0       7.0     6.0       7.0   0.0   \n",
       "6377  413    6.0       5.0     7.0  8.0       7.0     6.0       7.0   0.0   \n",
       "6386  413    6.0       5.0     7.0  8.0       7.0     6.0       7.0   0.0   \n",
       "6405  414    1.0       9.0     5.0  7.0       5.0    10.0       2.0   0.0   \n",
       "6392  414    1.0       9.0     5.0  7.0       5.0    10.0       2.0   0.0   \n",
       "6395  414    1.0       9.0     5.0  7.0       5.0    10.0       2.0   0.0   \n",
       "6397  414    1.0       9.0     5.0  7.0       5.0    10.0       2.0   0.0   \n",
       "6408  414    1.0       9.0     5.0  7.0       5.0    10.0       2.0   0.0   \n",
       "6407  414    1.0       9.0     5.0  7.0       5.0    10.0       2.0   0.0   \n",
       "6400  414    1.0       9.0     5.0  7.0       5.0    10.0       2.0   0.0   \n",
       "6383  413    6.0       5.0     7.0  8.0       7.0     6.0       7.0   0.0   \n",
       "6406  414    1.0       9.0     5.0  7.0       5.0    10.0       2.0   0.0   \n",
       "6402  414    1.0       9.0     5.0  7.0       5.0    10.0       2.0   0.0   \n",
       "6388  413    6.0       5.0     7.0  8.0       7.0     6.0       7.0   0.0   \n",
       "6391  413    6.0       5.0     7.0  8.0       7.0     6.0       7.0   0.0   \n",
       "6381  413    6.0       5.0     7.0  8.0       7.0     6.0       7.0   0.0   \n",
       "\n",
       "      gaming  reading  theater  hiking  art  museums  clubbing  concerts  \\\n",
       "6378     5.0      6.0      6.0     5.0  3.0      5.0       4.0       6.0   \n",
       "6393     5.0      8.0      0.0     5.0  0.0      0.0       0.0       0.0   \n",
       "6387     5.0      6.0      6.0     5.0  3.0      5.0       4.0       6.0   \n",
       "6404     5.0      8.0      0.0     5.0  0.0      0.0       0.0       0.0   \n",
       "6401     5.0      8.0      0.0     5.0  0.0      0.0       0.0       0.0   \n",
       "6389     5.0      6.0      6.0     5.0  3.0      5.0       4.0       6.0   \n",
       "6403     5.0      8.0      0.0     5.0  0.0      0.0       0.0       0.0   \n",
       "6394     5.0      8.0      0.0     5.0  0.0      0.0       0.0       0.0   \n",
       "6384     5.0      6.0      6.0     5.0  3.0      5.0       4.0       6.0   \n",
       "6398     5.0      8.0      0.0     5.0  0.0      0.0       0.0       0.0   \n",
       "6379     5.0      6.0      6.0     5.0  3.0      5.0       4.0       6.0   \n",
       "6377     5.0      6.0      6.0     5.0  3.0      5.0       4.0       6.0   \n",
       "6386     5.0      6.0      6.0     5.0  3.0      5.0       4.0       6.0   \n",
       "6405     5.0      8.0      0.0     5.0  0.0      0.0       0.0       0.0   \n",
       "6392     5.0      8.0      0.0     5.0  0.0      0.0       0.0       0.0   \n",
       "6395     5.0      8.0      0.0     5.0  0.0      0.0       0.0       0.0   \n",
       "6397     5.0      8.0      0.0     5.0  0.0      0.0       0.0       0.0   \n",
       "6408     5.0      8.0      0.0     5.0  0.0      0.0       0.0       0.0   \n",
       "6407     5.0      8.0      0.0     5.0  0.0      0.0       0.0       0.0   \n",
       "6400     5.0      8.0      0.0     5.0  0.0      0.0       0.0       0.0   \n",
       "6383     5.0      6.0      6.0     5.0  3.0      5.0       4.0       6.0   \n",
       "6406     5.0      8.0      0.0     5.0  0.0      0.0       0.0       0.0   \n",
       "6402     5.0      8.0      0.0     5.0  0.0      0.0       0.0       0.0   \n",
       "6388     5.0      6.0      6.0     5.0  3.0      5.0       4.0       6.0   \n",
       "6391     5.0      6.0      6.0     5.0  3.0      5.0       4.0       6.0   \n",
       "6381     5.0      6.0      6.0     5.0  3.0      5.0       4.0       6.0   \n",
       "\n",
       "      movies  \n",
       "6378     9.0  \n",
       "6393     0.0  \n",
       "6387     9.0  \n",
       "6404     0.0  \n",
       "6401     0.0  \n",
       "6389     9.0  \n",
       "6403     0.0  \n",
       "6394     0.0  \n",
       "6384     9.0  \n",
       "6398     0.0  \n",
       "6379     9.0  \n",
       "6377     9.0  \n",
       "6386     9.0  \n",
       "6405     0.0  \n",
       "6392     0.0  \n",
       "6395     0.0  \n",
       "6397     0.0  \n",
       "6408     0.0  \n",
       "6407     0.0  \n",
       "6400     0.0  \n",
       "6383     9.0  \n",
       "6406     0.0  \n",
       "6402     0.0  \n",
       "6388     9.0  \n",
       "6391     9.0  \n",
       "6381     9.0  "
      ]
     },
     "execution_count": 58,
     "metadata": {},
     "output_type": "execute_result"
    }
   ],
   "source": [
    "X_train[(X_train.yoga) == 0][['iid'] + cols_interests]"
   ]
  },
  {
   "cell_type": "markdown",
   "id": "955e1e28-b2b0-416a-a37b-b9ca8734244f",
   "metadata": {
    "deletable": true,
    "editable": true,
    "frozen": false
   },
   "source": [
    "Seems like 0 is used to indicate a low interest, therefore we will replace the 0s with 1 (minimum interest) to maintain data consistency and avoiding skewing analyses."
   ]
  },
  {
   "cell_type": "code",
   "execution_count": 59,
   "id": "1c6357eb-221d-43a9-b78b-459e929eb7a8",
   "metadata": {
    "deletable": true,
    "editable": true,
    "frozen": false
   },
   "outputs": [],
   "source": [
    "X_train[cols_interests] = X_train[cols_interests].replace(0, 1)\n",
    "X_test[cols_interests]  = X_test[cols_interests].replace(0, 1)\n",
    "\n",
    "X_train[cols_interests_o] = X_train[cols_interests_o].replace(0, 1)\n",
    "X_test[cols_interests_o]  = X_test[cols_interests_o].replace(0, 1)"
   ]
  },
  {
   "cell_type": "markdown",
   "id": "fb58261c-c920-4916-8f9f-663bb91ffb1f",
   "metadata": {
    "deletable": true,
    "editable": true,
    "frozen": false
   },
   "source": [
    "### Age by gender"
   ]
  },
  {
   "cell_type": "markdown",
   "id": "6d2bb021-9dfb-423c-9d8d-4fbea1f369ca",
   "metadata": {
    "deletable": true,
    "editable": true,
    "frozen": false
   },
   "source": [
    "inspect number of missing values and the median age by gender:"
   ]
  },
  {
   "cell_type": "code",
   "execution_count": 60,
   "id": "924ddcbc-f192-4dff-a451-5729a7ead387",
   "metadata": {
    "deletable": true,
    "editable": true,
    "frozen": false
   },
   "outputs": [
    {
     "name": "stdout",
     "output_type": "stream",
     "text": [
      "<class 'pandas.core.frame.DataFrame'>\n",
      "Index: 6568 entries, 4504 to 50\n",
      "Data columns (total 2 columns):\n",
      " #   Column  Non-Null Count  Dtype  \n",
      "---  ------  --------------  -----  \n",
      " 0   age     6542 non-null   float64\n",
      " 1   age_o   6542 non-null   float64\n",
      "dtypes: float64(2)\n",
      "memory usage: 153.9 KB\n"
     ]
    }
   ],
   "source": [
    "cols_median_by_gender =  ['age', 'age_o']\n",
    "X_train[cols_median_by_gender].info()"
   ]
  },
  {
   "cell_type": "code",
   "execution_count": 61,
   "id": "a97fc2cf-e392-4093-a2c8-1a776b87d05f",
   "metadata": {
    "deletable": true,
    "editable": true,
    "frozen": false
   },
   "outputs": [
    {
     "data": {
      "text/html": [
       "<div>\n",
       "<style scoped>\n",
       "    .dataframe tbody tr th:only-of-type {\n",
       "        vertical-align: middle;\n",
       "    }\n",
       "\n",
       "    .dataframe tbody tr th {\n",
       "        vertical-align: top;\n",
       "    }\n",
       "\n",
       "    .dataframe thead th {\n",
       "        text-align: right;\n",
       "    }\n",
       "</style>\n",
       "<table border=\"1\" class=\"dataframe\">\n",
       "  <thead>\n",
       "    <tr style=\"text-align: right;\">\n",
       "      <th></th>\n",
       "      <th>age</th>\n",
       "    </tr>\n",
       "    <tr>\n",
       "      <th>gender</th>\n",
       "      <th></th>\n",
       "    </tr>\n",
       "  </thead>\n",
       "  <tbody>\n",
       "    <tr>\n",
       "      <th>0</th>\n",
       "      <td>26.0</td>\n",
       "    </tr>\n",
       "    <tr>\n",
       "      <th>1</th>\n",
       "      <td>27.0</td>\n",
       "    </tr>\n",
       "  </tbody>\n",
       "</table>\n",
       "</div>"
      ],
      "text/plain": [
       "         age\n",
       "gender      \n",
       "0       26.0\n",
       "1       27.0"
      ]
     },
     "execution_count": 61,
     "metadata": {},
     "output_type": "execute_result"
    }
   ],
   "source": [
    "X_train.groupby('gender')[['age']].median()"
   ]
  },
  {
   "cell_type": "markdown",
   "id": "4a323abd-ee7c-4e96-8297-07bca1f6c399",
   "metadata": {
    "deletable": true,
    "editable": true,
    "frozen": false
   },
   "source": [
    "Age values are imputed using gender-specific medians to preserves gender-specific age patterns in the data."
   ]
  },
  {
   "cell_type": "markdown",
   "id": "4de2fc96-d9ce-4f2d-88d8-d63013b16c7f",
   "metadata": {
    "deletable": true,
    "editable": true,
    "frozen": false
   },
   "source": [
    "🧡MII add link\n",
    "\n",
    "Function `impute_columns_by_gender` imputes missing or specific placeholder values (defined by old_value) in multiple columns of training (X_train) and test (X_test) datasets based on the gender of the individuals. "
   ]
  },
  {
   "cell_type": "code",
   "execution_count": 62,
   "id": "13eea656-b500-4b2e-990b-2010889b663f",
   "metadata": {
    "deletable": true,
    "editable": true,
    "frozen": false
   },
   "outputs": [],
   "source": [
    "X_train, X_test = impute_columns_by_gender(X_train, X_test, cols_median_by_gender, old_value=None)"
   ]
  },
  {
   "cell_type": "markdown",
   "id": "1ca38d42-32f5-400e-b2f0-23d7d47627c1",
   "metadata": {
    "deletable": true,
    "editable": true,
    "frozen": false
   },
   "source": [
    "### Race columns (How important is the race of your partner)"
   ]
  },
  {
   "cell_type": "markdown",
   "id": "79624c0b-f248-4ed4-8f52-da7c930a7938",
   "metadata": {
    "deletable": true,
    "editable": true,
    "frozen": false
   },
   "source": [
    "Inspect the number of missing values and the min-max range of the existing values:"
   ]
  },
  {
   "cell_type": "code",
   "execution_count": 63,
   "id": "21b6ad2c-341a-4e8f-9d38-8ae16d2a1140",
   "metadata": {
    "deletable": true,
    "editable": true,
    "frozen": false
   },
   "outputs": [
    {
     "name": "stdout",
     "output_type": "stream",
     "text": [
      "<class 'pandas.core.frame.DataFrame'>\n",
      "Index: 6568 entries, 4504 to 50\n",
      "Data columns (total 2 columns):\n",
      " #   Column     Non-Null Count  Dtype  \n",
      "---  ------     --------------  -----  \n",
      " 0   imprace    6568 non-null   float64\n",
      " 1   imprace_o  6568 non-null   float64\n",
      "dtypes: float64(2)\n",
      "memory usage: 153.9 KB\n"
     ]
    }
   ],
   "source": [
    "X_train[['imprace', 'imprace_o']].info()"
   ]
  },
  {
   "cell_type": "code",
   "execution_count": 64,
   "id": "d88bba65-8890-4ea9-83fc-f0d96644ee42",
   "metadata": {
    "deletable": true,
    "editable": true,
    "frozen": false
   },
   "outputs": [
    {
     "data": {
      "text/html": [
       "<div>\n",
       "<style scoped>\n",
       "    .dataframe tbody tr th:only-of-type {\n",
       "        vertical-align: middle;\n",
       "    }\n",
       "\n",
       "    .dataframe tbody tr th {\n",
       "        vertical-align: top;\n",
       "    }\n",
       "\n",
       "    .dataframe thead th {\n",
       "        text-align: right;\n",
       "    }\n",
       "</style>\n",
       "<table border=\"1\" class=\"dataframe\">\n",
       "  <thead>\n",
       "    <tr style=\"text-align: right;\">\n",
       "      <th></th>\n",
       "      <th>imprace</th>\n",
       "      <th>imprace_o</th>\n",
       "    </tr>\n",
       "  </thead>\n",
       "  <tbody>\n",
       "    <tr>\n",
       "      <th>count</th>\n",
       "      <td>6568.00</td>\n",
       "      <td>6568.00</td>\n",
       "    </tr>\n",
       "    <tr>\n",
       "      <th>mean</th>\n",
       "      <td>3.78</td>\n",
       "      <td>3.77</td>\n",
       "    </tr>\n",
       "    <tr>\n",
       "      <th>std</th>\n",
       "      <td>2.84</td>\n",
       "      <td>2.84</td>\n",
       "    </tr>\n",
       "    <tr>\n",
       "      <th>min</th>\n",
       "      <td>0.00</td>\n",
       "      <td>0.00</td>\n",
       "    </tr>\n",
       "    <tr>\n",
       "      <th>max</th>\n",
       "      <td>10.00</td>\n",
       "      <td>10.00</td>\n",
       "    </tr>\n",
       "    <tr>\n",
       "      <th>median</th>\n",
       "      <td>3.00</td>\n",
       "      <td>3.00</td>\n",
       "    </tr>\n",
       "  </tbody>\n",
       "</table>\n",
       "</div>"
      ],
      "text/plain": [
       "        imprace  imprace_o\n",
       "count   6568.00    6568.00\n",
       "mean       3.78       3.77\n",
       "std        2.84       2.84\n",
       "min        0.00       0.00\n",
       "max       10.00      10.00\n",
       "median     3.00       3.00"
      ]
     },
     "execution_count": 64,
     "metadata": {},
     "output_type": "execute_result"
    }
   ],
   "source": [
    "X_train[['imprace', 'imprace_o']].custom.describe()"
   ]
  },
  {
   "cell_type": "markdown",
   "id": "01a2bb33-424f-4d1e-a848-aa8ccf73e833",
   "metadata": {
    "deletable": true,
    "editable": true,
    "frozen": false
   },
   "source": [
    "Since there are no missing values but the minimal value is 0, we will assume that the respondents answered with 0 to assign minimal importance on the partner's race."
   ]
  },
  {
   "cell_type": "code",
   "execution_count": 65,
   "id": "14b1af37-43d9-49d4-a8d7-d61635c6d4d2",
   "metadata": {
    "deletable": true,
    "editable": true,
    "frozen": false
   },
   "outputs": [],
   "source": [
    "cols = ['imprace', 'imprace_o']\n",
    "for col in cols:\n",
    "    median = X_train[col].median()\n",
    "    X_train[col] = X_train[col].replace(0, median)\n",
    "    X_test[col] = X_test[col].replace(0, median)"
   ]
  },
  {
   "cell_type": "markdown",
   "id": "985d0942-b81a-4b6f-b8db-a7045e730c35",
   "metadata": {
    "deletable": true,
    "editable": true,
    "frozen": false
   },
   "source": [
    "### Date columns (How often do you go out on a date)"
   ]
  },
  {
   "cell_type": "code",
   "execution_count": 66,
   "id": "608e7027-7595-4f65-833d-aa25dd7b7bd9",
   "metadata": {
    "deletable": true,
    "editable": true,
    "frozen": false
   },
   "outputs": [
    {
     "name": "stdout",
     "output_type": "stream",
     "text": [
      "<class 'pandas.core.frame.DataFrame'>\n",
      "Index: 6568 entries, 4504 to 50\n",
      "Data columns (total 2 columns):\n",
      " #   Column  Non-Null Count  Dtype  \n",
      "---  ------  --------------  -----  \n",
      " 0   date    6557 non-null   float64\n",
      " 1   date_o  6552 non-null   float64\n",
      "dtypes: float64(2)\n",
      "memory usage: 153.9 KB\n"
     ]
    }
   ],
   "source": [
    "cols = ['date', 'date_o']\n",
    "X_train[cols].info()"
   ]
  },
  {
   "cell_type": "code",
   "execution_count": 67,
   "id": "f7f7ef5a-e219-445a-84f5-5a9c72478b2e",
   "metadata": {
    "deletable": true,
    "editable": true,
    "frozen": false
   },
   "outputs": [
    {
     "data": {
      "text/html": [
       "<div>\n",
       "<style scoped>\n",
       "    .dataframe tbody tr th:only-of-type {\n",
       "        vertical-align: middle;\n",
       "    }\n",
       "\n",
       "    .dataframe tbody tr th {\n",
       "        vertical-align: top;\n",
       "    }\n",
       "\n",
       "    .dataframe thead th {\n",
       "        text-align: right;\n",
       "    }\n",
       "</style>\n",
       "<table border=\"1\" class=\"dataframe\">\n",
       "  <thead>\n",
       "    <tr style=\"text-align: right;\">\n",
       "      <th></th>\n",
       "      <th>date</th>\n",
       "      <th>date_o</th>\n",
       "    </tr>\n",
       "  </thead>\n",
       "  <tbody>\n",
       "    <tr>\n",
       "      <th>count</th>\n",
       "      <td>6557.00</td>\n",
       "      <td>6552.00</td>\n",
       "    </tr>\n",
       "    <tr>\n",
       "      <th>mean</th>\n",
       "      <td>5.01</td>\n",
       "      <td>5.00</td>\n",
       "    </tr>\n",
       "    <tr>\n",
       "      <th>std</th>\n",
       "      <td>1.44</td>\n",
       "      <td>1.45</td>\n",
       "    </tr>\n",
       "    <tr>\n",
       "      <th>min</th>\n",
       "      <td>1.00</td>\n",
       "      <td>1.00</td>\n",
       "    </tr>\n",
       "    <tr>\n",
       "      <th>max</th>\n",
       "      <td>7.00</td>\n",
       "      <td>7.00</td>\n",
       "    </tr>\n",
       "    <tr>\n",
       "      <th>median</th>\n",
       "      <td>5.00</td>\n",
       "      <td>5.00</td>\n",
       "    </tr>\n",
       "  </tbody>\n",
       "</table>\n",
       "</div>"
      ],
      "text/plain": [
       "           date   date_o\n",
       "count   6557.00  6552.00\n",
       "mean       5.01     5.00\n",
       "std        1.44     1.45\n",
       "min        1.00     1.00\n",
       "max        7.00     7.00\n",
       "median     5.00     5.00"
      ]
     },
     "execution_count": 67,
     "metadata": {},
     "output_type": "execute_result"
    }
   ],
   "source": [
    "X_train[cols].custom.describe()"
   ]
  },
  {
   "cell_type": "code",
   "execution_count": 68,
   "id": "c4f255c1-4905-4c06-ae94-2365f9460549",
   "metadata": {
    "deletable": true,
    "editable": true,
    "frozen": false
   },
   "outputs": [],
   "source": [
    "columns =  ['date', 'date_o']\n",
    "for col in columns:\n",
    "    median_val = X_train[col].median()\n",
    "    X_train[col] = X_train[col].fillna(median_val) # Fill NA values\n",
    "    X_test[col] = X_test[col].fillna(median_val) # Fill NA values"
   ]
  },
  {
   "cell_type": "markdown",
   "id": "86ed59f5-c7d8-4d37-a771-f7d2660a2954",
   "metadata": {
    "deletable": true,
    "editable": true,
    "frozen": false
   },
   "source": [
    "### Questionnaire"
   ]
  },
  {
   "cell_type": "markdown",
   "id": "40beaaaa-77c3-456a-93de-cd50ac60f1dd",
   "metadata": {
    "deletable": true,
    "editable": true,
    "frozen": false
   },
   "source": [
    "Check remaining missing data:"
   ]
  },
  {
   "cell_type": "code",
   "execution_count": 69,
   "id": "b74d1a95-86f9-4473-8c5c-fe879c27bc38",
   "metadata": {
    "deletable": true,
    "editable": true,
    "frozen": false
   },
   "outputs": [
    {
     "data": {
      "text/plain": [
       "field_cd        16\n",
       "fun1_1           8\n",
       "amb1_1          16\n",
       "shar1_1         32\n",
       "attr4_1       1448\n",
       "sinc4_1       1448\n",
       "intel4_1      1448\n",
       "fun4_1        1448\n",
       "amb4_1        1448\n",
       "shar4_1       1464\n",
       "amb2_1           8\n",
       "shar2_1          8\n",
       "attr3_1         21\n",
       "sinc3_1         21\n",
       "fun3_1          21\n",
       "intel3_1        21\n",
       "amb3_1          21\n",
       "attr5_1       2697\n",
       "sinc5_1       2697\n",
       "intel5_1      2697\n",
       "fun5_1        2697\n",
       "amb5_1        2697\n",
       "fun1_1_o         9\n",
       "amb1_1_o        18\n",
       "shar1_1_o       37\n",
       "amb2_1_o         9\n",
       "shar2_1_o        9\n",
       "attr3_1_o       24\n",
       "sinc3_1_o       24\n",
       "intel3_1_o      24\n",
       "fun3_1_o        24\n",
       "amb3_1_o        24\n",
       "attr4_1_o     1448\n",
       "sinc4_1_o     1448\n",
       "intel4_1_o    1448\n",
       "fun4_1_o      1448\n",
       "amb4_1_o      1448\n",
       "shar4_1_o     1467\n",
       "attr5_1_o     2700\n",
       "sinc5_1_o     2700\n",
       "intel5_1_o    2700\n",
       "fun5_1_o      2700\n",
       "amb5_1_o      2700\n",
       "dtype: int64"
      ]
     },
     "execution_count": 69,
     "metadata": {},
     "output_type": "execute_result"
    }
   ],
   "source": [
    "X_train.isna().sum()[X_train.isna().sum() > 0]"
   ]
  },
  {
   "cell_type": "markdown",
   "id": "54694bc9-e26d-4ffe-ae53-976a994143a0",
   "metadata": {
    "deletable": true,
    "editable": true,
    "frozen": false
   },
   "source": [
    "All remaining columns with missing data are the questionnaire columns."
   ]
  },
  {
   "cell_type": "code",
   "execution_count": 70,
   "id": "337f2d79-5fc4-4c3a-a386-60f434a81342",
   "metadata": {
    "deletable": true,
    "editable": true,
    "frozen": false
   },
   "outputs": [
    {
     "data": {
      "text/html": [
       "<div>\n",
       "<style scoped>\n",
       "    .dataframe tbody tr th:only-of-type {\n",
       "        vertical-align: middle;\n",
       "    }\n",
       "\n",
       "    .dataframe tbody tr th {\n",
       "        vertical-align: top;\n",
       "    }\n",
       "\n",
       "    .dataframe thead th {\n",
       "        text-align: right;\n",
       "    }\n",
       "</style>\n",
       "<table border=\"1\" class=\"dataframe\">\n",
       "  <thead>\n",
       "    <tr style=\"text-align: right;\">\n",
       "      <th></th>\n",
       "      <th>attr1_1</th>\n",
       "      <th>sinc1_1</th>\n",
       "      <th>intel1_1</th>\n",
       "      <th>fun1_1</th>\n",
       "      <th>amb1_1</th>\n",
       "      <th>shar1_1</th>\n",
       "      <th>attr3_1</th>\n",
       "      <th>sinc3_1</th>\n",
       "      <th>intel3_1</th>\n",
       "      <th>fun3_1</th>\n",
       "      <th>amb3_1</th>\n",
       "    </tr>\n",
       "  </thead>\n",
       "  <tbody>\n",
       "    <tr>\n",
       "      <th>count</th>\n",
       "      <td>6568.00</td>\n",
       "      <td>6568.00</td>\n",
       "      <td>6568.00</td>\n",
       "      <td>6560.00</td>\n",
       "      <td>6552.00</td>\n",
       "      <td>6536.00</td>\n",
       "      <td>6547.00</td>\n",
       "      <td>6547.00</td>\n",
       "      <td>6547.00</td>\n",
       "      <td>6547.00</td>\n",
       "      <td>6547.00</td>\n",
       "    </tr>\n",
       "    <tr>\n",
       "      <th>mean</th>\n",
       "      <td>22.60</td>\n",
       "      <td>17.34</td>\n",
       "      <td>20.28</td>\n",
       "      <td>17.42</td>\n",
       "      <td>10.69</td>\n",
       "      <td>11.82</td>\n",
       "      <td>7.09</td>\n",
       "      <td>8.29</td>\n",
       "      <td>8.41</td>\n",
       "      <td>7.70</td>\n",
       "      <td>7.58</td>\n",
       "    </tr>\n",
       "    <tr>\n",
       "      <th>std</th>\n",
       "      <td>12.63</td>\n",
       "      <td>7.03</td>\n",
       "      <td>6.83</td>\n",
       "      <td>6.11</td>\n",
       "      <td>6.07</td>\n",
       "      <td>6.36</td>\n",
       "      <td>1.40</td>\n",
       "      <td>1.42</td>\n",
       "      <td>1.08</td>\n",
       "      <td>1.57</td>\n",
       "      <td>1.79</td>\n",
       "    </tr>\n",
       "    <tr>\n",
       "      <th>min</th>\n",
       "      <td>0.00</td>\n",
       "      <td>0.00</td>\n",
       "      <td>0.00</td>\n",
       "      <td>0.00</td>\n",
       "      <td>0.00</td>\n",
       "      <td>0.00</td>\n",
       "      <td>2.00</td>\n",
       "      <td>2.00</td>\n",
       "      <td>3.00</td>\n",
       "      <td>2.00</td>\n",
       "      <td>2.00</td>\n",
       "    </tr>\n",
       "    <tr>\n",
       "      <th>max</th>\n",
       "      <td>100.00</td>\n",
       "      <td>60.00</td>\n",
       "      <td>50.00</td>\n",
       "      <td>50.00</td>\n",
       "      <td>53.00</td>\n",
       "      <td>30.00</td>\n",
       "      <td>10.00</td>\n",
       "      <td>10.00</td>\n",
       "      <td>10.00</td>\n",
       "      <td>10.00</td>\n",
       "      <td>10.00</td>\n",
       "    </tr>\n",
       "    <tr>\n",
       "      <th>median</th>\n",
       "      <td>20.00</td>\n",
       "      <td>18.18</td>\n",
       "      <td>20.00</td>\n",
       "      <td>18.00</td>\n",
       "      <td>10.00</td>\n",
       "      <td>10.64</td>\n",
       "      <td>7.00</td>\n",
       "      <td>8.00</td>\n",
       "      <td>8.00</td>\n",
       "      <td>8.00</td>\n",
       "      <td>8.00</td>\n",
       "    </tr>\n",
       "  </tbody>\n",
       "</table>\n",
       "</div>"
      ],
      "text/plain": [
       "        attr1_1  sinc1_1  intel1_1   fun1_1   amb1_1  shar1_1  attr3_1  \\\n",
       "count   6568.00  6568.00   6568.00  6560.00  6552.00  6536.00  6547.00   \n",
       "mean      22.60    17.34     20.28    17.42    10.69    11.82     7.09   \n",
       "std       12.63     7.03      6.83     6.11     6.07     6.36     1.40   \n",
       "min        0.00     0.00      0.00     0.00     0.00     0.00     2.00   \n",
       "max      100.00    60.00     50.00    50.00    53.00    30.00    10.00   \n",
       "median    20.00    18.18     20.00    18.00    10.00    10.64     7.00   \n",
       "\n",
       "        sinc3_1  intel3_1   fun3_1   amb3_1  \n",
       "count   6547.00   6547.00  6547.00  6547.00  \n",
       "mean       8.29      8.41     7.70     7.58  \n",
       "std        1.42      1.08     1.57     1.79  \n",
       "min        2.00      3.00     2.00     2.00  \n",
       "max       10.00     10.00    10.00    10.00  \n",
       "median     8.00      8.00     8.00     8.00  "
      ]
     },
     "execution_count": 70,
     "metadata": {},
     "output_type": "execute_result"
    }
   ],
   "source": [
    "X_train[cols_questionnaire1 + cols_questionnaire3].custom.describe()"
   ]
  },
  {
   "attachments": {},
   "cell_type": "markdown",
   "id": "3ddff99c-afdb-4b37-b87c-81a0dec78593",
   "metadata": {
    "deletable": true,
    "editable": true,
    "frozen": false
   },
   "source": [
    "Inspecting the values we can see that some questions have a higher max and mean values. This happens because of a difference in the scale. Some wave of participants were asked to answer on a scale from 1 to 10. Other waves were asked to distribute 100 points among the questions.\n",
    "\n",
    "![questionnaire_max_values.png](images/questionnaire_max_values.png)"
   ]
  },
  {
   "cell_type": "markdown",
   "id": "6a0128af-845f-461e-82f9-af91d2d07678",
   "metadata": {
    "deletable": true,
    "editable": true,
    "frozen": false
   },
   "source": [
    "Since each question group must total exactly 100 points, we can't simply fill in missing values with the median. Instead, we should calculate the missing value by subtracting the sum of known responses from 100. This ensures we maintain the required 100-point total for each group.\n",
    "\n",
    "To achieve this we will calculate the sum and count of missing values for each questionnaire group. When a group has between 1-5 missing values (because the number of question is 6, the 6th answer may contain 100 points) and the existing values sum to 100, it fills the missing values with zeros, effectively distributing the questionnaire responses while preserving the total sum constraint.\n",
    "\n",
    "🧡MII add link to function"
   ]
  },
  {
   "cell_type": "code",
   "execution_count": 71,
   "id": "c45e5f5a-0557-4380-8fe8-f926a8432053",
   "metadata": {
    "deletable": true,
    "editable": true,
    "frozen": false
   },
   "outputs": [],
   "source": [
    "# Impute 0 because so that the sum of all answers will be 100\n",
    "X_train, X_test = questionnaire_impute_0(X_train, X_test, cols_questionnaire1, cols_questionnaire1_o, 'quest1')\n",
    "X_train, X_test = questionnaire_impute_0(X_train, X_test, cols_questionnaire2, cols_questionnaire2_o, 'quest2')\n",
    "X_train, X_test = questionnaire_impute_0(X_train, X_test, cols_questionnaire3, cols_questionnaire3_o, 'quest3', max_nan=4)\n",
    "X_train, X_test = questionnaire_impute_0(X_train, X_test, cols_questionnaire4, cols_questionnaire4_o, 'quest4')\n",
    "X_train, X_test = questionnaire_impute_0(X_train, X_test, cols_questionnaire5, cols_questionnaire5_o, 'quest5', max_nan=4)"
   ]
  },
  {
   "cell_type": "markdown",
   "id": "cf4b3d73-788a-4201-af63-8fc6e6e59526",
   "metadata": {
    "deletable": true,
    "editable": true,
    "frozen": false
   },
   "source": [
    "Are there any remaining missing values?"
   ]
  },
  {
   "cell_type": "code",
   "execution_count": 72,
   "id": "1c79f7ed-b09b-46c7-aad8-3347134df509",
   "metadata": {
    "deletable": true,
    "editable": true,
    "frozen": false
   },
   "outputs": [
    {
     "data": {
      "text/plain": [
       "attr3_1       21\n",
       "sinc3_1       21\n",
       "intel3_1      21\n",
       "fun3_1        21\n",
       "amb3_1        21\n",
       "attr3_1_o     24\n",
       "sinc3_1_o     24\n",
       "intel3_1_o    24\n",
       "fun3_1_o      24\n",
       "amb3_1_o      24\n",
       "dtype: int64"
      ]
     },
     "execution_count": 72,
     "metadata": {},
     "output_type": "execute_result"
    }
   ],
   "source": [
    "X_train[cols_questionnaire3 + cols_questionnaire3_o].isna().sum()"
   ]
  },
  {
   "cell_type": "markdown",
   "id": "7b1fb119-8976-4171-84f6-db502df93d92",
   "metadata": {
    "deletable": true,
    "editable": true,
    "frozen": false
   },
   "source": [
    "Yes, impute with the median value by gender:"
   ]
  },
  {
   "cell_type": "code",
   "execution_count": 73,
   "id": "76a5b793-e7e7-4f33-83df-dab0cb73ad9a",
   "metadata": {
    "deletable": true,
    "editable": true,
    "frozen": false
   },
   "outputs": [],
   "source": [
    "X_train, X_test = impute_columns_by_gender(X_train, X_test, cols_questionnaire, old_value=None)\n",
    "X_train, X_test = impute_columns_by_gender(X_train, X_test, cols_questionnaire_o, old_value=None)"
   ]
  },
  {
   "cell_type": "markdown",
   "id": "75cec661-95c1-4703-9707-fb48d37f809c",
   "metadata": {
    "deletable": true,
    "editable": true,
    "frozen": false
   },
   "source": [
    "## Normalize values"
   ]
  },
  {
   "cell_type": "markdown",
   "id": "8de9624d-cf7f-4ec8-b95d-3b5d47d48773",
   "metadata": {
    "deletable": true,
    "editable": true,
    "frozen": false
   },
   "source": [
    "The following sections normalize various categorical and numerical variables to make them more suitable for analysis and modeling."
   ]
  },
  {
   "cell_type": "markdown",
   "id": "5030241f-4f49-4e6f-93ef-b570e52de102",
   "metadata": {
    "deletable": true,
    "editable": true,
    "frozen": false
   },
   "source": [
    "### Interest columns"
   ]
  },
  {
   "cell_type": "code",
   "execution_count": 74,
   "id": "f2c32e59-d9bd-4f7f-a160-a09054aea72b",
   "metadata": {
    "deletable": true,
    "editable": true,
    "frozen": false
   },
   "outputs": [
    {
     "data": {
      "text/html": [
       "<div>\n",
       "<style scoped>\n",
       "    .dataframe tbody tr th:only-of-type {\n",
       "        vertical-align: middle;\n",
       "    }\n",
       "\n",
       "    .dataframe tbody tr th {\n",
       "        vertical-align: top;\n",
       "    }\n",
       "\n",
       "    .dataframe thead th {\n",
       "        text-align: right;\n",
       "    }\n",
       "</style>\n",
       "<table border=\"1\" class=\"dataframe\">\n",
       "  <thead>\n",
       "    <tr style=\"text-align: right;\">\n",
       "      <th></th>\n",
       "      <th>music</th>\n",
       "      <th>exercise</th>\n",
       "      <th>dining</th>\n",
       "      <th>tv</th>\n",
       "      <th>tvsports</th>\n",
       "      <th>sports</th>\n",
       "      <th>shopping</th>\n",
       "      <th>yoga</th>\n",
       "      <th>gaming</th>\n",
       "      <th>reading</th>\n",
       "      <th>theater</th>\n",
       "      <th>hiking</th>\n",
       "      <th>art</th>\n",
       "      <th>museums</th>\n",
       "      <th>clubbing</th>\n",
       "      <th>concerts</th>\n",
       "      <th>movies</th>\n",
       "    </tr>\n",
       "  </thead>\n",
       "  <tbody>\n",
       "    <tr>\n",
       "      <th>count</th>\n",
       "      <td>6568.00</td>\n",
       "      <td>6568.00</td>\n",
       "      <td>6568.00</td>\n",
       "      <td>6568.00</td>\n",
       "      <td>6568.00</td>\n",
       "      <td>6568.00</td>\n",
       "      <td>6568.00</td>\n",
       "      <td>6568.00</td>\n",
       "      <td>6568.00</td>\n",
       "      <td>6568.00</td>\n",
       "      <td>6568.00</td>\n",
       "      <td>6568.00</td>\n",
       "      <td>6568.00</td>\n",
       "      <td>6568.00</td>\n",
       "      <td>6568.00</td>\n",
       "      <td>6568.00</td>\n",
       "      <td>6568.00</td>\n",
       "    </tr>\n",
       "    <tr>\n",
       "      <th>mean</th>\n",
       "      <td>7.86</td>\n",
       "      <td>6.27</td>\n",
       "      <td>7.79</td>\n",
       "      <td>5.31</td>\n",
       "      <td>4.59</td>\n",
       "      <td>6.42</td>\n",
       "      <td>5.65</td>\n",
       "      <td>4.35</td>\n",
       "      <td>3.89</td>\n",
       "      <td>7.67</td>\n",
       "      <td>6.80</td>\n",
       "      <td>5.74</td>\n",
       "      <td>6.73</td>\n",
       "      <td>7.00</td>\n",
       "      <td>5.75</td>\n",
       "      <td>6.84</td>\n",
       "      <td>7.93</td>\n",
       "    </tr>\n",
       "    <tr>\n",
       "      <th>std</th>\n",
       "      <td>1.79</td>\n",
       "      <td>2.42</td>\n",
       "      <td>1.76</td>\n",
       "      <td>2.53</td>\n",
       "      <td>2.81</td>\n",
       "      <td>2.63</td>\n",
       "      <td>2.61</td>\n",
       "      <td>2.71</td>\n",
       "      <td>2.63</td>\n",
       "      <td>2.01</td>\n",
       "      <td>2.24</td>\n",
       "      <td>2.55</td>\n",
       "      <td>2.26</td>\n",
       "      <td>2.04</td>\n",
       "      <td>2.49</td>\n",
       "      <td>2.15</td>\n",
       "      <td>1.71</td>\n",
       "    </tr>\n",
       "    <tr>\n",
       "      <th>min</th>\n",
       "      <td>1.00</td>\n",
       "      <td>1.00</td>\n",
       "      <td>1.00</td>\n",
       "      <td>1.00</td>\n",
       "      <td>1.00</td>\n",
       "      <td>1.00</td>\n",
       "      <td>1.00</td>\n",
       "      <td>1.00</td>\n",
       "      <td>1.00</td>\n",
       "      <td>1.00</td>\n",
       "      <td>1.00</td>\n",
       "      <td>1.00</td>\n",
       "      <td>1.00</td>\n",
       "      <td>1.00</td>\n",
       "      <td>1.00</td>\n",
       "      <td>1.00</td>\n",
       "      <td>1.00</td>\n",
       "    </tr>\n",
       "    <tr>\n",
       "      <th>max</th>\n",
       "      <td>10.00</td>\n",
       "      <td>10.00</td>\n",
       "      <td>10.00</td>\n",
       "      <td>10.00</td>\n",
       "      <td>10.00</td>\n",
       "      <td>10.00</td>\n",
       "      <td>10.00</td>\n",
       "      <td>10.00</td>\n",
       "      <td>14.00</td>\n",
       "      <td>13.00</td>\n",
       "      <td>10.00</td>\n",
       "      <td>10.00</td>\n",
       "      <td>10.00</td>\n",
       "      <td>10.00</td>\n",
       "      <td>10.00</td>\n",
       "      <td>10.00</td>\n",
       "      <td>10.00</td>\n",
       "    </tr>\n",
       "    <tr>\n",
       "      <th>median</th>\n",
       "      <td>8.00</td>\n",
       "      <td>7.00</td>\n",
       "      <td>8.00</td>\n",
       "      <td>6.00</td>\n",
       "      <td>4.00</td>\n",
       "      <td>7.00</td>\n",
       "      <td>6.00</td>\n",
       "      <td>4.00</td>\n",
       "      <td>3.00</td>\n",
       "      <td>8.00</td>\n",
       "      <td>7.00</td>\n",
       "      <td>6.00</td>\n",
       "      <td>7.00</td>\n",
       "      <td>7.00</td>\n",
       "      <td>6.00</td>\n",
       "      <td>7.00</td>\n",
       "      <td>8.00</td>\n",
       "    </tr>\n",
       "  </tbody>\n",
       "</table>\n",
       "</div>"
      ],
      "text/plain": [
       "          music  exercise   dining       tv  tvsports   sports  shopping  \\\n",
       "count   6568.00   6568.00  6568.00  6568.00   6568.00  6568.00   6568.00   \n",
       "mean       7.86      6.27     7.79     5.31      4.59     6.42      5.65   \n",
       "std        1.79      2.42     1.76     2.53      2.81     2.63      2.61   \n",
       "min        1.00      1.00     1.00     1.00      1.00     1.00      1.00   \n",
       "max       10.00     10.00    10.00    10.00     10.00    10.00     10.00   \n",
       "median     8.00      7.00     8.00     6.00      4.00     7.00      6.00   \n",
       "\n",
       "           yoga   gaming  reading  theater   hiking      art  museums  \\\n",
       "count   6568.00  6568.00  6568.00  6568.00  6568.00  6568.00  6568.00   \n",
       "mean       4.35     3.89     7.67     6.80     5.74     6.73     7.00   \n",
       "std        2.71     2.63     2.01     2.24     2.55     2.26     2.04   \n",
       "min        1.00     1.00     1.00     1.00     1.00     1.00     1.00   \n",
       "max       10.00    14.00    13.00    10.00    10.00    10.00    10.00   \n",
       "median     4.00     3.00     8.00     7.00     6.00     7.00     7.00   \n",
       "\n",
       "        clubbing  concerts   movies  \n",
       "count    6568.00   6568.00  6568.00  \n",
       "mean        5.75      6.84     7.93  \n",
       "std         2.49      2.15     1.71  \n",
       "min         1.00      1.00     1.00  \n",
       "max        10.00     10.00    10.00  \n",
       "median      6.00      7.00     8.00  "
      ]
     },
     "execution_count": 74,
     "metadata": {},
     "output_type": "execute_result"
    }
   ],
   "source": [
    "X_train[cols_interests].custom.describe()"
   ]
  },
  {
   "cell_type": "markdown",
   "id": "26017bbd-7df4-4a5a-a629-fc1703497370",
   "metadata": {
    "deletable": true,
    "editable": true,
    "frozen": false
   },
   "source": [
    "Although the rating scale should ranged from 1 to 10, some participants entered values above 10. We interpret these responses as attempts to express extremely high interest. To maintain consistency with our scale's maximum value, we adjusted these responses down to 10."
   ]
  },
  {
   "cell_type": "code",
   "execution_count": 75,
   "id": "3dc5a8e3-1741-4407-b198-101b2df2ce33",
   "metadata": {
    "deletable": true,
    "editable": true,
    "frozen": false
   },
   "outputs": [],
   "source": [
    "replacement_dict = {\n",
    "    1: 1, \n",
    "    2: 2, \n",
    "    3: 3, \n",
    "    4: 4, \n",
    "    5: 5, \n",
    "    6: 6, \n",
    "    7: 7, \n",
    "    8: 8, \n",
    "    9: 9, \n",
    "    10: 10,\n",
    "    13: 10,\n",
    "    14: 10}\n",
    "\n",
    "X_train[cols_interests + cols_interests_o] = X_train[cols_interests + cols_interests_o].apply(lambda col: col.map(replacement_dict))\n",
    "X_test[cols_interests + cols_interests_o]  = X_test[cols_interests + cols_interests_o].apply(lambda col: col.map(replacement_dict))"
   ]
  },
  {
   "cell_type": "markdown",
   "id": "164b587d-2c9b-4ea3-9d1a-79fbcc5a3f94",
   "metadata": {
    "deletable": true,
    "editable": true,
    "frozen": false
   },
   "source": [
    "### Dating and going out frequency (_date_, _go_out_)"
   ]
  },
  {
   "cell_type": "markdown",
   "id": "134a9e31-31fe-45fa-9f5b-22a59637e60f",
   "metadata": {
    "deletable": true,
    "editable": true,
    "frozen": false
   },
   "source": [
    "This section normalizes columns related to dating frequency and going out frequency. \n",
    "\n",
    "The current values are:\n",
    "\n",
    "In general, how frequently do you go on dates? \n",
    "- Several times a week=1\n",
    "- Twice a week=2\n",
    "- Once a week=3\n",
    "- Twice a month=4\n",
    "- Once a month=5\n",
    "- Several times a year=6\n",
    "- Almost never=7\n",
    "\n",
    "We will map the values to represent approximate number of times per year:\n",
    "- 1 → 156 (≈3 times per week)\n",
    "- 2 → 104 (≈2 times per week)\n",
    "- 3 → 52 (weekly)\n",
    "- 4 → 24 (bi-weekly)\n",
    "- 5 → 12 (monthly)\n",
    "- 6 → 6 (bi-monthly)\n",
    "- 7 → 2 (rarely)"
   ]
  },
  {
   "cell_type": "code",
   "execution_count": 76,
   "id": "b9d348e9-c7be-4090-a82e-8f2a3ccd7dd0",
   "metadata": {
    "deletable": true,
    "editable": true,
    "frozen": false
   },
   "outputs": [],
   "source": [
    "replacement_dict = {\n",
    "    1: 156, \n",
    "    2: 104, \n",
    "    3: 52, \n",
    "    4: 24, \n",
    "    5: 12, \n",
    "    6: 6, \n",
    "    7: 2\n",
    "}\n",
    "\n",
    "cols = [\"date\", \"date_o\", \"go_out\", \"go_out_o\"]\n",
    "X_train[cols] = X_train[cols].apply(lambda col: col.map(replacement_dict))\n",
    "X_test[cols] = X_test[cols].apply(lambda col: col.map(replacement_dict))"
   ]
  },
  {
   "cell_type": "markdown",
   "id": "ac6c31c3-593c-4277-83ad-f5adf344a99f",
   "metadata": {
    "deletable": true,
    "editable": true,
    "frozen": false
   },
   "source": [
    "### Importance of race and religion (_imprace_, _imprelig_)"
   ]
  },
  {
   "cell_type": "markdown",
   "id": "b5d3a98d-4035-4e9f-8661-3c3b7ca2a754",
   "metadata": {
    "deletable": true,
    "editable": true,
    "frozen": false
   },
   "source": [
    "This section groups the importance of race and religion ratings into three categories (1, 2, 3) instead of the original 1-10 scale:"
   ]
  },
  {
   "cell_type": "code",
   "execution_count": 77,
   "id": "0d31e08e-cca7-430b-bd6e-a3f35bc05b0d",
   "metadata": {
    "deletable": true,
    "editable": true,
    "frozen": false
   },
   "outputs": [],
   "source": [
    "replacement_dict = {\n",
    "    1: 1, 2: 1, 3: 1,  # Low importance\n",
    "    4: 2, 5: 2, 6: 2,  # Medium importance\n",
    "    7: 3, 8: 3, 9: 3, 10: 3  # High importance\n",
    "}\n",
    "\n",
    "cols = ['imprace', 'imprace_o', 'imprelig', 'imprelig_o']\n",
    "X_train[cols] = X_train[cols].apply(lambda col: col.map(replacement_dict))\n",
    "X_test[cols]  = X_test[cols].apply(lambda col: col.map(replacement_dict))"
   ]
  },
  {
   "cell_type": "markdown",
   "id": "abdaf6ed-936b-47aa-ab41-6ac8014d3c1f",
   "metadata": {
    "deletable": true,
    "editable": true,
    "frozen": false
   },
   "source": [
    "### Goal of participating (_goal_/_goal_o_)"
   ]
  },
  {
   "cell_type": "markdown",
   "id": "264c5d38-0bef-47b3-89e4-07929cb1f0b4",
   "metadata": {
    "deletable": true,
    "editable": true,
    "frozen": false
   },
   "source": [
    "The original values are:\n",
    "\n",
    "What is your primary goal in participating in this event? \n",
    "- Seemed like a fun night out=1\n",
    "- To meet new people=2\n",
    "- To get a date=3\n",
    "- Looking for a serious relationship=4\n",
    "- To say I did it=5\n",
    "- Other=6\n",
    "\n",
    "We will simplify dating goals into three main categories:\n",
    "- 1 - I just want to have fun\n",
    "- 2 - I'm serious about finding friends or a date \n",
    "- 6 - Other"
   ]
  },
  {
   "cell_type": "code",
   "execution_count": 78,
   "id": "96800bbf-1233-4e40-98ae-cf5e83ce18c2",
   "metadata": {
    "deletable": true,
    "editable": true,
    "frozen": false
   },
   "outputs": [],
   "source": [
    "replacement_dict = {\n",
    "    1: 1,  # Category 1 (I just want to have fun)\n",
    "    2: 2, 3: 2, 4: 2,  # Category 2 (I'm serious about finding friends or a date )\n",
    "    5: 1,  # Category 1\n",
    "    6: 99  # Category 6 (Other - kept separate)\n",
    "}\n",
    "\n",
    "cols = ['goal', 'goal_o']\n",
    "X_train[cols] = X_train[cols].apply(lambda col: col.map(replacement_dict))\n",
    "X_test[cols]  = X_test[cols].apply(lambda col: col.map(replacement_dict))"
   ]
  },
  {
   "cell_type": "markdown",
   "id": "a4bad936-f307-4d2a-b750-c72e59b73477",
   "metadata": {
    "deletable": true,
    "editable": true,
    "frozen": false
   },
   "source": [
    "## Feature engineering - add equality/difference columns"
   ]
  },
  {
   "cell_type": "markdown",
   "id": "35a07885-3764-44e9-8f35-2d16c6a12b06",
   "metadata": {
    "deletable": true,
    "editable": true,
    "frozen": false
   },
   "source": [
    "### Equality columns"
   ]
  },
  {
   "cell_type": "markdown",
   "id": "3df12d88-7a37-42a5-b422-c42c9c622797",
   "metadata": {
    "deletable": true,
    "editable": true,
    "frozen": false
   },
   "source": [
    "Creates binary features (0/1) by comparing if values match between pairs of subject/partner characteristics. For example, if two users are from the same city, city_eq would be 1, otherwise 0."
   ]
  },
  {
   "cell_type": "code",
   "execution_count": 79,
   "id": "8ed1e4ca-21b4-4ac9-ab01-2212839bf958",
   "metadata": {
    "deletable": true,
    "editable": true,
    "frozen": false
   },
   "outputs": [],
   "source": [
    "cols = ['goal'] + ['race', 'imprace', 'imprelig'] + ['field'] + ['city', 'state_or_country']\n",
    "X_train = create_equality_features(X_train, cols)\n",
    "X_test = create_equality_features(X_test, cols)"
   ]
  },
  {
   "cell_type": "markdown",
   "id": "0999dfc8-cb9f-4aa0-ae56-22d98e4fcfa6",
   "metadata": {
    "deletable": true,
    "editable": true,
    "frozen": false
   },
   "source": [
    "### Difference columns"
   ]
  },
  {
   "cell_type": "markdown",
   "id": "577f989a-113c-438b-826e-0d33bf0ebc8f",
   "metadata": {
    "deletable": true,
    "editable": true,
    "frozen": false
   },
   "source": [
    "Create a new column with the numerical gap between 'goal' values for pairs by subtracting them (goal - goal_o). "
   ]
  },
  {
   "cell_type": "code",
   "execution_count": 80,
   "id": "3568e862-ebc5-474d-a575-84ad9d617c49",
   "metadata": {
    "deletable": true,
    "editable": true,
    "frozen": false
   },
   "outputs": [],
   "source": [
    "cols = ['goal']\n",
    "\n",
    "for col in cols:\n",
    "    X_train[f'{col}_diff'] = (X_train[col] - X_train[f'{col}_o'])\n",
    "    X_test[f'{col}_diff']  = (X_test[col] - X_test[f'{col}_o'])"
   ]
  },
  {
   "cell_type": "markdown",
   "id": "f99c29d2-8d49-43e9-97ef-01417d73db55",
   "metadata": {
    "deletable": true,
    "editable": true,
    "frozen": false
   },
   "source": [
    "## Delete columns/rows"
   ]
  },
  {
   "cell_type": "markdown",
   "id": "105d7bb1-4552-43ee-bfc0-ae6a405d383f",
   "metadata": {
    "deletable": true,
    "editable": true,
    "frozen": false
   },
   "source": [
    "### Drop columns for which we calculated equality"
   ]
  },
  {
   "cell_type": "code",
   "execution_count": 81,
   "id": "89315977-3ce0-4ec0-bdd6-513075127956",
   "metadata": {
    "deletable": true,
    "editable": true,
    "frozen": false
   },
   "outputs": [],
   "source": [
    "# 💛 MII do not delete career and career_o, we have cleaned it, may be useful\n",
    "cols_to_drop = []\n",
    "cols_to_drop = cols_to_drop + ['field', 'field_o', \"career\", \"career_o\"]\n",
    "cols_to_drop = cols_to_drop + ['from', 'undergra', 'city', 'city_o', 'city_eq', 'state_or_country', 'state_or_country_o']\n",
    "\n",
    "X_train = X_train.drop(columns=cols_to_drop, axis=1, errors='ignore')\n",
    "X_test = X_test.drop(columns=cols_to_drop, axis=1, errors='ignore')"
   ]
  },
  {
   "cell_type": "markdown",
   "id": "246a63e3-8958-4dd9-99f2-5ee2310aa515",
   "metadata": {
    "deletable": true,
    "editable": true,
    "frozen": false
   },
   "source": [
    "### Delete other columns"
   ]
  },
  {
   "cell_type": "code",
   "execution_count": 82,
   "id": "c7803f07-4671-456b-b780-70340ae7fc6c",
   "metadata": {
    "deletable": true,
    "editable": true,
    "frozen": false
   },
   "outputs": [],
   "source": [
    "cols_to_drop = ['iid', 'pid', 'wave', 'field_cd', 'gender_o', 'dec_o', 'samerace']\n",
    "X_train = X_train.drop(columns=cols_to_drop, axis=1, errors='ignore')\n",
    "X_test = X_test.drop(columns=cols_to_drop, axis=1, errors='ignore')"
   ]
  },
  {
   "cell_type": "markdown",
   "id": "c11af734-4246-4893-b812-d2f7089338cf",
   "metadata": {
    "deletable": true,
    "editable": true,
    "frozen": false
   },
   "source": [
    "## Apply scaling of the entire dataframe"
   ]
  },
  {
   "cell_type": "code",
   "execution_count": 83,
   "id": "3cfaf971-41b5-4202-86c1-3e558c57d272",
   "metadata": {
    "deletable": true,
    "editable": true,
    "frozen": false
   },
   "outputs": [],
   "source": [
    "scaler = MaxAbsScaler()\n",
    "\n",
    "X_train = pd.DataFrame(scaler.fit_transform(X_train), index = X_train.index, columns=X_train.columns)\n",
    "X_test  = pd.DataFrame(scaler.fit_transform(X_test),  index = X_test.index,  columns=X_test.columns)   "
   ]
  },
  {
   "cell_type": "markdown",
   "id": "1bccf131-5b46-4b53-ac5c-f095e1a0afde",
   "metadata": {
    "deletable": true,
    "editable": true,
    "frozen": false
   },
   "source": [
    "## Choose a metric"
   ]
  },
  {
   "cell_type": "markdown",
   "id": "16b50505-3e19-4e31-a759-aa88a5e5ab07",
   "metadata": {
    "deletable": true,
    "editable": true,
    "frozen": false
   },
   "source": [
    "In developing a machine learning model for a dating app, our goal is to accurately predict good matches between registered users based on their questionnaire responses. To ensure a positive user experience, we must prioritize **minimizing false positives**, where the model might suggest a match that isn't actually compatible. This approach aligns with maximizing **precision** - the proportion of predicted matches that are genuinely good matches. \n",
    "\n",
    "However, maximizing precision alone could result in very low recall, meaning we might overlook many potential good matches. To address this, we aim to establish a balanced approach that maintains high precision while retaining enough recall to avoid missing too many viable connections. To achieve this balance, we will implement a custom weighted metric that assigns 70% weight to precision and 30% to recall, guiding the model to focus on accurate match predictions while also allowing for a reasonable level of inclusivity in recommendations. This approach aligns with our objective of quality over quantity, but not at the expense of completely disregarding potentially good matches."
   ]
  },
  {
   "cell_type": "markdown",
   "id": "c3f7d6b2-37ec-4508-a14a-49e4b0f48e4c",
   "metadata": {
    "deletable": true,
    "editable": true,
    "frozen": false
   },
   "source": [
    "### Define a custom weighted metric"
   ]
  },
  {
   "cell_type": "markdown",
   "id": "0b43d97c-cd2d-4304-9926-afdd0d62b44d",
   "metadata": {
    "deletable": true,
    "editable": true,
    "frozen": false
   },
   "source": [
    "The default F1 score assigns equal weights to precision and recall. In order to achieve our goal of having 70% weight on the precision, we will define a **weighted F1-score** (also called the $ F_{\\beta} $-score).\n",
    "\n",
    "To calculate it, we can use the following formula:\n",
    "\n",
    "$$\n",
    "F_{\\text{weighted}} = \\frac{(1 + \\beta^2) \\times \\text{Precision} \\times \\text{Recall}}{(\\beta^2 \\times \\text{Precision}) + \\text{Recall}}\n",
    "$$\n",
    "\n",
    "where:\n",
    "- $ \\beta $ is a parameter that represents the weight given to recall relative to precision. A smaller $ \\beta $ (less than 1) puts more weight on precision, while a larger $ \\beta $ (greater than 1) favors recall."
   ]
  },
  {
   "cell_type": "markdown",
   "id": "57fd8a4c-b985-4329-ac30-7162f657d2f9",
   "metadata": {
    "deletable": true,
    "editable": true,
    "frozen": false
   },
   "source": [
    "### Determine $ \\beta $ Based on the Precision-Recall Balance"
   ]
  },
  {
   "cell_type": "markdown",
   "id": "0a176881-d5f0-464f-ae0d-1227984b8686",
   "metadata": {
    "deletable": true,
    "editable": true,
    "frozen": false
   },
   "source": [
    "We need to calculate $ \\beta $ such that precision gets a weight of 0.7 and recall gets a weight of 0.3. We can achieve this using the formula:\n",
    "\n",
    "   $$\n",
    "   \\beta = \\sqrt{\\frac{1 - \\text{Precision weight}}{\\text{Precision weight}}} = \\sqrt{\\frac{1 - 0.7}{0.7}} \\approx 0.55\n",
    "   $$"
   ]
  },
  {
   "cell_type": "markdown",
   "id": "ae46eec8-9046-48cf-ad00-e87f3d4dad2f",
   "metadata": {
    "deletable": true,
    "editable": true,
    "frozen": false
   },
   "source": [
    "## ➡️Test Optuna"
   ]
  },
  {
   "cell_type": "markdown",
   "id": "d0942735-d765-4c2f-a1bb-bcbc6a6ddbe6",
   "metadata": {
    "deletable": true,
    "editable": true,
    "frozen": false
   },
   "source": [
    "#### Imports"
   ]
  },
  {
   "cell_type": "code",
   "execution_count": null,
   "id": "affc15a4-c97a-4bab-8497-b78ac7d35549",
   "metadata": {
    "deletable": false,
    "editable": false,
    "frozen": true
   },
   "outputs": [],
   "source": [
    "import optuna\n",
    "import numpy as np\n",
    "import pandas as pd\n",
    "from sklearn.model_selection import cross_val_score, train_test_split\n",
    "from sklearn.ensemble import RandomForestClassifier\n",
    "from sklearn.preprocessing import StandardScaler\n",
    "from sklearn.metrics import classification_report, make_scorer\n",
    "import time\n",
    "from typing import Tuple, Dict, Callable\n",
    "from functools import partial\n",
    "from functools import partial, update_wrapper"
   ]
  },
  {
   "cell_type": "markdown",
   "id": "2280ad56-8cc7-49ae-b21f-bff4f0b744c1",
   "metadata": {
    "deletable": true,
    "editable": true,
    "frozen": false
   },
   "source": [
    "#### Helpers"
   ]
  },
  {
   "cell_type": "code",
   "execution_count": null,
   "id": "9de6fe9b-b02d-4985-ab05-d92987caf7eb",
   "metadata": {
    "deletable": false,
    "editable": false,
    "frozen": true
   },
   "outputs": [],
   "source": [
    "def custom_metric(y_true, y_pred):\n",
    "    \"\"\"\n",
    "    Custom metric that combines precision and recall with a fixed weight.\n",
    "    \"\"\"\n",
    "    prec = precision_score(y_true, y_pred)\n",
    "    rec = recall_score(y_true, y_pred)\n",
    "    BETA = 0.55\n",
    "    f_weighted = (1 + BETA**2) * (prec * rec) / ((BETA**2 * prec) + rec)\n",
    "\n",
    "    return f_weighted\n",
    "\n",
    "def get_metrics(y_true, y_pred, custom_scorer):\n",
    "    \"\"\"Calculate all relevant metrics\"\"\"\n",
    "    return {\n",
    "        'f1_weighted': custom_scorer(y_true, y_pred),\n",
    "        'f1':          f1_score(y_true, y_pred),\n",
    "        'precision':   precision_score(y_true, y_pred),\n",
    "        'recall':      recall_score(y_true, y_pred)\n",
    "    }"
   ]
  },
  {
   "cell_type": "markdown",
   "id": "4f51ac37-feaf-4c28-b199-7fe3efa71de7",
   "metadata": {
    "deletable": true,
    "editable": true,
    "frozen": false
   },
   "source": [
    "#### Objective"
   ]
  },
  {
   "cell_type": "code",
   "execution_count": null,
   "id": "86f70db1-698e-4bcb-9e72-73eb0592c925",
   "metadata": {
    "deletable": false,
    "editable": false,
    "frozen": true
   },
   "outputs": [],
   "source": [
    "def objective(trial, X_train, y_train, custom_scorer):\n",
    "    \"\"\"Optuna objective function using custom metric\"\"\"\n",
    "    params = {\n",
    "        'n_estimators':      trial.suggest_categorical('n_estimators', [100, 200, 300]),\n",
    "        # 'max_depth':         trial.suggest_categorical('max_depth', [None]),\n",
    "        # 'min_samples_split': trial.suggest_categorical('min_samples_split', [2]),\n",
    "        # 'min_samples_leaf':  trial.suggest_categorical('min_samples_leaf', [1]),\n",
    "        # 'max_features':      trial.suggest_categorical('max_features', ['sqrt']) # 'log2'\n",
    "    }\n",
    "    \n",
    "    clf = RandomForestClassifier(**params, random_state=RANDOM_STATE, n_jobs=-1)\n",
    "    scores = cross_val_score(clf, X_train, y_train, cv=5, scoring=custom_scorer)\n",
    "    return scores.mean()"
   ]
  },
  {
   "cell_type": "markdown",
   "id": "2c3eae94-984b-4881-ab53-7714524b1c97",
   "metadata": {
    "deletable": true,
    "editable": true,
    "frozen": false
   },
   "source": [
    "#### Train and evaluate"
   ]
  },
  {
   "cell_type": "code",
   "execution_count": 84,
   "id": "43498b83-ecf8-4be4-89ac-dc6f6f9a0595",
   "metadata": {
    "deletable": true,
    "editable": true,
    "frozen": false
   },
   "outputs": [],
   "source": [
    "N_TRIALS = 10"
   ]
  },
  {
   "cell_type": "code",
   "execution_count": null,
   "id": "743d5d48-4943-466a-a5e6-1fe8d7e41ab2",
   "metadata": {
    "deletable": false,
    "editable": false,
    "frozen": true
   },
   "outputs": [],
   "source": [
    "np.random.seed(RANDOM_STATE)\n",
    "\n",
    "def train_and_evaluate(_X_train, _X_test, _y_train, _y_test, precision_weight: float = 0.7):\n",
    "    X_train, X_test, y_train, y_test = _X_train.copy(), _X_test.copy(), _y_train.copy(), _y_test.copy()\n",
    "    \n",
    "    X_train_scaled = X_train\n",
    "    X_test_scaled = X_test\n",
    "    \n",
    "    # Define custom scorer callable\n",
    "    def custom_scorer_callable(estimator, X, y):\n",
    "        y_pred = estimator.predict(X)\n",
    "        return custom_metric(y, y_pred)\n",
    "    \n",
    "    results = {\n",
    "        'optuna': {'train': {}, 'test': {}, 'training_time': None}\n",
    "    }\n",
    "   \n",
    "    # Optuna optimization\n",
    "    print(\"\\nOptimizing with Optuna...\")\n",
    "    optuna_start_time = time.time()\n",
    "    sampler = optuna.samplers.TPESampler(seed=RANDOM_STATE)  # Set seed for the sampler\n",
    "    study = optuna.create_study(direction='maximize', sampler=sampler)\n",
    "    study.optimize(lambda trial: objective(trial, X_train_scaled, y_train, custom_scorer_callable), n_trials=N_TRIALS)\n",
    "    \n",
    "    # Train final model with best parameters\n",
    "    best_model = RandomForestClassifier(**study.best_params, random_state=RANDOM_STATE, n_jobs=-1)\n",
    "    best_model.fit(X_train_scaled, y_train)\n",
    "    results['optuna']['training_time'] = time.time() - optuna_start_time\n",
    "    \n",
    "    # Get Optuna predictions and metrics\n",
    "    y_train_pred_optuna = best_model.predict(X_train_scaled)\n",
    "    y_test_pred_optuna = best_model.predict(X_test_scaled)\n",
    "    results['optuna']['train'] = get_metrics(y_train, y_train_pred_optuna, custom_metric)\n",
    "    results['optuna']['test'] = get_metrics(y_test, y_test_pred_optuna, custom_metric)\n",
    "    \n",
    "    # Create comparison DataFrame\n",
    "    comparison = pd.DataFrame({\n",
    "        'Optuna Train': [results['optuna']['train']['custom_score'], results['optuna']['train']['f1'], results['optuna']['train']['precision'], results['optuna']['train']['recall'], results['optuna']['training_time']],\n",
    "        'Optuna Test': [results['optuna']['test']['custom_score'], results['optuna']['test']['f1'], results['optuna']['test']['precision'], results['optuna']['test']['recall'], '-']\n",
    "    }, index=['Custom Score', 'F1 Score', 'Precision', 'Recall', 'Training Time (s)'])\n",
    "    \n",
    "    print(f\"\\nUsing custom metric (precision_weight={precision_weight})\")\n",
    "    print(\"\\nBest Optuna parameters:\", study.best_params)\n",
    "    print(\"\\nMetrics Comparison:\")\n",
    "    print(comparison.round(4))\n",
    "    \n",
    "    # Detailed classification reports\n",
    "  \n",
    "    print(\"\\nOptuna Model - Test Set Classification Report:\")\n",
    "    print(classification_report(y_test, y_test_pred_optuna))\n",
    "    \n",
    "    return best_model, scaler, study #study.best_params"
   ]
  },
  {
   "cell_type": "code",
   "execution_count": null,
   "id": "3c6aa793-0d5b-424f-b44b-5b66a31a469f",
   "metadata": {
    "deletable": false,
    "editable": false,
    "frozen": true
   },
   "outputs": [],
   "source": [
    "best_model, scaler, study = train_and_evaluate(X_train, X_test, y_train, y_test, precision_weight=0.7)"
   ]
  },
  {
   "cell_type": "code",
   "execution_count": null,
   "id": "1f0059ab-0d3c-41db-a2d8-2ab365e20e77",
   "metadata": {
    "deletable": false,
    "editable": false,
    "frozen": true
   },
   "outputs": [],
   "source": [
    "print(\"Best model (optuna)\", best_model.get_params())"
   ]
  },
  {
   "cell_type": "code",
   "execution_count": null,
   "id": "1f5f9306-440d-4d8f-9f2f-318060c6c6e5",
   "metadata": {
    "deletable": false,
    "editable": false,
    "frozen": true
   },
   "outputs": [],
   "source": [
    "print(\"Best params: \", study.best_params)"
   ]
  },
  {
   "cell_type": "markdown",
   "id": "8b9a439b-687f-4ec1-ae53-1c5f0a59dcf6",
   "metadata": {
    "deletable": true,
    "editable": true,
    "frozen": false
   },
   "source": [
    "## 💛Choose a model"
   ]
  },
  {
   "cell_type": "markdown",
   "id": "6c9ee927-420e-4f79-8fc6-8615a8298ed1",
   "metadata": {
    "deletable": true,
    "editable": true,
    "frozen": false
   },
   "source": [
    "First, we will train several base models using their default hyperparameters. The performance of these models will be evaluated using cross validation with the F-beta score as the metric.\n",
    "\n",
    "Based on the F-beta score from cross-validation, the top 5 models will be selected for further fine-tuning. These models will be trained with an expanded set of hyperparameters to improve their performance.\n",
    "\n",
    "Among the fine-tuned models, the one with the highest F-beta score will be chosen as the final model. This model will then be used to make predictions (`y_pred`) on the test dataset."
   ]
  },
  {
   "cell_type": "markdown",
   "id": "7df6378b-4b40-4b51-acc6-c21695ef4b1e",
   "metadata": {
    "deletable": true,
    "editable": true,
    "frozen": false,
    "jp-MarkdownHeadingCollapsed": true
   },
   "source": [
    "### Train base models"
   ]
  },
  {
   "cell_type": "markdown",
   "id": "68631ec1-3b4a-45ef-8580-5b32af6a7a00",
   "metadata": {
    "deletable": true,
    "editable": true,
    "frozen": false
   },
   "source": [
    "#### Define base models"
   ]
  },
  {
   "cell_type": "code",
   "execution_count": 85,
   "id": "cdda8c3a-1c12-47aa-860e-b09defa78799",
   "metadata": {
    "deletable": true,
    "editable": true,
    "frozen": false
   },
   "outputs": [],
   "source": [
    "log_reg_param_grid = {\"model\": [LogisticRegression(random_state=RANDOM_STATE)], \"model__max_iter\": [1000]}\n",
    "hgbc_param_grid    = {\"model\": [HistGradientBoostingClassifier(random_state=RANDOM_STATE)]}\n",
    "rf_param_grid      = {\"model\": [RandomForestClassifier(random_state=RANDOM_STATE)]}\n",
    "svc_param_grid     = {\"model\": [SVC(random_state=RANDOM_STATE)]}\n",
    "knn_param_grid     = {\"model\": [KNeighborsClassifier()]}\n",
    "gb_param_grid      = {\"model\": [GradientBoostingClassifier(random_state=RANDOM_STATE)]}\n",
    "dt_param_grid      = {\"model\": [DecisionTreeClassifier(random_state=RANDOM_STATE)]}\n",
    "pac_param_grid     = {\"model\": [PassiveAggressiveClassifier(random_state=RANDOM_STATE)]}\n",
    "lda_param_grid     = {\"model\": [LinearDiscriminantAnalysis()]}\n",
    "xgb_param_grid     = {\"model\": [XGBClassifier(objective=\"binary:logistic\", random_state=RANDOM_STATE)]}\n",
    "perceptron_param_grid = {\"model\": [Perceptron(random_state=RANDOM_STATE)]}"
   ]
  },
  {
   "cell_type": "markdown",
   "id": "9dd8a0fe-70b2-45bf-b4a7-7a38ab3b70f1",
   "metadata": {
    "deletable": true,
    "editable": true,
    "frozen": false,
    "jp-MarkdownHeadingCollapsed": true
   },
   "source": [
    "#### Define base parameter grid"
   ]
  },
  {
   "cell_type": "code",
   "execution_count": 86,
   "id": "50c829a0-7e4f-4634-b0ab-454b8c0e6141",
   "metadata": {
    "deletable": true,
    "editable": true,
    "frozen": false
   },
   "outputs": [],
   "source": [
    "param_grid_base = [\n",
    "    {**log_reg_param_grid},\n",
    "    {**rf_param_grid},\n",
    "    {**xgb_param_grid},\n",
    "    {**hgbc_param_grid},\n",
    "    {**gb_param_grid},\n",
    "    {**svc_param_grid},\n",
    "    {**knn_param_grid},\n",
    "    {**dt_param_grid},\n",
    "    {**perceptron_param_grid},\n",
    "    {**pac_param_grid},\n",
    "    {**lda_param_grid},\n",
    "]"
   ]
  },
  {
   "cell_type": "markdown",
   "id": "b4cca379-8fe2-4a20-b2a8-450ecb12cab6",
   "metadata": {
    "deletable": true,
    "editable": true,
    "frozen": false
   },
   "source": [
    "#### Evaluate base models"
   ]
  },
  {
   "cell_type": "code",
   "execution_count": 87,
   "id": "e89a41e0-e275-4843-8be1-85e2b68a0d8d",
   "metadata": {
    "deletable": true,
    "editable": true,
    "frozen": false
   },
   "outputs": [
    {
     "name": "stdout",
     "output_type": "stream",
     "text": [
      "Evaluating several base models: \n",
      "Evaluating combination 1/1: Weighted fbeta score: 0.5401 (from cache af99c4a36af029aa5413c8987d78d5b4)\n",
      "Evaluating combination 1/1: Weighted fbeta score: 0.6419 (from cache 0c698364e7d3b873fd124ac7cc7fdd0d)\n",
      "Evaluating combination 1/1: Weighted fbeta score: 0.6500 (from cache 524d96d1aa92eb64ae3bcf9803ebe31f)\n",
      "Evaluating combination 1/1: Weighted fbeta score: 0.6564 (from cache 396b5d2c4b361f06330d6a7c9a4e8eb7)\n",
      "Evaluating combination 1/1: Weighted fbeta score: 0.6248 (from cache 180869454fce5727450a365af6a2481a)\n",
      "Evaluating combination 1/1: Weighted fbeta score: 0.5872 (from cache 581986bc09cafe0da4491a0a461edd90)\n",
      "Evaluating combination 1/1: Weighted fbeta score: 0.5838 (from cache 349c15d5a9aee5616d05e96e791367ea)\n",
      "Evaluating combination 1/1: Weighted fbeta score: 0.5443 (from cache c0cc3b4dc2a35a11d6ef5b840b702f05)\n",
      "Evaluating combination 1/1: Weighted fbeta score: 0.3875 (from cache 0d74a43d730b306a6b2eb4169fc57fc8)\n",
      "Evaluating combination 1/1: Weighted fbeta score: 0.2939 (from cache b2ab84bc692659e468183f4d08f2ea76)\n",
      "Evaluating combination 1/1: Weighted fbeta score: 0.5376 (from cache 7faef113590a6eecd1821837ac7bdb5a)\n"
     ]
    }
   ],
   "source": [
    "print(\"Evaluating several base models: \")\n",
    "results_base = evaluate_parameter_grid(param_grid_base, X_train, y_train)"
   ]
  },
  {
   "cell_type": "markdown",
   "id": "d4d8d14d-da8a-4703-9be9-0af31daf4a88",
   "metadata": {
    "deletable": true,
    "editable": true,
    "frozen": false
   },
   "source": [
    "### Select and hypertune top 5 models"
   ]
  },
  {
   "cell_type": "markdown",
   "id": "879e79a0-1b3b-4471-8e6d-1ff52e10b3fd",
   "metadata": {
    "deletable": true,
    "editable": true,
    "frozen": false
   },
   "source": [
    "#### Select top 5 models"
   ]
  },
  {
   "cell_type": "code",
   "execution_count": 88,
   "id": "afa7ebcc-a2ac-4902-9843-ad553856ca13",
   "metadata": {
    "deletable": true,
    "editable": true,
    "frozen": false
   },
   "outputs": [
    {
     "name": "stdout",
     "output_type": "stream",
     "text": [
      "Top 5 base models: \n",
      "\u001b[35mRank 1/11 - \u001b[0m\u001b[31mWeighted Fbeta: 0.6564, \u001b[0mPrecision: 0.7052, Recall: 0.6924\n",
      "\u001b[34mPipeline parameters: \n",
      "\u001b[0m\u001b[36mmodel\u001b[0m: HistGradientBoostingClassifier, \n",
      "\u001b[36mcategorical_features\u001b[0m: warn, \u001b[36mclass_weight\u001b[0m: None, \u001b[36mearly_stopping\u001b[0m: auto, \u001b[36minteraction_cst\u001b[0m: None, \u001b[36ml2_regularization\u001b[0m: 0.0, \u001b[36mlearning_rate\u001b[0m: 0.1, \u001b[36mloss\u001b[0m: log_loss, \u001b[36mmax_bins\u001b[0m: 255, \u001b[36mmax_depth\u001b[0m: None, \u001b[36mmax_features\u001b[0m: 1.0, \u001b[36mmax_iter\u001b[0m: 100, \u001b[36mmax_leaf_nodes\u001b[0m: 31, \u001b[36mmin_samples_leaf\u001b[0m: 20, \u001b[36mmonotonic_cst\u001b[0m: None, \u001b[36mn_iter_no_change\u001b[0m: 10, \u001b[36mrandom_state\u001b[0m: 42, \u001b[36mscoring\u001b[0m: loss, \u001b[36mtol\u001b[0m: 1e-07, \u001b[36mvalidation_fraction\u001b[0m: 0.1, \u001b[36mverbose\u001b[0m: 0, \u001b[36mwarm_start\u001b[0m: False, \n",
      "\n",
      "\u001b[35mRank 2/11 - \u001b[0m\u001b[31mWeighted Fbeta: 0.6500, \u001b[0mPrecision: 0.6987, Recall: 0.6912\n",
      "\u001b[34mPipeline parameters: \n",
      "\u001b[0m\u001b[36mmodel\u001b[0m: XGBClassifier, \n",
      "\u001b[36mobjective\u001b[0m: binary:logistic, \u001b[36mbase_score\u001b[0m: None, \u001b[36mbooster\u001b[0m: None, \u001b[36mcallbacks\u001b[0m: None, \u001b[36mcolsample_bylevel\u001b[0m: None, \u001b[36mcolsample_bynode\u001b[0m: None, \u001b[36mcolsample_bytree\u001b[0m: None, \u001b[36mdevice\u001b[0m: None, \u001b[36mearly_stopping_rounds\u001b[0m: None, \u001b[36menable_categorical\u001b[0m: False, \u001b[36meval_metric\u001b[0m: None, \u001b[36mfeature_types\u001b[0m: None, \u001b[36mgamma\u001b[0m: None, \u001b[36mgrow_policy\u001b[0m: None, \u001b[36mimportance_type\u001b[0m: None, \u001b[36minteraction_constraints\u001b[0m: None, \u001b[36mlearning_rate\u001b[0m: None, \u001b[36mmax_bin\u001b[0m: None, \u001b[36mmax_cat_threshold\u001b[0m: None, \u001b[36mmax_cat_to_onehot\u001b[0m: None, \u001b[36mmax_delta_step\u001b[0m: None, \u001b[36mmax_depth\u001b[0m: None, \u001b[36mmax_leaves\u001b[0m: None, \u001b[36mmin_child_weight\u001b[0m: None, \u001b[36mmissing\u001b[0m: nan, \u001b[36mmonotone_constraints\u001b[0m: None, \u001b[36mmulti_strategy\u001b[0m: None, \u001b[36mn_estimators\u001b[0m: None, \u001b[36mn_jobs\u001b[0m: None, \u001b[36mnum_parallel_tree\u001b[0m: None, \u001b[36mrandom_state\u001b[0m: 42, \u001b[36mreg_alpha\u001b[0m: None, \u001b[36mreg_lambda\u001b[0m: None, \u001b[36msampling_method\u001b[0m: None, \u001b[36mscale_pos_weight\u001b[0m: None, \u001b[36msubsample\u001b[0m: None, \u001b[36mtree_method\u001b[0m: None, \u001b[36mvalidate_parameters\u001b[0m: None, \u001b[36mverbosity\u001b[0m: None, \n",
      "\n",
      "\u001b[35mRank 3/11 - \u001b[0m\u001b[31mWeighted Fbeta: 0.6419, \u001b[0mPrecision: 0.7003, Recall: 0.6743\n",
      "\u001b[34mPipeline parameters: \n",
      "\u001b[0m\u001b[36mmodel\u001b[0m: RandomForestClassifier, \n",
      "\u001b[36mbootstrap\u001b[0m: True, \u001b[36mccp_alpha\u001b[0m: 0.0, \u001b[36mclass_weight\u001b[0m: None, \u001b[36mcriterion\u001b[0m: gini, \u001b[36mmax_depth\u001b[0m: None, \u001b[36mmax_features\u001b[0m: sqrt, \u001b[36mmax_leaf_nodes\u001b[0m: None, \u001b[36mmax_samples\u001b[0m: None, \u001b[36mmin_impurity_decrease\u001b[0m: 0.0, \u001b[36mmin_samples_leaf\u001b[0m: 1, \u001b[36mmin_samples_split\u001b[0m: 2, \u001b[36mmin_weight_fraction_leaf\u001b[0m: 0.0, \u001b[36mmonotonic_cst\u001b[0m: None, \u001b[36mn_estimators\u001b[0m: 100, \u001b[36mn_jobs\u001b[0m: None, \u001b[36moob_score\u001b[0m: False, \u001b[36mrandom_state\u001b[0m: 42, \u001b[36mverbose\u001b[0m: 0, \u001b[36mwarm_start\u001b[0m: False, \n",
      "\n",
      "\u001b[35mRank 4/11 - \u001b[0m\u001b[31mWeighted Fbeta: 0.6248, \u001b[0mPrecision: 0.6892, Recall: 0.6610\n",
      "\u001b[34mPipeline parameters: \n",
      "\u001b[0m\u001b[36mmodel\u001b[0m: GradientBoostingClassifier, \n",
      "\u001b[36mccp_alpha\u001b[0m: 0.0, \u001b[36mcriterion\u001b[0m: friedman_mse, \u001b[36minit\u001b[0m: None, \u001b[36mlearning_rate\u001b[0m: 0.1, \u001b[36mloss\u001b[0m: log_loss, \u001b[36mmax_depth\u001b[0m: 3, \u001b[36mmax_features\u001b[0m: None, \u001b[36mmax_leaf_nodes\u001b[0m: None, \u001b[36mmin_impurity_decrease\u001b[0m: 0.0, \u001b[36mmin_samples_leaf\u001b[0m: 1, \u001b[36mmin_samples_split\u001b[0m: 2, \u001b[36mmin_weight_fraction_leaf\u001b[0m: 0.0, \u001b[36mn_estimators\u001b[0m: 100, \u001b[36mn_iter_no_change\u001b[0m: None, \u001b[36mrandom_state\u001b[0m: 42, \u001b[36msubsample\u001b[0m: 1.0, \u001b[36mtol\u001b[0m: 0.0001, \u001b[36mvalidation_fraction\u001b[0m: 0.1, \u001b[36mverbose\u001b[0m: 0, \u001b[36mwarm_start\u001b[0m: False, \n",
      "\n",
      "\u001b[35mRank 5/11 - \u001b[0m\u001b[31mWeighted Fbeta: 0.5872, \u001b[0mPrecision: 0.6647, Recall: 0.6351\n",
      "\u001b[34mPipeline parameters: \n",
      "\u001b[0m\u001b[36mmodel\u001b[0m: SVC, \n",
      "\u001b[36mC\u001b[0m: 1.0, \u001b[36mbreak_ties\u001b[0m: False, \u001b[36mcache_size\u001b[0m: 200, \u001b[36mclass_weight\u001b[0m: None, \u001b[36mcoef0\u001b[0m: 0.0, \u001b[36mdecision_function_shape\u001b[0m: ovr, \u001b[36mdegree\u001b[0m: 3, \u001b[36mgamma\u001b[0m: scale, \u001b[36mkernel\u001b[0m: rbf, \u001b[36mmax_iter\u001b[0m: -1, \u001b[36mprobability\u001b[0m: False, \u001b[36mrandom_state\u001b[0m: 42, \u001b[36mshrinking\u001b[0m: True, \u001b[36mtol\u001b[0m: 0.001, \u001b[36mverbose\u001b[0m: False, \n",
      "\n"
     ]
    }
   ],
   "source": [
    "print(\"Top 5 base models: \")\n",
    "top_results_base = display_top_models(results_base, X_train.shape[1], top_k = 5, sort_by = 'weighted_fbeta')"
   ]
  },
  {
   "cell_type": "markdown",
   "id": "bff70b30-4141-462c-9704-c08a1a3bf021",
   "metadata": {
    "deletable": true,
    "editable": true,
    "frozen": false
   },
   "source": [
    "#### Define the parameters to optimize"
   ]
  },
  {
   "cell_type": "markdown",
   "id": "be4c2338-efd0-41f3-af41-c3cb68c186db",
   "metadata": {},
   "source": [
    "Function `load_model_params`, [defined in src/helpers.py](src/helpers.py) loads a JSON file, removes comments, and returns the parsed JSON object."
   ]
  },
  {
   "cell_type": "code",
   "execution_count": 89,
   "id": "87b09bd8-052c-4639-bd08-efafcd218d9d",
   "metadata": {
    "deletable": true,
    "editable": true,
    "frozen": false
   },
   "outputs": [],
   "source": [
    "# Histogram-based Gradient Boosting Classifier\n",
    "hdbc_param_grid = {\n",
    "    \"model\": [HistGradientBoostingClassifier(random_state=RANDOM_STATE)],\n",
    "    **load_model_params(\"src/model_params/hist_gradient_boosting_cls_full.json\")\n",
    "}\n",
    "\n",
    "xgb_param_grid = {\n",
    "    \"model\": [XGBClassifier(objective='binary:logistic', random_state=RANDOM_STATE)],\n",
    "    **load_model_params(\"src/model_params/xgb_cls_full.json\")\n",
    "    # \"model__booster\": [\"gbtree\"],  # Type of booster to use\n",
    "\n",
    "    # # Tree Booster Parameters (used in gbtree and dart boosters)\n",
    "    # \"model__eta\":               [0.05, 0.1, 0.2, 0.25, 0.3],     # ,  # Learning rate (slower = more robust)\n",
    "    # \"model__max_depth\":         [3, 10],      # default=6\n",
    "    # \"model__min_child_weight\":  [5],       # default=1\n",
    "    # \"model__gamma\":             [0],       # default=0\n",
    "    # \"model__subsample\":         [1.0],     # default: 1\n",
    "    # \"model__colsample_bytree\":  [1.0],     # default=1\n",
    "    # \"model__colsample_bylevel\": [1.0],     # default=1\n",
    "    # \"model__colsample_bynode\":  [1.0],     # default=1\n",
    "    # \"model__lambda\":            [1],       # default=1, L2 regularization term on weights\n",
    "    # \"model__alpha\":             [0],       # default=0, L1 regularization term on weights\n",
    "    # \"model__tree_method\":       [\"hist\"],  # Method for building trees\n",
    "    # \"model__scale_pos_weight\":  [1],  # default=1, Balance for positive classes\n",
    "    # \"model__objective\":         [\"binary:logistic\"],  # Loss function for classification\n",
    "    # \"model__n_estimators\":      [100]  # Number of boosting rounds\n",
    "}\n",
    "\n",
    "# Random Forest Classifier\n",
    "rf_param_grid = {\n",
    "    \"model\":                    [RandomForestClassifier(random_state=RANDOM_STATE)], \n",
    "    **load_model_params(\"src/model_params/random_forest_clf_full.json\")\n",
    "}\n",
    "\n",
    "# Gradient Boosting Classifier - slow\n",
    "gb_param_grid = {\n",
    "    \"model\":                      [GradientBoostingClassifier(random_state=RANDOM_STATE)], \n",
    "    **load_model_params(\"src/model_params/gradient_boosting_clf_full.json\")\n",
    "}\n",
    "\n",
    "# Support Vector Classifier\n",
    "svc_param_grid = {\n",
    "    \"model\": [SVC(random_state=RANDOM_STATE)], \n",
    "    **load_model_params(\"src/model_params/svc_clf_full.json\")\n",
    "}"
   ]
  },
  {
   "cell_type": "markdown",
   "id": "b38a83ec-3e60-4cac-a309-5566227fa566",
   "metadata": {
    "deletable": true,
    "editable": true,
    "frozen": false
   },
   "source": [
    "#### Define parameter grid"
   ]
  },
  {
   "cell_type": "code",
   "execution_count": 90,
   "id": "6b86be1d-312c-49fd-ac14-4dc4d8ffe1c1",
   "metadata": {
    "deletable": true,
    "editable": true,
    "frozen": false
   },
   "outputs": [],
   "source": [
    "param_grid_top5 = [\n",
    "    # {** hdbc_param_grid}, # 💚MII uncomment!\n",
    "    # {** xgb_param_grid}, \n",
    "    # {** rf_param_grid},\n",
    "    {** gb_param_grid},  \n",
    "    # {** svc_param_grid},\n",
    "]"
   ]
  },
  {
   "cell_type": "markdown",
   "id": "6bb1d79b-873f-4161-81b4-c0ea0093c692",
   "metadata": {
    "deletable": true,
    "editable": true,
    "frozen": false
   },
   "source": [
    "#### ➡️Try"
   ]
  },
  {
   "cell_type": "code",
   "execution_count": 91,
   "id": "0d8105ed-ab86-45da-b621-0506037d32b3",
   "metadata": {
    "deletable": true,
    "editable": true,
    "frozen": false
   },
   "outputs": [],
   "source": [
    "%%skip\n",
    "from sklearn.experimental import enable_halving_search_cv\n",
    "from sklearn.model_selection import HalvingGridSearchCV\n",
    "from sklearn.ensemble import GradientBoostingClassifier\n",
    "\n",
    "BETA = 0.55\n",
    "def calculate_fbeta_score(y_true, y_pred):\n",
    "    \"\"\"\n",
    "    Calculate weighted F1 score with more emphasis on precision by default giving 70% (beta=0.55) weight on precision.\n",
    "    \"\"\"\n",
    "    precision = precision_score(y_true, y_pred, zero_division=0)\n",
    "    recall = recall_score(y_true, y_pred)\n",
    "    beta = BETA\n",
    "\n",
    "    if not precision:\n",
    "        return 0\n",
    "    return (1 + beta**2) * (precision * recall) / ((beta**2 * precision) + recall)\n",
    "\n",
    "param_grid = {\n",
    "    \"categorical_features\": [None],         # ok [None, \"warn\"]\n",
    "    \"class_weight\":         [None],         # ok [None, \"balanced\"]\n",
    "    \"l2_regularization\":    [0.0],          # ok [0.0, 0.5],\n",
    "    \"learning_rate\":        [0.6],          # ok [0.5, 0.6, 0.7],\n",
    "    \"max_depth\":            [7],            # ok [6, 7, 8], \n",
    "    \"max_features\":         [0.9, 1.0],     # ok [0.4, 0.5, 0.6] default: 1.0\n",
    "    \"max_iter\":             [300],          # ok [200, 300, 500],\n",
    "    \"min_samples_leaf\":     [23],           # ok [20, 23, 25], default: 20\n",
    "    \"n_iter_no_change\":     [10, 15, 20],   # ok [5, 10, 20], default: 10\n",
    "    \"validation_fraction\":  [0.05],         # ok [0.04, 0.05, 0.06]\n",
    "}\n",
    "\n",
    "custom_scorer = make_scorer(calculate_fbeta_score)\n",
    "scoring = {\"precision\": \"precision_macro\", \"recall\": \"recall_macro\", \"weighted_fbeta\": custom_scorer}\n",
    "\n",
    "model = HistGradientBoostingClassifier(random_state=RANDOM_STATE)\n",
    "halving_search = HalvingGridSearchCV(\n",
    "    model, param_grid, scoring=custom_scorer, cv=3, factor=3, verbose=1, n_jobs=-1,\n",
    ")\n",
    "halving_search.fit(X_train, y_train)\n",
    "\n",
    "print()\n",
    "print(\"Best score:\", halving_search.best_score_)\n",
    "for key, value in sorted(halving_search.best_params_.items()):\n",
    "    print(f\"{key}: {value}\")"
   ]
  },
  {
   "cell_type": "markdown",
   "id": "3f370232-075d-4d3a-96d8-dbddd31cb656",
   "metadata": {
    "deletable": true,
    "editable": true,
    "frozen": false
   },
   "source": [
    "#### Evaluate the top 5 models"
   ]
  },
  {
   "cell_type": "code",
   "execution_count": 92,
   "id": "1d0500de-aa1c-47b7-9278-75f8dca98766",
   "metadata": {
    "deletable": true,
    "editable": true,
    "frozen": false
   },
   "outputs": [
    {
     "name": "stdout",
     "output_type": "stream",
     "text": [
      "Tuning and evaluating top 5 models: \n",
      "Evaluating combination 1/24: Weighted fbeta score: 0.3788 (from cache 8bb3ee6b3b8b63ad75120c1d660329ad)\n",
      "Evaluating combination 2/24: Weighted fbeta score: 0.3275 (from cache 7f894f0f12a52ff7393c86ca56ed301a)\n",
      "Evaluating combination 3/24: Weighted fbeta score: 0.4860 (from cache 577f33aecbdc24a55b10e0d604d9fcc8)\n",
      "Evaluating combination 4/24: Weighted fbeta score: 0.5534 (from cache 8d19f65f166ec4bcfc1809b867a13714)\n",
      "Evaluating combination 5/24: Weighted fbeta score: 0.5261 (from cache 523fe028533431fb2b08842030cd6764)\n",
      "Evaluating combination 6/24: Weighted fbeta score: 0.5985 (from cache 6e713537d136fffa182428c246c93ae4)\n",
      "Evaluating combination 7/24: Weighted fbeta score: 0.6164 (from cache d138bb7494dc6cc1a93da4d90003ab96)\n",
      "Evaluating combination 8/24: Weighted fbeta score: 0.5974 (from cache d0b2f0aff78dbf3742610bd511311c27)\n",
      "Evaluating combination 9/24: Weighted fbeta score: 0.6360 (from cache f79f4c0da5886e2a5a5df86b05cccc52)\n",
      "Evaluating combination 10/24: Weighted fbeta score: 0.6313 (from cache 73e11a397f7e266d51fc897606a0a3ee)\n",
      "Evaluating combination 11/24: Weighted fbeta score: 0.6433 (from cache bda4b265ea253a9a1597d924d5b34207)\n",
      "Evaluating combination 12/24: Weighted fbeta score: 0.6486 (from cache ee61ea13860b08966d0caa0766e6f772)\n",
      "Evaluating combination 13/24: Weighted fbeta score: 0.4928 (from cache 8ae623dcb89b49c66fbe39308acc1646)\n",
      "Evaluating combination 14/24: Weighted fbeta score: 0.4555 (from cache 86e95158c6999ec669aaa2ff47232935)\n",
      "Evaluating combination 15/24: Weighted fbeta score: 0.5496 (from cache fb4f762a8a3b866a3ed151b33bbd9d90)\n",
      "Evaluating combination 16/24: Weighted fbeta score: 0.5969 (from cache 33b4e1808bfcc9844c79ef998c1c2ad2)\n",
      "Evaluating combination 17/24: Weighted fbeta score: 0.5819 (from cache 0991980c9ce410ced3fbcb510c07a014)\n",
      "Evaluating combination 18/24: Weighted fbeta score: 0.6263 (from cache fd8d733ba972fb2742a370b3c73dc524)\n",
      "Evaluating combination 19/24: Weighted fbeta score: 0.6387 (from cache 8f3e5e45323e0935a0447cdeb12e32e3)\n",
      "Evaluating combination 20/24: Weighted fbeta score: 0.6317 (from cache ac979abc04c4818adfe6b6d80b167fcb)\n",
      "Evaluating combination 21/24: Weighted fbeta score: 0.6498 (from cache 80095c0654055366411453e73b286b6b)\n",
      "Evaluating combination 22/24: Weighted fbeta score: 0.6475 (from cache 83cf06cd374cd6b90c5812916b254a82)\n",
      "Evaluating combination 23/24: Weighted fbeta score: 0.6476 (from cache 58a959c58ebe23c04de4cbe951882ec5)\n",
      "Evaluating combination 24/24: Weighted fbeta score: 0.6523 (from cache b826b12cf0a3858bc2a8962d4f7c1a07)\n"
     ]
    }
   ],
   "source": [
    "print(\"Tuning and evaluating top 5 models: \")\n",
    "results_top5 = evaluate_parameter_grid(param_grid_top5, X_train, y_train)"
   ]
  },
  {
   "cell_type": "code",
   "execution_count": 93,
   "id": "5bad129e-bf8b-440e-8a2b-9c9a0a910b0c",
   "metadata": {
    "deletable": true,
    "editable": true,
    "frozen": false
   },
   "outputs": [
    {
     "name": "stdout",
     "output_type": "stream",
     "text": [
      "Top 5 tuned models: \n",
      "\u001b[35mRank 1/24 - \u001b[0m\u001b[31mWeighted Fbeta: 0.6523, \u001b[0mPrecision: 0.7074, Recall: 0.6824\n",
      "\u001b[34mPipeline parameters: \n",
      "\u001b[0m\u001b[36mmodel\u001b[0m: GradientBoostingClassifier, \n",
      "\u001b[36mccp_alpha\u001b[0m: 0.0, \u001b[36mcriterion\u001b[0m: friedman_mse, \u001b[36minit\u001b[0m: None, \u001b[36mlearning_rate\u001b[0m: 0.01, \u001b[36mloss\u001b[0m: log_loss, \u001b[36mmax_depth\u001b[0m: 10, \u001b[36mmax_features\u001b[0m: None, \u001b[36mmax_leaf_nodes\u001b[0m: None, \u001b[36mmin_impurity_decrease\u001b[0m: 0.0, \u001b[36mmin_samples_leaf\u001b[0m: 1, \u001b[36mmin_samples_split\u001b[0m: 2, \u001b[36mmin_weight_fraction_leaf\u001b[0m: 0.0, \u001b[36mn_estimators\u001b[0m: 300, \u001b[36mn_iter_no_change\u001b[0m: None, \u001b[36mrandom_state\u001b[0m: 42, \u001b[36msubsample\u001b[0m: 0.5, \u001b[36mtol\u001b[0m: 0.0001, \u001b[36mvalidation_fraction\u001b[0m: 0.1, \u001b[36mverbose\u001b[0m: 0, \u001b[36mwarm_start\u001b[0m: False, \n",
      "\n",
      "\u001b[35mRank 2/24 - \u001b[0m\u001b[31mWeighted Fbeta: 0.6498, \u001b[0mPrecision: 0.7086, Recall: 0.6780\n",
      "\u001b[34mPipeline parameters: \n",
      "\u001b[0m\u001b[36mmodel\u001b[0m: GradientBoostingClassifier, \n",
      "\u001b[36mccp_alpha\u001b[0m: 0.0, \u001b[36mcriterion\u001b[0m: friedman_mse, \u001b[36minit\u001b[0m: None, \u001b[36mlearning_rate\u001b[0m: 0.01, \u001b[36mloss\u001b[0m: log_loss, \u001b[36mmax_depth\u001b[0m: 7, \u001b[36mmax_features\u001b[0m: None, \u001b[36mmax_leaf_nodes\u001b[0m: None, \u001b[36mmin_impurity_decrease\u001b[0m: 0.0, \u001b[36mmin_samples_leaf\u001b[0m: 1, \u001b[36mmin_samples_split\u001b[0m: 2, \u001b[36mmin_weight_fraction_leaf\u001b[0m: 0.0, \u001b[36mn_estimators\u001b[0m: 300, \u001b[36mn_iter_no_change\u001b[0m: None, \u001b[36mrandom_state\u001b[0m: 42, \u001b[36msubsample\u001b[0m: 0.5, \u001b[36mtol\u001b[0m: 0.0001, \u001b[36mvalidation_fraction\u001b[0m: 0.1, \u001b[36mverbose\u001b[0m: 0, \u001b[36mwarm_start\u001b[0m: False, \n",
      "\n",
      "\u001b[35mRank 3/24 - \u001b[0m\u001b[31mWeighted Fbeta: 0.6486, \u001b[0mPrecision: 0.7089, Recall: 0.6763\n",
      "\u001b[34mPipeline parameters: \n",
      "\u001b[0m\u001b[36mmodel\u001b[0m: GradientBoostingClassifier, \n",
      "\u001b[36mccp_alpha\u001b[0m: 0.0, \u001b[36mcriterion\u001b[0m: friedman_mse, \u001b[36minit\u001b[0m: None, \u001b[36mlearning_rate\u001b[0m: 0.01, \u001b[36mloss\u001b[0m: log_loss, \u001b[36mmax_depth\u001b[0m: 10, \u001b[36mmax_features\u001b[0m: None, \u001b[36mmax_leaf_nodes\u001b[0m: None, \u001b[36mmin_impurity_decrease\u001b[0m: 0.0, \u001b[36mmin_samples_leaf\u001b[0m: 1, \u001b[36mmin_samples_split\u001b[0m: 2, \u001b[36mmin_weight_fraction_leaf\u001b[0m: 0.0, \u001b[36mn_estimators\u001b[0m: 200, \u001b[36mn_iter_no_change\u001b[0m: None, \u001b[36mrandom_state\u001b[0m: 42, \u001b[36msubsample\u001b[0m: 0.5, \u001b[36mtol\u001b[0m: 0.0001, \u001b[36mvalidation_fraction\u001b[0m: 0.1, \u001b[36mverbose\u001b[0m: 0, \u001b[36mwarm_start\u001b[0m: False, \n",
      "\n",
      "\u001b[35mRank 4/24 - \u001b[0m\u001b[31mWeighted Fbeta: 0.6476, \u001b[0mPrecision: 0.7080, Recall: 0.6760\n",
      "\u001b[34mPipeline parameters: \n",
      "\u001b[0m\u001b[36mmodel\u001b[0m: GradientBoostingClassifier, \n",
      "\u001b[36mccp_alpha\u001b[0m: 0.0, \u001b[36mcriterion\u001b[0m: friedman_mse, \u001b[36minit\u001b[0m: None, \u001b[36mlearning_rate\u001b[0m: 0.01, \u001b[36mloss\u001b[0m: log_loss, \u001b[36mmax_depth\u001b[0m: 10, \u001b[36mmax_features\u001b[0m: log2, \u001b[36mmax_leaf_nodes\u001b[0m: None, \u001b[36mmin_impurity_decrease\u001b[0m: 0.0, \u001b[36mmin_samples_leaf\u001b[0m: 1, \u001b[36mmin_samples_split\u001b[0m: 2, \u001b[36mmin_weight_fraction_leaf\u001b[0m: 0.0, \u001b[36mn_estimators\u001b[0m: 300, \u001b[36mn_iter_no_change\u001b[0m: None, \u001b[36mrandom_state\u001b[0m: 42, \u001b[36msubsample\u001b[0m: 0.5, \u001b[36mtol\u001b[0m: 0.0001, \u001b[36mvalidation_fraction\u001b[0m: 0.1, \u001b[36mverbose\u001b[0m: 0, \u001b[36mwarm_start\u001b[0m: False, \n",
      "\n",
      "\u001b[35mRank 5/24 - \u001b[0m\u001b[31mWeighted Fbeta: 0.6475, \u001b[0mPrecision: 0.7059, Recall: 0.6772\n",
      "\u001b[34mPipeline parameters: \n",
      "\u001b[0m\u001b[36mmodel\u001b[0m: GradientBoostingClassifier, \n",
      "\u001b[36mccp_alpha\u001b[0m: 0.0, \u001b[36mcriterion\u001b[0m: friedman_mse, \u001b[36minit\u001b[0m: None, \u001b[36mlearning_rate\u001b[0m: 0.01, \u001b[36mloss\u001b[0m: log_loss, \u001b[36mmax_depth\u001b[0m: 10, \u001b[36mmax_features\u001b[0m: sqrt, \u001b[36mmax_leaf_nodes\u001b[0m: None, \u001b[36mmin_impurity_decrease\u001b[0m: 0.0, \u001b[36mmin_samples_leaf\u001b[0m: 1, \u001b[36mmin_samples_split\u001b[0m: 2, \u001b[36mmin_weight_fraction_leaf\u001b[0m: 0.0, \u001b[36mn_estimators\u001b[0m: 300, \u001b[36mn_iter_no_change\u001b[0m: None, \u001b[36mrandom_state\u001b[0m: 42, \u001b[36msubsample\u001b[0m: 0.5, \u001b[36mtol\u001b[0m: 0.0001, \u001b[36mvalidation_fraction\u001b[0m: 0.1, \u001b[36mverbose\u001b[0m: 0, \u001b[36mwarm_start\u001b[0m: False, \n",
      "\n"
     ]
    }
   ],
   "source": [
    "print(\"Top 5 tuned models: \") \n",
    "top_results_top5 = display_top_models(results_top5, X_train.shape[1], top_k = 5, sort_by = 'weighted_fbeta')"
   ]
  },
  {
   "cell_type": "markdown",
   "id": "d8694aaf-485f-41a9-89bd-127cf327f2ec",
   "metadata": {
    "deletable": true,
    "editable": true,
    "frozen": false
   },
   "source": [
    "### ❤️[DELETEME] Tty the top 5 models on the test data"
   ]
  },
  {
   "cell_type": "code",
   "execution_count": 94,
   "id": "5a95748b-055b-408f-b5ba-6972d582dbe9",
   "metadata": {
    "deletable": true,
    "editable": true,
    "frozen": false
   },
   "outputs": [],
   "source": [
    "best_model_top5_0 = top_results_top5[0]['parameters']['model']\n",
    "best_model_top5_1 = top_results_top5[1]['parameters']['model']\n",
    "best_model_top5_2 = top_results_top5[2]['parameters']['model']\n",
    "best_model_top5_3 = top_results_top5[3]['parameters']['model']"
   ]
  },
  {
   "cell_type": "code",
   "execution_count": 95,
   "id": "48f8f968-c0bf-416c-bf91-916223a85e0d",
   "metadata": {
    "deletable": true,
    "editable": true,
    "frozen": false
   },
   "outputs": [
    {
     "name": "stdout",
     "output_type": "stream",
     "text": [
      "F1:         0.5998\n",
      "Fbeta:      0.6497\n",
      "Precision:  0.7002\n",
      "Recall:     0.5246\n",
      "Accuracy:   0.7058\n"
     ]
    }
   ],
   "source": [
    "scores = predict_and_score(best_model_top5_0, X_test, y_test, 0.5, X_train.columns)\n",
    "print_scores(scores)"
   ]
  },
  {
   "cell_type": "code",
   "execution_count": 96,
   "id": "6b9b40c1-d6d7-45b6-b26a-751489e2adb7",
   "metadata": {
    "deletable": true,
    "editable": true,
    "frozen": false
   },
   "outputs": [
    {
     "name": "stdout",
     "output_type": "stream",
     "text": [
      "F1:         0.5854\n",
      "Fbeta:      0.6431\n",
      "Precision:  0.7033\n",
      "Recall:     0.5014\n",
      "Accuracy:   0.7016\n"
     ]
    }
   ],
   "source": [
    "scores = predict_and_score(best_model_top5_1, X_test, y_test, 0.5, X_train.columns)\n",
    "print_scores(scores)"
   ]
  },
  {
   "cell_type": "code",
   "execution_count": 97,
   "id": "eb4c989f-55f3-49d7-846a-a5f5ac1f3db1",
   "metadata": {
    "deletable": true,
    "editable": true,
    "frozen": false
   },
   "outputs": [],
   "source": [
    "scores = predict_and_score(best_model_top5_2, X_test, y_test, 0.5, X_train.columns)"
   ]
  },
  {
   "cell_type": "code",
   "execution_count": 98,
   "id": "ecfea169-0c31-4833-be7d-fe14d310b258",
   "metadata": {
    "deletable": true,
    "editable": true,
    "frozen": false
   },
   "outputs": [
    {
     "name": "stdout",
     "output_type": "stream",
     "text": [
      "F1:         0.5966\n",
      "Fbeta:      0.6562\n",
      "Precision:  0.7184\n",
      "Recall:     0.5101\n",
      "Accuracy:   0.7101\n"
     ]
    }
   ],
   "source": [
    "scores = predict_and_score(best_model_top5_3, X_test, y_test, 0.5, X_train.columns)\n",
    "print_scores(scores)"
   ]
  },
  {
   "cell_type": "markdown",
   "id": "39edf6c0-cf30-45d5-a6ad-56aec0832f80",
   "metadata": {
    "deletable": true,
    "editable": true,
    "frozen": false
   },
   "source": [
    "### Pick the top model from the tuned top 5"
   ]
  },
  {
   "cell_type": "code",
   "execution_count": 99,
   "id": "69346526-7e92-4804-b05b-3a38289241a4",
   "metadata": {
    "deletable": true,
    "editable": true,
    "frozen": false
   },
   "outputs": [],
   "source": [
    "best_model_final = top_results_top5[0]['parameters']['model']"
   ]
  },
  {
   "cell_type": "markdown",
   "id": "180d110c-d35d-437b-92ae-a1c5802021fb",
   "metadata": {
    "deletable": true,
    "editable": true,
    "frozen": false
   },
   "source": [
    "## [X_test] Feature selection using best model on X_test"
   ]
  },
  {
   "cell_type": "markdown",
   "id": "3521406a-906e-423c-adff-4f7722bb805f",
   "metadata": {
    "deletable": true,
    "editable": true,
    "frozen": false
   },
   "source": [
    "💛MII Explain"
   ]
  },
  {
   "cell_type": "markdown",
   "id": "6cf603bc-ff66-4a7f-a0c6-3123ea4006c5",
   "metadata": {
    "deletable": true,
    "editable": true,
    "frozen": false
   },
   "source": [
    "### Feature selection using best model + X_train + f1 score + predict_proba"
   ]
  },
  {
   "cell_type": "code",
   "execution_count": null,
   "id": "c85adb6e-ed5b-4fbd-9c3a-4fc6d1fa7b92",
   "metadata": {
    "deletable": false,
    "editable": false,
    "frozen": true
   },
   "outputs": [],
   "source": [
    "stratify_var = pd.Series(y_train).astype(str) + '_' + pd.Series(X_train['gender'].astype(int)).astype(str)"
   ]
  },
  {
   "cell_type": "code",
   "execution_count": null,
   "id": "8bc7f6e7-4a84-4f81-a575-0936ce2df2d0",
   "metadata": {
    "deletable": false,
    "editable": false,
    "frozen": true
   },
   "outputs": [],
   "source": [
    "best_f1_based_on_predict_proba, best_predict_proba_threshold, selected_features = feature_selection_f1_based_cv(best_model, X_train, y_train, stratify_var, target_features=80, n_splits=5, random_state=RANDOM_STATE) \n",
    "print_info(f\"Best predict_proba f1 score/threshold (X_train): {best_f1_based_on_predict_proba:.4f}/{best_predict_proba_threshold:.4f}\")\n",
    "print     (f\"Best predict_proba f1 score/threshold (X_train): {best_f1_based_on_predict_proba:.4f}/{best_predict_proba_threshold:.4f}\")\n",
    "print     (\"Best selected features: \", str(selected_features))"
   ]
  },
  {
   "cell_type": "markdown",
   "id": "4e67fd9c-0402-484c-bf28-6ffdf51e702e",
   "metadata": {
    "deletable": true,
    "editable": true,
    "frozen": false
   },
   "source": [
    "### Feature selection using best model + X_train + precision score + predict_proba"
   ]
  },
  {
   "cell_type": "code",
   "execution_count": null,
   "id": "b46dac4c-48d1-4884-b2af-f6e7b0ddb6f6",
   "metadata": {
    "deletable": false,
    "editable": false,
    "frozen": true
   },
   "outputs": [],
   "source": [
    "%%skip\n",
    "stratify_var = pd.Series(y_train).astype(str) + '_' + pd.Series(X_train['gender'].astype(int)).astype(str)"
   ]
  },
  {
   "cell_type": "code",
   "execution_count": null,
   "id": "5823e685-a94c-45cf-8054-ad20f043c8a0",
   "metadata": {
    "deletable": false,
    "editable": false,
    "frozen": true
   },
   "outputs": [],
   "source": [
    "%%skip\n",
    "# 💛MII_REF09 cv=5\n",
    "best_precision_based_on_predict_proba, best_predict_proba_threshold, selected_features = feature_selection_precision_based_cv(best_model, X_train, y_train, stratify_var, target_features=110, n_splits=5, random_state=RANDOM_STATE) "
   ]
  },
  {
   "cell_type": "code",
   "execution_count": null,
   "id": "92506111-82dc-431c-9409-84892e9a9ae2",
   "metadata": {
    "deletable": false,
    "editable": false,
    "frozen": true
   },
   "outputs": [],
   "source": [
    "%%skip\n",
    "print_info(f\"Best predict_proba f1 score/threshold (X_train): {best_f1_based_on_predict_proba:.4f}/{best_predict_proba_threshold:.4f}\")\n",
    "print(f\"Best predict_proba f1 score/threshold (X_train): {best_f1_based_on_predict_proba:.4f}/{best_predict_proba_threshold:.4f}\")\n",
    "print(f\"Best selected features: \", str(selected_features))"
   ]
  },
  {
   "cell_type": "markdown",
   "id": "6f7d305f-e343-4857-9f03-b3d02a4ba5ce",
   "metadata": {
    "deletable": true,
    "editable": true,
    "frozen": false
   },
   "source": [
    "## Predict on test data using best model, selected features and predict_proba threshold"
   ]
  },
  {
   "cell_type": "code",
   "execution_count": null,
   "id": "a1d2a7bc-c5fd-486f-bdf1-5e7386667701",
   "metadata": {
    "deletable": false,
    "editable": false,
    "frozen": true
   },
   "outputs": [],
   "source": [
    "predict_and_score_on_test_data(best_model, X_test, y_test, best_predict_proba_threshold, selected_features)"
   ]
  },
  {
   "cell_type": "code",
   "execution_count": 100,
   "id": "3395d51a",
   "metadata": {
    "deletable": true,
    "editable": true,
    "frozen": false
   },
   "outputs": [
    {
     "name": "stdout",
     "output_type": "stream",
     "text": [
      "F1:         0.5998\n",
      "Fbeta:      0.6497\n",
      "Precision:  0.7002\n",
      "Recall:     0.5246\n",
      "Accuracy:   0.7058\n"
     ]
    }
   ],
   "source": [
    "scores = predict_and_score(best_model_final, X_test, y_test, 0.5, X_train.columns)\n",
    "print_scores(scores)"
   ]
  },
  {
   "cell_type": "markdown",
   "id": "97571a57-9c97-4e7d-9c92-5503f52fa509",
   "metadata": {
    "deletable": true,
    "editable": true,
    "frozen": false
   },
   "source": [
    "## 🧡ROC Curve [MII todo]"
   ]
  },
  {
   "cell_type": "markdown",
   "id": "eccb2620-fb3a-4d8f-8012-9f6c488896f9",
   "metadata": {
    "deletable": true,
    "editable": true,
    "frozen": false
   },
   "source": [
    "💛MII_MOD03 Display ROC Curve for base model, best model, maybe best model after feature selection. Example of ROC curve:"
   ]
  },
  {
   "cell_type": "code",
   "execution_count": 101,
   "id": "def921f2-67d4-4d9a-b953-52e5e9d7c106",
   "metadata": {
    "deletable": true,
    "editable": true,
    "frozen": false
   },
   "outputs": [],
   "source": [
    "%%skip\n",
    "\n",
    "# Generate a sample dataset\n",
    "X, y = make_classification(n_samples=1000, n_features=10, n_informative=5, random_state=42)\n",
    "\n",
    "# Split the data into training and testing sets\n",
    "X_train, X_test, y_train, y_test = train_test_split(X, y, test_size=0.2, random_state=42)\n",
    "\n",
    "# Train a logistic regression model\n",
    "model = LogisticRegression()\n",
    "model.fit(X_train, y_train)\n",
    "\n",
    "# Calculate the predicted probabilities for the test set\n",
    "y_pred_prob = model.predict_proba(X_test)[:, 1]\n",
    "\n",
    "# Calculate the ROC curve and AUC\n",
    "fpr, tpr, thresholds = roc_curve(y_test, y_pred_prob)\n",
    "roc_auc = auc(fpr, tpr)\n",
    "\n",
    "# Plot the ROC curve\n",
    "plt.figure(figsize=(8, 6))\n",
    "plt.plot(fpr, tpr, color='darkorange', lw=2, label='ROC curve (AUC = %0.2f)' % roc_auc)\n",
    "plt.plot([0, 1], [0, 1], color='navy', lw=2, linestyle='--')\n",
    "plt.xlim([0.0, 1.0])\n",
    "plt.ylim([0.0, 1.05])\n",
    "plt.xlabel('False Positive Rate')\n",
    "plt.ylabel('True Positive Rate')\n",
    "plt.title('Receiver Operating Characteristic (ROC) Curve')\n",
    "plt.legend(loc=\"lower right\")\n",
    "plt.show()\n"
   ]
  },
  {
   "cell_type": "markdown",
   "id": "1a2f738b-630a-4ffc-9df6-2c01a84bd5b7",
   "metadata": {
    "deletable": true,
    "editable": true,
    "frozen": false
   },
   "source": [
    "## 🧡Conclusion"
   ]
  },
  {
   "cell_type": "markdown",
   "id": "0e1c40fb-9d05-4425-9cbc-849d2e806881",
   "metadata": {
    "deletable": true,
    "editable": true,
    "frozen": false
   },
   "source": []
  },
  {
   "cell_type": "markdown",
   "id": "7ddb9d90-495a-4687-9150-e65e46a3de16",
   "metadata": {
    "deletable": true,
    "editable": true,
    "frozen": false
   },
   "source": [
    "## References"
   ]
  },
  {
   "cell_type": "markdown",
   "id": "01d8ae01-7590-4933-bc46-75e7346b9b55",
   "metadata": {
    "deletable": true,
    "editable": true,
    "frozen": false
   },
   "source": [
    "<div id=\"ref1\">\n",
    "    [1] Fisman, R., Iyengar, S. S., Kamenica, E., & Simonson, I. (2006). <a href=\"https://doi.org/10.1162/qjec.2006.121.2.673, [pdf](http://www.stat.columbia.edu/~gelman/stuff_for_blog/sheena.pdf\" Gender Differences in Mate Selection: Evidence From a Speed Dating Experiment</a>. The Quarterly Journal of Economics, 121(2), 673-697. \n",
    "</div>\n",
    "\n",
    "<div id=\"ref2\">\n",
    "    [2] The original dataset and the key file: <a href=\"http://www.stat.columbia.edu/~gelman/arm/examples/speed.dating/\">http://www.stat.columbia.edu/~gelman/arm/examples/speed.dating/</a>\n",
    "</div>\n"
   ]
  },
  {
   "cell_type": "markdown",
   "id": "bc9cc170-fcf0-4cde-8a50-7519611b9d8e",
   "metadata": {
    "deletable": true,
    "editable": true,
    "frozen": false
   },
   "source": [
    "## ❤️DELETEME"
   ]
  },
  {
   "cell_type": "code",
   "execution_count": 102,
   "id": "e2f0f949-a784-4ea6-a8a9-73a8765cd8ec",
   "metadata": {
    "deletable": true,
    "editable": true,
    "frozen": false
   },
   "outputs": [],
   "source": [
    "# ❤️MII DELETEME!\n",
    "def print_info(msg, end=True, dst=\"automl_debug.log\"):\n",
    "    with open(dst, \"a\") as f:\n",
    "        f.write(msg + (\"\\n\" if end else \"\"))\n",
    "        \n",
    "now = datetime.now()\n",
    "print_info(f\"{now.hour:02}:{now.minute:02}:{now.second:02} - END\")"
   ]
  }
 ],
 "metadata": {
  "kernelspec": {
   "display_name": "Python 3 (ipykernel)",
   "language": "python",
   "name": "python3"
  },
  "language_info": {
   "codemirror_mode": {
    "name": "ipython",
    "version": 3
   },
   "file_extension": ".py",
   "mimetype": "text/x-python",
   "name": "python",
   "nbconvert_exporter": "python",
   "pygments_lexer": "ipython3",
   "version": "3.12.4"
  },
  "scenes_data": {
   "active_scene": "Default Scene",
   "init_scene": "",
   "scenes": [
    "Default Scene"
   ]
  }
 },
 "nbformat": 4,
 "nbformat_minor": 5
}
