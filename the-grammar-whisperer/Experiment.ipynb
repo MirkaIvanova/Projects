{
 "cells": [
  {
   "cell_type": "code",
   "execution_count": 2,
   "id": "cc07f59a-1d00-47d5-9119-805cd963b645",
   "metadata": {
    "colab": {
     "base_uri": "https://localhost:8080/"
    },
    "deletable": true,
    "editable": true,
    "executionInfo": {
     "elapsed": 7666,
     "status": "ok",
     "timestamp": 1737551671711,
     "user": {
      "displayName": "Miroslava Ivanova",
      "userId": "15457167696903657486"
     },
     "user_tz": -120
    },
    "frozen": false,
    "id": "cc07f59a-1d00-47d5-9119-805cd963b645",
    "outputId": "9467391b-bfbf-4730-9834-9e46a82a6d36"
   },
   "outputs": [
    {
     "name": "stdout",
     "output_type": "stream",
     "text": [
      "Collecting spacy-stanza\n",
      "  Using cached spacy_stanza-1.0.4-py3-none-any.whl.metadata (8.6 kB)\n",
      "Requirement already satisfied: spacy<4.0.0,>=3.0.0 in c:\\users\\miros\\miniconda3\\envs\\ml\\lib\\site-packages (from spacy-stanza) (3.8.2)\n",
      "Collecting stanza<1.7.0,>=1.2.0 (from spacy-stanza)\n",
      "  Using cached stanza-1.6.1-py3-none-any.whl.metadata (13 kB)\n",
      "Requirement already satisfied: spacy-legacy<3.1.0,>=3.0.11 in c:\\users\\miros\\miniconda3\\envs\\ml\\lib\\site-packages (from spacy<4.0.0,>=3.0.0->spacy-stanza) (3.0.12)\n",
      "Requirement already satisfied: spacy-loggers<2.0.0,>=1.0.0 in c:\\users\\miros\\miniconda3\\envs\\ml\\lib\\site-packages (from spacy<4.0.0,>=3.0.0->spacy-stanza) (1.0.4)\n",
      "Requirement already satisfied: murmurhash<1.1.0,>=0.28.0 in c:\\users\\miros\\miniconda3\\envs\\ml\\lib\\site-packages (from spacy<4.0.0,>=3.0.0->spacy-stanza) (1.0.12)\n",
      "Requirement already satisfied: cymem<2.1.0,>=2.0.2 in c:\\users\\miros\\miniconda3\\envs\\ml\\lib\\site-packages (from spacy<4.0.0,>=3.0.0->spacy-stanza) (2.0.11)\n",
      "Requirement already satisfied: preshed<3.1.0,>=3.0.2 in c:\\users\\miros\\miniconda3\\envs\\ml\\lib\\site-packages (from spacy<4.0.0,>=3.0.0->spacy-stanza) (3.0.6)\n",
      "Requirement already satisfied: thinc<8.4.0,>=8.3.0 in c:\\users\\miros\\miniconda3\\envs\\ml\\lib\\site-packages (from spacy<4.0.0,>=3.0.0->spacy-stanza) (8.3.2)\n",
      "Requirement already satisfied: wasabi<1.2.0,>=0.9.1 in c:\\users\\miros\\miniconda3\\envs\\ml\\lib\\site-packages (from spacy<4.0.0,>=3.0.0->spacy-stanza) (0.9.1)\n",
      "Requirement already satisfied: srsly<3.0.0,>=2.4.3 in c:\\users\\miros\\miniconda3\\envs\\ml\\lib\\site-packages (from spacy<4.0.0,>=3.0.0->spacy-stanza) (2.4.8)\n",
      "Requirement already satisfied: catalogue<2.1.0,>=2.0.6 in c:\\users\\miros\\miniconda3\\envs\\ml\\lib\\site-packages (from spacy<4.0.0,>=3.0.0->spacy-stanza) (2.0.10)\n",
      "Requirement already satisfied: weasel<0.5.0,>=0.1.0 in c:\\users\\miros\\miniconda3\\envs\\ml\\lib\\site-packages (from spacy<4.0.0,>=3.0.0->spacy-stanza) (0.3.4)\n",
      "Requirement already satisfied: typer<1.0.0,>=0.3.0 in c:\\users\\miros\\miniconda3\\envs\\ml\\lib\\site-packages (from spacy<4.0.0,>=3.0.0->spacy-stanza) (0.9.0)\n",
      "Requirement already satisfied: tqdm<5.0.0,>=4.38.0 in c:\\users\\miros\\miniconda3\\envs\\ml\\lib\\site-packages (from spacy<4.0.0,>=3.0.0->spacy-stanza) (4.66.5)\n",
      "Requirement already satisfied: requests<3.0.0,>=2.13.0 in c:\\users\\miros\\appdata\\roaming\\python\\python312\\site-packages (from spacy<4.0.0,>=3.0.0->spacy-stanza) (2.32.3)\n",
      "Requirement already satisfied: pydantic!=1.8,!=1.8.1,<3.0.0,>=1.7.4 in c:\\users\\miros\\miniconda3\\envs\\ml\\lib\\site-packages (from spacy<4.0.0,>=3.0.0->spacy-stanza) (2.8.2)\n",
      "Requirement already satisfied: jinja2 in c:\\users\\miros\\appdata\\roaming\\python\\python312\\site-packages (from spacy<4.0.0,>=3.0.0->spacy-stanza) (3.1.4)\n",
      "Requirement already satisfied: setuptools in c:\\users\\miros\\appdata\\roaming\\python\\python312\\site-packages (from spacy<4.0.0,>=3.0.0->spacy-stanza) (70.0.0)\n",
      "Requirement already satisfied: packaging>=20.0 in c:\\users\\miros\\appdata\\roaming\\python\\python312\\site-packages (from spacy<4.0.0,>=3.0.0->spacy-stanza) (24.1)\n",
      "Requirement already satisfied: langcodes<4.0.0,>=3.2.0 in c:\\users\\miros\\miniconda3\\envs\\ml\\lib\\site-packages (from spacy<4.0.0,>=3.0.0->spacy-stanza) (3.3.0)\n",
      "Requirement already satisfied: numpy>=1.19.0 in c:\\users\\miros\\miniconda3\\envs\\ml\\lib\\site-packages (from spacy<4.0.0,>=3.0.0->spacy-stanza) (2.0.2)\n",
      "Collecting emoji (from stanza<1.7.0,>=1.2.0->spacy-stanza)\n",
      "  Downloading emoji-2.14.1-py3-none-any.whl.metadata (5.7 kB)\n",
      "Requirement already satisfied: protobuf>=3.15.0 in c:\\users\\miros\\miniconda3\\envs\\ml\\lib\\site-packages (from stanza<1.7.0,>=1.2.0->spacy-stanza) (5.28.3)\n",
      "Requirement already satisfied: torch>=1.3.0 in c:\\users\\miros\\miniconda3\\envs\\ml\\lib\\site-packages (from stanza<1.7.0,>=1.2.0->spacy-stanza) (2.5.1)\n",
      "Requirement already satisfied: annotated-types>=0.4.0 in c:\\users\\miros\\miniconda3\\envs\\ml\\lib\\site-packages (from pydantic!=1.8,!=1.8.1,<3.0.0,>=1.7.4->spacy<4.0.0,>=3.0.0->spacy-stanza) (0.6.0)\n",
      "Requirement already satisfied: pydantic-core==2.20.1 in c:\\users\\miros\\miniconda3\\envs\\ml\\lib\\site-packages (from pydantic!=1.8,!=1.8.1,<3.0.0,>=1.7.4->spacy<4.0.0,>=3.0.0->spacy-stanza) (2.20.1)\n",
      "Requirement already satisfied: typing-extensions>=4.6.1 in c:\\users\\miros\\miniconda3\\envs\\ml\\lib\\site-packages (from pydantic!=1.8,!=1.8.1,<3.0.0,>=1.7.4->spacy<4.0.0,>=3.0.0->spacy-stanza) (4.11.0)\n",
      "Requirement already satisfied: charset-normalizer<4,>=2 in c:\\users\\miros\\appdata\\roaming\\python\\python312\\site-packages (from requests<3.0.0,>=2.13.0->spacy<4.0.0,>=3.0.0->spacy-stanza) (3.3.2)\n",
      "Requirement already satisfied: idna<4,>=2.5 in c:\\users\\miros\\appdata\\roaming\\python\\python312\\site-packages (from requests<3.0.0,>=2.13.0->spacy<4.0.0,>=3.0.0->spacy-stanza) (3.7)\n",
      "Requirement already satisfied: urllib3<3,>=1.21.1 in c:\\users\\miros\\appdata\\roaming\\python\\python312\\site-packages (from requests<3.0.0,>=2.13.0->spacy<4.0.0,>=3.0.0->spacy-stanza) (2.2.1)\n",
      "Requirement already satisfied: certifi>=2017.4.17 in c:\\users\\miros\\appdata\\roaming\\python\\python312\\site-packages (from requests<3.0.0,>=2.13.0->spacy<4.0.0,>=3.0.0->spacy-stanza) (2024.6.2)\n",
      "Requirement already satisfied: blis<1.1.0,>=1.0.0 in c:\\users\\miros\\miniconda3\\envs\\ml\\lib\\site-packages (from thinc<8.4.0,>=8.3.0->spacy<4.0.0,>=3.0.0->spacy-stanza) (1.0.1)\n",
      "Requirement already satisfied: confection<1.0.0,>=0.0.1 in c:\\users\\miros\\miniconda3\\envs\\ml\\lib\\site-packages (from thinc<8.4.0,>=8.3.0->spacy<4.0.0,>=3.0.0->spacy-stanza) (0.1.4)\n",
      "Requirement already satisfied: filelock in c:\\users\\miros\\miniconda3\\envs\\ml\\lib\\site-packages (from torch>=1.3.0->stanza<1.7.0,>=1.2.0->spacy-stanza) (3.16.1)\n",
      "Requirement already satisfied: networkx in c:\\users\\miros\\miniconda3\\envs\\ml\\lib\\site-packages (from torch>=1.3.0->stanza<1.7.0,>=1.2.0->spacy-stanza) (3.3)\n",
      "Requirement already satisfied: fsspec in c:\\users\\miros\\miniconda3\\envs\\ml\\lib\\site-packages (from torch>=1.3.0->stanza<1.7.0,>=1.2.0->spacy-stanza) (2024.9.0)\n",
      "Requirement already satisfied: sympy==1.13.1 in c:\\users\\miros\\miniconda3\\envs\\ml\\lib\\site-packages (from torch>=1.3.0->stanza<1.7.0,>=1.2.0->spacy-stanza) (1.13.1)\n",
      "Requirement already satisfied: mpmath<1.4,>=1.1.0 in c:\\users\\miros\\miniconda3\\envs\\ml\\lib\\site-packages (from sympy==1.13.1->torch>=1.3.0->stanza<1.7.0,>=1.2.0->spacy-stanza) (1.3.0)\n",
      "Requirement already satisfied: colorama in c:\\users\\miros\\appdata\\roaming\\python\\python312\\site-packages (from tqdm<5.0.0,>=4.38.0->spacy<4.0.0,>=3.0.0->spacy-stanza) (0.4.6)\n",
      "Requirement already satisfied: click<9.0.0,>=7.1.1 in c:\\users\\miros\\miniconda3\\envs\\ml\\lib\\site-packages (from typer<1.0.0,>=0.3.0->spacy<4.0.0,>=3.0.0->spacy-stanza) (8.1.7)\n",
      "Requirement already satisfied: cloudpathlib<0.17.0,>=0.7.0 in c:\\users\\miros\\miniconda3\\envs\\ml\\lib\\site-packages (from weasel<0.5.0,>=0.1.0->spacy<4.0.0,>=3.0.0->spacy-stanza) (0.16.0)\n",
      "Requirement already satisfied: smart-open<7.0.0,>=5.2.1 in c:\\users\\miros\\miniconda3\\envs\\ml\\lib\\site-packages (from weasel<0.5.0,>=0.1.0->spacy<4.0.0,>=3.0.0->spacy-stanza) (5.2.1)\n",
      "Requirement already satisfied: MarkupSafe>=2.0 in c:\\users\\miros\\appdata\\roaming\\python\\python312\\site-packages (from jinja2->spacy<4.0.0,>=3.0.0->spacy-stanza) (2.1.5)\n",
      "Using cached spacy_stanza-1.0.4-py3-none-any.whl (9.7 kB)\n",
      "Using cached stanza-1.6.1-py3-none-any.whl (881 kB)\n",
      "Downloading emoji-2.14.1-py3-none-any.whl (590 kB)\n",
      "   ---------------------------------------- 0.0/590.6 kB ? eta -:--:--\n",
      "   --------------------------------------- 590.6/590.6 kB 10.6 MB/s eta 0:00:00\n",
      "Installing collected packages: emoji, stanza, spacy-stanza\n",
      "Successfully installed emoji-2.14.1 spacy-stanza-1.0.4 stanza-1.6.1\n",
      "Requirement already satisfied: stanza in c:\\users\\miros\\miniconda3\\envs\\ml\\lib\\site-packages (1.6.1)\n",
      "Requirement already satisfied: emoji in c:\\users\\miros\\miniconda3\\envs\\ml\\lib\\site-packages (from stanza) (2.14.1)\n",
      "Requirement already satisfied: numpy in c:\\users\\miros\\miniconda3\\envs\\ml\\lib\\site-packages (from stanza) (2.0.2)\n",
      "Requirement already satisfied: protobuf>=3.15.0 in c:\\users\\miros\\miniconda3\\envs\\ml\\lib\\site-packages (from stanza) (5.28.3)\n",
      "Requirement already satisfied: requests in c:\\users\\miros\\appdata\\roaming\\python\\python312\\site-packages (from stanza) (2.32.3)\n",
      "Requirement already satisfied: torch>=1.3.0 in c:\\users\\miros\\miniconda3\\envs\\ml\\lib\\site-packages (from stanza) (2.5.1)\n",
      "Requirement already satisfied: tqdm in c:\\users\\miros\\miniconda3\\envs\\ml\\lib\\site-packages (from stanza) (4.66.5)\n",
      "Requirement already satisfied: filelock in c:\\users\\miros\\miniconda3\\envs\\ml\\lib\\site-packages (from torch>=1.3.0->stanza) (3.16.1)\n",
      "Requirement already satisfied: typing-extensions>=4.8.0 in c:\\users\\miros\\miniconda3\\envs\\ml\\lib\\site-packages (from torch>=1.3.0->stanza) (4.11.0)\n",
      "Requirement already satisfied: networkx in c:\\users\\miros\\miniconda3\\envs\\ml\\lib\\site-packages (from torch>=1.3.0->stanza) (3.3)\n",
      "Requirement already satisfied: jinja2 in c:\\users\\miros\\appdata\\roaming\\python\\python312\\site-packages (from torch>=1.3.0->stanza) (3.1.4)\n",
      "Requirement already satisfied: fsspec in c:\\users\\miros\\miniconda3\\envs\\ml\\lib\\site-packages (from torch>=1.3.0->stanza) (2024.9.0)\n",
      "Requirement already satisfied: setuptools in c:\\users\\miros\\appdata\\roaming\\python\\python312\\site-packages (from torch>=1.3.0->stanza) (70.0.0)\n",
      "Requirement already satisfied: sympy==1.13.1 in c:\\users\\miros\\miniconda3\\envs\\ml\\lib\\site-packages (from torch>=1.3.0->stanza) (1.13.1)\n",
      "Requirement already satisfied: mpmath<1.4,>=1.1.0 in c:\\users\\miros\\miniconda3\\envs\\ml\\lib\\site-packages (from sympy==1.13.1->torch>=1.3.0->stanza) (1.3.0)\n",
      "Requirement already satisfied: charset-normalizer<4,>=2 in c:\\users\\miros\\appdata\\roaming\\python\\python312\\site-packages (from requests->stanza) (3.3.2)\n",
      "Requirement already satisfied: idna<4,>=2.5 in c:\\users\\miros\\appdata\\roaming\\python\\python312\\site-packages (from requests->stanza) (3.7)\n",
      "Requirement already satisfied: urllib3<3,>=1.21.1 in c:\\users\\miros\\appdata\\roaming\\python\\python312\\site-packages (from requests->stanza) (2.2.1)\n",
      "Requirement already satisfied: certifi>=2017.4.17 in c:\\users\\miros\\appdata\\roaming\\python\\python312\\site-packages (from requests->stanza) (2024.6.2)\n",
      "Requirement already satisfied: colorama in c:\\users\\miros\\appdata\\roaming\\python\\python312\\site-packages (from tqdm->stanza) (0.4.6)\n",
      "Requirement already satisfied: MarkupSafe>=2.0 in c:\\users\\miros\\appdata\\roaming\\python\\python312\\site-packages (from jinja2->torch>=1.3.0->stanza) (2.1.5)\n"
     ]
    }
   ],
   "source": [
    "# !pip install ufal.udpipe\n",
    "# !pip install spacy-stanza\n",
    "!pip install --upgrade spacy-stanza\n",
    "!pip install stanza"
   ]
  },
  {
   "cell_type": "code",
   "execution_count": 3,
   "id": "47ba6dbb-7300-4aa4-be29-9428e6935672",
   "metadata": {
    "colab": {
     "base_uri": "https://localhost:8080/",
     "height": 397
    },
    "deletable": true,
    "editable": true,
    "executionInfo": {
     "elapsed": 465,
     "status": "error",
     "timestamp": 1737551735851,
     "user": {
      "displayName": "Miroslava Ivanova",
      "userId": "15457167696903657486"
     },
     "user_tz": -120
    },
    "frozen": false,
    "id": "47ba6dbb-7300-4aa4-be29-9428e6935672",
    "outputId": "0cc16144-93eb-4b6a-8232-efd67205397a"
   },
   "outputs": [],
   "source": [
    "from spacy.tokens import Doc\n",
    "# from ufal.udpipe import Model, Pipeline\n",
    "\n",
    "import os\n",
    "import pandas as pd\n",
    "import re\n",
    "import spacy\n",
    "import spacy_stanza\n",
    "import stanza\n",
    "import time\n",
    "import urllib.request\n",
    "import warnings"
   ]
  },
  {
   "cell_type": "code",
   "execution_count": 4,
   "id": "89c20c6e-a84f-4573-8ee9-862665a570fc",
   "metadata": {
    "deletable": true,
    "editable": true,
    "frozen": false,
    "id": "89c20c6e-a84f-4573-8ee9-862665a570fc"
   },
   "outputs": [],
   "source": [
    "# Suppress specific warnings\n",
    "warnings.filterwarnings(\"ignore\", category=FutureWarning, message=\".*torch.load.*\")"
   ]
  },
  {
   "cell_type": "markdown",
   "id": "a4992f6d-bfa2-44e9-8c58-8ba891bde1e0",
   "metadata": {
    "deletable": true,
    "editable": true,
    "frozen": false,
    "id": "a4992f6d-bfa2-44e9-8c58-8ba891bde1e0"
   },
   "source": [
    "## 3 Experiments with Stanza and UDPipe"
   ]
  },
  {
   "cell_type": "markdown",
   "id": "9db3f3a8-f662-4859-a172-c7487ada73a1",
   "metadata": {
    "deletable": true,
    "editable": true,
    "frozen": false,
    "id": "9db3f3a8-f662-4859-a172-c7487ada73a1"
   },
   "source": [
    "### 3.1 Download and initialize Bulgarian models"
   ]
  },
  {
   "cell_type": "code",
   "execution_count": 5,
   "id": "e47b4ec9-8167-49c8-bba6-294fb4af2a2e",
   "metadata": {
    "colab": {
     "base_uri": "https://localhost:8080/",
     "height": 117,
     "referenced_widgets": [
      "db794fbe4f424b7798a80c36a7be5272",
      "9f9396628b6a461d88aaaaf805bd6335",
      "e6adf0bdd59c424191dfce3515c571a7",
      "970ce1cfaa104a7eb7f7c13c5825c1a0",
      "867aff5e74b54b628ac729a5e3ecc9cf",
      "82c61d94f1cb4d7f961151f04b9bc392",
      "dcbaff6a598344729430a30dd39aa31c",
      "c4a4fc5c28054b4890c60885e095030d",
      "743ff51d7cf144acbd4803073ae79030",
      "857acc58658b4ec090ae6ad953129a60",
      "a6c4a6f9f1644180a40a279e1cbd9126",
      "2c8089ccb3c24a768e241ca96d94cfd7",
      "3978ae2dd41e40b299fbcdf451db8c36",
      "d8e2a3692bb840b5956039bdb85fc460",
      "ef88866ef291418e986cc1d1333e919c",
      "4a03c490bfa645a4aad28a7ba98e7200",
      "be928ee564854b73952b086b2a1d12f5",
      "3ebe23f8eb5e4ad4b827e988929d74a0",
      "73be804f6c1c4da581585ad20033a51b",
      "0415e86b8f7148b3aa385ada79c8812d",
      "c96a613eb5ad4a07bdb85497752d18b2",
      "e536007fd8134b5f88ae625efe96f855"
     ]
    },
    "deletable": true,
    "editable": true,
    "executionInfo": {
     "elapsed": 12449,
     "status": "ok",
     "timestamp": 1737546977822,
     "user": {
      "displayName": "Miroslava Ivanova",
      "userId": "15457167696903657486"
     },
     "user_tz": -120
    },
    "frozen": false,
    "id": "e47b4ec9-8167-49c8-bba6-294fb4af2a2e",
    "outputId": "4e68cd54-a976-46b7-d09b-04a17a032d0d"
   },
   "outputs": [
    {
     "data": {
      "application/vnd.jupyter.widget-view+json": {
       "model_id": "cc5f0ddd7a9b4f5b94e3618e87db88c5",
       "version_major": 2,
       "version_minor": 0
      },
      "text/plain": [
       "Downloading https://raw.githubusercontent.com/stanfordnlp/stanza-resources/main/resources_1.6.0.json:   0%|   …"
      ]
     },
     "metadata": {},
     "output_type": "display_data"
    },
    {
     "name": "stderr",
     "output_type": "stream",
     "text": [
      "2025-01-22 15:35:57 INFO: Downloading default packages for language: bg (Bulgarian) ...\n"
     ]
    },
    {
     "data": {
      "application/vnd.jupyter.widget-view+json": {
       "model_id": "68ad09a173d246ce87e018ecb628ae2a",
       "version_major": 2,
       "version_minor": 0
      },
      "text/plain": [
       "Downloading https://huggingface.co/stanfordnlp/stanza-bg/resolve/v1.6.0/models/default.zip:   0%|          | 0…"
      ]
     },
     "metadata": {},
     "output_type": "display_data"
    },
    {
     "name": "stderr",
     "output_type": "stream",
     "text": [
      "2025-01-22 15:36:40 INFO: Finished downloading models and saved to ./stanza_resources.\n"
     ]
    }
   ],
   "source": [
    "# Download Stanza\n",
    "if not os.path.isdir(\"./stanza_resources/bg\"):\n",
    "    stanza.download(\"bg\", model_dir=\"./stanza_resources\")"
   ]
  },
  {
   "cell_type": "code",
   "execution_count": 6,
   "id": "c9805b10-8ea6-4462-a30d-503bf3b229af",
   "metadata": {
    "colab": {
     "base_uri": "https://localhost:8080/",
     "height": 539,
     "referenced_widgets": [
      "8aeab4b76c7849f38daf67a085b67156",
      "f310632df4824b4dbef7c1fcfa764863",
      "9c67c95f74284c0a9d86c985fe1e34e6",
      "aa85f074ed83468dabd6c63b0e1fa01b",
      "dfc47ff03e3a427891662a80f852d136",
      "3c0d7e5264b74ec9ac703c117e652865",
      "b0aba8c98ad845279ca0698d8747f0ff",
      "fe87379e8b1d458f9d333d6ffb25f25f",
      "968572eea1004c79bc78ff440e8a1315",
      "c2fc10a1916641f4b78df637681afba8",
      "844823a6669d4ff195f34cd4f0a57034"
     ]
    },
    "deletable": true,
    "editable": true,
    "executionInfo": {
     "elapsed": 1705,
     "status": "ok",
     "timestamp": 1737551882541,
     "user": {
      "displayName": "Miroslava Ivanova",
      "userId": "15457167696903657486"
     },
     "user_tz": -120
    },
    "frozen": false,
    "id": "c9805b10-8ea6-4462-a30d-503bf3b229af",
    "outputId": "c6a3c808-fc50-41b5-8dd5-ff7327b288eb"
   },
   "outputs": [
    {
     "name": "stderr",
     "output_type": "stream",
     "text": [
      "2025-01-22 15:36:44 INFO: Checking for updates to resources.json in case models have been updated.  Note: this behavior can be turned off with download_method=None or download_method=DownloadMethod.REUSE_RESOURCES\n"
     ]
    },
    {
     "data": {
      "application/vnd.jupyter.widget-view+json": {
       "model_id": "0f77147da4af40c0af4bd19e1fe81677",
       "version_major": 2,
       "version_minor": 0
      },
      "text/plain": [
       "Downloading https://raw.githubusercontent.com/stanfordnlp/stanza-resources/main/resources_1.6.0.json:   0%|   …"
      ]
     },
     "metadata": {},
     "output_type": "display_data"
    },
    {
     "name": "stderr",
     "output_type": "stream",
     "text": [
      "2025-01-22 15:36:45 INFO: Loading these models for language: bg (Bulgarian):\n",
      "============================\n",
      "| Processor | Package      |\n",
      "----------------------------\n",
      "| tokenize  | btb          |\n",
      "| pos       | btb_charlm   |\n",
      "| lemma     | btb_nocharlm |\n",
      "============================\n",
      "\n",
      "2025-01-22 15:36:45 WARNING: GPU requested, but is not available!\n",
      "2025-01-22 15:36:45 INFO: Using device: cpu\n",
      "2025-01-22 15:36:45 INFO: Loading: tokenize\n",
      "2025-01-22 15:36:47 INFO: Loading: pos\n",
      "2025-01-22 15:36:48 INFO: Loading: lemma\n",
      "2025-01-22 15:36:48 INFO: Done loading processors!\n"
     ]
    }
   ],
   "source": [
    "processors = \"tokenize,pos,lemma\"  # A string with comma-separated processor names\n",
    "\n",
    "# Initialize the pipeline\n",
    "nlp_spacy_stanza = spacy_stanza.load_pipeline(\n",
    "    \"bg\",\n",
    "    dir=\"./stanza_resources\",\n",
    "    processors=processors\n",
    ")\n",
    "\n",
    "# nlp_spacy_stanza = spacy_stanza.load_pipeline(\"bg\", dir=\"./stanza_resources\")"
   ]
  },
  {
   "cell_type": "markdown",
   "id": "6e66b855-df4c-41d0-9761-b65813309cf2",
   "metadata": {
    "deletable": true,
    "editable": true,
    "frozen": false,
    "id": "6e66b855-df4c-41d0-9761-b65813309cf2"
   },
   "source": [
    "### 3.2 Define initial functions"
   ]
  },
  {
   "cell_type": "code",
   "execution_count": 7,
   "id": "d9969540-33d8-4e8b-8d39-9f6ce85c5bfc",
   "metadata": {
    "deletable": true,
    "editable": true,
    "executionInfo": {
     "elapsed": 343,
     "status": "ok",
     "timestamp": 1737551901781,
     "user": {
      "displayName": "Miroslava Ivanova",
      "userId": "15457167696903657486"
     },
     "user_tz": -120
    },
    "frozen": false,
    "id": "d9969540-33d8-4e8b-8d39-9f6ce85c5bfc"
   },
   "outputs": [],
   "source": [
    "def nlp_st(txt):\n",
    "    return nlp_spacy_stanza(txt)"
   ]
  },
  {
   "cell_type": "markdown",
   "id": "be7dab88-0168-481c-a3ff-cd130a69dfb1",
   "metadata": {
    "deletable": true,
    "editable": true,
    "frozen": false,
    "id": "be7dab88-0168-481c-a3ff-cd130a69dfb1"
   },
   "source": [
    "### 3.3 Compare NLP features"
   ]
  },
  {
   "cell_type": "code",
   "execution_count": 8,
   "id": "f94ece13-75b0-4531-b845-f8b382992548",
   "metadata": {
    "deletable": true,
    "editable": true,
    "executionInfo": {
     "elapsed": 1,
     "status": "ok",
     "timestamp": 1737551902157,
     "user": {
      "displayName": "Miroslava Ivanova",
      "userId": "15457167696903657486"
     },
     "user_tz": -120
    },
    "frozen": false,
    "id": "f94ece13-75b0-4531-b845-f8b382992548"
   },
   "outputs": [],
   "source": [
    "# A helper function for displaying useful NLP features in easy to read format\n",
    "def inspect_spacy_doc(doc):\n",
    "    for token in doc:\n",
    "        print(f\"Token: {token.text:<15} Tag: {token.tag_:<15} POS: {token.pos_:<10} Lemma: {token.lemma_:<15} Dep: {token.dep_:<10}\")\n",
    "    print(\"\\n\")"
   ]
  },
  {
   "cell_type": "code",
   "execution_count": 9,
   "id": "63283d73-0b39-49b5-8666-6e82566ece38",
   "metadata": {
    "deletable": true,
    "editable": true,
    "executionInfo": {
     "elapsed": 1,
     "status": "ok",
     "timestamp": 1737551903212,
     "user": {
      "displayName": "Miroslava Ivanova",
      "userId": "15457167696903657486"
     },
     "user_tz": -120
    },
    "frozen": false,
    "id": "63283d73-0b39-49b5-8666-6e82566ece38"
   },
   "outputs": [],
   "source": [
    "sentence = \"\"\"Сред гостите на официалната церемония по встъпване в длъжност на новоизбрания президент ще бъдат българският \\\n",
    "държавен глава Румен Радев, президентът на Албания Илир Мета и на Косово Хашим Тачи.\"\"\""
   ]
  },
  {
   "cell_type": "markdown",
   "id": "48993890-ac0d-46d3-af2b-c5efc329681b",
   "metadata": {
    "deletable": true,
    "editable": true,
    "frozen": false,
    "id": "48993890-ac0d-46d3-af2b-c5efc329681b"
   },
   "source": [
    "### 3.5 Compare performance with large amount of data"
   ]
  },
  {
   "cell_type": "code",
   "execution_count": 12,
   "id": "584a0d7b-3e74-4c18-9dbc-becf2144a153",
   "metadata": {
    "deletable": true,
    "editable": true,
    "executionInfo": {
     "elapsed": 2,
     "status": "ok",
     "timestamp": 1737551904196,
     "user": {
      "displayName": "Miroslava Ivanova",
      "userId": "15457167696903657486"
     },
     "user_tz": -120
    },
    "frozen": false,
    "id": "584a0d7b-3e74-4c18-9dbc-becf2144a153"
   },
   "outputs": [],
   "source": [
    "# Create a DataFrame with 10 rows, use same sentence for simplicity\n",
    "test_df = pd.DataFrame({\"text\": [sentence] * 10})"
   ]
  },
  {
   "cell_type": "code",
   "execution_count": 13,
   "id": "8e16bfd3-ae98-4980-9ceb-18ac29eadfb8",
   "metadata": {
    "deletable": true,
    "editable": true,
    "executionInfo": {
     "elapsed": 493,
     "status": "ok",
     "timestamp": 1737551905267,
     "user": {
      "displayName": "Miroslava Ivanova",
      "userId": "15457167696903657486"
     },
     "user_tz": -120
    },
    "frozen": false,
    "id": "8e16bfd3-ae98-4980-9ceb-18ac29eadfb8"
   },
   "outputs": [],
   "source": [
    "def sent_features_to_string(sent):\n",
    "    \"\"\"Converts sentence features to strings\"\"\"\n",
    "    words = [tk.pos_ for tk in sent]\n",
    "    lemmas = [(tk.lemma_) for tk in sent]\n",
    "    pos = [tk.pos_ for tk in sent]\n",
    "    tag = [tk.tag_ for tk in sent]    # morph?\n",
    "    morph = [str(tk.morph) for tk in sent] # features?\n",
    "    dep = [tk.dep_ for tk in sent]\n",
    "    n_words = len(sent)\n",
    "\n",
    "    return words, lemmas, pos, tag, morph, dep, n_words\n",
    "\n",
    "\n",
    "\n",
    "def extract_features(nlp, row, col):\n",
    "    \"\"\"Extracts linguistic features from a text column using a given NLP model\"\"\"\n",
    "    value = row[col]\n",
    "    doc = nlp(value)\n",
    "    return sent_features_to_string(doc)"
   ]
  },
  {
   "cell_type": "markdown",
   "id": "a627136d-866d-436a-8796-bea32b10e32a",
   "metadata": {
    "deletable": true,
    "editable": true,
    "frozen": false,
    "id": "a627136d-866d-436a-8796-bea32b10e32a"
   },
   "source": [
    "#### 3.5.1 Extracting features using Stanza"
   ]
  },
  {
   "cell_type": "code",
   "execution_count": 14,
   "id": "a489328e-bd92-41c0-a1a8-2bcc0d201f3e",
   "metadata": {
    "deletable": true,
    "editable": true,
    "executionInfo": {
     "elapsed": 5491,
     "status": "ok",
     "timestamp": 1737552764295,
     "user": {
      "displayName": "Miroslava Ivanova",
      "userId": "15457167696903657486"
     },
     "user_tz": -120
    },
    "frozen": false,
    "id": "a489328e-bd92-41c0-a1a8-2bcc0d201f3e"
   },
   "outputs": [],
   "source": [
    "start_time = time.time()\n",
    "\n",
    "test_df[[\"words_s\", \"lemmas_s\", \"pos_s\", \"morph_s\", \"features_s\", \"dep_s\", \"n_words_s\"]] = test_df.apply(\n",
    "    lambda r: extract_features(nlp_st, r, \"text\"), axis=1, result_type=\"expand\"\n",
    ")\n",
    "\n",
    "end_time = time.time()\n",
    "execution_time_st = end_time - start_time"
   ]
  },
  {
   "cell_type": "code",
   "execution_count": 15,
   "id": "08ea16f7-cd38-4e0c-9993-58e2028ef2db",
   "metadata": {
    "colab": {
     "base_uri": "https://localhost:8080/"
    },
    "deletable": true,
    "editable": true,
    "executionInfo": {
     "elapsed": 3,
     "status": "ok",
     "timestamp": 1737552764296,
     "user": {
      "displayName": "Miroslava Ivanova",
      "userId": "15457167696903657486"
     },
     "user_tz": -120
    },
    "frozen": false,
    "id": "08ea16f7-cd38-4e0c-9993-58e2028ef2db",
    "outputId": "a5cd8882-1731-4682-abd0-d6f10aa5715e"
   },
   "outputs": [
    {
     "name": "stdout",
     "output_type": "stream",
     "text": [
      "Execution time (stanza): 6.670640468597412 seconds\n"
     ]
    }
   ],
   "source": [
    "print(f\"Execution time (stanza): {execution_time_st} seconds\")"
   ]
  },
  {
   "cell_type": "code",
   "execution_count": 42,
   "id": "Ujn0z1cT5iBY",
   "metadata": {
    "colab": {
     "base_uri": "https://localhost:8080/",
     "height": 1000
    },
    "deletable": true,
    "editable": true,
    "executionInfo": {
     "elapsed": 6,
     "status": "ok",
     "timestamp": 1737548476014,
     "user": {
      "displayName": "Miroslava Ivanova",
      "userId": "15457167696903657486"
     },
     "user_tz": -120
    },
    "frozen": false,
    "id": "Ujn0z1cT5iBY",
    "outputId": "2a1030d2-6ecd-42ac-89c9-4bed39c3d356"
   },
   "outputs": [
    {
     "data": {
      "application/vnd.google.colaboratory.intrinsic+json": {
       "summary": "{\n  \"name\": \"test_df\",\n  \"rows\": 10,\n  \"fields\": [\n    {\n      \"column\": \"text\",\n      \"properties\": {\n        \"dtype\": \"category\",\n        \"num_unique_values\": 1,\n        \"samples\": [\n          \"\\u0421\\u0440\\u0435\\u0434 \\u0433\\u043e\\u0441\\u0442\\u0438\\u0442\\u0435 \\u043d\\u0430 \\u043e\\u0444\\u0438\\u0446\\u0438\\u0430\\u043b\\u043d\\u0430\\u0442\\u0430 \\u0446\\u0435\\u0440\\u0435\\u043c\\u043e\\u043d\\u0438\\u044f \\u043f\\u043e \\u0432\\u0441\\u0442\\u044a\\u043f\\u0432\\u0430\\u043d\\u0435 \\u0432 \\u0434\\u043b\\u044a\\u0436\\u043d\\u043e\\u0441\\u0442 \\u043d\\u0430 \\u043d\\u043e\\u0432\\u043e\\u0438\\u0437\\u0431\\u0440\\u0430\\u043d\\u0438\\u044f \\u043f\\u0440\\u0435\\u0437\\u0438\\u0434\\u0435\\u043d\\u0442 \\u0449\\u0435 \\u0431\\u044a\\u0434\\u0430\\u0442 \\u0431\\u044a\\u043b\\u0433\\u0430\\u0440\\u0441\\u043a\\u0438\\u044f\\u0442 \\u0434\\u044a\\u0440\\u0436\\u0430\\u0432\\u0435\\u043d \\u0433\\u043b\\u0430\\u0432\\u0430 \\u0420\\u0443\\u043c\\u0435\\u043d \\u0420\\u0430\\u0434\\u0435\\u0432, \\u043f\\u0440\\u0435\\u0437\\u0438\\u0434\\u0435\\u043d\\u0442\\u044a\\u0442 \\u043d\\u0430 \\u0410\\u043b\\u0431\\u0430\\u043d\\u0438\\u044f \\u0418\\u043b\\u0438\\u0440 \\u041c\\u0435\\u0442\\u0430 \\u0438 \\u043d\\u0430 \\u041a\\u043e\\u0441\\u043e\\u0432\\u043e \\u0425\\u0430\\u0448\\u0438\\u043c \\u0422\\u0430\\u0447\\u0438.\"\n        ],\n        \"semantic_type\": \"\",\n        \"description\": \"\"\n      }\n    },\n    {\n      \"column\": \"pos\",\n      \"properties\": {\n        \"dtype\": \"number\",\n        \"std\": 0,\n        \"min\": 1,\n        \"max\": 1,\n        \"num_unique_values\": 1,\n        \"samples\": [\n          1\n        ],\n        \"semantic_type\": \"\",\n        \"description\": \"\"\n      }\n    },\n    {\n      \"column\": \"tag\",\n      \"properties\": {\n        \"dtype\": \"number\",\n        \"std\": 0,\n        \"min\": 2,\n        \"max\": 2,\n        \"num_unique_values\": 1,\n        \"samples\": [\n          2\n        ],\n        \"semantic_type\": \"\",\n        \"description\": \"\"\n      }\n    },\n    {\n      \"column\": \"dep\",\n      \"properties\": {\n        \"dtype\": \"number\",\n        \"std\": 0,\n        \"min\": 3,\n        \"max\": 3,\n        \"num_unique_values\": 1,\n        \"samples\": [\n          3\n        ],\n        \"semantic_type\": \"\",\n        \"description\": \"\"\n      }\n    },\n    {\n      \"column\": \"morph\",\n      \"properties\": {\n        \"dtype\": \"number\",\n        \"std\": 0,\n        \"min\": 4,\n        \"max\": 4,\n        \"num_unique_values\": 1,\n        \"samples\": [\n          4\n        ],\n        \"semantic_type\": \"\",\n        \"description\": \"\"\n      }\n    },\n    {\n      \"column\": \"lemmas\",\n      \"properties\": {\n        \"dtype\": \"number\",\n        \"std\": 0,\n        \"min\": 5,\n        \"max\": 5,\n        \"num_unique_values\": 1,\n        \"samples\": [\n          5\n        ],\n        \"semantic_type\": \"\",\n        \"description\": \"\"\n      }\n    },\n    {\n      \"column\": \"left_edge\",\n      \"properties\": {\n        \"dtype\": \"number\",\n        \"std\": 0,\n        \"min\": 6,\n        \"max\": 6,\n        \"num_unique_values\": 1,\n        \"samples\": [\n          6\n        ],\n        \"semantic_type\": \"\",\n        \"description\": \"\"\n      }\n    },\n    {\n      \"column\": \"right_edge\",\n      \"properties\": {\n        \"dtype\": \"number\",\n        \"std\": 0,\n        \"min\": 7,\n        \"max\": 7,\n        \"num_unique_values\": 1,\n        \"samples\": [\n          7\n        ],\n        \"semantic_type\": \"\",\n        \"description\": \"\"\n      }\n    },\n    {\n      \"column\": \"num_words\",\n      \"properties\": {\n        \"dtype\": \"number\",\n        \"std\": 0,\n        \"min\": 8,\n        \"max\": 8,\n        \"num_unique_values\": 1,\n        \"samples\": [\n          8\n        ],\n        \"semantic_type\": \"\",\n        \"description\": \"\"\n      }\n    },\n    {\n      \"column\": \"words_s\",\n      \"properties\": {\n        \"dtype\": \"object\",\n        \"semantic_type\": \"\",\n        \"description\": \"\"\n      }\n    },\n    {\n      \"column\": \"lemmas_s\",\n      \"properties\": {\n        \"dtype\": \"object\",\n        \"semantic_type\": \"\",\n        \"description\": \"\"\n      }\n    },\n    {\n      \"column\": \"pos_s\",\n      \"properties\": {\n        \"dtype\": \"object\",\n        \"semantic_type\": \"\",\n        \"description\": \"\"\n      }\n    },\n    {\n      \"column\": \"morph_s\",\n      \"properties\": {\n        \"dtype\": \"object\",\n        \"semantic_type\": \"\",\n        \"description\": \"\"\n      }\n    },\n    {\n      \"column\": \"features_s\",\n      \"properties\": {\n        \"dtype\": \"object\",\n        \"semantic_type\": \"\",\n        \"description\": \"\"\n      }\n    },\n    {\n      \"column\": \"dep_s\",\n      \"properties\": {\n        \"dtype\": \"object\",\n        \"semantic_type\": \"\",\n        \"description\": \"\"\n      }\n    },\n    {\n      \"column\": \"n_words_s\",\n      \"properties\": {\n        \"dtype\": \"number\",\n        \"std\": 0,\n        \"min\": 31,\n        \"max\": 31,\n        \"num_unique_values\": 1,\n        \"samples\": [\n          31\n        ],\n        \"semantic_type\": \"\",\n        \"description\": \"\"\n      }\n    }\n  ]\n}",
       "type": "dataframe",
       "variable_name": "test_df"
      },
      "text/html": [
       "\n",
       "  <div id=\"df-574643d7-8696-469a-985e-002ef4e4709a\" class=\"colab-df-container\">\n",
       "    <div>\n",
       "<style scoped>\n",
       "    .dataframe tbody tr th:only-of-type {\n",
       "        vertical-align: middle;\n",
       "    }\n",
       "\n",
       "    .dataframe tbody tr th {\n",
       "        vertical-align: top;\n",
       "    }\n",
       "\n",
       "    .dataframe thead th {\n",
       "        text-align: right;\n",
       "    }\n",
       "</style>\n",
       "<table border=\"1\" class=\"dataframe\">\n",
       "  <thead>\n",
       "    <tr style=\"text-align: right;\">\n",
       "      <th></th>\n",
       "      <th>text</th>\n",
       "      <th>pos</th>\n",
       "      <th>tag</th>\n",
       "      <th>dep</th>\n",
       "      <th>morph</th>\n",
       "      <th>lemmas</th>\n",
       "      <th>left_edge</th>\n",
       "      <th>right_edge</th>\n",
       "      <th>num_words</th>\n",
       "      <th>words_s</th>\n",
       "      <th>lemmas_s</th>\n",
       "      <th>pos_s</th>\n",
       "      <th>morph_s</th>\n",
       "      <th>features_s</th>\n",
       "      <th>dep_s</th>\n",
       "      <th>n_words_s</th>\n",
       "    </tr>\n",
       "  </thead>\n",
       "  <tbody>\n",
       "    <tr>\n",
       "      <th>0</th>\n",
       "      <td>Сред гостите на официалната церемония по встъп...</td>\n",
       "      <td>1</td>\n",
       "      <td>2</td>\n",
       "      <td>3</td>\n",
       "      <td>4</td>\n",
       "      <td>5</td>\n",
       "      <td>6</td>\n",
       "      <td>7</td>\n",
       "      <td>8</td>\n",
       "      <td>[ADP, NOUN, ADP, ADJ, NOUN, ADP, NOUN, ADP, NO...</td>\n",
       "      <td>[сред, гост, на, официален, церемония, по, вст...</td>\n",
       "      <td>[ADP, NOUN, ADP, ADJ, NOUN, ADP, NOUN, ADP, NO...</td>\n",
       "      <td>[R, Ncmpd, R, Afsd, Ncfsi, R, Ncnsi, R, Ncfsi,...</td>\n",
       "      <td>[, Definite=Def|Gender=Masc|Number=Plur, , Def...</td>\n",
       "      <td>[case, root, case, amod, nmod, case, nmod, cas...</td>\n",
       "      <td>31</td>\n",
       "    </tr>\n",
       "    <tr>\n",
       "      <th>1</th>\n",
       "      <td>Сред гостите на официалната церемония по встъп...</td>\n",
       "      <td>1</td>\n",
       "      <td>2</td>\n",
       "      <td>3</td>\n",
       "      <td>4</td>\n",
       "      <td>5</td>\n",
       "      <td>6</td>\n",
       "      <td>7</td>\n",
       "      <td>8</td>\n",
       "      <td>[ADP, NOUN, ADP, ADJ, NOUN, ADP, NOUN, ADP, NO...</td>\n",
       "      <td>[сред, гост, на, официален, церемония, по, вст...</td>\n",
       "      <td>[ADP, NOUN, ADP, ADJ, NOUN, ADP, NOUN, ADP, NO...</td>\n",
       "      <td>[R, Ncmpd, R, Afsd, Ncfsi, R, Ncnsi, R, Ncfsi,...</td>\n",
       "      <td>[, Definite=Def|Gender=Masc|Number=Plur, , Def...</td>\n",
       "      <td>[case, root, case, amod, nmod, case, nmod, cas...</td>\n",
       "      <td>31</td>\n",
       "    </tr>\n",
       "    <tr>\n",
       "      <th>2</th>\n",
       "      <td>Сред гостите на официалната церемония по встъп...</td>\n",
       "      <td>1</td>\n",
       "      <td>2</td>\n",
       "      <td>3</td>\n",
       "      <td>4</td>\n",
       "      <td>5</td>\n",
       "      <td>6</td>\n",
       "      <td>7</td>\n",
       "      <td>8</td>\n",
       "      <td>[ADP, NOUN, ADP, ADJ, NOUN, ADP, NOUN, ADP, NO...</td>\n",
       "      <td>[сред, гост, на, официален, церемония, по, вст...</td>\n",
       "      <td>[ADP, NOUN, ADP, ADJ, NOUN, ADP, NOUN, ADP, NO...</td>\n",
       "      <td>[R, Ncmpd, R, Afsd, Ncfsi, R, Ncnsi, R, Ncfsi,...</td>\n",
       "      <td>[, Definite=Def|Gender=Masc|Number=Plur, , Def...</td>\n",
       "      <td>[case, root, case, amod, nmod, case, nmod, cas...</td>\n",
       "      <td>31</td>\n",
       "    </tr>\n",
       "    <tr>\n",
       "      <th>3</th>\n",
       "      <td>Сред гостите на официалната церемония по встъп...</td>\n",
       "      <td>1</td>\n",
       "      <td>2</td>\n",
       "      <td>3</td>\n",
       "      <td>4</td>\n",
       "      <td>5</td>\n",
       "      <td>6</td>\n",
       "      <td>7</td>\n",
       "      <td>8</td>\n",
       "      <td>[ADP, NOUN, ADP, ADJ, NOUN, ADP, NOUN, ADP, NO...</td>\n",
       "      <td>[сред, гост, на, официален, церемония, по, вст...</td>\n",
       "      <td>[ADP, NOUN, ADP, ADJ, NOUN, ADP, NOUN, ADP, NO...</td>\n",
       "      <td>[R, Ncmpd, R, Afsd, Ncfsi, R, Ncnsi, R, Ncfsi,...</td>\n",
       "      <td>[, Definite=Def|Gender=Masc|Number=Plur, , Def...</td>\n",
       "      <td>[case, root, case, amod, nmod, case, nmod, cas...</td>\n",
       "      <td>31</td>\n",
       "    </tr>\n",
       "    <tr>\n",
       "      <th>4</th>\n",
       "      <td>Сред гостите на официалната церемония по встъп...</td>\n",
       "      <td>1</td>\n",
       "      <td>2</td>\n",
       "      <td>3</td>\n",
       "      <td>4</td>\n",
       "      <td>5</td>\n",
       "      <td>6</td>\n",
       "      <td>7</td>\n",
       "      <td>8</td>\n",
       "      <td>[ADP, NOUN, ADP, ADJ, NOUN, ADP, NOUN, ADP, NO...</td>\n",
       "      <td>[сред, гост, на, официален, церемония, по, вст...</td>\n",
       "      <td>[ADP, NOUN, ADP, ADJ, NOUN, ADP, NOUN, ADP, NO...</td>\n",
       "      <td>[R, Ncmpd, R, Afsd, Ncfsi, R, Ncnsi, R, Ncfsi,...</td>\n",
       "      <td>[, Definite=Def|Gender=Masc|Number=Plur, , Def...</td>\n",
       "      <td>[case, root, case, amod, nmod, case, nmod, cas...</td>\n",
       "      <td>31</td>\n",
       "    </tr>\n",
       "    <tr>\n",
       "      <th>5</th>\n",
       "      <td>Сред гостите на официалната церемония по встъп...</td>\n",
       "      <td>1</td>\n",
       "      <td>2</td>\n",
       "      <td>3</td>\n",
       "      <td>4</td>\n",
       "      <td>5</td>\n",
       "      <td>6</td>\n",
       "      <td>7</td>\n",
       "      <td>8</td>\n",
       "      <td>[ADP, NOUN, ADP, ADJ, NOUN, ADP, NOUN, ADP, NO...</td>\n",
       "      <td>[сред, гост, на, официален, церемония, по, вст...</td>\n",
       "      <td>[ADP, NOUN, ADP, ADJ, NOUN, ADP, NOUN, ADP, NO...</td>\n",
       "      <td>[R, Ncmpd, R, Afsd, Ncfsi, R, Ncnsi, R, Ncfsi,...</td>\n",
       "      <td>[, Definite=Def|Gender=Masc|Number=Plur, , Def...</td>\n",
       "      <td>[case, root, case, amod, nmod, case, nmod, cas...</td>\n",
       "      <td>31</td>\n",
       "    </tr>\n",
       "    <tr>\n",
       "      <th>6</th>\n",
       "      <td>Сред гостите на официалната церемония по встъп...</td>\n",
       "      <td>1</td>\n",
       "      <td>2</td>\n",
       "      <td>3</td>\n",
       "      <td>4</td>\n",
       "      <td>5</td>\n",
       "      <td>6</td>\n",
       "      <td>7</td>\n",
       "      <td>8</td>\n",
       "      <td>[ADP, NOUN, ADP, ADJ, NOUN, ADP, NOUN, ADP, NO...</td>\n",
       "      <td>[сред, гост, на, официален, церемония, по, вст...</td>\n",
       "      <td>[ADP, NOUN, ADP, ADJ, NOUN, ADP, NOUN, ADP, NO...</td>\n",
       "      <td>[R, Ncmpd, R, Afsd, Ncfsi, R, Ncnsi, R, Ncfsi,...</td>\n",
       "      <td>[, Definite=Def|Gender=Masc|Number=Plur, , Def...</td>\n",
       "      <td>[case, root, case, amod, nmod, case, nmod, cas...</td>\n",
       "      <td>31</td>\n",
       "    </tr>\n",
       "    <tr>\n",
       "      <th>7</th>\n",
       "      <td>Сред гостите на официалната церемония по встъп...</td>\n",
       "      <td>1</td>\n",
       "      <td>2</td>\n",
       "      <td>3</td>\n",
       "      <td>4</td>\n",
       "      <td>5</td>\n",
       "      <td>6</td>\n",
       "      <td>7</td>\n",
       "      <td>8</td>\n",
       "      <td>[ADP, NOUN, ADP, ADJ, NOUN, ADP, NOUN, ADP, NO...</td>\n",
       "      <td>[сред, гост, на, официален, церемония, по, вст...</td>\n",
       "      <td>[ADP, NOUN, ADP, ADJ, NOUN, ADP, NOUN, ADP, NO...</td>\n",
       "      <td>[R, Ncmpd, R, Afsd, Ncfsi, R, Ncnsi, R, Ncfsi,...</td>\n",
       "      <td>[, Definite=Def|Gender=Masc|Number=Plur, , Def...</td>\n",
       "      <td>[case, root, case, amod, nmod, case, nmod, cas...</td>\n",
       "      <td>31</td>\n",
       "    </tr>\n",
       "    <tr>\n",
       "      <th>8</th>\n",
       "      <td>Сред гостите на официалната церемония по встъп...</td>\n",
       "      <td>1</td>\n",
       "      <td>2</td>\n",
       "      <td>3</td>\n",
       "      <td>4</td>\n",
       "      <td>5</td>\n",
       "      <td>6</td>\n",
       "      <td>7</td>\n",
       "      <td>8</td>\n",
       "      <td>[ADP, NOUN, ADP, ADJ, NOUN, ADP, NOUN, ADP, NO...</td>\n",
       "      <td>[сред, гост, на, официален, церемония, по, вст...</td>\n",
       "      <td>[ADP, NOUN, ADP, ADJ, NOUN, ADP, NOUN, ADP, NO...</td>\n",
       "      <td>[R, Ncmpd, R, Afsd, Ncfsi, R, Ncnsi, R, Ncfsi,...</td>\n",
       "      <td>[, Definite=Def|Gender=Masc|Number=Plur, , Def...</td>\n",
       "      <td>[case, root, case, amod, nmod, case, nmod, cas...</td>\n",
       "      <td>31</td>\n",
       "    </tr>\n",
       "    <tr>\n",
       "      <th>9</th>\n",
       "      <td>Сред гостите на официалната церемония по встъп...</td>\n",
       "      <td>1</td>\n",
       "      <td>2</td>\n",
       "      <td>3</td>\n",
       "      <td>4</td>\n",
       "      <td>5</td>\n",
       "      <td>6</td>\n",
       "      <td>7</td>\n",
       "      <td>8</td>\n",
       "      <td>[ADP, NOUN, ADP, ADJ, NOUN, ADP, NOUN, ADP, NO...</td>\n",
       "      <td>[сред, гост, на, официален, церемония, по, вст...</td>\n",
       "      <td>[ADP, NOUN, ADP, ADJ, NOUN, ADP, NOUN, ADP, NO...</td>\n",
       "      <td>[R, Ncmpd, R, Afsd, Ncfsi, R, Ncnsi, R, Ncfsi,...</td>\n",
       "      <td>[, Definite=Def|Gender=Masc|Number=Plur, , Def...</td>\n",
       "      <td>[case, root, case, amod, nmod, case, nmod, cas...</td>\n",
       "      <td>31</td>\n",
       "    </tr>\n",
       "  </tbody>\n",
       "</table>\n",
       "</div>\n",
       "    <div class=\"colab-df-buttons\">\n",
       "\n",
       "  <div class=\"colab-df-container\">\n",
       "    <button class=\"colab-df-convert\" onclick=\"convertToInteractive('df-574643d7-8696-469a-985e-002ef4e4709a')\"\n",
       "            title=\"Convert this dataframe to an interactive table.\"\n",
       "            style=\"display:none;\">\n",
       "\n",
       "  <svg xmlns=\"http://www.w3.org/2000/svg\" height=\"24px\" viewBox=\"0 -960 960 960\">\n",
       "    <path d=\"M120-120v-720h720v720H120Zm60-500h600v-160H180v160Zm220 220h160v-160H400v160Zm0 220h160v-160H400v160ZM180-400h160v-160H180v160Zm440 0h160v-160H620v160ZM180-180h160v-160H180v160Zm440 0h160v-160H620v160Z\"/>\n",
       "  </svg>\n",
       "    </button>\n",
       "\n",
       "  <style>\n",
       "    .colab-df-container {\n",
       "      display:flex;\n",
       "      gap: 12px;\n",
       "    }\n",
       "\n",
       "    .colab-df-convert {\n",
       "      background-color: #E8F0FE;\n",
       "      border: none;\n",
       "      border-radius: 50%;\n",
       "      cursor: pointer;\n",
       "      display: none;\n",
       "      fill: #1967D2;\n",
       "      height: 32px;\n",
       "      padding: 0 0 0 0;\n",
       "      width: 32px;\n",
       "    }\n",
       "\n",
       "    .colab-df-convert:hover {\n",
       "      background-color: #E2EBFA;\n",
       "      box-shadow: 0px 1px 2px rgba(60, 64, 67, 0.3), 0px 1px 3px 1px rgba(60, 64, 67, 0.15);\n",
       "      fill: #174EA6;\n",
       "    }\n",
       "\n",
       "    .colab-df-buttons div {\n",
       "      margin-bottom: 4px;\n",
       "    }\n",
       "\n",
       "    [theme=dark] .colab-df-convert {\n",
       "      background-color: #3B4455;\n",
       "      fill: #D2E3FC;\n",
       "    }\n",
       "\n",
       "    [theme=dark] .colab-df-convert:hover {\n",
       "      background-color: #434B5C;\n",
       "      box-shadow: 0px 1px 3px 1px rgba(0, 0, 0, 0.15);\n",
       "      filter: drop-shadow(0px 1px 2px rgba(0, 0, 0, 0.3));\n",
       "      fill: #FFFFFF;\n",
       "    }\n",
       "  </style>\n",
       "\n",
       "    <script>\n",
       "      const buttonEl =\n",
       "        document.querySelector('#df-574643d7-8696-469a-985e-002ef4e4709a button.colab-df-convert');\n",
       "      buttonEl.style.display =\n",
       "        google.colab.kernel.accessAllowed ? 'block' : 'none';\n",
       "\n",
       "      async function convertToInteractive(key) {\n",
       "        const element = document.querySelector('#df-574643d7-8696-469a-985e-002ef4e4709a');\n",
       "        const dataTable =\n",
       "          await google.colab.kernel.invokeFunction('convertToInteractive',\n",
       "                                                    [key], {});\n",
       "        if (!dataTable) return;\n",
       "\n",
       "        const docLinkHtml = 'Like what you see? Visit the ' +\n",
       "          '<a target=\"_blank\" href=https://colab.research.google.com/notebooks/data_table.ipynb>data table notebook</a>'\n",
       "          + ' to learn more about interactive tables.';\n",
       "        element.innerHTML = '';\n",
       "        dataTable['output_type'] = 'display_data';\n",
       "        await google.colab.output.renderOutput(dataTable, element);\n",
       "        const docLink = document.createElement('div');\n",
       "        docLink.innerHTML = docLinkHtml;\n",
       "        element.appendChild(docLink);\n",
       "      }\n",
       "    </script>\n",
       "  </div>\n",
       "\n",
       "\n",
       "<div id=\"df-eac49627-5a8e-4a59-a5d4-c7ae2205df9a\">\n",
       "  <button class=\"colab-df-quickchart\" onclick=\"quickchart('df-eac49627-5a8e-4a59-a5d4-c7ae2205df9a')\"\n",
       "            title=\"Suggest charts\"\n",
       "            style=\"display:none;\">\n",
       "\n",
       "<svg xmlns=\"http://www.w3.org/2000/svg\" height=\"24px\"viewBox=\"0 0 24 24\"\n",
       "     width=\"24px\">\n",
       "    <g>\n",
       "        <path d=\"M19 3H5c-1.1 0-2 .9-2 2v14c0 1.1.9 2 2 2h14c1.1 0 2-.9 2-2V5c0-1.1-.9-2-2-2zM9 17H7v-7h2v7zm4 0h-2V7h2v10zm4 0h-2v-4h2v4z\"/>\n",
       "    </g>\n",
       "</svg>\n",
       "  </button>\n",
       "\n",
       "<style>\n",
       "  .colab-df-quickchart {\n",
       "      --bg-color: #E8F0FE;\n",
       "      --fill-color: #1967D2;\n",
       "      --hover-bg-color: #E2EBFA;\n",
       "      --hover-fill-color: #174EA6;\n",
       "      --disabled-fill-color: #AAA;\n",
       "      --disabled-bg-color: #DDD;\n",
       "  }\n",
       "\n",
       "  [theme=dark] .colab-df-quickchart {\n",
       "      --bg-color: #3B4455;\n",
       "      --fill-color: #D2E3FC;\n",
       "      --hover-bg-color: #434B5C;\n",
       "      --hover-fill-color: #FFFFFF;\n",
       "      --disabled-bg-color: #3B4455;\n",
       "      --disabled-fill-color: #666;\n",
       "  }\n",
       "\n",
       "  .colab-df-quickchart {\n",
       "    background-color: var(--bg-color);\n",
       "    border: none;\n",
       "    border-radius: 50%;\n",
       "    cursor: pointer;\n",
       "    display: none;\n",
       "    fill: var(--fill-color);\n",
       "    height: 32px;\n",
       "    padding: 0;\n",
       "    width: 32px;\n",
       "  }\n",
       "\n",
       "  .colab-df-quickchart:hover {\n",
       "    background-color: var(--hover-bg-color);\n",
       "    box-shadow: 0 1px 2px rgba(60, 64, 67, 0.3), 0 1px 3px 1px rgba(60, 64, 67, 0.15);\n",
       "    fill: var(--button-hover-fill-color);\n",
       "  }\n",
       "\n",
       "  .colab-df-quickchart-complete:disabled,\n",
       "  .colab-df-quickchart-complete:disabled:hover {\n",
       "    background-color: var(--disabled-bg-color);\n",
       "    fill: var(--disabled-fill-color);\n",
       "    box-shadow: none;\n",
       "  }\n",
       "\n",
       "  .colab-df-spinner {\n",
       "    border: 2px solid var(--fill-color);\n",
       "    border-color: transparent;\n",
       "    border-bottom-color: var(--fill-color);\n",
       "    animation:\n",
       "      spin 1s steps(1) infinite;\n",
       "  }\n",
       "\n",
       "  @keyframes spin {\n",
       "    0% {\n",
       "      border-color: transparent;\n",
       "      border-bottom-color: var(--fill-color);\n",
       "      border-left-color: var(--fill-color);\n",
       "    }\n",
       "    20% {\n",
       "      border-color: transparent;\n",
       "      border-left-color: var(--fill-color);\n",
       "      border-top-color: var(--fill-color);\n",
       "    }\n",
       "    30% {\n",
       "      border-color: transparent;\n",
       "      border-left-color: var(--fill-color);\n",
       "      border-top-color: var(--fill-color);\n",
       "      border-right-color: var(--fill-color);\n",
       "    }\n",
       "    40% {\n",
       "      border-color: transparent;\n",
       "      border-right-color: var(--fill-color);\n",
       "      border-top-color: var(--fill-color);\n",
       "    }\n",
       "    60% {\n",
       "      border-color: transparent;\n",
       "      border-right-color: var(--fill-color);\n",
       "    }\n",
       "    80% {\n",
       "      border-color: transparent;\n",
       "      border-right-color: var(--fill-color);\n",
       "      border-bottom-color: var(--fill-color);\n",
       "    }\n",
       "    90% {\n",
       "      border-color: transparent;\n",
       "      border-bottom-color: var(--fill-color);\n",
       "    }\n",
       "  }\n",
       "</style>\n",
       "\n",
       "  <script>\n",
       "    async function quickchart(key) {\n",
       "      const quickchartButtonEl =\n",
       "        document.querySelector('#' + key + ' button');\n",
       "      quickchartButtonEl.disabled = true;  // To prevent multiple clicks.\n",
       "      quickchartButtonEl.classList.add('colab-df-spinner');\n",
       "      try {\n",
       "        const charts = await google.colab.kernel.invokeFunction(\n",
       "            'suggestCharts', [key], {});\n",
       "      } catch (error) {\n",
       "        console.error('Error during call to suggestCharts:', error);\n",
       "      }\n",
       "      quickchartButtonEl.classList.remove('colab-df-spinner');\n",
       "      quickchartButtonEl.classList.add('colab-df-quickchart-complete');\n",
       "    }\n",
       "    (() => {\n",
       "      let quickchartButtonEl =\n",
       "        document.querySelector('#df-eac49627-5a8e-4a59-a5d4-c7ae2205df9a button');\n",
       "      quickchartButtonEl.style.display =\n",
       "        google.colab.kernel.accessAllowed ? 'block' : 'none';\n",
       "    })();\n",
       "  </script>\n",
       "</div>\n",
       "\n",
       "  <div id=\"id_b3dbf0ae-870b-4fff-8c1f-e41c77efdfd9\">\n",
       "    <style>\n",
       "      .colab-df-generate {\n",
       "        background-color: #E8F0FE;\n",
       "        border: none;\n",
       "        border-radius: 50%;\n",
       "        cursor: pointer;\n",
       "        display: none;\n",
       "        fill: #1967D2;\n",
       "        height: 32px;\n",
       "        padding: 0 0 0 0;\n",
       "        width: 32px;\n",
       "      }\n",
       "\n",
       "      .colab-df-generate:hover {\n",
       "        background-color: #E2EBFA;\n",
       "        box-shadow: 0px 1px 2px rgba(60, 64, 67, 0.3), 0px 1px 3px 1px rgba(60, 64, 67, 0.15);\n",
       "        fill: #174EA6;\n",
       "      }\n",
       "\n",
       "      [theme=dark] .colab-df-generate {\n",
       "        background-color: #3B4455;\n",
       "        fill: #D2E3FC;\n",
       "      }\n",
       "\n",
       "      [theme=dark] .colab-df-generate:hover {\n",
       "        background-color: #434B5C;\n",
       "        box-shadow: 0px 1px 3px 1px rgba(0, 0, 0, 0.15);\n",
       "        filter: drop-shadow(0px 1px 2px rgba(0, 0, 0, 0.3));\n",
       "        fill: #FFFFFF;\n",
       "      }\n",
       "    </style>\n",
       "    <button class=\"colab-df-generate\" onclick=\"generateWithVariable('test_df')\"\n",
       "            title=\"Generate code using this dataframe.\"\n",
       "            style=\"display:none;\">\n",
       "\n",
       "  <svg xmlns=\"http://www.w3.org/2000/svg\" height=\"24px\"viewBox=\"0 0 24 24\"\n",
       "       width=\"24px\">\n",
       "    <path d=\"M7,19H8.4L18.45,9,17,7.55,7,17.6ZM5,21V16.75L18.45,3.32a2,2,0,0,1,2.83,0l1.4,1.43a1.91,1.91,0,0,1,.58,1.4,1.91,1.91,0,0,1-.58,1.4L9.25,21ZM18.45,9,17,7.55Zm-12,3A5.31,5.31,0,0,0,4.9,8.1,5.31,5.31,0,0,0,1,6.5,5.31,5.31,0,0,0,4.9,4.9,5.31,5.31,0,0,0,6.5,1,5.31,5.31,0,0,0,8.1,4.9,5.31,5.31,0,0,0,12,6.5,5.46,5.46,0,0,0,6.5,12Z\"/>\n",
       "  </svg>\n",
       "    </button>\n",
       "    <script>\n",
       "      (() => {\n",
       "      const buttonEl =\n",
       "        document.querySelector('#id_b3dbf0ae-870b-4fff-8c1f-e41c77efdfd9 button.colab-df-generate');\n",
       "      buttonEl.style.display =\n",
       "        google.colab.kernel.accessAllowed ? 'block' : 'none';\n",
       "\n",
       "      buttonEl.onclick = () => {\n",
       "        google.colab.notebook.generateWithVariable('test_df');\n",
       "      }\n",
       "      })();\n",
       "    </script>\n",
       "  </div>\n",
       "\n",
       "    </div>\n",
       "  </div>\n"
      ],
      "text/plain": [
       "                                                text  pos  tag  dep  morph  \\\n",
       "0  Сред гостите на официалната церемония по встъп...    1    2    3      4   \n",
       "1  Сред гостите на официалната церемония по встъп...    1    2    3      4   \n",
       "2  Сред гостите на официалната церемония по встъп...    1    2    3      4   \n",
       "3  Сред гостите на официалната церемония по встъп...    1    2    3      4   \n",
       "4  Сред гостите на официалната церемония по встъп...    1    2    3      4   \n",
       "5  Сред гостите на официалната церемония по встъп...    1    2    3      4   \n",
       "6  Сред гостите на официалната церемония по встъп...    1    2    3      4   \n",
       "7  Сред гостите на официалната церемония по встъп...    1    2    3      4   \n",
       "8  Сред гостите на официалната церемония по встъп...    1    2    3      4   \n",
       "9  Сред гостите на официалната церемония по встъп...    1    2    3      4   \n",
       "\n",
       "   lemmas  left_edge  right_edge  num_words  \\\n",
       "0       5          6           7          8   \n",
       "1       5          6           7          8   \n",
       "2       5          6           7          8   \n",
       "3       5          6           7          8   \n",
       "4       5          6           7          8   \n",
       "5       5          6           7          8   \n",
       "6       5          6           7          8   \n",
       "7       5          6           7          8   \n",
       "8       5          6           7          8   \n",
       "9       5          6           7          8   \n",
       "\n",
       "                                             words_s  \\\n",
       "0  [ADP, NOUN, ADP, ADJ, NOUN, ADP, NOUN, ADP, NO...   \n",
       "1  [ADP, NOUN, ADP, ADJ, NOUN, ADP, NOUN, ADP, NO...   \n",
       "2  [ADP, NOUN, ADP, ADJ, NOUN, ADP, NOUN, ADP, NO...   \n",
       "3  [ADP, NOUN, ADP, ADJ, NOUN, ADP, NOUN, ADP, NO...   \n",
       "4  [ADP, NOUN, ADP, ADJ, NOUN, ADP, NOUN, ADP, NO...   \n",
       "5  [ADP, NOUN, ADP, ADJ, NOUN, ADP, NOUN, ADP, NO...   \n",
       "6  [ADP, NOUN, ADP, ADJ, NOUN, ADP, NOUN, ADP, NO...   \n",
       "7  [ADP, NOUN, ADP, ADJ, NOUN, ADP, NOUN, ADP, NO...   \n",
       "8  [ADP, NOUN, ADP, ADJ, NOUN, ADP, NOUN, ADP, NO...   \n",
       "9  [ADP, NOUN, ADP, ADJ, NOUN, ADP, NOUN, ADP, NO...   \n",
       "\n",
       "                                            lemmas_s  \\\n",
       "0  [сред, гост, на, официален, церемония, по, вст...   \n",
       "1  [сред, гост, на, официален, церемония, по, вст...   \n",
       "2  [сред, гост, на, официален, церемония, по, вст...   \n",
       "3  [сред, гост, на, официален, церемония, по, вст...   \n",
       "4  [сред, гост, на, официален, церемония, по, вст...   \n",
       "5  [сред, гост, на, официален, церемония, по, вст...   \n",
       "6  [сред, гост, на, официален, церемония, по, вст...   \n",
       "7  [сред, гост, на, официален, церемония, по, вст...   \n",
       "8  [сред, гост, на, официален, церемония, по, вст...   \n",
       "9  [сред, гост, на, официален, церемония, по, вст...   \n",
       "\n",
       "                                               pos_s  \\\n",
       "0  [ADP, NOUN, ADP, ADJ, NOUN, ADP, NOUN, ADP, NO...   \n",
       "1  [ADP, NOUN, ADP, ADJ, NOUN, ADP, NOUN, ADP, NO...   \n",
       "2  [ADP, NOUN, ADP, ADJ, NOUN, ADP, NOUN, ADP, NO...   \n",
       "3  [ADP, NOUN, ADP, ADJ, NOUN, ADP, NOUN, ADP, NO...   \n",
       "4  [ADP, NOUN, ADP, ADJ, NOUN, ADP, NOUN, ADP, NO...   \n",
       "5  [ADP, NOUN, ADP, ADJ, NOUN, ADP, NOUN, ADP, NO...   \n",
       "6  [ADP, NOUN, ADP, ADJ, NOUN, ADP, NOUN, ADP, NO...   \n",
       "7  [ADP, NOUN, ADP, ADJ, NOUN, ADP, NOUN, ADP, NO...   \n",
       "8  [ADP, NOUN, ADP, ADJ, NOUN, ADP, NOUN, ADP, NO...   \n",
       "9  [ADP, NOUN, ADP, ADJ, NOUN, ADP, NOUN, ADP, NO...   \n",
       "\n",
       "                                             morph_s  \\\n",
       "0  [R, Ncmpd, R, Afsd, Ncfsi, R, Ncnsi, R, Ncfsi,...   \n",
       "1  [R, Ncmpd, R, Afsd, Ncfsi, R, Ncnsi, R, Ncfsi,...   \n",
       "2  [R, Ncmpd, R, Afsd, Ncfsi, R, Ncnsi, R, Ncfsi,...   \n",
       "3  [R, Ncmpd, R, Afsd, Ncfsi, R, Ncnsi, R, Ncfsi,...   \n",
       "4  [R, Ncmpd, R, Afsd, Ncfsi, R, Ncnsi, R, Ncfsi,...   \n",
       "5  [R, Ncmpd, R, Afsd, Ncfsi, R, Ncnsi, R, Ncfsi,...   \n",
       "6  [R, Ncmpd, R, Afsd, Ncfsi, R, Ncnsi, R, Ncfsi,...   \n",
       "7  [R, Ncmpd, R, Afsd, Ncfsi, R, Ncnsi, R, Ncfsi,...   \n",
       "8  [R, Ncmpd, R, Afsd, Ncfsi, R, Ncnsi, R, Ncfsi,...   \n",
       "9  [R, Ncmpd, R, Afsd, Ncfsi, R, Ncnsi, R, Ncfsi,...   \n",
       "\n",
       "                                          features_s  \\\n",
       "0  [, Definite=Def|Gender=Masc|Number=Plur, , Def...   \n",
       "1  [, Definite=Def|Gender=Masc|Number=Plur, , Def...   \n",
       "2  [, Definite=Def|Gender=Masc|Number=Plur, , Def...   \n",
       "3  [, Definite=Def|Gender=Masc|Number=Plur, , Def...   \n",
       "4  [, Definite=Def|Gender=Masc|Number=Plur, , Def...   \n",
       "5  [, Definite=Def|Gender=Masc|Number=Plur, , Def...   \n",
       "6  [, Definite=Def|Gender=Masc|Number=Plur, , Def...   \n",
       "7  [, Definite=Def|Gender=Masc|Number=Plur, , Def...   \n",
       "8  [, Definite=Def|Gender=Masc|Number=Plur, , Def...   \n",
       "9  [, Definite=Def|Gender=Masc|Number=Plur, , Def...   \n",
       "\n",
       "                                               dep_s  n_words_s  \n",
       "0  [case, root, case, amod, nmod, case, nmod, cas...         31  \n",
       "1  [case, root, case, amod, nmod, case, nmod, cas...         31  \n",
       "2  [case, root, case, amod, nmod, case, nmod, cas...         31  \n",
       "3  [case, root, case, amod, nmod, case, nmod, cas...         31  \n",
       "4  [case, root, case, amod, nmod, case, nmod, cas...         31  \n",
       "5  [case, root, case, amod, nmod, case, nmod, cas...         31  \n",
       "6  [case, root, case, amod, nmod, case, nmod, cas...         31  \n",
       "7  [case, root, case, amod, nmod, case, nmod, cas...         31  \n",
       "8  [case, root, case, amod, nmod, case, nmod, cas...         31  \n",
       "9  [case, root, case, amod, nmod, case, nmod, cas...         31  "
      ]
     },
     "execution_count": 42,
     "metadata": {},
     "output_type": "execute_result"
    }
   ],
   "source": [
    "test_df"
   ]
  },
  {
   "cell_type": "markdown",
   "id": "11b9f655-d5ac-44f6-869a-559ce8bef07c",
   "metadata": {
    "deletable": true,
    "editable": true,
    "frozen": false,
    "id": "11b9f655-d5ac-44f6-869a-559ce8bef07c"
   },
   "source": [
    "## 4 Proof of concept"
   ]
  },
  {
   "cell_type": "markdown",
   "id": "5048c5b4-4d8a-49a5-97f4-b57324db39b1",
   "metadata": {
    "deletable": true,
    "editable": true,
    "frozen": false,
    "id": "5048c5b4-4d8a-49a5-97f4-b57324db39b1"
   },
   "source": [
    "### 4.1 Define one rule"
   ]
  },
  {
   "cell_type": "markdown",
   "id": "2c6dc2e2-de7b-4fcd-8561-9ca0728e0bc9",
   "metadata": {
    "deletable": true,
    "editable": true,
    "frozen": false,
    "id": "2c6dc2e2-de7b-4fcd-8561-9ca0728e0bc9"
   },
   "source": [
    "Define one simple rule and put it in a testing function. The rule is: if the word is a noun, is preceded by a preposition, and ends in _ът_ or _ят_, then the long form of the definite article is incorrect. Note that in reality this rule is not enough to determine the correct usage of the definite article but for the purposes of the POC it will suffice."
   ]
  },
  {
   "cell_type": "code",
   "execution_count": null,
   "id": "f305d53d-1558-4b91-a9bc-a17648f10692",
   "metadata": {
    "deletable": true,
    "editable": true,
    "frozen": false,
    "id": "f305d53d-1558-4b91-a9bc-a17648f10692"
   },
   "outputs": [],
   "source": [
    "def verify_definite_article(doc):\n",
    "    \"\"\"Detects incorrect usage of the definite article based on POS tags and word endings\"\"\"\n",
    "    errors = []\n",
    "\n",
    "    for i, token in enumerate(doc):\n",
    "        # Check if the token is a noun with a definite article (full form)\n",
    "        if token.pos_ == \"NOUN\" and token.text.endswith((\"ът\", \"ят\")):\n",
    "            # Check if the preceding token is a preposition (ADP), like \"в\"\n",
    "            if i > 0 and doc[i - 1].pos_ == \"ADP\":\n",
    "                errors.append(f\"Incorrect usage of full definite article: '{token.text}' in sentence: '{doc.text}'\")\n",
    "    return errors"
   ]
  },
  {
   "cell_type": "markdown",
   "id": "6c5876a5-24fd-458e-9863-dc29e362648b",
   "metadata": {
    "deletable": true,
    "editable": true,
    "frozen": false,
    "id": "6c5876a5-24fd-458e-9863-dc29e362648b"
   },
   "source": [
    "### 4.2 Test and validate"
   ]
  },
  {
   "cell_type": "code",
   "execution_count": null,
   "id": "72660762-a0a3-4959-8584-106f8da8aca8",
   "metadata": {
    "deletable": true,
    "editable": true,
    "frozen": false,
    "id": "72660762-a0a3-4959-8584-106f8da8aca8"
   },
   "outputs": [],
   "source": [
    "valid_sentences = [\"Аз отивам в офиса.\", \"Иван отива в офиса.\", \"Офисът е в София.\"]\n",
    "invalid_sentences = [\"Аз отивам в офисът.\", \"Иван отива в офисът.\", \"Офиса е в София.\"]"
   ]
  },
  {
   "cell_type": "code",
   "execution_count": null,
   "id": "0055be9d-9da9-4d72-83cf-d64e2a673171",
   "metadata": {
    "deletable": true,
    "editable": true,
    "frozen": false,
    "id": "0055be9d-9da9-4d72-83cf-d64e2a673171"
   },
   "outputs": [],
   "source": [
    "# Process each sentence with both libraries\n",
    "results_st = []\n",
    "results_ud = []\n",
    "for sentence in valid_sentences + invalid_sentences:\n",
    "    doc_st = nlp_st(sentence)\n",
    "    doc_ud = nlp_ud(sentence)\n",
    "\n",
    "    results_st.append(verify_definite_article(doc_st))\n",
    "    results_ud.append(verify_definite_article(doc_ud))"
   ]
  },
  {
   "cell_type": "code",
   "execution_count": null,
   "id": "673d0434-1d1b-45fe-ada4-354655d515d7",
   "metadata": {
    "deletable": true,
    "editable": true,
    "frozen": false,
    "id": "673d0434-1d1b-45fe-ada4-354655d515d7",
    "outputId": "f140cae1-8cfa-4a20-ddac-fefc31b834eb"
   },
   "outputs": [
    {
     "name": "stdout",
     "output_type": "stream",
     "text": [
      "Results from Stanza:\n",
      "1: []\n",
      "2: []\n",
      "3: []\n",
      "4: [\"Incorrect usage of full definite article: 'офисът' in sentence: 'Аз отивам в офисът.'\"]\n",
      "5: [\"Incorrect usage of full definite article: 'офисът' in sentence: 'Иван отива в офисът.'\"]\n",
      "6: []\n",
      "\n",
      "Results from UDPipe:\n",
      "1: []\n",
      "2: []\n",
      "3: []\n",
      "4: [\"Incorrect usage of full definite article: 'офисът' in sentence: 'Аз отивам в офисът. '\"]\n",
      "5: [\"Incorrect usage of full definite article: 'офисът' in sentence: 'Иван отива в офисът. '\"]\n",
      "6: []\n"
     ]
    }
   ],
   "source": [
    "print(\"Results from Stanza:\")\n",
    "for i, res in enumerate(results_st):\n",
    "    print(f\"{i+1}:\", res)\n",
    "\n",
    "print(\"\\nResults from UDPipe:\")\n",
    "for i, res in enumerate(results_ud):\n",
    "    print(f\"{i+1}:\", res)"
   ]
  },
  {
   "cell_type": "markdown",
   "id": "a3b9fc97-3036-481f-b6d0-e4665d06d35d",
   "metadata": {
    "deletable": true,
    "editable": true,
    "frozen": false,
    "id": "a3b9fc97-3036-481f-b6d0-e4665d06d35d"
   },
   "source": [
    "Of course we can't expect much correctness of this simple rule but we can see that it did find some incorrect usages in two out of the six cases. Not bad, actually!"
   ]
  },
  {
   "cell_type": "markdown",
   "id": "cedf4369-b8bf-4a7c-b5bd-fc91d293836f",
   "metadata": {
    "deletable": true,
    "editable": true,
    "frozen": false,
    "id": "cedf4369-b8bf-4a7c-b5bd-fc91d293836f"
   },
   "source": [
    "## 5 Load and clean the testing data"
   ]
  },
  {
   "cell_type": "markdown",
   "id": "89d453a7-4c3f-48ca-878a-176923b8f758",
   "metadata": {
    "deletable": true,
    "editable": true,
    "frozen": false,
    "id": "89d453a7-4c3f-48ca-878a-176923b8f758"
   },
   "source": [
    "This short set of sentences contains some common misuses of the definite article and also the correct usage. We will use this set for initial testing of the rules we develop."
   ]
  },
  {
   "cell_type": "code",
   "execution_count": null,
   "id": "d88601c9-be0a-4ba3-907c-5209c22682a9",
   "metadata": {
    "deletable": true,
    "editable": true,
    "frozen": false,
    "id": "d88601c9-be0a-4ba3-907c-5209c22682a9"
   },
   "outputs": [],
   "source": [
    "test_set_1 = pd.read_csv(\"data/test_set_1.csv\")"
   ]
  },
  {
   "cell_type": "code",
   "execution_count": null,
   "id": "f9179b26-66ba-4f32-a551-d5dad82a5075",
   "metadata": {
    "deletable": true,
    "editable": true,
    "frozen": false,
    "id": "f9179b26-66ba-4f32-a551-d5dad82a5075",
    "outputId": "cc12acf0-e29b-4f05-ee8f-c6dcc29df22e"
   },
   "outputs": [
    {
     "data": {
      "text/html": [
       "<div>\n",
       "<style scoped>\n",
       "    .dataframe tbody tr th:only-of-type {\n",
       "        vertical-align: middle;\n",
       "    }\n",
       "\n",
       "    .dataframe tbody tr th {\n",
       "        vertical-align: top;\n",
       "    }\n",
       "\n",
       "    .dataframe thead th {\n",
       "        text-align: right;\n",
       "    }\n",
       "</style>\n",
       "<table border=\"1\" class=\"dataframe\">\n",
       "  <thead>\n",
       "    <tr style=\"text-align: right;\">\n",
       "      <th></th>\n",
       "      <th>error_type</th>\n",
       "      <th>incorrect</th>\n",
       "      <th>correct</th>\n",
       "    </tr>\n",
       "  </thead>\n",
       "  <tbody>\n",
       "    <tr>\n",
       "      <th>0</th>\n",
       "      <td>article_misuse</td>\n",
       "      <td>Ключа е на масата.</td>\n",
       "      <td>Ключът е на масата.</td>\n",
       "    </tr>\n",
       "    <tr>\n",
       "      <th>1</th>\n",
       "      <td>article_misuse</td>\n",
       "      <td>Царя пие вино.</td>\n",
       "      <td>Царят пие вино.</td>\n",
       "    </tr>\n",
       "    <tr>\n",
       "      <th>2</th>\n",
       "      <td>article_misuse</td>\n",
       "      <td>Ученика е умен и трудолюбив.</td>\n",
       "      <td>Ученикът е умен и трудолюбив.</td>\n",
       "    </tr>\n",
       "    <tr>\n",
       "      <th>3</th>\n",
       "      <td>article_misuse</td>\n",
       "      <td>Приятеля ми е в чужбина.</td>\n",
       "      <td>Приятелят ми е в чужбина.</td>\n",
       "    </tr>\n",
       "    <tr>\n",
       "      <th>4</th>\n",
       "      <td>article_misuse</td>\n",
       "      <td>Госта пристигна.</td>\n",
       "      <td>Гостът пристигна.</td>\n",
       "    </tr>\n",
       "  </tbody>\n",
       "</table>\n",
       "</div>"
      ],
      "text/plain": [
       "       error_type                     incorrect                        correct\n",
       "0  article_misuse            Ключа е на масата.            Ключът е на масата.\n",
       "1  article_misuse                Царя пие вино.                Царят пие вино.\n",
       "2  article_misuse  Ученика е умен и трудолюбив.  Ученикът е умен и трудолюбив.\n",
       "3  article_misuse      Приятеля ми е в чужбина.      Приятелят ми е в чужбина.\n",
       "4  article_misuse              Госта пристигна.              Гостът пристигна."
      ]
     },
     "execution_count": 25,
     "metadata": {},
     "output_type": "execute_result"
    }
   ],
   "source": [
    "test_set_1.head()"
   ]
  },
  {
   "cell_type": "markdown",
   "id": "075343a4-74e5-408c-8bd0-2b73d6ddf900",
   "metadata": {
    "deletable": true,
    "editable": true,
    "frozen": false,
    "id": "075343a4-74e5-408c-8bd0-2b73d6ddf900"
   },
   "source": [
    "### 5.1 Trim the sentences of whitespaces"
   ]
  },
  {
   "cell_type": "code",
   "execution_count": null,
   "id": "8bd8d67c-b9a0-4e88-9eec-1d1739fc1e98",
   "metadata": {
    "deletable": true,
    "editable": true,
    "frozen": false,
    "id": "8bd8d67c-b9a0-4e88-9eec-1d1739fc1e98"
   },
   "outputs": [],
   "source": [
    "test_set_1[['incorrect', 'correct']] = test_set_1[['incorrect', 'correct']].map(str.strip)"
   ]
  },
  {
   "cell_type": "markdown",
   "id": "6396147b-97bf-49e4-98b2-b43883de89cf",
   "metadata": {
    "deletable": true,
    "editable": true,
    "frozen": false,
    "id": "6396147b-97bf-49e4-98b2-b43883de89cf"
   },
   "source": [
    "### 5.2 Add column with the differing words"
   ]
  },
  {
   "cell_type": "markdown",
   "id": "65992d0c-4925-4ef4-adbc-7280f875a0e0",
   "metadata": {
    "deletable": true,
    "editable": true,
    "frozen": false,
    "id": "65992d0c-4925-4ef4-adbc-7280f875a0e0"
   },
   "source": [
    "In order to perform automated tests we will need to know were exactly is the error in the sentence, if there is an error. Therefore, we'll add a new column with the expected incorrect words. Before that we need to do some cleaning like removal of punctuation. Note that this function is designed to work with Bulgarian in order to keep words 🟠"
   ]
  },
  {
   "cell_type": "code",
   "execution_count": null,
   "id": "b2bd8914-cd81-4f10-a4fe-f466ae6499b9",
   "metadata": {
    "deletable": true,
    "editable": true,
    "frozen": false,
    "id": "b2bd8914-cd81-4f10-a4fe-f466ae6499b9"
   },
   "outputs": [],
   "source": [
    "def clean_sentence_bg(sentence):\n",
    "    \"\"\"Cleans a Bulgarian sentence by removing unwanted punctuation but preserving valid dashes.\"\"\"\n",
    "    # Remove dashes not surrounded by exactly two bg letters\n",
    "    # keep also numbers in order to preserve words like 5-годишен\n",
    "    sentence = re.sub(r\"(?<![0-9а-яА-Я])-|-(?![а-яА-Я])\", \"\", sentence)\n",
    "\n",
    "    # Remove all other punctuation except for valid dashes\n",
    "    sentence = re.sub(r\"[^\\w\\s-]\", \"\", sentence)\n",
    "\n",
    "    return sentence"
   ]
  },
  {
   "cell_type": "code",
   "execution_count": null,
   "id": "434546f4-61b6-4c09-a523-f7b0270565ee",
   "metadata": {
    "deletable": true,
    "editable": true,
    "frozen": false,
    "id": "434546f4-61b6-4c09-a523-f7b0270565ee"
   },
   "outputs": [],
   "source": [
    "def get_differing_words(row):\n",
    "    \"\"\"Extracts differing words between two sentences and logs word count discrepancies.\"\"\"\n",
    "    # Clean and split the sentences into words\n",
    "    incorrect_words = clean_sentence_bg(row[\"incorrect\"]).split()\n",
    "    correct_words = clean_sentence_bg(row[\"correct\"]).split()\n",
    "\n",
    "    # Log if word count differs\n",
    "    if len(incorrect_words) != len(correct_words):\n",
    "        print(f\"Word count differs: Incorrect - {len(incorrect_words)} words, Correct - {len(correct_words)} words\")\n",
    "\n",
    "    # Get words from the correct sentence that are not in the incorrect sentence\n",
    "    differing_correct_words = [word for word in correct_words if word not in incorrect_words]\n",
    "    differing_incorrect_words = [word for word in incorrect_words if word not in correct_words]\n",
    "\n",
    "    return \",\".join(differing_incorrect_words), \",\".join(differing_correct_words)"
   ]
  },
  {
   "cell_type": "code",
   "execution_count": null,
   "id": "8ad39063-05c2-42fd-b3fd-62b3405eb4b3",
   "metadata": {
    "deletable": true,
    "editable": true,
    "frozen": false,
    "id": "8ad39063-05c2-42fd-b3fd-62b3405eb4b3"
   },
   "outputs": [],
   "source": [
    "# add a new column to hold the correct and incorrect words, they will be used for automated testing\n",
    "test_set_1[[\"correct_words\", \"incorrect_words\"]] = test_set_1.apply(get_differing_words, axis=1, result_type=\"expand\")"
   ]
  },
  {
   "cell_type": "code",
   "execution_count": null,
   "id": "af0ffb9f-f844-4ed6-b28a-915929a5db25",
   "metadata": {
    "deletable": true,
    "editable": true,
    "frozen": false,
    "id": "af0ffb9f-f844-4ed6-b28a-915929a5db25",
    "outputId": "6dbe5f43-7f2d-4183-ef76-3a816136cc36"
   },
   "outputs": [
    {
     "data": {
      "text/html": [
       "<div>\n",
       "<style scoped>\n",
       "    .dataframe tbody tr th:only-of-type {\n",
       "        vertical-align: middle;\n",
       "    }\n",
       "\n",
       "    .dataframe tbody tr th {\n",
       "        vertical-align: top;\n",
       "    }\n",
       "\n",
       "    .dataframe thead th {\n",
       "        text-align: right;\n",
       "    }\n",
       "</style>\n",
       "<table border=\"1\" class=\"dataframe\">\n",
       "  <thead>\n",
       "    <tr style=\"text-align: right;\">\n",
       "      <th></th>\n",
       "      <th>error_type</th>\n",
       "      <th>incorrect</th>\n",
       "      <th>correct</th>\n",
       "      <th>correct_words</th>\n",
       "      <th>incorrect_words</th>\n",
       "    </tr>\n",
       "  </thead>\n",
       "  <tbody>\n",
       "    <tr>\n",
       "      <th>0</th>\n",
       "      <td>article_misuse</td>\n",
       "      <td>Ключа е на масата.</td>\n",
       "      <td>Ключът е на масата.</td>\n",
       "      <td>Ключа</td>\n",
       "      <td>Ключът</td>\n",
       "    </tr>\n",
       "    <tr>\n",
       "      <th>1</th>\n",
       "      <td>article_misuse</td>\n",
       "      <td>Царя пие вино.</td>\n",
       "      <td>Царят пие вино.</td>\n",
       "      <td>Царя</td>\n",
       "      <td>Царят</td>\n",
       "    </tr>\n",
       "    <tr>\n",
       "      <th>2</th>\n",
       "      <td>article_misuse</td>\n",
       "      <td>Ученика е умен и трудолюбив.</td>\n",
       "      <td>Ученикът е умен и трудолюбив.</td>\n",
       "      <td>Ученика</td>\n",
       "      <td>Ученикът</td>\n",
       "    </tr>\n",
       "  </tbody>\n",
       "</table>\n",
       "</div>"
      ],
      "text/plain": [
       "       error_type                     incorrect  \\\n",
       "0  article_misuse            Ключа е на масата.   \n",
       "1  article_misuse                Царя пие вино.   \n",
       "2  article_misuse  Ученика е умен и трудолюбив.   \n",
       "\n",
       "                         correct correct_words incorrect_words  \n",
       "0            Ключът е на масата.         Ключа          Ключът  \n",
       "1                Царят пие вино.          Царя           Царят  \n",
       "2  Ученикът е умен и трудолюбив.       Ученика        Ученикът  "
      ]
     },
     "execution_count": 30,
     "metadata": {},
     "output_type": "execute_result"
    }
   ],
   "source": [
    "test_set_1.head(3)"
   ]
  },
  {
   "cell_type": "markdown",
   "id": "56036cc3-4e21-4fe5-a7bf-cc589f065371",
   "metadata": {
    "deletable": true,
    "editable": true,
    "frozen": false,
    "id": "56036cc3-4e21-4fe5-a7bf-cc589f065371"
   },
   "source": [
    "### 5.3 Melt and sort"
   ]
  },
  {
   "cell_type": "markdown",
   "id": "92405dd7-be0b-4232-a6bd-30626f4866ad",
   "metadata": {
    "deletable": true,
    "editable": true,
    "frozen": false,
    "id": "92405dd7-be0b-4232-a6bd-30626f4866ad"
   },
   "source": [
    "Merge the columns _incorrect_ and _correct_ to a single column _text_. Keep each pair of incorrect and correct sentences together."
   ]
  },
  {
   "cell_type": "code",
   "execution_count": null,
   "id": "4c902ec4-4227-448c-a958-2350601f074f",
   "metadata": {
    "deletable": true,
    "editable": true,
    "frozen": false,
    "id": "4c902ec4-4227-448c-a958-2350601f074f"
   },
   "outputs": [],
   "source": [
    "def melt_and_sort_sentences(df):\n",
    "    \"\"\"Transforms a DataFrame to melt sentence pairs, ensuring incorrect and correct sentences are paired.\"\"\"\n",
    "\n",
    "    # Swap 'incorrect_words' and 'correct_words' columns\n",
    "    df = df.rename(columns={\"incorrect_words\": \"temp_correct_words\", \"correct_words\": \"incorrect_words\"})\n",
    "    df = df.rename(columns={\"temp_correct_words\": \"correct_words\"})\n",
    "\n",
    "    # Add an order column to keep track of the original order\n",
    "    df[\"order\"] = df.index\n",
    "\n",
    "    # Melt the DataFrame\n",
    "    df_melted = pd.melt(\n",
    "        df,\n",
    "        id_vars=[\"correct_words\", \"incorrect_words\", \"order\"],\n",
    "        value_vars=[\"incorrect\", \"correct\"],\n",
    "        var_name=\"is_correct\",\n",
    "        value_name=\"text\",\n",
    "    )\n",
    "\n",
    "    # Set 'is_correct' to True for 'correct' and False for 'incorrect'\n",
    "    df_melted[\"is_correct\"] = df_melted[\"is_correct\"].apply(lambda x: x == \"correct\")\n",
    "\n",
    "    # Assign incorrect_words and correct_words only to incorrect sentences\n",
    "    df_melted[\"incorrect_words\"] = df_melted.apply(lambda row: row[\"incorrect_words\"] if not row[\"is_correct\"] else \"\", axis=1)\n",
    "    df_melted[\"correct_words\"] = df_melted.apply(lambda row: row[\"correct_words\"] if not row[\"is_correct\"] else \"\", axis=1)\n",
    "\n",
    "    # Sort by 'order' to ensure the pairs of correct/incorrect sentences are next to each other\n",
    "    df_melted = df_melted.sort_values(by=[\"order\", \"is_correct\"], ascending=[True, True])\n",
    "\n",
    "    # Reset index for clean output\n",
    "    df_melted.reset_index(drop=True, inplace=True)\n",
    "\n",
    "    # Drop the 'order' column as it's no longer needed\n",
    "    df_melted = df_melted.drop(columns=[\"order\"])\n",
    "\n",
    "    # Reorder columns to match the desired output\n",
    "    df_melted = df_melted[[\"text\", \"is_correct\", \"incorrect_words\", \"correct_words\"]]\n",
    "\n",
    "    return df_melted"
   ]
  },
  {
   "cell_type": "code",
   "execution_count": null,
   "id": "5b368a83-0501-4d8b-afd2-836bb023b8f9",
   "metadata": {
    "deletable": true,
    "editable": true,
    "frozen": false,
    "id": "5b368a83-0501-4d8b-afd2-836bb023b8f9"
   },
   "outputs": [],
   "source": [
    "test_set_1 = melt_and_sort_sentences(test_set_1)"
   ]
  },
  {
   "cell_type": "code",
   "execution_count": null,
   "id": "0a12427b-7fd4-4cb8-b397-1a1cd8e5d80f",
   "metadata": {
    "deletable": true,
    "editable": true,
    "frozen": false,
    "id": "0a12427b-7fd4-4cb8-b397-1a1cd8e5d80f",
    "outputId": "a0e8730e-6f85-451c-d9b6-d49b4c77c901"
   },
   "outputs": [
    {
     "data": {
      "text/html": [
       "<div>\n",
       "<style scoped>\n",
       "    .dataframe tbody tr th:only-of-type {\n",
       "        vertical-align: middle;\n",
       "    }\n",
       "\n",
       "    .dataframe tbody tr th {\n",
       "        vertical-align: top;\n",
       "    }\n",
       "\n",
       "    .dataframe thead th {\n",
       "        text-align: right;\n",
       "    }\n",
       "</style>\n",
       "<table border=\"1\" class=\"dataframe\">\n",
       "  <thead>\n",
       "    <tr style=\"text-align: right;\">\n",
       "      <th></th>\n",
       "      <th>text</th>\n",
       "      <th>is_correct</th>\n",
       "      <th>incorrect_words</th>\n",
       "      <th>correct_words</th>\n",
       "    </tr>\n",
       "  </thead>\n",
       "  <tbody>\n",
       "    <tr>\n",
       "      <th>0</th>\n",
       "      <td>Ключа е на масата.</td>\n",
       "      <td>False</td>\n",
       "      <td>Ключа</td>\n",
       "      <td>Ключът</td>\n",
       "    </tr>\n",
       "    <tr>\n",
       "      <th>1</th>\n",
       "      <td>Ключът е на масата.</td>\n",
       "      <td>True</td>\n",
       "      <td></td>\n",
       "      <td></td>\n",
       "    </tr>\n",
       "    <tr>\n",
       "      <th>2</th>\n",
       "      <td>Царя пие вино.</td>\n",
       "      <td>False</td>\n",
       "      <td>Царя</td>\n",
       "      <td>Царят</td>\n",
       "    </tr>\n",
       "    <tr>\n",
       "      <th>3</th>\n",
       "      <td>Царят пие вино.</td>\n",
       "      <td>True</td>\n",
       "      <td></td>\n",
       "      <td></td>\n",
       "    </tr>\n",
       "    <tr>\n",
       "      <th>4</th>\n",
       "      <td>Ученика е умен и трудолюбив.</td>\n",
       "      <td>False</td>\n",
       "      <td>Ученика</td>\n",
       "      <td>Ученикът</td>\n",
       "    </tr>\n",
       "    <tr>\n",
       "      <th>5</th>\n",
       "      <td>Ученикът е умен и трудолюбив.</td>\n",
       "      <td>True</td>\n",
       "      <td></td>\n",
       "      <td></td>\n",
       "    </tr>\n",
       "  </tbody>\n",
       "</table>\n",
       "</div>"
      ],
      "text/plain": [
       "                            text  is_correct incorrect_words correct_words\n",
       "0             Ключа е на масата.       False           Ключа        Ключът\n",
       "1            Ключът е на масата.        True                              \n",
       "2                 Царя пие вино.       False            Царя         Царят\n",
       "3                Царят пие вино.        True                              \n",
       "4   Ученика е умен и трудолюбив.       False         Ученика      Ученикът\n",
       "5  Ученикът е умен и трудолюбив.        True                              "
      ]
     },
     "execution_count": 33,
     "metadata": {},
     "output_type": "execute_result"
    }
   ],
   "source": [
    "test_set_1.head(6)"
   ]
  },
  {
   "cell_type": "markdown",
   "id": "39a7c4f0-8b35-48f9-8030-d114fce7aba9",
   "metadata": {
    "deletable": true,
    "editable": true,
    "frozen": false,
    "id": "39a7c4f0-8b35-48f9-8030-d114fce7aba9"
   },
   "source": [
    "### 5.4 Add columns with Stanza NLP features"
   ]
  },
  {
   "cell_type": "code",
   "execution_count": null,
   "id": "a64d8fb5-8c07-4646-905f-d7039b4f74ec",
   "metadata": {
    "deletable": true,
    "editable": true,
    "frozen": false,
    "id": "a64d8fb5-8c07-4646-905f-d7039b4f74ec"
   },
   "outputs": [],
   "source": [
    "if True:\n",
    "    # extract stanza features as new columns\n",
    "    feature_columns_st = [\"pos\", \"tag\", \"dep\", \"morph\", \"lemmas\", \"left_edge\", \"right_edge\", \"num_tokens\"]\n",
    "    test_set_1[feature_columns_st] = test_set_1.apply(lambda r: extract_features(nlp_st, r, \"text\"), axis=1, result_type=\"expand\")\n",
    "\n",
    "    # save in case we want to load it faster\n",
    "    test_set_1.to_csv(\"data/test_set_1_clean.csv\", index=None)\n",
    "else:\n",
    "    # load from file instead of the above, it is faster\n",
    "    test_set_1 = pd.read_csv(\"data/test_set_1_clean.csv\")\n",
    "    test_set_1[\"correct_words\"] = test_set_1[\"incorrect_words\"].fillna(\"\")\n",
    "    test_set_1[\"incorrect_words\"] = test_set_1[\"incorrect_words\"].fillna(\"\")"
   ]
  },
  {
   "cell_type": "code",
   "execution_count": null,
   "id": "0fe578ad-5570-4ece-a36a-98a732bef5f6",
   "metadata": {
    "deletable": true,
    "editable": true,
    "frozen": false,
    "id": "0fe578ad-5570-4ece-a36a-98a732bef5f6",
    "outputId": "0c3a42e9-6e5f-410b-84d1-4b4bba9c34ef"
   },
   "outputs": [
    {
     "data": {
      "text/plain": [
       "Index(['text', 'is_correct', 'incorrect_words', 'correct_words', 'pos', 'tag',\n",
       "       'dep', 'morph', 'lemmas', 'left_edge', 'right_edge', 'num_tokens'],\n",
       "      dtype='object')"
      ]
     },
     "execution_count": 35,
     "metadata": {},
     "output_type": "execute_result"
    }
   ],
   "source": [
    "test_set_1.columns"
   ]
  },
  {
   "cell_type": "code",
   "execution_count": null,
   "id": "b98ea749-b1cb-49d2-b471-9905459b28e7",
   "metadata": {
    "deletable": true,
    "editable": true,
    "frozen": false,
    "id": "b98ea749-b1cb-49d2-b471-9905459b28e7",
    "outputId": "efccf80e-c184-44f7-c95f-0535b53f73f8"
   },
   "outputs": [
    {
     "data": {
      "text/html": [
       "<div>\n",
       "<style scoped>\n",
       "    .dataframe tbody tr th:only-of-type {\n",
       "        vertical-align: middle;\n",
       "    }\n",
       "\n",
       "    .dataframe tbody tr th {\n",
       "        vertical-align: top;\n",
       "    }\n",
       "\n",
       "    .dataframe thead th {\n",
       "        text-align: right;\n",
       "    }\n",
       "</style>\n",
       "<table border=\"1\" class=\"dataframe\">\n",
       "  <thead>\n",
       "    <tr style=\"text-align: right;\">\n",
       "      <th></th>\n",
       "      <th>0</th>\n",
       "    </tr>\n",
       "  </thead>\n",
       "  <tbody>\n",
       "    <tr>\n",
       "      <th>text</th>\n",
       "      <td>Ключа е на масата.</td>\n",
       "    </tr>\n",
       "    <tr>\n",
       "      <th>num_tokens</th>\n",
       "      <td>5</td>\n",
       "    </tr>\n",
       "    <tr>\n",
       "      <th>pos</th>\n",
       "      <td>NOUN,AUX,ADP,NOUN,PUNCT</td>\n",
       "    </tr>\n",
       "    <tr>\n",
       "      <th>tag</th>\n",
       "      <td>Ncmsh,Vxitf-r3s,R,Ncfsd,punct</td>\n",
       "    </tr>\n",
       "    <tr>\n",
       "      <th>dep</th>\n",
       "      <td>nsubj,cop,case,root,punct</td>\n",
       "    </tr>\n",
       "    <tr>\n",
       "      <th>morph</th>\n",
       "      <td>Definite=Def|Gender=Masc|Number=Sing,Aspect=Im...</td>\n",
       "    </tr>\n",
       "    <tr>\n",
       "      <th>lemmas</th>\n",
       "      <td>ключ,съм,на,маса,.</td>\n",
       "    </tr>\n",
       "    <tr>\n",
       "      <th>left_edge</th>\n",
       "      <td>Ключа,е,на,Ключа,.</td>\n",
       "    </tr>\n",
       "    <tr>\n",
       "      <th>right_edge</th>\n",
       "      <td>Ключа,е,на,.,.</td>\n",
       "    </tr>\n",
       "  </tbody>\n",
       "</table>\n",
       "</div>"
      ],
      "text/plain": [
       "                                                            0\n",
       "text                                       Ключа е на масата.\n",
       "num_tokens                                                  5\n",
       "pos                                   NOUN,AUX,ADP,NOUN,PUNCT\n",
       "tag                             Ncmsh,Vxitf-r3s,R,Ncfsd,punct\n",
       "dep                                 nsubj,cop,case,root,punct\n",
       "morph       Definite=Def|Gender=Masc|Number=Sing,Aspect=Im...\n",
       "lemmas                                     ключ,съм,на,маса,.\n",
       "left_edge                                  Ключа,е,на,Ключа,.\n",
       "right_edge                                     Ключа,е,на,.,."
      ]
     },
     "execution_count": 36,
     "metadata": {},
     "output_type": "execute_result"
    }
   ],
   "source": [
    "test_set_1[[\"text\", \"num_tokens\", \"pos\", \"tag\", \"dep\", \"morph\", \"lemmas\", \"left_edge\", \"right_edge\"]].head(1).T"
   ]
  },
  {
   "cell_type": "markdown",
   "id": "07173321-5f86-4bae-9c5a-4aeaf2abaf32",
   "metadata": {
    "deletable": true,
    "editable": true,
    "frozen": false,
    "id": "07173321-5f86-4bae-9c5a-4aeaf2abaf32"
   },
   "source": [
    "## 6 Define rule based logic"
   ]
  },
  {
   "cell_type": "markdown",
   "id": "07626842-f1cf-45f1-b22f-241892a589f4",
   "metadata": {
    "deletable": true,
    "editable": true,
    "frozen": false,
    "id": "07626842-f1cf-45f1-b22f-241892a589f4"
   },
   "source": [
    "### 6.1 Implement NLP specific functions"
   ]
  },
  {
   "cell_type": "markdown",
   "id": "2e6836b6-0950-40d6-950a-e7803216513e",
   "metadata": {
    "deletable": true,
    "editable": true,
    "frozen": false,
    "id": "2e6836b6-0950-40d6-950a-e7803216513e"
   },
   "source": [
    "This section contains functions that extract grammatical details like gender, number, and sentence role from tagged words."
   ]
  },
  {
   "cell_type": "code",
   "execution_count": null,
   "id": "fea25698-beaa-458b-851b-e42b18a31233",
   "metadata": {
    "deletable": true,
    "editable": true,
    "frozen": false,
    "id": "fea25698-beaa-458b-851b-e42b18a31233"
   },
   "outputs": [],
   "source": [
    "def extract_gender_from_tag(tag):\n",
    "    gender = \" \"\n",
    "    # gender is applicable to common noun, proper noun or adjective\n",
    "    if tag.startswith((\"Nc\", \"Np\", \"A\")):\n",
    "        if \"m\" in tag:\n",
    "            gender = \"Masculine\"\n",
    "        elif \"f\" in tag:\n",
    "            gender = \"Feminine\"\n",
    "        elif \"n\" in tag:\n",
    "            gender = \"Neutral\"\n",
    "    return gender\n",
    "\n",
    "\n",
    "# TODO: need to exclude triple character patterns like \"p1s\": \"Past tense, 1st person sng\",\n",
    "def extract_number_from_tag(tag):\n",
    "    number = None\n",
    "    if \"s\" in tag:\n",
    "        number = \"Singular\"\n",
    "    elif \"p\" in tag:\n",
    "        number = \"Plural\"\n",
    "    return number\n",
    "\n",
    "\n",
    "def is_masculine(row_dict, i):\n",
    "    tag = row_dict[\"tag\"].split(\",\")[i]\n",
    "    return extract_gender_from_tag(tag) == \"Masculine\"\n",
    "\n",
    "\n",
    "def is_singular(row_dict, i):\n",
    "    tag = row_dict[\"tag\"].split(\",\")[i]\n",
    "    return extract_number_from_tag(tag) == \"Singular\"\n",
    "\n",
    "\n",
    "def is_masculine_singular(row_dict, i):\n",
    "    return is_masculine(row_dict, i) and is_singular(row_dict, i)\n",
    "\n",
    "\n",
    "def is_dep_subject(row_dict, i):\n",
    "    dep = row_dict[\"dep\"].split(\",\")[i]\n",
    "    return dep in {\"nsubj\", \"csubj\", \"nsubj:pass\", \"csubj:pass\"}\n",
    "\n",
    "\n",
    "def nlp_get_pos(row_dict, i):\n",
    "    return row_dict[\"pos\"].split(\",\")[i]\n",
    "\n",
    "\n",
    "def nlp_get_dep(row_dict, i):\n",
    "    return row_dict[\"dep\"].split(\",\")[i]\n",
    "\n",
    "\n",
    "def nlp_get_lemma(row_dict, i):\n",
    "    return row_dict[\"lemmas\"].split(\",\")[i]\n",
    "\n",
    "\n",
    "def nlp_get_article(row_dict, i):\n",
    "    morph = row_dict[\"morph\"].split(\",\")[i]\n",
    "    if \"Definite=Def\" in morph:\n",
    "        return \"definite\"\n",
    "    elif \"Definite=Ind\" in morph:\n",
    "        return \"indefinite\"\n",
    "    else:\n",
    "        return \"\""
   ]
  },
  {
   "cell_type": "code",
   "execution_count": null,
   "id": "cce723a8-bf82-4636-ad00-2e438f94c2f7",
   "metadata": {
    "deletable": true,
    "editable": true,
    "frozen": false,
    "id": "cce723a8-bf82-4636-ad00-2e438f94c2f7"
   },
   "outputs": [],
   "source": [
    "# for quick viewing the features\n",
    "# use updpipe object for the extraction of the word because of performance\n",
    "# use stanza object for determining features because of accuracy\n",
    "def inspect_word(row_dict, word_num):\n",
    "    word = nlp_ud(row_dict[\"text\"])[word_num].text\n",
    "    pos = row_dict[\"pos\"].split(\",\")[word_num]\n",
    "    tag = row_dict[\"tag\"].split(\",\")[word_num]\n",
    "    dep = row_dict[\"dep\"].split(\",\")[word_num]\n",
    "    gen_s = extract_gender_from_tag(tag)[0:1]  # M - Masculine, F - Feminine, N - Neutral\n",
    "    num_s = extract_number_from_tag(tag)[0:1]\n",
    "\n",
    "    return f\"{row_dict['index']} {word:<15} POS:{pos:<{10}} Gen:{gen_s}    Num:{num_s}   DEP:{dep:<{10}} Sent: {row_dict[\"text\"]:<30}\""
   ]
  },
  {
   "cell_type": "markdown",
   "id": "9ee5763a-dac2-4631-9746-6aad52c7be4f",
   "metadata": {
    "deletable": true,
    "editable": true,
    "frozen": false,
    "id": "9ee5763a-dac2-4631-9746-6aad52c7be4f"
   },
   "source": [
    "### 6.2 Implement generic testing function"
   ]
  },
  {
   "cell_type": "markdown",
   "id": "190505ef-c71c-43a5-85f1-52b072466723",
   "metadata": {
    "deletable": true,
    "editable": true,
    "frozen": false,
    "id": "190505ef-c71c-43a5-85f1-52b072466723"
   },
   "source": [
    "Before we start implementing any rules, we should first create a testing function for them. Since we don’t have the specific rule functions ready, we’ll set up a general testing function - actually, we’ll create three functions - that can take in a list of conditions and a list of rules. It’s important that both lists have the same length. The testing function will process text, apply these conditions and rules to detect errors, and then compare the results with expected outcomes, logging whether each test passes or fails."
   ]
  },
  {
   "cell_type": "code",
   "execution_count": null,
   "id": "1df9be14-e52e-4fff-8a71-d870153af4d6",
   "metadata": {
    "deletable": true,
    "editable": true,
    "frozen": false,
    "id": "1df9be14-e52e-4fff-8a71-d870153af4d6"
   },
   "outputs": [],
   "source": [
    "def all_rules(row_dict, condition_fns, rule_fns):\n",
    "    # ⚠️Make sure the sentence always ends with a punctuation. This is a workaround!\n",
    "    # UDPipe not always separates into tokens correctly, sometimes reports the word+punctuation (or special symbol) as single token.\n",
    "    # Stanza has bad performance and this function is called iteratively multiple times, not a good idea to use Stanza here.\n",
    "    sentence = row_dict[\"text\"] + \".\"\n",
    "    doc = nlp_ud(sentence)\n",
    "    errors = []\n",
    "\n",
    "    # ⚠️This is a very ugly workaround. UDPipe does not correctly split into tokens when there is punctuation\n",
    "    # in the middle of the sentence. We return \"no errors\" here which might make some tests fail but\n",
    "    # the goal is not to raise an exception. The correct solution is not to use UDPipe at all and pre-calculate the tokens\n",
    "    # in the beginning.\n",
    "    if (len(doc) != row_dict['num_tokens']):\n",
    "        return errors\n",
    "\n",
    "    # Iterate over token pairs with indices\n",
    "    # for i in range(len(doc) - 1):\n",
    "    for i in range(row_dict['num_tokens'] - 1):\n",
    "        token1 = doc[i].text\n",
    "        token2 = doc[i + 1].text\n",
    "\n",
    "        conditions = [condition_fn(row_dict, i) for condition_fn in condition_fns]\n",
    "\n",
    "        for condition, rule_fn in zip(conditions, rule_fns):\n",
    "            if condition:\n",
    "                errors += rule_fn(token1, token2, i)\n",
    "\n",
    "    return errors"
   ]
  },
  {
   "cell_type": "code",
   "execution_count": null,
   "id": "1eb26302-028c-4502-9d2c-12af484dd2fd",
   "metadata": {
    "deletable": true,
    "editable": true,
    "frozen": false,
    "id": "1eb26302-028c-4502-9d2c-12af484dd2fd"
   },
   "outputs": [],
   "source": [
    "def test_definite_article(row_dict, condition_fns, rule_fns):\n",
    "    actual_wrong_words = []\n",
    "    expected_wrong_words = [word.strip() for word in row_dict[\"incorrect_words\"].split(\",\") if word.strip() != \"\"]\n",
    "    actual_wrong_words = all_rules(row_dict, condition_fns, rule_fns)\n",
    "\n",
    "    test_res = \"Pass\" if set(actual_wrong_words) == set(expected_wrong_words) else \"Fail\"\n",
    "\n",
    "    return (test_res, actual_wrong_words)"
   ]
  },
  {
   "cell_type": "code",
   "execution_count": null,
   "id": "565efc7c-f779-422c-b95a-783792c1543c",
   "metadata": {
    "deletable": true,
    "editable": true,
    "frozen": false,
    "id": "565efc7c-f779-422c-b95a-783792c1543c"
   },
   "outputs": [],
   "source": [
    "# tests all sentences from a dataset that already contains NLP tags\n",
    "def test_definite_article_all(nlp_df, conditions_fns, rules_fns, print_passed=True, print_failed=True, print_total=True):\n",
    "    \"\"\"Tests definite articles in sentences and logs results.\"\"\"\n",
    "    idx_failed, idx_passed = [], []\n",
    "\n",
    "    for i, row in nlp_df.iterrows():\n",
    "        row_dict = row.to_dict()\n",
    "        res = test_definite_article(row_dict, conditions_fns, rules_fns)\n",
    "        status, incorrect = res[0], res[1]\n",
    "\n",
    "        if status == \"Fail\":\n",
    "            idx_failed.append(i)\n",
    "            if print_failed:\n",
    "                print(i, f'❌ {row_dict[\"text\"]} (Actual: \\'{\",\".join(incorrect)}\\', Expected: \\'{row_dict[\"incorrect_words\"]}\\')')\n",
    "        else:\n",
    "            idx_passed.append(i)\n",
    "            message = f'✅ {row_dict[\"text\"]} (\\'{\",\".join(incorrect)}\\' is incorrect)' if incorrect else f'✅ {row_dict[\"text\"]} (The sentence is correct)'\n",
    "            if print_passed:\n",
    "                print(i, message)\n",
    "\n",
    "    if print_total:\n",
    "        n_failed = len(idx_failed)\n",
    "        print(\"✅ All tests passed\" if n_failed == 0 else f\"❌ {n_failed}/{len(nlp_df)} failed.\")\n",
    "\n",
    "    return idx_passed, idx_failed"
   ]
  },
  {
   "cell_type": "markdown",
   "id": "fb1f6117-22a9-4bd3-aa89-c7761f469411",
   "metadata": {
    "deletable": true,
    "editable": true,
    "frozen": false,
    "id": "fb1f6117-22a9-4bd3-aa89-c7761f469411"
   },
   "source": [
    "### 6.3 Iteration 1"
   ]
  },
  {
   "cell_type": "markdown",
   "id": "08acbd7a-cb63-4649-99c7-3adcf7f83996",
   "metadata": {
    "deletable": true,
    "editable": true,
    "frozen": false,
    "id": "08acbd7a-cb63-4649-99c7-3adcf7f83996"
   },
   "source": [
    "#### 6.3.1 Implement Rule1"
   ]
  },
  {
   "cell_type": "markdown",
   "id": "d9a2b905-b382-43b5-b04a-6722070858d3",
   "metadata": {
    "deletable": true,
    "editable": true,
    "frozen": false,
    "id": "d9a2b905-b382-43b5-b04a-6722070858d3"
   },
   "source": [
    "According to Rule1, long definite article should be used when the noun takes the role of the subject. Additionally, in order to exclude groups of adjective + noun, which fall under Rule3, we need to exclude noun that follow an adjective."
   ]
  },
  {
   "cell_type": "code",
   "execution_count": null,
   "id": "5925e27c-ed32-43ae-975f-f21d414b7bd0",
   "metadata": {
    "deletable": true,
    "editable": true,
    "frozen": false,
    "id": "5925e27c-ed32-43ae-975f-f21d414b7bd0"
   },
   "outputs": [],
   "source": [
    "def cond_rule1(row_dict, i):\n",
    "    \"\"\"Searches for a NOUN, masculine, singular, which is the SUBJECT (nominal or clausal) in the sentence,\n",
    "       and is not preceded by an ADJective\"\"\"\n",
    "    is_token1_adj = nlp_get_pos(row_dict, i) == \"ADJ\"\n",
    "    is_token1_noun = nlp_get_pos(row_dict, i) == \"NOUN\"\n",
    "    is_token1_masc_sg = is_masculine_singular(row_dict, i)\n",
    "    is_token1_subj = is_dep_subject(row_dict, i)\n",
    "\n",
    "    is_token2_noun = nlp_get_pos(row_dict, i + 1) == \"NOUN\"\n",
    "    is_token2_masc_sg = is_masculine_singular(row_dict, i + 1)\n",
    "    is_token2_subj = is_dep_subject(row_dict, i + 1)\n",
    "\n",
    "    # if token is masculine singular noun and subj, and the previous token is not an adjective\n",
    "    if i == 0 and is_token1_masc_sg and is_token1_noun and is_token1_subj:\n",
    "        return True\n",
    "    if i != 0 and not is_token1_adj and is_token2_masc_sg and is_token2_noun and is_token2_subj:\n",
    "        return True\n",
    "\n",
    "    return False"
   ]
  },
  {
   "cell_type": "code",
   "execution_count": null,
   "id": "75f5166d-e14e-4eb0-bcc2-aa6d9d6d9390",
   "metadata": {
    "deletable": true,
    "editable": true,
    "frozen": false,
    "id": "75f5166d-e14e-4eb0-bcc2-aa6d9d6d9390"
   },
   "outputs": [],
   "source": [
    "def rule1(token1, token2, token_idx):\n",
    "    errors = []\n",
    "    word = token1 if token_idx == 0 else token2\n",
    "    if not word.endswith((\"ът\", \"ят\")):\n",
    "        errors.append(word)\n",
    "    return errors"
   ]
  },
  {
   "cell_type": "markdown",
   "id": "c52bde6f-2651-4911-a195-6271e0dcf858",
   "metadata": {
    "deletable": true,
    "editable": true,
    "frozen": false,
    "id": "c52bde6f-2651-4911-a195-6271e0dcf858"
   },
   "source": [
    "#### 6.3.2 Test Rule1"
   ]
  },
  {
   "cell_type": "code",
   "execution_count": null,
   "id": "9be184b3-6d53-4a38-8736-94dc962c4977",
   "metadata": {
    "deletable": true,
    "editable": true,
    "frozen": false,
    "id": "9be184b3-6d53-4a38-8736-94dc962c4977",
    "outputId": "0691d230-5256-4f94-8c4a-893dd7878ce5"
   },
   "outputs": [
    {
     "name": "stdout",
     "output_type": "stream",
     "text": [
      "0 ✅ Ключа е на масата. ('Ключа' is incorrect)\n",
      "1 ✅ Ключът е на масата. (The sentence is correct)\n",
      "2 ✅ Царя пие вино. ('Царя' is incorrect)\n",
      "3 ✅ Царят пие вино. (The sentence is correct)\n",
      "4 ✅ Ученика е умен и трудолюбив. ('Ученика' is incorrect)\n",
      "5 ✅ Ученикът е умен и трудолюбив. (The sentence is correct)\n",
      "6 ✅ Приятеля ми е в чужбина. ('Приятеля' is incorrect)\n",
      "7 ✅ Приятелят ми е в чужбина. (The sentence is correct)\n",
      "8 ✅ Госта пристигна. ('Госта' is incorrect)\n",
      "9 ✅ Гостът пристигна. (The sentence is correct)\n",
      "10 ❌ Готвача приготви обяда. (Actual: '', Expected: 'Готвача')\n",
      "11 ✅ Готвачът приготви обяда. (The sentence is correct)\n",
      "12 ✅ Влака спря на гара София. ('Влака' is incorrect)\n",
      "13 ✅ Влакът спря на гара София. (The sentence is correct)\n",
      "14 ✅ Учителя говореше за Стефан Стамболов. ('Учителя' is incorrect)\n",
      "15 ✅ Учителят говореше за Стефан Стамболов. (The sentence is correct)\n",
      "16 ❌ Таня търси лекарят. (Actual: '', Expected: 'лекарят')\n",
      "17 ✅ Таня търси лекаря. (The sentence is correct)\n",
      "18 ❌ Говорим за лекарят. (Actual: '', Expected: 'лекарят')\n",
      "19 ✅ Говорим за лекаря. (The sentence is correct)\n",
      "20 ❌ Таня търси Ангел Иванчев, лекарят. (Actual: '', Expected: 'лекарят')\n",
      "21 ✅ Таня търси Ангел Иванчев, лекаря. (The sentence is correct)\n",
      "22 ❌ Говорим за Ангел Иванчев, лекарят. (Actual: '', Expected: 'лекарят')\n",
      "23 ✅ Говорим за Ангел Иванчев, лекаря. (The sentence is correct)\n",
      "24 ❌ Той ми даде ключът от къщата. (Actual: '', Expected: 'ключът')\n",
      "25 ✅ Той ми даде ключа от къщата. (The sentence is correct)\n",
      "26 ❌ Принца говори с царят. (Actual: '', Expected: 'Принца,царят')\n",
      "27 ✅ Принцът говори с царя. (The sentence is correct)\n",
      "28 ❌ Аз помагам на ученикът. (Actual: '', Expected: 'ученикът')\n",
      "29 ✅ Аз помагам на ученика. (The sentence is correct)\n",
      "30 ❌ Много пътници слязоха от влакът. (Actual: '', Expected: 'влакът')\n",
      "31 ✅ Много пътници слязоха от влака. (The sentence is correct)\n",
      "32 ❌ Слушахме с интерес учителят. (Actual: '', Expected: 'учителят')\n",
      "33 ✅ Слушахме с интерес учителя. (The sentence is correct)\n",
      "34 ❌ Дългоочаквания гост дойде. (Actual: '', Expected: 'Дългоочаквания')\n",
      "35 ✅ Дългоочакваният гост дойде. (The sentence is correct)\n",
      "36 ❌ Иван, госта от Сопот, дойде. (Actual: '', Expected: 'госта')\n",
      "37 ✅ Иван, гостът от Сопот, дойде. (The sentence is correct)\n",
      "38 ❌ Иван е съученика ми. (Actual: '', Expected: 'съученика')\n",
      "39 ✅ Иван е съученикът ми. (The sentence is correct)\n",
      "40 ❌ Иван е добрия. (Actual: '', Expected: 'добрия')\n",
      "41 ✅ Иван е добрият. (The sentence is correct)\n",
      "42 ❌ Иван е успелия. (Actual: '', Expected: 'успелия')\n",
      "43 ✅ Иван е успелият. (The sentence is correct)\n",
      "44 ❌ Пешо се оказа най-верния му приятел. (Actual: '', Expected: 'най-верния')\n",
      "45 ✅ Пешо се оказа най-верният му приятел. (The sentence is correct)\n",
      "46 ❌ Пешо се оказа дарителя на училището. (Actual: '', Expected: 'дарителя')\n",
      "47 ✅ Пешо се оказа дарителят на училището. (The sentence is correct)\n",
      "48 ❌ Ученикът на първия чин изглежда най-доволния от всички. (Actual: '', Expected: 'най-доволния')\n",
      "49 ✅ Ученикът на първия чин изглежда най-доволният от всички. (The sentence is correct)\n",
      "50 ❌ Малкия, заповядай едно бонбонче! (Actual: '', Expected: 'Малкия')\n",
      "51 ✅ Малкият, заповядай едно бонбонче! (The sentence is correct)\n",
      "52 ✅ Потребителя се регистрира успешно. ('Потребителя' is incorrect)\n",
      "53 ✅ Потребителят се регистрира успешно. (The sentence is correct)\n",
      "54 ❌ Обадих се на ръководителят. (Actual: '', Expected: 'ръководителят')\n",
      "55 ✅ Обадих се на ръководителя. (The sentence is correct)\n",
      "56 ✅ Лекаря живее тука. ('Лекаря' is incorrect)\n",
      "57 ✅ Лекарят живее тука. (The sentence is correct)\n",
      "58 ❌ Приятеля ни е лекаря. (Actual: 'Приятеля', Expected: 'Приятеля,лекаря')\n",
      "59 ✅ Приятелят ни е лекарят. (The sentence is correct)\n",
      "60 ❌ Ангел Иванчев, лекаря, живее тука. (Actual: '', Expected: 'лекаря')\n",
      "61 ✅ Ангел Иванчев, лекарят, живее тука. (The sentence is correct)\n",
      "62 ❌ Приятеля ни е Ангел Иванчев, лекаря. (Actual: '', Expected: 'Приятеля,лекаря')\n",
      "63 ✅ Приятелят ни е Ангел Иванчев, лекарят. (The sentence is correct)\n",
      "64 ❌ Той е най-високия и хубав в стаята. (Actual: '', Expected: 'най-високия')\n",
      "65 ✅ Той е най-високият и хубав в стаята. (The sentence is correct)\n",
      "66 ❌ Аз живея в новият бял блок. (Actual: '', Expected: 'новият')\n",
      "67 ✅ Аз живея в новия бял блок. (The sentence is correct)\n",
      "68 ❌ Високия бял блок е нов. (Actual: '', Expected: 'Високия')\n",
      "69 ✅ Високият бял блок е нов. (The sentence is correct)\n",
      "70 ✅ Телевизора е поправен от новия техник. ('Телевизора' is incorrect)\n",
      "71 ✅ Телевизорът е поправен от новия техник. (The sentence is correct)\n",
      "72 ❌ Ученикът, а не учителят извика при себе си директорът. (Actual: '', Expected: 'Ученикът,учителят')\n",
      "73 ❌ Ученика, а не учителя извика при себе си директорът. (Actual: 'Ученика', Expected: '')\n",
      "74 ✅ Заекът видя сокола. (The sentence is correct)\n",
      "75 ✅ Заекът видя сокола. (The sentence is correct)\n",
      "76 ✅ Заека видя соколът. (The sentence is correct)\n",
      "77 ✅ Заека видя соколът. (The sentence is correct)\n",
      "❌ 28/78 failed.\n"
     ]
    }
   ],
   "source": [
    "idx_passed, idx_current = test_definite_article_all(test_set_1, [cond_rule1], [rule1])"
   ]
  },
  {
   "cell_type": "markdown",
   "id": "1ea29537-08d2-4a94-8365-39ff48a85908",
   "metadata": {
    "deletable": true,
    "editable": true,
    "frozen": false,
    "id": "1ea29537-08d2-4a94-8365-39ff48a85908"
   },
   "source": [
    "##### Analyze some of the failures"
   ]
  },
  {
   "cell_type": "markdown",
   "id": "0e521677-cf9a-4e31-aa4f-2ce1aacfe2a3",
   "metadata": {
    "deletable": true,
    "editable": true,
    "frozen": false,
    "id": "0e521677-cf9a-4e31-aa4f-2ce1aacfe2a3"
   },
   "source": [
    "Now let's taкe the first several failed tests and figure out why they failed."
   ]
  },
  {
   "cell_type": "code",
   "execution_count": null,
   "id": "b52274d4-612a-4749-9968-5066043a7035",
   "metadata": {
    "deletable": true,
    "editable": true,
    "frozen": false,
    "id": "b52274d4-612a-4749-9968-5066043a7035"
   },
   "outputs": [],
   "source": [
    "def row_to_dict(df, index):\n",
    "    row_dict = df.loc[index].to_dict()\n",
    "    row_dict[\"index\"] = index\n",
    "    return row_dict"
   ]
  },
  {
   "cell_type": "code",
   "execution_count": null,
   "id": "7dfb8087-71e7-42b3-808b-2fecfcda448e",
   "metadata": {
    "deletable": true,
    "editable": true,
    "frozen": false,
    "id": "7dfb8087-71e7-42b3-808b-2fecfcda448e",
    "outputId": "c44a1dac-0223-429b-86e2-3eb3ffca4551"
   },
   "outputs": [
    {
     "name": "stdout",
     "output_type": "stream",
     "text": [
      "10 Готвача         POS:NOUN       Gen:F    Num:S   DEP:nsubj      Sent: Готвача приготви обяда.       \n",
      "16 лекарят         POS:NOUN       Gen:M    Num:S   DEP:nsubj      Sent: Таня търси лекарят.           \n",
      "18 лекарят         POS:NOUN       Gen:M    Num:S   DEP:iobj       Sent: Говорим за лекарят.           \n",
      "20 лекарят         POS:NOUN       Gen:M    Num:S   DEP:nmod       Sent: Таня търси Ангел Иванчев, лекарят.\n",
      "22 лекарят         POS:NOUN       Gen:M    Num:S   DEP:conj       Sent: Говорим за Ангел Иванчев, лекарят.\n",
      "24 ключът          POS:NOUN       Gen:M    Num:S   DEP:obj        Sent: Той ми даде ключът от къщата. \n"
     ]
    }
   ],
   "source": [
    "res = []\n",
    "res.append(inspect_word(row_to_dict(test_set_1, 10), 0))  # 👉Готвача приготви обяда.\n",
    "res.append(inspect_word(row_to_dict(test_set_1, 16), 2))  # Таня търси 👉лекарят.\n",
    "res.append(inspect_word(row_to_dict(test_set_1, 18), 2))  # Говорим за 👉лекарят.\n",
    "res.append(inspect_word(row_to_dict(test_set_1, 20), 5))  # Таня търси Ангел Иванчев, 👉лекарят.\n",
    "res.append(inspect_word(row_to_dict(test_set_1, 22), 5))  # Говорим за Ангел Иванчев, 👉лекарят.\n",
    "res.append(inspect_word(row_to_dict(test_set_1, 24), 3))  # Той ми даде 👉ключът от къщата.\n",
    "print(\"\\n\".join(res))"
   ]
  },
  {
   "cell_type": "markdown",
   "id": "2d331a6c-a36a-4a1b-8f6b-201325d73360",
   "metadata": {
    "deletable": true,
    "editable": true,
    "frozen": false,
    "id": "2d331a6c-a36a-4a1b-8f6b-201325d73360"
   },
   "source": [
    "The problem with _**готвача**_ is that it is considered to be feminine by Stanza. For now we **will postpone fixing** because without context it is impossible to determine the gender, and without gender we can't apply Rule1.\n",
    "\n",
    "The word _**лекарят**_ in _Таня търси лекарят_ is determined as an nsubj (nominal subject) by Stanza but the correct dependency is object. Well, grammatically it would be correct if we assume that the doctor is the doer in the sentence. However, that is the less popular word order. Let's **postpone fixing** this sentence for later.\n",
    "\n",
    "The word _**Лекарят**_ in the sentences \\\n",
    "_Говорим за лекарят_, \\\n",
    "_Таня търси Ангел Иванчев, лекарят_ \\\n",
    "and _Говорим за Ангел Иванчев, лекарят._ \\\n",
    "is determined to be iobj (indirect object), nmod (nominal modifier) and conj (conjust) so that falls under Rule2.\n",
    "\n",
    "_**ключът**_ is marked as object so it also falls under Rule2.\n",
    "\n",
    "So the last 4 failures are expected to be fixed after we implement Rule2."
   ]
  },
  {
   "cell_type": "markdown",
   "id": "19233606-0f59-4fd8-adb8-18db158c4968",
   "metadata": {
    "deletable": true,
    "editable": true,
    "frozen": false,
    "id": "19233606-0f59-4fd8-adb8-18db158c4968"
   },
   "source": [
    "Separate the failed and analyzed tests into one list and the passed tests into another list. The one with the passed tests will be used for regression testing."
   ]
  },
  {
   "cell_type": "code",
   "execution_count": null,
   "id": "ce0dc7e2-a07e-4194-ac50-595c2e575728",
   "metadata": {
    "deletable": true,
    "editable": true,
    "frozen": false,
    "id": "ce0dc7e2-a07e-4194-ac50-595c2e575728"
   },
   "outputs": [],
   "source": [
    "idx_passed = sorted(list(set(idx_passed) - set([10, 16])))\n",
    "idx_current = sorted(list(set(idx_current) - set([10, 16])))"
   ]
  },
  {
   "cell_type": "markdown",
   "id": "a7445dda-5de1-41a3-adbd-534bab042fd5",
   "metadata": {
    "deletable": true,
    "editable": true,
    "frozen": false,
    "id": "a7445dda-5de1-41a3-adbd-534bab042fd5"
   },
   "source": [
    "### 6.4 Iteration 2"
   ]
  },
  {
   "cell_type": "markdown",
   "id": "c2a5962f-e021-48c6-b1af-7717a339e3a4",
   "metadata": {
    "deletable": true,
    "editable": true,
    "frozen": false,
    "id": "c2a5962f-e021-48c6-b1af-7717a339e3a4"
   },
   "source": [
    "#### 6.4.1 Implement Rule2"
   ]
  },
  {
   "cell_type": "markdown",
   "id": "83f865be-d745-48c7-9275-aec4017b1f19",
   "metadata": {
    "deletable": true,
    "editable": true,
    "frozen": false,
    "id": "83f865be-d745-48c7-9275-aec4017b1f19"
   },
   "source": [
    "Here we will implement the first part of Rule2, which states that when the noun takes the role of the object, then the short form of the definite article should be used."
   ]
  },
  {
   "cell_type": "code",
   "execution_count": null,
   "id": "2dbafb0f-41be-484f-a048-5b38d0e8d3ce",
   "metadata": {
    "deletable": true,
    "editable": true,
    "frozen": false,
    "id": "2dbafb0f-41be-484f-a048-5b38d0e8d3ce"
   },
   "outputs": [],
   "source": [
    "def cond_rule2(row_dict, i):\n",
    "    \"\"\"Searches for masculine singular nouns that are the object in the sentence\"\"\"\n",
    "    is_token1_noun = nlp_get_pos(row_dict, i) == \"NOUN\"\n",
    "    is_token1_masc_sg = is_masculine_singular(row_dict, i)\n",
    "    is_token1_subj = is_dep_subject(row_dict, i)\n",
    "\n",
    "    if is_token1_noun and is_token1_masc_sg and not is_token1_subj:\n",
    "        return True\n",
    "    return False"
   ]
  },
  {
   "cell_type": "code",
   "execution_count": null,
   "id": "e3c8102b-b7c2-461b-a3c6-0ef00d3ee77b",
   "metadata": {
    "deletable": true,
    "editable": true,
    "frozen": false,
    "id": "e3c8102b-b7c2-461b-a3c6-0ef00d3ee77b"
   },
   "outputs": [],
   "source": [
    "def rule2(token1, token2, idx_token):\n",
    "    errors = []\n",
    "    if token1.endswith((\"ът\", \"ят\")):  # objects should not have full article\n",
    "        errors.append(token1)\n",
    "    return errors"
   ]
  },
  {
   "cell_type": "markdown",
   "id": "f8709711-3a4e-4599-9316-03d4bb091077",
   "metadata": {
    "deletable": true,
    "editable": true,
    "frozen": false,
    "id": "f8709711-3a4e-4599-9316-03d4bb091077"
   },
   "source": [
    "#### 6.4.2 Test Rule2"
   ]
  },
  {
   "cell_type": "code",
   "execution_count": null,
   "id": "e44b8ee8-f284-45f7-bfb8-f134c315b934",
   "metadata": {
    "deletable": true,
    "editable": true,
    "frozen": false,
    "id": "e44b8ee8-f284-45f7-bfb8-f134c315b934",
    "outputId": "24eaf6b4-a75b-4e6a-dada-1f2ad8dff2b1"
   },
   "outputs": [
    {
     "name": "stdout",
     "output_type": "stream",
     "text": [
      "18 ✅ Говорим за лекарят. ('лекарят' is incorrect)\n",
      "20 ✅ Таня търси Ангел Иванчев, лекарят. ('лекарят' is incorrect)\n",
      "22 ✅ Говорим за Ангел Иванчев, лекарят. ('лекарят' is incorrect)\n",
      "24 ✅ Той ми даде ключът от къщата. ('ключът' is incorrect)\n",
      "26 ❌ Принца говори с царят. (Actual: 'царят', Expected: 'Принца,царят')\n",
      "28 ✅ Аз помагам на ученикът. ('ученикът' is incorrect)\n",
      "30 ✅ Много пътници слязоха от влакът. ('влакът' is incorrect)\n",
      "32 ✅ Слушахме с интерес учителят. ('учителят' is incorrect)\n",
      "34 ❌ Дългоочаквания гост дойде. (Actual: '', Expected: 'Дългоочаквания')\n",
      "36 ❌ Иван, госта от Сопот, дойде. (Actual: '', Expected: 'госта')\n",
      "38 ❌ Иван е съученика ми. (Actual: '', Expected: 'съученика')\n",
      "40 ❌ Иван е добрия. (Actual: '', Expected: 'добрия')\n",
      "42 ❌ Иван е успелия. (Actual: '', Expected: 'успелия')\n",
      "44 ❌ Пешо се оказа най-верния му приятел. (Actual: '', Expected: 'най-верния')\n",
      "46 ❌ Пешо се оказа дарителя на училището. (Actual: '', Expected: 'дарителя')\n",
      "48 ❌ Ученикът на първия чин изглежда най-доволния от всички. (Actual: '', Expected: 'най-доволния')\n",
      "50 ❌ Малкия, заповядай едно бонбонче! (Actual: '', Expected: 'Малкия')\n",
      "54 ✅ Обадих се на ръководителят. ('ръководителят' is incorrect)\n",
      "58 ❌ Приятеля ни е лекаря. (Actual: 'Приятеля', Expected: 'Приятеля,лекаря')\n",
      "60 ❌ Ангел Иванчев, лекаря, живее тука. (Actual: '', Expected: 'лекаря')\n",
      "62 ❌ Приятеля ни е Ангел Иванчев, лекаря. (Actual: '', Expected: 'Приятеля,лекаря')\n",
      "64 ❌ Той е най-високия и хубав в стаята. (Actual: '', Expected: 'най-високия')\n",
      "66 ❌ Аз живея в новият бял блок. (Actual: '', Expected: 'новият')\n",
      "68 ❌ Високия бял блок е нов. (Actual: '', Expected: 'Високия')\n",
      "72 ❌ Ученикът, а не учителят извика при себе си директорът. (Actual: 'учителят,директорът', Expected: 'Ученикът,учителят')\n",
      "73 ❌ Ученика, а не учителя извика при себе си директорът. (Actual: 'Ученика,директорът', Expected: '')\n",
      "❌ 18/26 failed.\n"
     ]
    }
   ],
   "source": [
    "p, c = test_definite_article_all(test_set_1.loc[idx_current], [cond_rule1, cond_rule2], [rule1, rule2])"
   ]
  },
  {
   "cell_type": "markdown",
   "id": "7e301348-0499-405a-8acf-dbc72a78b0af",
   "metadata": {
    "deletable": true,
    "editable": true,
    "frozen": false,
    "id": "7e301348-0499-405a-8acf-dbc72a78b0af"
   },
   "source": [
    "In the previous run rows 18, 20, 22 and 24 failed, now after implementing Rule2 they pass. Additionally, 4 more tests pass."
   ]
  },
  {
   "cell_type": "markdown",
   "id": "6e46b951-bea2-400f-81b6-afcd3449cebb",
   "metadata": {
    "deletable": true,
    "editable": true,
    "frozen": false,
    "id": "6e46b951-bea2-400f-81b6-afcd3449cebb"
   },
   "source": [
    "##### Analyze some of the failures"
   ]
  },
  {
   "cell_type": "code",
   "execution_count": null,
   "id": "b76fcdb7-3b63-4da9-8759-0fb865251052",
   "metadata": {
    "deletable": true,
    "editable": true,
    "frozen": false,
    "id": "b76fcdb7-3b63-4da9-8759-0fb865251052",
    "outputId": "1f12ad77-cff5-431a-c9c1-fd91b5702104"
   },
   "outputs": [
    {
     "name": "stdout",
     "output_type": "stream",
     "text": [
      "26 Принца          POS:NOUN       Gen:F    Num:S   DEP:nsubj      Sent: Принца говори с царят.        \n",
      "34 Дългоочаквания  POS:ADJ        Gen:M    Num:S   DEP:amod       Sent: Дългоочаквания гост дойде.    \n",
      "34 гост            POS:NOUN       Gen:M    Num:S   DEP:nsubj      Sent: Дългоочаквания гост дойде.    \n",
      "36 госта           POS:NOUN       Gen:M    Num:S   DEP:nmod       Sent: Иван, госта от Сопот, дойде.  \n",
      "38 съученика       POS:NOUN       Gen:M    Num:S   DEP:root       Sent: Иван е съученика ми.          \n",
      "40 добрия          POS:ADJ        Gen:M    Num:S   DEP:root       Sent: Иван е добрия.                \n",
      "42 успелия         POS:VERB       Gen:     Num:S   DEP:root       Sent: Иван е успелия.               \n"
     ]
    }
   ],
   "source": [
    "res = []\n",
    "res.append(inspect_word(row_to_dict(test_set_1, 26), 0))  # 👉Принца говори с царят.\n",
    "res.append(inspect_word(row_to_dict(test_set_1, 34), 0))  # 👉Дългоочаквания гост дойде.\n",
    "res.append(inspect_word(row_to_dict(test_set_1, 34), 1))  # Дългоочаквания 👉гост дойде.\n",
    "res.append(inspect_word(row_to_dict(test_set_1, 36), 2))  # Иван, 👉госта от Сопот, дойде.\n",
    "res.append(inspect_word(row_to_dict(test_set_1, 38), 2))  # Иван е 👉съученика ми.\n",
    "res.append(inspect_word(row_to_dict(test_set_1, 40), 2))  # Иван е 👉добрия.\n",
    "res.append(inspect_word(row_to_dict(test_set_1, 42), 2))  # Иван е 👉успелия.\n",
    "print(\"\\n\".join(res))"
   ]
  },
  {
   "cell_type": "markdown",
   "id": "038949a4-35d4-4a2f-bc3e-9cc0b22ca7e8",
   "metadata": {
    "deletable": true,
    "editable": true,
    "frozen": false,
    "id": "038949a4-35d4-4a2f-bc3e-9cc0b22ca7e8"
   },
   "source": [
    "* _Принца_ - considered feminine, which is wrong, let's postpone fixing for now.\n",
    "* _Дългоочаквания_  - will be fixed by Rule3\n",
    "* _гост_            - also will be fixed by Rule3\n",
    "* _госта_           - add to later (not sure yet which rule to apply)\n",
    "* _съученика_       - add to later (because root)\n",
    "* _добрия_          - add to later (because root)\n",
    "* _успелия_         - Stanza thinks this is a VERB, which is wrong, so let's add to the list of \"will not fix\""
   ]
  },
  {
   "cell_type": "code",
   "execution_count": null,
   "id": "58b7aa85-e66b-42f7-81ee-0265a2c8269d",
   "metadata": {
    "deletable": true,
    "editable": true,
    "frozen": false,
    "id": "58b7aa85-e66b-42f7-81ee-0265a2c8269d"
   },
   "outputs": [],
   "source": [
    "# keep the lists of passed and current tests up to date\n",
    "idx_failed = [26, 36, 38, 40, 42]\n",
    "idx_passed = sorted(set(idx_passed + p))\n",
    "idx_passed = sorted(list(set(idx_passed) - set(idx_failed)))\n",
    "idx_current = sorted(list(set(idx_current) - set(p)))\n",
    "idx_current = sorted(list(set(idx_current) - set(idx_failed)))"
   ]
  },
  {
   "cell_type": "markdown",
   "id": "7ee6d997-9847-4d3e-aab5-bae054ffc763",
   "metadata": {
    "deletable": true,
    "editable": true,
    "frozen": false,
    "id": "7ee6d997-9847-4d3e-aab5-bae054ffc763"
   },
   "source": [
    "#### 6.4.3 Regression Test"
   ]
  },
  {
   "cell_type": "markdown",
   "id": "2ed54248-7a08-45e3-b32d-e43ad1e70348",
   "metadata": {
    "deletable": true,
    "editable": true,
    "frozen": false,
    "id": "2ed54248-7a08-45e3-b32d-e43ad1e70348"
   },
   "source": [
    "Test the previously successful sentences to determine if Rule2 caused any breakages. Perform the regression using all rules defined till now (Rule1, Rule2)"
   ]
  },
  {
   "cell_type": "code",
   "execution_count": null,
   "id": "7c77dfb9-1cf8-4e86-a64f-20dbfe82874a",
   "metadata": {
    "deletable": true,
    "editable": true,
    "frozen": false,
    "id": "7c77dfb9-1cf8-4e86-a64f-20dbfe82874a",
    "outputId": "e87d0177-356e-4b1a-8a07-2c75a1e9a613"
   },
   "outputs": [
    {
     "name": "stdout",
     "output_type": "stream",
     "text": [
      "37 ❌ Иван, гостът от Сопот, дойде. (Actual: 'гостът', Expected: '')\n",
      "39 ❌ Иван е съученикът ми. (Actual: 'съученикът', Expected: '')\n",
      "59 ❌ Приятелят ни е лекарят. (Actual: 'лекарят', Expected: '')\n",
      "61 ❌ Ангел Иванчев, лекарят, живее тука. (Actual: 'лекарят', Expected: '')\n",
      "63 ❌ Приятелят ни е Ангел Иванчев, лекарят. (Actual: 'Приятелят,лекарят', Expected: '')\n",
      "❌ 5/58 failed.\n"
     ]
    }
   ],
   "source": [
    "_ = test_definite_article_all(test_set_1.loc[idx_passed], [cond_rule1, cond_rule2], [rule1, rule2], print_passed=False)"
   ]
  },
  {
   "cell_type": "markdown",
   "id": "358211a9-9f26-4801-a5b4-60309e07d494",
   "metadata": {
    "deletable": true,
    "editable": true,
    "frozen": false,
    "id": "358211a9-9f26-4801-a5b4-60309e07d494"
   },
   "source": [
    "##### Analyze results from the regression"
   ]
  },
  {
   "cell_type": "code",
   "execution_count": null,
   "id": "58e9e7ff-07d4-46ff-885e-4bc64f0f9c2c",
   "metadata": {
    "deletable": true,
    "editable": true,
    "frozen": false,
    "id": "58e9e7ff-07d4-46ff-885e-4bc64f0f9c2c",
    "outputId": "9d416c4c-7d30-47af-ff4a-536682ae184a"
   },
   "outputs": [
    {
     "name": "stdout",
     "output_type": "stream",
     "text": [
      "37 гостът          POS:NOUN       Gen:M    Num:S   DEP:nmod       Sent: Иван, гостът от Сопот, дойде. \n",
      "39 съученикът      POS:NOUN       Gen:M    Num:S   DEP:root       Sent: Иван е съученикът ми.         \n",
      "59 лекарят         POS:NOUN       Gen:M    Num:S   DEP:root       Sent: Приятелят ни е лекарят.       \n",
      "61 лекарят         POS:NOUN       Gen:M    Num:S   DEP:nmod       Sent: Ангел Иванчев, лекарят, живее тука.\n",
      "63 лекарят         POS:NOUN       Gen:M    Num:S   DEP:conj       Sent: Приятелят ни е Ангел Иванчев, лекарят.\n"
     ]
    }
   ],
   "source": [
    "res = []\n",
    "res.append(inspect_word(row_to_dict(test_set_1, 37), 2))  # Иван, 👉гостът от Сопот, дойде.\n",
    "res.append(inspect_word(row_to_dict(test_set_1, 39), 2))  # Иван е 👉съученикът ми.\n",
    "res.append(inspect_word(row_to_dict(test_set_1, 59), 3))  # Приятелят ни е 👉лекарят.\n",
    "res.append(inspect_word(row_to_dict(test_set_1, 61), 3))  # Ангел Иванчев, 👉лекарят, живее тука.\n",
    "res.append(inspect_word(row_to_dict(test_set_1, 63), 6))  # Приятелят ни е Ангел Иванчев, 👉лекарят.\n",
    "print(\"\\n\".join(res))"
   ]
  },
  {
   "cell_type": "markdown",
   "id": "eafe35db-5c4e-4b47-aa8f-28e3a0a0cd19",
   "metadata": {
    "deletable": true,
    "editable": true,
    "frozen": false,
    "id": "eafe35db-5c4e-4b47-aa8f-28e3a0a0cd19"
   },
   "source": [
    "When we implement the next rules these failures should be fixed. For now let's move them to the list with failed tests. We'll get back to them later."
   ]
  },
  {
   "cell_type": "markdown",
   "id": "747a21d6-7d6d-4893-a5c7-c00680c4496f",
   "metadata": {
    "deletable": true,
    "editable": true,
    "frozen": false,
    "id": "747a21d6-7d6d-4893-a5c7-c00680c4496f"
   },
   "source": [
    "\n",
    "\n"
   ]
  },
  {
   "cell_type": "code",
   "execution_count": null,
   "id": "db3dcac6-716e-47e5-a6ed-fe946190d792",
   "metadata": {
    "deletable": true,
    "editable": true,
    "frozen": false,
    "id": "db3dcac6-716e-47e5-a6ed-fe946190d792"
   },
   "outputs": [],
   "source": [
    "idx_failed = [37, 39, 59, 61, 63]\n",
    "idx_passed = sorted(list(set(idx_passed) - set(idx_failed)))"
   ]
  },
  {
   "cell_type": "markdown",
   "id": "728e1491-2db5-4ef1-981a-8555e1514d53",
   "metadata": {
    "deletable": true,
    "editable": true,
    "frozen": false,
    "id": "728e1491-2db5-4ef1-981a-8555e1514d53"
   },
   "source": [
    "### 6.5 Iteration 3"
   ]
  },
  {
   "cell_type": "markdown",
   "id": "086b1429-7f4e-4778-b66f-9ba6588bb586",
   "metadata": {
    "deletable": true,
    "editable": true,
    "frozen": false,
    "id": "086b1429-7f4e-4778-b66f-9ba6588bb586"
   },
   "source": [
    "#### 6.5.1 Implement Rule3"
   ]
  },
  {
   "cell_type": "markdown",
   "id": "e8b66351-0f31-4b33-a58f-0893d0628ecc",
   "metadata": {
    "deletable": true,
    "editable": true,
    "frozen": false,
    "id": "e8b66351-0f31-4b33-a58f-0893d0628ecc"
   },
   "source": [
    "Rule3 states that adjectives, numerals, participles and possessive pronouns take the same article as the noun they agree with. Let's first implement the rules for adjectives."
   ]
  },
  {
   "cell_type": "code",
   "execution_count": null,
   "id": "fa6ec4a4-fdf5-4030-8b25-077e5c13abfe",
   "metadata": {
    "deletable": true,
    "editable": true,
    "frozen": false,
    "id": "fa6ec4a4-fdf5-4030-8b25-077e5c13abfe"
   },
   "outputs": [],
   "source": [
    "# Пълен член се появява в цялата група на подлога, към която принадлежат неговите определения или приложения. [3]\n",
    "# In adjective-noun phrases, only the adjective takes a definite article ending.\n",
    "def cond_rule3(row_dict, i):\n",
    "    \"\"\"Searches for ADJ/amod + NOUN/nsubj, both masculine/singular\"\"\"\n",
    "    is_token1_adj = nlp_get_pos(row_dict, i) == \"ADJ\"\n",
    "    is_token1_masc_sg = is_masculine_singular(row_dict, i)\n",
    "    is_token1_amod = nlp_get_dep(row_dict, i) == \"amod\"\n",
    "\n",
    "    is_token2_noun = nlp_get_pos(row_dict, i + 1) == \"NOUN\"\n",
    "    is_token2_masc_sg = is_masculine_singular(row_dict, i + 1)\n",
    "    is_token2_nsubj = nlp_get_dep(row_dict, i + 1) == \"nsubj\"\n",
    "\n",
    "    if is_token1_adj and is_token2_noun:\n",
    "        if is_token1_masc_sg and is_token2_masc_sg:\n",
    "            if is_token1_amod and is_token2_nsubj:\n",
    "                return True\n",
    "    return False"
   ]
  },
  {
   "cell_type": "code",
   "execution_count": null,
   "id": "032345fd-199f-42ea-b114-33553f67cde2",
   "metadata": {
    "deletable": true,
    "editable": true,
    "frozen": false,
    "id": "032345fd-199f-42ea-b114-33553f67cde2"
   },
   "outputs": [],
   "source": [
    "def rule3(token1, token2, idx_token):\n",
    "    errors = []\n",
    "\n",
    "    # Дългоочаквания гост\n",
    "    if token1.endswith((\"я\")):  # прилагателното трябва да е с пълен член\n",
    "        errors.append(token1)\n",
    "\n",
    "    # Дългоочакваният гост\n",
    "    if token2.endswith((\"ът\", \"ят\")):  # съществителното трябва да е с непълен член\n",
    "        errors.append(token2)\n",
    "\n",
    "    return errors"
   ]
  },
  {
   "cell_type": "markdown",
   "id": "2048b432-52b5-44a3-b01a-299d7217961c",
   "metadata": {
    "deletable": true,
    "editable": true,
    "frozen": false,
    "id": "2048b432-52b5-44a3-b01a-299d7217961c"
   },
   "source": [
    "#### 6.5.2 Test Rule3"
   ]
  },
  {
   "cell_type": "code",
   "execution_count": null,
   "id": "52b911e9-fd1f-4a51-8256-827088fd8970",
   "metadata": {
    "deletable": true,
    "editable": true,
    "frozen": false,
    "id": "52b911e9-fd1f-4a51-8256-827088fd8970",
    "outputId": "947f818a-829d-478c-c074-25e300ced205"
   },
   "outputs": [
    {
     "name": "stdout",
     "output_type": "stream",
     "text": [
      "34 ✅ Дългоочаквания гост дойде. ('Дългоочаквания' is incorrect)\n",
      "44 ❌ Пешо се оказа най-верния му приятел. (Actual: '', Expected: 'най-верния')\n",
      "46 ❌ Пешо се оказа дарителя на училището. (Actual: '', Expected: 'дарителя')\n",
      "48 ❌ Ученикът на първия чин изглежда най-доволния от всички. (Actual: '', Expected: 'най-доволния')\n",
      "50 ❌ Малкия, заповядай едно бонбонче! (Actual: '', Expected: 'Малкия')\n",
      "58 ❌ Приятеля ни е лекаря. (Actual: 'Приятеля', Expected: 'Приятеля,лекаря')\n",
      "60 ❌ Ангел Иванчев, лекаря, живее тука. (Actual: '', Expected: 'лекаря')\n",
      "62 ❌ Приятеля ни е Ангел Иванчев, лекаря. (Actual: '', Expected: 'Приятеля,лекаря')\n",
      "64 ❌ Той е най-високия и хубав в стаята. (Actual: '', Expected: 'най-високия')\n",
      "66 ❌ Аз живея в новият бял блок. (Actual: '', Expected: 'новият')\n",
      "68 ❌ Високия бял блок е нов. (Actual: '', Expected: 'Високия')\n",
      "72 ❌ Ученикът, а не учителят извика при себе си директорът. (Actual: 'учителят,директорът', Expected: 'Ученикът,учителят')\n",
      "73 ❌ Ученика, а не учителя извика при себе си директорът. (Actual: 'Ученика,директорът', Expected: '')\n",
      "❌ 12/13 failed.\n"
     ]
    }
   ],
   "source": [
    "conditions = [cond_rule1, cond_rule2, cond_rule3]\n",
    "rules = [rule1, rule2, rule3]\n",
    "p, c = test_definite_article_all(test_set_1.loc[idx_current], conditions, rules)"
   ]
  },
  {
   "cell_type": "markdown",
   "id": "7100aa3e-4313-4ae5-a9ca-029bf124fe3d",
   "metadata": {
    "deletable": true,
    "editable": true,
    "frozen": false,
    "id": "7100aa3e-4313-4ae5-a9ca-029bf124fe3d"
   },
   "source": [
    "##### Analyze the test"
   ]
  },
  {
   "cell_type": "code",
   "execution_count": null,
   "id": "6f4640bf-7d57-4188-91c5-f3fda0770e98",
   "metadata": {
    "deletable": true,
    "editable": true,
    "frozen": false,
    "id": "6f4640bf-7d57-4188-91c5-f3fda0770e98",
    "outputId": "1a83ff50-9609-4554-fe91-ee0c0c720f3e"
   },
   "outputs": [
    {
     "name": "stdout",
     "output_type": "stream",
     "text": [
      "44 най-верния      POS:ADJ        Gen:M    Num:S   DEP:amod       Sent: Пешо се оказа най-верния му приятел.\n",
      "46 дарителя        POS:NOUN       Gen:M    Num:S   DEP:obj        Sent: Пешо се оказа дарителя на училището.\n",
      "48 най-доволния    POS:ADJ        Gen:M    Num:S   DEP:obj        Sent: Ученикът на първия чин изглежда най-доволния от всички.\n",
      "50 Малкия          POS:ADJ        Gen:M    Num:S   DEP:vocative   Sent: Малкия, заповядай едно бонбонче!\n",
      "58 Приятеля        POS:NOUN       Gen:M    Num:S   DEP:nsubj      Sent: Приятеля ни е лекаря.         \n",
      "60 лекаря          POS:NOUN       Gen:M    Num:S   DEP:nmod       Sent: Ангел Иванчев, лекаря, живее тука.\n",
      "62 Приятеля        POS:NOUN       Gen:M    Num:S   DEP:root       Sent: Приятеля ни е Ангел Иванчев, лекаря.\n"
     ]
    }
   ],
   "source": [
    "res = []\n",
    "res.append(inspect_word(row_to_dict(test_set_1, 44), 3))  # Пешо се оказа 👉най-верния му приятел.\n",
    "res.append(inspect_word(row_to_dict(test_set_1, 46), 3))  # Пешо се оказа 👉дарителя на училището.\n",
    "res.append(inspect_word(row_to_dict(test_set_1, 48), 5))  # Ученикът на първия чин изглежда 👉най-доволния от всички.\n",
    "res.append(inspect_word(row_to_dict(test_set_1, 50), 0))  # 👉Малкия, заповядай едно бонбонче!\n",
    "res.append(inspect_word(row_to_dict(test_set_1, 58), 0))  # 👉Приятеля ни е 👉лекаря.\n",
    "res.append(inspect_word(row_to_dict(test_set_1, 60), 3))  # Ангел Иванчев, 👉лекаря, живее тука.\n",
    "res.append(inspect_word(row_to_dict(test_set_1, 62), 0))  # 👉Приятеля ни е Ангел Иванчев, 👉лекаря.\n",
    "print(\"\\n\".join(res))"
   ]
  },
  {
   "cell_type": "markdown",
   "id": "af207e60-004c-44e4-84bc-a2f716d2c180",
   "metadata": {
    "deletable": true,
    "editable": true,
    "frozen": false,
    "id": "af207e60-004c-44e4-84bc-a2f716d2c180"
   },
   "source": [
    "* 44 _най-верния_ - should be fixed by Rule4\n",
    "* 46 _дарителя_ - should be fixed by Rule4\n",
    "* 48 _най_доволния_ - should be fixed by Rule4\n",
    "* 50 _Малкия_ - should be fixed by Rule_6\n",
    "* 58 _Приятеля_ on row 58 - should be fixed by Rule_7\n",
    "* 60 _лекаря_ - should be fixed by Rule_7\n",
    "* 62 _Приятеля_ on row 62 - should be fixed by Rule_7"
   ]
  },
  {
   "cell_type": "code",
   "execution_count": null,
   "id": "ef6f6f01-2d40-46a3-b53f-32bcd2ef2938",
   "metadata": {
    "deletable": true,
    "editable": true,
    "frozen": false,
    "id": "ef6f6f01-2d40-46a3-b53f-32bcd2ef2938"
   },
   "outputs": [],
   "source": [
    "# keep the lists with passing and current tests up to date\n",
    "idx_failed = [50, 58, 60, 62]\n",
    "idx_passed = sorted(set(idx_passed + p))\n",
    "idx_passed = sorted(list(set(idx_passed) - set(idx_failed)))\n",
    "idx_current = sorted(list(set(idx_current) - set(p)))\n",
    "idx_current = sorted(list(set(idx_current) - set(idx_failed)))"
   ]
  },
  {
   "cell_type": "markdown",
   "id": "d8d1d148-3f24-4c17-a754-e11c1ff6664d",
   "metadata": {
    "deletable": true,
    "editable": true,
    "frozen": false,
    "id": "d8d1d148-3f24-4c17-a754-e11c1ff6664d"
   },
   "source": [
    "#### 6.5.3 Regression Test"
   ]
  },
  {
   "cell_type": "markdown",
   "id": "57310678-31cd-4edb-836d-50b6914930e5",
   "metadata": {
    "deletable": true,
    "editable": true,
    "frozen": false,
    "id": "57310678-31cd-4edb-836d-50b6914930e5"
   },
   "source": [
    "Ensure that we have not violated Rule 1 and Rule 2:"
   ]
  },
  {
   "cell_type": "code",
   "execution_count": null,
   "id": "bdec3910-5f91-4c68-af5f-264c3bfad583",
   "metadata": {
    "deletable": true,
    "editable": true,
    "frozen": false,
    "id": "bdec3910-5f91-4c68-af5f-264c3bfad583",
    "outputId": "3254dcf6-c7cb-4663-b967-44ced4dba4ef"
   },
   "outputs": [
    {
     "name": "stdout",
     "output_type": "stream",
     "text": [
      "✅ All tests passed\n"
     ]
    }
   ],
   "source": [
    "_ = test_definite_article_all(test_set_1.loc[idx_passed], conditions, rules, print_passed=False)"
   ]
  },
  {
   "cell_type": "markdown",
   "id": "384dcd2b-6a12-4135-a91a-59b77a3b12a2",
   "metadata": {
    "deletable": true,
    "editable": true,
    "frozen": false,
    "id": "384dcd2b-6a12-4135-a91a-59b77a3b12a2"
   },
   "source": [
    "### 6.6 Iteration 4"
   ]
  },
  {
   "cell_type": "markdown",
   "id": "3949a979-ccfb-4971-9027-511bc01de984",
   "metadata": {
    "deletable": true,
    "editable": true,
    "frozen": false,
    "id": "3949a979-ccfb-4971-9027-511bc01de984"
   },
   "source": [
    "#### 6.6.1 Implement Rule4"
   ]
  },
  {
   "cell_type": "markdown",
   "id": "15dea907-9a28-434f-bb10-32994a36c1d7",
   "metadata": {
    "deletable": true,
    "editable": true,
    "frozen": false,
    "id": "15dea907-9a28-434f-bb10-32994a36c1d7"
   },
   "source": [
    "According to Rule4, the full definite article should be used when a noun is after verbs like _съм_, _бъда_, _оказвам се_, _изглеждам_, etc. In order to check the previous verb, we need to check the _lemma_ of the verb."
   ]
  },
  {
   "cell_type": "markdown",
   "id": "7781512d-c745-43a3-b3bf-f1a345545262",
   "metadata": {
    "deletable": true,
    "editable": true,
    "frozen": false,
    "id": "7781512d-c745-43a3-b3bf-f1a345545262"
   },
   "source": [
    "First let's see what the previously failed sentences look like."
   ]
  },
  {
   "cell_type": "code",
   "execution_count": null,
   "id": "d46e149d-c94b-4c39-95c7-b14984cdf20f",
   "metadata": {
    "deletable": true,
    "editable": true,
    "frozen": false,
    "id": "d46e149d-c94b-4c39-95c7-b14984cdf20f",
    "outputId": "e8d9936e-e447-4f36-f706-8114cdbab961"
   },
   "outputs": [
    {
     "name": "stdout",
     "output_type": "stream",
     "text": [
      "Token: Иван            Tag: Npmsi           POS: PROPN      Lemma: иван            Dep: nsubj     \n",
      "Token: е               Tag: Vxitf-r3s       POS: AUX        Lemma: съм             Dep: cop       \n",
      "Token: съученикът      Tag: Ncmsf           POS: NOUN       Lemma: съученик        Dep: root      \n",
      "Token: ми              Tag: Psot--1         POS: PRON       Lemma: аз              Dep: det       \n",
      "Token: .               Tag: punct           POS: PUNCT      Lemma: .               Dep: punct     \n",
      "\n",
      "\n",
      "Token: Пешо            Tag: Npmsi           POS: PROPN      Lemma: пешо            Dep: nsubj     \n",
      "Token: се              Tag: Ppxta           POS: PRON       Lemma: се              Dep: expl      \n",
      "Token: оказа           Tag: Vpptf-o3s       POS: VERB       Lemma: окажа-(се)      Dep: root      \n",
      "Token: най-верния      Tag: Amsh            POS: ADJ        Lemma: верен           Dep: amod      \n",
      "Token: му              Tag: Psot--3--m      POS: PRON       Lemma: мой             Dep: det       \n",
      "Token: приятел         Tag: Ncmsi           POS: NOUN       Lemma: приятел         Dep: obj       \n",
      "Token: .               Tag: punct           POS: PUNCT      Lemma: .               Dep: punct     \n",
      "\n",
      "\n",
      "Token: Пешо            Tag: Npmsi           POS: PROPN      Lemma: пешо            Dep: nsubj     \n",
      "Token: се              Tag: Ppxta           POS: PRON       Lemma: се              Dep: expl      \n",
      "Token: оказа           Tag: Vpptf-o3s       POS: VERB       Lemma: окажа-(се)      Dep: root      \n",
      "Token: дарителя        Tag: Ncmsh           POS: NOUN       Lemma: дарител         Dep: obj       \n",
      "Token: на              Tag: R               POS: ADP        Lemma: на              Dep: case      \n",
      "Token: училището       Tag: Ncnsd           POS: NOUN       Lemma: училище         Dep: nmod      \n",
      "Token: .               Tag: punct           POS: PUNCT      Lemma: .               Dep: punct     \n",
      "\n",
      "\n",
      "Token: Ученикът        Tag: Ncmsf           POS: NOUN       Lemma: ученик          Dep: nsubj     \n",
      "Token: на              Tag: R               POS: ADP        Lemma: на              Dep: case      \n",
      "Token: първия          Tag: Momsh           POS: ADJ        Lemma: пръв            Dep: amod      \n",
      "Token: чин             Tag: Ncmsi           POS: NOUN       Lemma: чин             Dep: nmod      \n",
      "Token: изглежда        Tag: Vpiif-r3s       POS: VERB       Lemma: изглежда        Dep: root      \n",
      "Token: най-доволния    Tag: Amsh            POS: ADJ        Lemma: говолен         Dep: obj       \n",
      "Token: от              Tag: R               POS: ADP        Lemma: от              Dep: case      \n",
      "Token: всички          Tag: Pce-op          POS: PRON       Lemma: всеки           Dep: obl       \n",
      "Token: .               Tag: punct           POS: PUNCT      Lemma: .               Dep: punct     \n",
      "\n",
      "\n"
     ]
    }
   ],
   "source": [
    "inspect_spacy_doc(nlp_st(test_set_1.loc[39, \"text\"]))\n",
    "inspect_spacy_doc(nlp_st(test_set_1.loc[44, \"text\"]))\n",
    "inspect_spacy_doc(nlp_st(test_set_1.loc[46, \"text\"]))\n",
    "inspect_spacy_doc(nlp_st(test_set_1.loc[48, \"text\"]))"
   ]
  },
  {
   "cell_type": "markdown",
   "id": "6fbdc986-53c8-4166-b84a-a3cebf3245f5",
   "metadata": {
    "deletable": true,
    "editable": true,
    "frozen": false,
    "id": "6fbdc986-53c8-4166-b84a-a3cebf3245f5"
   },
   "source": [
    "<img src=\"images/rule4_pattern_new.png\" width=\"800\">"
   ]
  },
  {
   "cell_type": "markdown",
   "id": "614dc031-14d5-467f-bf70-f68aa81114b5",
   "metadata": {
    "deletable": true,
    "editable": true,
    "frozen": false,
    "id": "614dc031-14d5-467f-bf70-f68aa81114b5"
   },
   "source": [
    "The above pattern shows that the first token is a verb (including auxiliary), while the second token is either a noun or an adjective, both of which must be in masculine singular form."
   ]
  },
  {
   "cell_type": "code",
   "execution_count": null,
   "id": "8626cab8-80d0-433a-a7e9-027d7f2df2e9",
   "metadata": {
    "deletable": true,
    "editable": true,
    "frozen": false,
    "id": "8626cab8-80d0-433a-a7e9-027d7f2df2e9"
   },
   "outputs": [],
   "source": [
    "# Пълен е членът и на името, употребено след глаголи като съм, бъда, оказвам се, изглеждам и др. [3]\n",
    "def cond_rule4(row_dict, i):\n",
    "    is_token1_aux = nlp_get_pos(row_dict, i) == \"AUX\"\n",
    "    is_token1_verb = nlp_get_pos(row_dict, i) == \"VERB\"\n",
    "\n",
    "    is_token2_noun = nlp_get_pos(row_dict, i + 1) == \"NOUN\"\n",
    "    is_token2_adj = nlp_get_pos(row_dict, i + 1) == \"ADJ\"\n",
    "    is_token2_masc_sg = is_masculine_singular(row_dict, i + 1)\n",
    "    is_article_indefinite = nlp_get_article(row_dict, i + 1) == \"indefinite\"\n",
    "\n",
    "    is_lemma_aux_syn = False\n",
    "\n",
    "    if is_token2_masc_sg:\n",
    "        if is_token2_noun or (is_token2_adj and not is_article_indefinite):\n",
    "            if is_token1_aux or is_token1_verb:\n",
    "                doc = nlp_st(row_dict[\"text\"])\n",
    "                lemma = doc[i].lemma_\n",
    "                # Винаги след глагола „съм“ или след глаголи, които са с преносна употреба и може да бъдат синоними на\n",
    "                # глагола „съм“ (оказа се, изглежда, казвам се), се пише пълен член (-ът/-ят)\n",
    "                is_lemma_aux_syn = lemma in (\"е\", \"съм\", \"окажа-(се)\", \"изглежда\")\n",
    "                if is_lemma_aux_syn:\n",
    "                    return True\n",
    "    return False"
   ]
  },
  {
   "cell_type": "code",
   "execution_count": null,
   "id": "d75b3d0f-27da-4a8b-9a1c-df016d8c6c67",
   "metadata": {
    "deletable": true,
    "editable": true,
    "frozen": false,
    "id": "d75b3d0f-27da-4a8b-9a1c-df016d8c6c67"
   },
   "outputs": [],
   "source": [
    "def rule4(token1, token2, idx_token):\n",
    "    errors = []\n",
    "\n",
    "    # е        съученикът\n",
    "    # оказа    най_верния\n",
    "    # оказа    дарителя\n",
    "    # изглежда най-доволния\n",
    "    if not token2.endswith((\"ът\", \"ят\")):  # след глагол думата трябва да е с пълен опр. член\n",
    "        errors.append(token2)\n",
    "\n",
    "    return errors"
   ]
  },
  {
   "cell_type": "markdown",
   "id": "ce28d2e4-35ee-4c72-9197-aff38931a51b",
   "metadata": {
    "deletable": true,
    "editable": true,
    "frozen": false,
    "id": "ce28d2e4-35ee-4c72-9197-aff38931a51b"
   },
   "source": [
    "#### 6.6.2 Test Rule4"
   ]
  },
  {
   "cell_type": "code",
   "execution_count": null,
   "id": "6b594291-e2b9-4c7a-b901-b0db615bbe75",
   "metadata": {
    "deletable": true,
    "editable": true,
    "frozen": false,
    "id": "6b594291-e2b9-4c7a-b901-b0db615bbe75",
    "outputId": "30bc9c2f-2833-45c3-b314-432a818bd9fb"
   },
   "outputs": [
    {
     "name": "stdout",
     "output_type": "stream",
     "text": [
      "39 ❌ Иван е съученикът ми. (Actual: 'съученикът', Expected: '')\n",
      "44 ✅ Пешо се оказа най-верния му приятел. ('най-верния' is incorrect)\n",
      "46 ✅ Пешо се оказа дарителя на училището. ('дарителя' is incorrect)\n",
      "48 ✅ Ученикът на първия чин изглежда най-доволния от всички. ('най-доволния' is incorrect)\n",
      "❌ 1/4 failed.\n"
     ]
    }
   ],
   "source": [
    "conditions = [cond_rule1, cond_rule2, cond_rule3, cond_rule4]\n",
    "rules = [rule1, rule2, rule3, rule4]\n",
    "\n",
    "p, c = test_definite_article_all(test_set_1.loc[[39, 44, 46, 48]], conditions, rules)"
   ]
  },
  {
   "cell_type": "markdown",
   "id": "f8beedff-19c9-4034-9c5d-1d6aaa861c8d",
   "metadata": {
    "deletable": true,
    "editable": true,
    "frozen": false,
    "id": "f8beedff-19c9-4034-9c5d-1d6aaa861c8d"
   },
   "source": [
    "##### Analyze"
   ]
  },
  {
   "cell_type": "markdown",
   "id": "e1997e19-fa5f-4567-a3d8-04de5d2ef462",
   "metadata": {
    "deletable": true,
    "editable": true,
    "frozen": false,
    "id": "e1997e19-fa5f-4567-a3d8-04de5d2ef462"
   },
   "source": [
    "We expected row 39 to pass but it is still failing. This is likely due to one of the existing rules. We should run tests on each rule individually to identify which one is causing the issue, specifically the one that returns the word _съученикът_."
   ]
  },
  {
   "cell_type": "code",
   "execution_count": null,
   "id": "6ed83737-7b6a-443f-b6cc-e74573fc365c",
   "metadata": {
    "deletable": true,
    "editable": true,
    "frozen": false,
    "id": "6ed83737-7b6a-443f-b6cc-e74573fc365c",
    "outputId": "8c7299b5-2da6-4b2d-98da-fd91007656a9"
   },
   "outputs": [
    {
     "name": "stdout",
     "output_type": "stream",
     "text": [
      "✅ All tests passed\n"
     ]
    }
   ],
   "source": [
    "p, c = test_definite_article_all(test_set_1.loc[[39]], [cond_rule1], [rule1], print_passed=False)"
   ]
  },
  {
   "cell_type": "code",
   "execution_count": null,
   "id": "e2e3f5d4-5170-421b-9a4c-381fc52008fd",
   "metadata": {
    "deletable": true,
    "editable": true,
    "frozen": false,
    "id": "e2e3f5d4-5170-421b-9a4c-381fc52008fd",
    "outputId": "8233b51e-2399-47c8-b6ee-1dd0e12cbec8"
   },
   "outputs": [
    {
     "name": "stdout",
     "output_type": "stream",
     "text": [
      "39 ❌ Иван е съученикът ми. (Actual: 'съученикът', Expected: '')\n",
      "❌ 1/1 failed.\n"
     ]
    }
   ],
   "source": [
    "p, c = test_definite_article_all(test_set_1.loc[[39]], [cond_rule2], [rule2], print_passed=False)"
   ]
  },
  {
   "cell_type": "markdown",
   "id": "28f63fe2-536b-4b83-8fcd-b97029276ade",
   "metadata": {
    "deletable": true,
    "editable": true,
    "frozen": false,
    "id": "28f63fe2-536b-4b83-8fcd-b97029276ade"
   },
   "source": [
    "Row 39 doesn't pass due to Rule2. In Rule4 we checked whether the previous token was AUX or a VERB, so in Rule2 we need to introduce an exception that specifies the previous token cannot be a VERB or AUX. Otherwise we will have two rules acting on the same pattern."
   ]
  },
  {
   "cell_type": "markdown",
   "id": "5da7bacc-3f9f-4646-bb36-e6d82d40e935",
   "metadata": {
    "deletable": true,
    "editable": true,
    "frozen": false,
    "id": "5da7bacc-3f9f-4646-bb36-e6d82d40e935"
   },
   "source": [
    "#### 6.6.3 Update Rule2 and test again"
   ]
  },
  {
   "cell_type": "code",
   "execution_count": null,
   "id": "7927294d-7fce-4373-91df-186322046539",
   "metadata": {
    "deletable": true,
    "editable": true,
    "frozen": false,
    "id": "7927294d-7fce-4373-91df-186322046539"
   },
   "outputs": [],
   "source": [
    "# keep the old rule if we need to test with it\n",
    "cond_rule2_prev = cond_rule2\n",
    "rule2_prev = rule2\n",
    "\n",
    "\n",
    "def cond_rule2(row_dict, i):\n",
    "    \"\"\"Search for either:\n",
    "        - single, masculine NOUN, not subject, not preceded by a verb\n",
    "        - preceding token is a verb but different from съм, оказвам се, излгежда, etc.\"\"\"\n",
    "    is_token1_noun = nlp_get_pos(row_dict, i) == \"NOUN\"\n",
    "    is_token1_verb = nlp_get_pos(row_dict, i) == \"VERB\"\n",
    "    is_token1_aux = nlp_get_pos(row_dict, i) == \"AUX\"\n",
    "    is_token1_masc_sg = is_masculine_singular(row_dict, i)\n",
    "    is_token1_subj = is_dep_subject(row_dict, i)\n",
    "\n",
    "    is_token2_noun = nlp_get_pos(row_dict, i + 1) == \"NOUN\"\n",
    "    is_token2_subj = is_dep_subject(row_dict, i + 1)\n",
    "    is_token2_masc_sg = is_masculine_singular(row_dict, i + 1)\n",
    "\n",
    "    # if token is masculine single noun and !subj, and the previous token is not a verb\n",
    "    if i == 0 and is_token1_noun and is_token1_masc_sg and not is_token1_subj:\n",
    "        return True\n",
    "\n",
    "    is_like_verb = is_token1_verb or is_token1_aux\n",
    "\n",
    "    if i != 0 and is_token2_noun and is_token2_masc_sg and not is_token2_subj:\n",
    "        lemma = nlp_get_lemma(row_dict, i)\n",
    "\n",
    "        is_lemma_aux_syn = lemma in (\"е\", \"съм\", \"окажа-(се)\", \"изглежда\")\n",
    "        is_non_aux_syn = not is_like_verb or (is_like_verb and not is_lemma_aux_syn)\n",
    "        if is_non_aux_syn:\n",
    "            return True\n",
    "\n",
    "    return False"
   ]
  },
  {
   "cell_type": "code",
   "execution_count": null,
   "id": "561625fc-c0a1-41c0-b34a-7cf42e218b17",
   "metadata": {
    "deletable": true,
    "editable": true,
    "frozen": false,
    "id": "561625fc-c0a1-41c0-b34a-7cf42e218b17"
   },
   "outputs": [],
   "source": [
    "def rule2(token1, token2, token_idx):\n",
    "    errors = []\n",
    "    word = token1 if token_idx == 0 else token2\n",
    "    if word.endswith((\"ът\", \"ят\")):  # objects should not have full article\n",
    "        errors.append(word)\n",
    "\n",
    "    return errors"
   ]
  },
  {
   "cell_type": "markdown",
   "id": "8b6ac6fb-7be7-485c-baf3-4f5b914a350f",
   "metadata": {
    "deletable": true,
    "editable": true,
    "frozen": false,
    "id": "8b6ac6fb-7be7-485c-baf3-4f5b914a350f"
   },
   "source": [
    "First test with a small set:"
   ]
  },
  {
   "cell_type": "code",
   "execution_count": null,
   "id": "23e35011-342f-42c3-80f6-5106daf029a3",
   "metadata": {
    "deletable": true,
    "editable": true,
    "frozen": false,
    "id": "23e35011-342f-42c3-80f6-5106daf029a3",
    "outputId": "6cdaa97d-9add-48c7-d7ad-3b6327e8e47f"
   },
   "outputs": [
    {
     "name": "stdout",
     "output_type": "stream",
     "text": [
      "39 ✅ Иван е съученикът ми. (The sentence is correct)\n",
      "44 ✅ Пешо се оказа най-верния му приятел. ('най-верния' is incorrect)\n",
      "46 ✅ Пешо се оказа дарителя на училището. ('дарителя' is incorrect)\n",
      "48 ✅ Ученикът на първия чин изглежда най-доволния от всички. ('най-доволния' is incorrect)\n",
      "✅ All tests passed\n"
     ]
    }
   ],
   "source": [
    "conditions = [cond_rule1, cond_rule2, cond_rule3, cond_rule4]\n",
    "rules = [rule1, rule2, rule3, rule4]\n",
    "p, c = test_definite_article_all(test_set_1.loc[[39, 44, 46, 48]], conditions, rules)"
   ]
  },
  {
   "cell_type": "markdown",
   "id": "6c687298-7116-4780-a276-b4e86be0f468",
   "metadata": {
    "deletable": true,
    "editable": true,
    "frozen": false,
    "id": "6c687298-7116-4780-a276-b4e86be0f468"
   },
   "source": [
    "Next test with the remaining rows:"
   ]
  },
  {
   "cell_type": "code",
   "execution_count": null,
   "id": "4de0c865-e752-4f96-8b93-a653d1c6a9c0",
   "metadata": {
    "deletable": true,
    "editable": true,
    "frozen": false,
    "id": "4de0c865-e752-4f96-8b93-a653d1c6a9c0",
    "outputId": "b1cd574b-8ef7-4519-fe9c-cb5f95e58ace"
   },
   "outputs": [
    {
     "name": "stdout",
     "output_type": "stream",
     "text": [
      "44 ✅ Пешо се оказа най-верния му приятел. ('най-верния' is incorrect)\n",
      "46 ✅ Пешо се оказа дарителя на училището. ('дарителя' is incorrect)\n",
      "48 ✅ Ученикът на първия чин изглежда най-доволния от всички. ('най-доволния' is incorrect)\n",
      "64 ✅ Той е най-високия и хубав в стаята. ('най-високия' is incorrect)\n",
      "66 ❌ Аз живея в новият бял блок. (Actual: '', Expected: 'новият')\n",
      "68 ❌ Високия бял блок е нов. (Actual: '', Expected: 'Високия')\n",
      "72 ❌ Ученикът, а не учителят извика при себе си директорът. (Actual: 'учителят,директорът', Expected: 'Ученикът,учителят')\n",
      "73 ❌ Ученика, а не учителя извика при себе си директорът. (Actual: 'Ученика,директорът', Expected: '')\n",
      "❌ 4/8 failed.\n"
     ]
    }
   ],
   "source": [
    "p, c = test_definite_article_all(test_set_1.loc[idx_current], conditions, rules)"
   ]
  },
  {
   "cell_type": "markdown",
   "id": "b10c7efd-bcc3-4a9d-aecf-c27b4b80d5c4",
   "metadata": {
    "deletable": true,
    "editable": true,
    "frozen": false,
    "id": "b10c7efd-bcc3-4a9d-aecf-c27b4b80d5c4"
   },
   "source": [
    "##### Analyze the remaining failures"
   ]
  },
  {
   "cell_type": "code",
   "execution_count": null,
   "id": "54bac706-f3df-4550-abc9-6a2e721bddb3",
   "metadata": {
    "deletable": true,
    "editable": true,
    "frozen": false,
    "id": "54bac706-f3df-4550-abc9-6a2e721bddb3",
    "outputId": "b198c667-fc24-4da8-92ad-62ca7639dafc"
   },
   "outputs": [
    {
     "name": "stdout",
     "output_type": "stream",
     "text": [
      "Token: Аз              Tag: Ppe-os1         POS: PRON       Lemma: аз              Dep: nsubj     \n",
      "Token: живея           Tag: Vpitf-r1s       POS: VERB       Lemma: живея           Dep: root      \n",
      "Token: в               Tag: R               POS: ADP        Lemma: в               Dep: case      \n",
      "Token: новият          Tag: Amsf            POS: ADJ        Lemma: нов             Dep: amod      \n",
      "Token: бял             Tag: Amsi            POS: ADJ        Lemma: бял             Dep: amod      \n",
      "Token: блок            Tag: Ncmsi           POS: NOUN       Lemma: блок            Dep: iobj      \n",
      "Token: .               Tag: punct           POS: PUNCT      Lemma: .               Dep: punct     \n",
      "\n",
      "\n",
      "Token: Високия         Tag: Amsh            POS: ADJ        Lemma: висок           Dep: amod      \n",
      "Token: бял             Tag: Amsi            POS: ADJ        Lemma: бял             Dep: amod      \n",
      "Token: блок            Tag: Ncmsi           POS: NOUN       Lemma: блок            Dep: nsubj     \n",
      "Token: е               Tag: Vxitf-r3s       POS: AUX        Lemma: съм             Dep: cop       \n",
      "Token: нов             Tag: Amsi            POS: ADJ        Lemma: нов             Dep: root      \n",
      "Token: .               Tag: punct           POS: PUNCT      Lemma: .               Dep: punct     \n",
      "\n",
      "\n"
     ]
    }
   ],
   "source": [
    "inspect_spacy_doc(nlp_st(test_set_1.loc[66, \"text\"]))\n",
    "inspect_spacy_doc(nlp_st(test_set_1.loc[68, \"text\"]))"
   ]
  },
  {
   "cell_type": "markdown",
   "id": "793ab3de-808c-4e4a-8652-2714a192a979",
   "metadata": {
    "deletable": true,
    "editable": true,
    "frozen": false,
    "id": "793ab3de-808c-4e4a-8652-2714a192a979"
   },
   "source": [
    "* 66 _новият бял блок_ and 68 _Високия бял блок_ - the pattern ADJ/ADJ/NOUN points to Rule5.\n",
    "* 72 and 73 depend on the order of words. We don't know who is the doer of the action in those sentences. Let's postpone fixing them for now."
   ]
  },
  {
   "cell_type": "code",
   "execution_count": null,
   "id": "172bb6b4-3a03-4560-985e-af3f5bdf1eb6",
   "metadata": {
    "deletable": true,
    "editable": true,
    "frozen": false,
    "id": "172bb6b4-3a03-4560-985e-af3f5bdf1eb6"
   },
   "outputs": [],
   "source": [
    "idx_failed = [72, 73]\n",
    "idx_passed = sorted(set(idx_passed + p))\n",
    "idx_passed = sorted(list(set(idx_passed) - set(idx_failed)))\n",
    "idx_current = sorted(list(set(idx_current) - set(p)))\n",
    "idx_current = sorted(list(set(idx_current) - set(idx_failed)))"
   ]
  },
  {
   "cell_type": "markdown",
   "id": "9d9a18aa-00fe-47af-94b2-1d45fdd9970e",
   "metadata": {
    "deletable": true,
    "editable": true,
    "frozen": false,
    "id": "9d9a18aa-00fe-47af-94b2-1d45fdd9970e"
   },
   "source": [
    "#### 6.6.4 Regression Test"
   ]
  },
  {
   "cell_type": "code",
   "execution_count": null,
   "id": "ba32b45a-c40e-4ada-925e-69acb82d39b7",
   "metadata": {
    "deletable": true,
    "editable": true,
    "frozen": false,
    "id": "ba32b45a-c40e-4ada-925e-69acb82d39b7",
    "outputId": "14b8e030-cae5-4598-a97c-e41fe963c9f6"
   },
   "outputs": [
    {
     "name": "stdout",
     "output_type": "stream",
     "text": [
      "✅ All tests passed\n"
     ]
    }
   ],
   "source": [
    "_ = test_definite_article_all(test_set_1.loc[idx_passed], conditions, rules, print_passed=False)"
   ]
  },
  {
   "cell_type": "markdown",
   "id": "c8bd7763-94eb-4cc3-a8e2-247eb012e950",
   "metadata": {
    "deletable": true,
    "editable": true,
    "frozen": false,
    "id": "c8bd7763-94eb-4cc3-a8e2-247eb012e950"
   },
   "source": [
    "### 6.7 Iteration 5"
   ]
  },
  {
   "cell_type": "markdown",
   "id": "441deff4-7730-41c5-9edb-cdfa5f61aa98",
   "metadata": {
    "deletable": true,
    "editable": true,
    "frozen": false,
    "id": "441deff4-7730-41c5-9edb-cdfa5f61aa98"
   },
   "source": [
    "#### 6.7.1 Implement Rule5"
   ]
  },
  {
   "cell_type": "markdown",
   "id": "affb458b-66c8-467d-8243-eca3b6200482",
   "metadata": {
    "deletable": true,
    "editable": true,
    "frozen": false,
    "id": "affb458b-66c8-467d-8243-eca3b6200482"
   },
   "source": [
    "Rule5 says that when there are two or more adjectives in front of the noun, only the first adjective takes the definite article, which could be short or long. In the example with rows 66 and 68 which were analyzed in the previous section, we see that the two phrases _новият бял блок_ and _високия бял блок_ which are identical from grammatical standpoint, cannot be distinguished just by looking at their part of speech. We need to also analyze their relation to the entire sentence. The difference here is that in the first case Stanza correctly determined the noun _блок_ as an indirect object, therefore requiring the short form of the definite article, and the same word in the second sentence as nominal subject, requiring full definite article."
   ]
  },
  {
   "cell_type": "markdown",
   "id": "7b55fd73-6791-4143-a0a7-22ae6f097806",
   "metadata": {
    "deletable": true,
    "editable": true,
    "frozen": false,
    "id": "7b55fd73-6791-4143-a0a7-22ae6f097806"
   },
   "source": [
    "<img src=\"images/rule7_pattern_new.png\" width=\"650\">"
   ]
  },
  {
   "cell_type": "markdown",
   "id": "a2bf7c6a-04c6-4192-b636-fd202cf038ca",
   "metadata": {
    "deletable": true,
    "editable": true,
    "frozen": false,
    "id": "a2bf7c6a-04c6-4192-b636-fd202cf038ca"
   },
   "source": [
    "Although we expressed the condition verbally as one rule, we need to create two sets of functions for the cases of short and long definite article."
   ]
  },
  {
   "cell_type": "code",
   "execution_count": null,
   "id": "e316a49b-5c42-45e7-a93f-cb862711546c",
   "metadata": {
    "deletable": true,
    "editable": true,
    "frozen": false,
    "id": "e316a49b-5c42-45e7-a93f-cb862711546c"
   },
   "outputs": [],
   "source": [
    "# The adjectives, as well as the pronouns, the ordinal numerals etc., used as attributes in the sentence\n",
    "# are usually placed in front of the nouns they qualify. In this case, the definite article, if needed,\n",
    "# is joined to the _first_ attribute of the noun phrase. [4],[5]\n",
    "def cond_rule5_helper(row_dict, i):\n",
    "    \"\"\"\n",
    "    POS: ADJ / ADJ / NOUN iobj,  all masc. singular -> first ADJ must have def. art. short form\n",
    "    - or -\n",
    "    POS: ADJ / ADJ / NOUN nsubj, all masc. singular -> first ADJ must have def. art. long form\n",
    "    \"\"\"\n",
    "    if i >= row_dict[\"num_tokens\"] - 2:\n",
    "        return False\n",
    "\n",
    "    is_token1_masc_sg = is_masculine_singular(row_dict, i)\n",
    "    is_token1_adj = nlp_get_pos(row_dict, i) == \"ADJ\"\n",
    "\n",
    "    is_token2_masc_sg = is_masculine_singular(row_dict, i + 1)\n",
    "    is_token2_adj = nlp_get_pos(row_dict, i + 1) == \"ADJ\"\n",
    "\n",
    "    is_token3_masc_sg = is_masculine_singular(row_dict, i + 2)\n",
    "    is_token3_noun = nlp_get_pos(row_dict, i + 2) == \"NOUN\"\n",
    "\n",
    "    if is_token1_masc_sg and is_token2_masc_sg and is_token3_masc_sg:\n",
    "        if is_token1_adj and is_token2_adj and is_token3_noun:\n",
    "            return True\n",
    "\n",
    "    return False"
   ]
  },
  {
   "cell_type": "code",
   "execution_count": null,
   "id": "a596790c-ae3d-4097-965b-a7cce11ac7df",
   "metadata": {
    "deletable": true,
    "editable": true,
    "frozen": false,
    "id": "a596790c-ae3d-4097-965b-a7cce11ac7df"
   },
   "outputs": [],
   "source": [
    "def cond_rule5_short(row_dict, i):\n",
    "    if cond_rule5_helper(row_dict, i):\n",
    "        noun_dep = nlp_get_dep(row_dict, i + 2)\n",
    "        if noun_dep in (\"iobj\"):\n",
    "            return True\n",
    "\n",
    "    return False"
   ]
  },
  {
   "cell_type": "code",
   "execution_count": null,
   "id": "937162e9-19a2-448f-b6e8-34180d1eac97",
   "metadata": {
    "deletable": true,
    "editable": true,
    "frozen": false,
    "id": "937162e9-19a2-448f-b6e8-34180d1eac97"
   },
   "outputs": [],
   "source": [
    "def cond_rule5_long(row_dict, i):\n",
    "    if cond_rule5_helper(row_dict, i):\n",
    "        noun_dep = nlp_get_dep(row_dict, i + 2)\n",
    "        if noun_dep in (\"nsubj\"):\n",
    "            return True\n",
    "\n",
    "    return False"
   ]
  },
  {
   "cell_type": "code",
   "execution_count": null,
   "id": "b3e3e8b9-5128-4bf5-80d9-d41c5f74a6db",
   "metadata": {
    "deletable": true,
    "editable": true,
    "frozen": false,
    "id": "b3e3e8b9-5128-4bf5-80d9-d41c5f74a6db"
   },
   "outputs": [],
   "source": [
    "def rule5_short(token1, token2, token_idx):\n",
    "    errors = []\n",
    "\n",
    "    # Аз живея в новият бял блок.\n",
    "    if not token1.endswith((\"я\")):  # първото прилагателно в групата трябва да е с непълен член\n",
    "        errors.append(token1)\n",
    "\n",
    "    return errors"
   ]
  },
  {
   "cell_type": "code",
   "execution_count": null,
   "id": "f41f9005-a53e-4edb-b448-77ba560c7956",
   "metadata": {
    "deletable": true,
    "editable": true,
    "frozen": false,
    "id": "f41f9005-a53e-4edb-b448-77ba560c7956"
   },
   "outputs": [],
   "source": [
    "def rule5_long(token1, token2, token_idx):\n",
    "    errors = []\n",
    "\n",
    "    # Високия бял блок е нов.\n",
    "    if not token1.endswith((\"ят\")):  # първото прилагателно в групата трябва да е с пълен член\n",
    "        errors.append(token1)\n",
    "\n",
    "    return errors"
   ]
  },
  {
   "cell_type": "markdown",
   "id": "cbbbe7b1-4118-413d-a1bd-fd3858c74f9f",
   "metadata": {
    "deletable": true,
    "editable": true,
    "frozen": false,
    "id": "cbbbe7b1-4118-413d-a1bd-fd3858c74f9f"
   },
   "source": [
    "#### 6.7.2 Test Rule5"
   ]
  },
  {
   "cell_type": "code",
   "execution_count": null,
   "id": "25787732-5233-40c0-b9bd-dbaf507438df",
   "metadata": {
    "deletable": true,
    "editable": true,
    "frozen": false,
    "id": "25787732-5233-40c0-b9bd-dbaf507438df",
    "outputId": "ec949f3c-d075-49db-f296-a8998e529270"
   },
   "outputs": [
    {
     "name": "stdout",
     "output_type": "stream",
     "text": [
      "66 ✅ Аз живея в новият бял блок. ('новият' is incorrect)\n",
      "68 ✅ Високия бял блок е нов. ('Високия' is incorrect)\n",
      "✅ All tests passed\n"
     ]
    }
   ],
   "source": [
    "conditions = [cond_rule1, cond_rule2, cond_rule3, cond_rule4, cond_rule5_short, cond_rule5_long]\n",
    "rules = [rule1, rule2, rule3, rule4, rule5_short, rule5_long]\n",
    "p, c = test_definite_article_all(test_set_1.loc[idx_current], conditions, rules)"
   ]
  },
  {
   "cell_type": "markdown",
   "id": "e37e9381-f131-48d7-b871-f6ef8134ceb7",
   "metadata": {
    "deletable": true,
    "editable": true,
    "frozen": false,
    "id": "e37e9381-f131-48d7-b871-f6ef8134ceb7"
   },
   "source": [
    "#### 6.7.3 Regression test"
   ]
  },
  {
   "cell_type": "code",
   "execution_count": null,
   "id": "c59c5021-73f3-4796-8675-05cc35093491",
   "metadata": {
    "deletable": true,
    "editable": true,
    "frozen": false,
    "id": "c59c5021-73f3-4796-8675-05cc35093491",
    "outputId": "89237def-dca0-4e77-91aa-e344d6f13eb7"
   },
   "outputs": [
    {
     "name": "stdout",
     "output_type": "stream",
     "text": [
      "✅ All tests passed\n"
     ]
    }
   ],
   "source": [
    "_ = test_definite_article_all(test_set_1.loc[idx_passed], conditions, rules, print_passed=False)"
   ]
  },
  {
   "cell_type": "markdown",
   "id": "115df14d-efba-4b5c-aac2-d803e5d950ae",
   "metadata": {
    "deletable": true,
    "editable": true,
    "frozen": false,
    "id": "115df14d-efba-4b5c-aac2-d803e5d950ae"
   },
   "source": [
    "#### 6.7.4 Final test with the whole set"
   ]
  },
  {
   "cell_type": "code",
   "execution_count": null,
   "id": "3a732e00-9683-4212-b2a6-dae09239d655",
   "metadata": {
    "deletable": true,
    "editable": true,
    "frozen": false,
    "id": "3a732e00-9683-4212-b2a6-dae09239d655",
    "outputId": "26d93340-0007-4093-f7b1-ded57d34d0cd"
   },
   "outputs": [
    {
     "name": "stdout",
     "output_type": "stream",
     "text": [
      "0 ✅ Ключа е на масата. ('Ключа' is incorrect)\n",
      "1 ✅ Ключът е на масата. (The sentence is correct)\n",
      "2 ✅ Царя пие вино. ('Царя' is incorrect)\n",
      "3 ✅ Царят пие вино. (The sentence is correct)\n",
      "4 ✅ Ученика е умен и трудолюбив. ('Ученика' is incorrect)\n",
      "5 ✅ Ученикът е умен и трудолюбив. (The sentence is correct)\n",
      "6 ✅ Приятеля ми е в чужбина. ('Приятеля' is incorrect)\n",
      "7 ✅ Приятелят ми е в чужбина. (The sentence is correct)\n",
      "8 ✅ Госта пристигна. ('Госта' is incorrect)\n",
      "9 ✅ Гостът пристигна. (The sentence is correct)\n",
      "10 ❌ Готвача приготви обяда. (Actual: '', Expected: 'Готвача')\n",
      "11 ✅ Готвачът приготви обяда. (The sentence is correct)\n",
      "12 ✅ Влака спря на гара София. ('Влака' is incorrect)\n",
      "13 ✅ Влакът спря на гара София. (The sentence is correct)\n",
      "14 ✅ Учителя говореше за Стефан Стамболов. ('Учителя' is incorrect)\n",
      "15 ✅ Учителят говореше за Стефан Стамболов. (The sentence is correct)\n",
      "16 ❌ Таня търси лекарят. (Actual: '', Expected: 'лекарят')\n",
      "17 ✅ Таня търси лекаря. (The sentence is correct)\n",
      "18 ✅ Говорим за лекарят. ('лекарят' is incorrect)\n",
      "19 ✅ Говорим за лекаря. (The sentence is correct)\n",
      "20 ✅ Таня търси Ангел Иванчев, лекарят. ('лекарят' is incorrect)\n",
      "21 ✅ Таня търси Ангел Иванчев, лекаря. (The sentence is correct)\n",
      "22 ✅ Говорим за Ангел Иванчев, лекарят. ('лекарят' is incorrect)\n",
      "23 ✅ Говорим за Ангел Иванчев, лекаря. (The sentence is correct)\n",
      "24 ✅ Той ми даде ключът от къщата. ('ключът' is incorrect)\n",
      "25 ✅ Той ми даде ключа от къщата. (The sentence is correct)\n",
      "26 ❌ Принца говори с царят. (Actual: 'царят', Expected: 'Принца,царят')\n",
      "27 ✅ Принцът говори с царя. (The sentence is correct)\n",
      "28 ✅ Аз помагам на ученикът. ('ученикът' is incorrect)\n",
      "29 ✅ Аз помагам на ученика. (The sentence is correct)\n",
      "30 ✅ Много пътници слязоха от влакът. ('влакът' is incorrect)\n",
      "31 ✅ Много пътници слязоха от влака. (The sentence is correct)\n",
      "32 ✅ Слушахме с интерес учителят. ('учителят' is incorrect)\n",
      "33 ✅ Слушахме с интерес учителя. (The sentence is correct)\n",
      "34 ✅ Дългоочаквания гост дойде. ('Дългоочаквания' is incorrect)\n",
      "35 ✅ Дългоочакваният гост дойде. (The sentence is correct)\n",
      "36 ❌ Иван, госта от Сопот, дойде. (Actual: '', Expected: 'госта')\n",
      "37 ❌ Иван, гостът от Сопот, дойде. (Actual: 'гостът', Expected: '')\n",
      "38 ✅ Иван е съученика ми. ('съученика' is incorrect)\n",
      "39 ✅ Иван е съученикът ми. (The sentence is correct)\n",
      "40 ✅ Иван е добрия. ('добрия' is incorrect)\n",
      "41 ✅ Иван е добрият. (The sentence is correct)\n",
      "42 ❌ Иван е успелия. (Actual: '', Expected: 'успелия')\n",
      "43 ✅ Иван е успелият. (The sentence is correct)\n",
      "44 ✅ Пешо се оказа най-верния му приятел. ('най-верния' is incorrect)\n",
      "45 ✅ Пешо се оказа най-верният му приятел. (The sentence is correct)\n",
      "46 ✅ Пешо се оказа дарителя на училището. ('дарителя' is incorrect)\n",
      "47 ✅ Пешо се оказа дарителят на училището. (The sentence is correct)\n",
      "48 ✅ Ученикът на първия чин изглежда най-доволния от всички. ('най-доволния' is incorrect)\n",
      "49 ✅ Ученикът на първия чин изглежда най-доволният от всички. (The sentence is correct)\n",
      "50 ❌ Малкия, заповядай едно бонбонче! (Actual: '', Expected: 'Малкия')\n",
      "51 ✅ Малкият, заповядай едно бонбонче! (The sentence is correct)\n",
      "52 ✅ Потребителя се регистрира успешно. ('Потребителя' is incorrect)\n",
      "53 ✅ Потребителят се регистрира успешно. (The sentence is correct)\n",
      "54 ✅ Обадих се на ръководителят. ('ръководителят' is incorrect)\n",
      "55 ✅ Обадих се на ръководителя. (The sentence is correct)\n",
      "56 ✅ Лекаря живее тука. ('Лекаря' is incorrect)\n",
      "57 ✅ Лекарят живее тука. (The sentence is correct)\n",
      "58 ✅ Приятеля ни е лекаря. ('Приятеля,лекаря' is incorrect)\n",
      "59 ✅ Приятелят ни е лекарят. (The sentence is correct)\n",
      "60 ❌ Ангел Иванчев, лекаря, живее тука. (Actual: '', Expected: 'лекаря')\n",
      "61 ❌ Ангел Иванчев, лекарят, живее тука. (Actual: 'лекарят', Expected: '')\n",
      "62 ❌ Приятеля ни е Ангел Иванчев, лекаря. (Actual: '', Expected: 'Приятеля,лекаря')\n",
      "63 ❌ Приятелят ни е Ангел Иванчев, лекарят. (Actual: 'Приятелят,лекарят', Expected: '')\n",
      "64 ✅ Той е най-високия и хубав в стаята. ('най-високия' is incorrect)\n",
      "65 ✅ Той е най-високият и хубав в стаята. (The sentence is correct)\n",
      "66 ✅ Аз живея в новият бял блок. ('новият' is incorrect)\n",
      "67 ✅ Аз живея в новия бял блок. (The sentence is correct)\n",
      "68 ✅ Високия бял блок е нов. ('Високия' is incorrect)\n",
      "69 ✅ Високият бял блок е нов. (The sentence is correct)\n",
      "70 ✅ Телевизора е поправен от новия техник. ('Телевизора' is incorrect)\n",
      "71 ✅ Телевизорът е поправен от новия техник. (The sentence is correct)\n",
      "72 ❌ Ученикът, а не учителят извика при себе си директорът. (Actual: 'учителят,директорът', Expected: 'Ученикът,учителят')\n",
      "73 ❌ Ученика, а не учителя извика при себе си директорът. (Actual: 'Ученика,директорът', Expected: '')\n",
      "74 ✅ Заекът видя сокола. (The sentence is correct)\n",
      "75 ✅ Заекът видя сокола. (The sentence is correct)\n",
      "76 ✅ Заека видя соколът. (The sentence is correct)\n",
      "77 ✅ Заека видя соколът. (The sentence is correct)\n",
      "❌ 13/78 failed.\n"
     ]
    }
   ],
   "source": [
    "_ = test_definite_article_all(test_set_1, conditions, rules)"
   ]
  },
  {
   "cell_type": "markdown",
   "id": "e13be08b-5515-4b1c-9b8c-5f6b8f0f8ae6",
   "metadata": {
    "deletable": true,
    "editable": true,
    "frozen": false,
    "id": "e13be08b-5515-4b1c-9b8c-5f6b8f0f8ae6"
   },
   "source": [
    "We didn't predict correctly the usage of the definite article in 13 out of the 78 sentences. In some cases it is due to the NLP tag being incorrect, for example the case where the gender of the noun was tagged wrongly by Stanza. In other case it was because we still haven't implemented Rule7."
   ]
  },
  {
   "cell_type": "markdown",
   "id": "36bf6623-44ee-4504-b851-7d313ec210f3",
   "metadata": {
    "deletable": true,
    "editable": true,
    "frozen": false,
    "id": "36bf6623-44ee-4504-b851-7d313ec210f3"
   },
   "source": [
    "## 7 Test with real data"
   ]
  },
  {
   "cell_type": "markdown",
   "id": "94a1131c-38d5-4f91-b53e-a31042c11d7e",
   "metadata": {
    "deletable": true,
    "editable": true,
    "frozen": false,
    "id": "94a1131c-38d5-4f91-b53e-a31042c11d7e"
   },
   "source": [
    "We've initially evaluated our rules using brief, uncomplicated sentences. These were intentionally kept short to clearly demonstrate each specific rule. However, real-world language usage typically involves lengthier and more intricate sentences. It's now necessary to apply our rules to authentic texts to assess their effectiveness."
   ]
  },
  {
   "cell_type": "markdown",
   "id": "cbf148ad-a02c-4501-9aa6-c8d7290aa0a8",
   "metadata": {
    "deletable": true,
    "editable": true,
    "frozen": false,
    "id": "cbf148ad-a02c-4501-9aa6-c8d7290aa0a8"
   },
   "source": [
    "We will work with the dataset [bulgarian-grammar-mistakes](https://huggingface.co/datasets/thebogko/bulgarian-grammar-mistakes) from huggingface. The data was originally collected from articles from Bulgarian Wikipedia as well as rows from OSCAR's Bulgarian datasets."
   ]
  },
  {
   "cell_type": "markdown",
   "id": "99bcc32a-5f12-459a-ab59-ba2af4b805f6",
   "metadata": {
    "deletable": true,
    "editable": true,
    "frozen": false,
    "id": "99bcc32a-5f12-459a-ab59-ba2af4b805f6"
   },
   "source": [
    "### 7.1 Load and prepare the dataset"
   ]
  },
  {
   "cell_type": "code",
   "execution_count": null,
   "id": "c506fd73-d949-4abb-84dd-258304611a87",
   "metadata": {
    "deletable": true,
    "editable": true,
    "frozen": false,
    "id": "c506fd73-d949-4abb-84dd-258304611a87"
   },
   "outputs": [],
   "source": [
    "grammar_errors = pd.read_csv(\"data/grammar_errors_original.csv\")"
   ]
  },
  {
   "cell_type": "code",
   "execution_count": null,
   "id": "60cac664-961b-4e3b-9245-1047c7d5492f",
   "metadata": {
    "deletable": true,
    "editable": true,
    "frozen": false,
    "id": "60cac664-961b-4e3b-9245-1047c7d5492f",
    "outputId": "336d560f-ded5-4211-f0c5-daf528d77834"
   },
   "outputs": [
    {
     "data": {
      "text/plain": [
       "(7587, 3)"
      ]
     },
     "execution_count": 84,
     "metadata": {},
     "output_type": "execute_result"
    }
   ],
   "source": [
    "grammar_errors.shape"
   ]
  },
  {
   "cell_type": "code",
   "execution_count": null,
   "id": "50fece92-6419-4123-825d-41c01d42fbce",
   "metadata": {
    "deletable": true,
    "editable": true,
    "frozen": false,
    "id": "50fece92-6419-4123-825d-41c01d42fbce",
    "outputId": "f6809c2a-3e26-47b7-fcde-e70e1dddcfe8"
   },
   "outputs": [
    {
     "data": {
      "text/html": [
       "<div>\n",
       "<style scoped>\n",
       "    .dataframe tbody tr th:only-of-type {\n",
       "        vertical-align: middle;\n",
       "    }\n",
       "\n",
       "    .dataframe tbody tr th {\n",
       "        vertical-align: top;\n",
       "    }\n",
       "\n",
       "    .dataframe thead th {\n",
       "        text-align: right;\n",
       "    }\n",
       "</style>\n",
       "<table border=\"1\" class=\"dataframe\">\n",
       "  <thead>\n",
       "    <tr style=\"text-align: right;\">\n",
       "      <th></th>\n",
       "      <th>error_type</th>\n",
       "      <th>erroneous</th>\n",
       "      <th>correct</th>\n",
       "    </tr>\n",
       "  </thead>\n",
       "  <tbody>\n",
       "    <tr>\n",
       "      <th>0</th>\n",
       "      <td>article_misuse</td>\n",
       "      <td>От какво беше направен входа на двора на скини...</td>\n",
       "      <td>От какво беше направен входът на двора на скин...</td>\n",
       "    </tr>\n",
       "    <tr>\n",
       "      <th>1</th>\n",
       "      <td>article_misuse</td>\n",
       "      <td>Танева е предупредила, че документа ще се отра...</td>\n",
       "      <td>Танева е предупредила, че документът ще се отр...</td>\n",
       "    </tr>\n",
       "    <tr>\n",
       "      <th>2</th>\n",
       "      <td>article_misuse</td>\n",
       "      <td>Патогенетичният механизъм на развитието на хип...</td>\n",
       "      <td>Патогенетичният механизъм на развитието на хип...</td>\n",
       "    </tr>\n",
       "    <tr>\n",
       "      <th>3</th>\n",
       "      <td>article_misuse</td>\n",
       "      <td>Президента и БСП осъдиха екстремизма и езика н...</td>\n",
       "      <td>Президентът и БСП осъдиха екстремизма и езика ...</td>\n",
       "    </tr>\n",
       "    <tr>\n",
       "      <th>4</th>\n",
       "      <td>article_misuse</td>\n",
       "      <td>Под дарението стоят името и подписа на просвет...</td>\n",
       "      <td>Под дарението стоят името и подписът на просве...</td>\n",
       "    </tr>\n",
       "  </tbody>\n",
       "</table>\n",
       "</div>"
      ],
      "text/plain": [
       "       error_type                                          erroneous  \\\n",
       "0  article_misuse  От какво беше направен входа на двора на скини...   \n",
       "1  article_misuse  Танева е предупредила, че документа ще се отра...   \n",
       "2  article_misuse  Патогенетичният механизъм на развитието на хип...   \n",
       "3  article_misuse  Президента и БСП осъдиха екстремизма и езика н...   \n",
       "4  article_misuse  Под дарението стоят името и подписа на просвет...   \n",
       "\n",
       "                                             correct  \n",
       "0  От какво беше направен входът на двора на скин...  \n",
       "1  Танева е предупредила, че документът ще се отр...  \n",
       "2  Патогенетичният механизъм на развитието на хип...  \n",
       "3  Президентът и БСП осъдиха екстремизма и езика ...  \n",
       "4  Под дарението стоят името и подписът на просве...  "
      ]
     },
     "execution_count": 85,
     "metadata": {},
     "output_type": "execute_result"
    }
   ],
   "source": [
    "grammar_errors.head(5)"
   ]
  },
  {
   "cell_type": "markdown",
   "id": "b92bf35e-7202-4a3c-9dd9-0928723ccd3b",
   "metadata": {
    "deletable": true,
    "editable": true,
    "frozen": false,
    "id": "b92bf35e-7202-4a3c-9dd9-0928723ccd3b"
   },
   "source": [
    "#### 7.1.1 Filter only errors related to article misuse:"
   ]
  },
  {
   "cell_type": "code",
   "execution_count": null,
   "id": "508388a9-0423-4788-ab69-c087c335ddd8",
   "metadata": {
    "deletable": true,
    "editable": true,
    "frozen": false,
    "id": "508388a9-0423-4788-ab69-c087c335ddd8",
    "outputId": "56bc50a9-c555-460d-e0fe-ff485b9eaa64"
   },
   "outputs": [
    {
     "data": {
      "text/plain": [
       "array(['article_misuse', 'pronoun_misuse', 'incorrect_verb_suffix_me',\n",
       "       'noun_adjective_disagreement'], dtype=object)"
      ]
     },
     "execution_count": 86,
     "metadata": {},
     "output_type": "execute_result"
    }
   ],
   "source": [
    "grammar_errors.error_type.unique()"
   ]
  },
  {
   "cell_type": "code",
   "execution_count": null,
   "id": "66545708-56f3-49c8-9b67-f3be2d742116",
   "metadata": {
    "deletable": true,
    "editable": true,
    "frozen": false,
    "id": "66545708-56f3-49c8-9b67-f3be2d742116"
   },
   "outputs": [],
   "source": [
    "grammar_errors = grammar_errors[grammar_errors[\"error_type\"] == \"article_misuse\"]"
   ]
  },
  {
   "cell_type": "code",
   "execution_count": null,
   "id": "ed80a4ce-9ec0-4631-ab93-06371816762d",
   "metadata": {
    "deletable": true,
    "editable": true,
    "frozen": false,
    "id": "ed80a4ce-9ec0-4631-ab93-06371816762d",
    "outputId": "da98ec6c-f597-4939-91d7-88115e5d7732"
   },
   "outputs": [
    {
     "data": {
      "text/plain": [
       "(2349, 3)"
      ]
     },
     "execution_count": 88,
     "metadata": {},
     "output_type": "execute_result"
    }
   ],
   "source": [
    "grammar_errors.shape"
   ]
  },
  {
   "cell_type": "markdown",
   "id": "adb65785-ac38-4ce3-aa8d-88fa1d0533b1",
   "metadata": {
    "deletable": true,
    "editable": true,
    "frozen": false,
    "id": "adb65785-ac38-4ce3-aa8d-88fa1d0533b1"
   },
   "source": [
    "#### 7.1.2 Rename column headings"
   ]
  },
  {
   "cell_type": "code",
   "execution_count": null,
   "id": "b1988e29-233e-47dc-b926-6c83b7787fbc",
   "metadata": {
    "deletable": true,
    "editable": true,
    "frozen": false,
    "id": "b1988e29-233e-47dc-b926-6c83b7787fbc"
   },
   "outputs": [],
   "source": [
    "grammar_errors = grammar_errors.rename(columns={\"erroneous\": \"incorrect\"})"
   ]
  },
  {
   "cell_type": "markdown",
   "id": "983486ad-493d-4400-a528-9cd09ee26a4b",
   "metadata": {
    "deletable": true,
    "editable": true,
    "frozen": false,
    "id": "983486ad-493d-4400-a528-9cd09ee26a4b"
   },
   "source": [
    "#### 7.1.3 Add a column with differing words"
   ]
  },
  {
   "cell_type": "code",
   "execution_count": null,
   "id": "0e5d2126-4078-454f-9fec-f32d9aa2e139",
   "metadata": {
    "deletable": true,
    "editable": true,
    "frozen": false,
    "id": "0e5d2126-4078-454f-9fec-f32d9aa2e139"
   },
   "outputs": [],
   "source": [
    "grammar_errors[['incorrect', 'correct']] = grammar_errors[['incorrect', 'correct']].map(str.strip)\n",
    "grammar_errors[[\"correct_words\", \"incorrect_words\"]] = grammar_errors.apply(get_differing_words, axis=1, result_type=\"expand\")"
   ]
  },
  {
   "cell_type": "code",
   "execution_count": null,
   "id": "9c907237-7370-454b-bde5-c02ee2bc98d8",
   "metadata": {
    "deletable": true,
    "editable": true,
    "frozen": false,
    "id": "9c907237-7370-454b-bde5-c02ee2bc98d8",
    "outputId": "51c24c8d-663a-49a2-89f7-ecf30d157c29"
   },
   "outputs": [
    {
     "data": {
      "text/html": [
       "<div>\n",
       "<style scoped>\n",
       "    .dataframe tbody tr th:only-of-type {\n",
       "        vertical-align: middle;\n",
       "    }\n",
       "\n",
       "    .dataframe tbody tr th {\n",
       "        vertical-align: top;\n",
       "    }\n",
       "\n",
       "    .dataframe thead th {\n",
       "        text-align: right;\n",
       "    }\n",
       "</style>\n",
       "<table border=\"1\" class=\"dataframe\">\n",
       "  <thead>\n",
       "    <tr style=\"text-align: right;\">\n",
       "      <th></th>\n",
       "      <th>error_type</th>\n",
       "      <th>incorrect</th>\n",
       "      <th>correct</th>\n",
       "      <th>correct_words</th>\n",
       "      <th>incorrect_words</th>\n",
       "    </tr>\n",
       "  </thead>\n",
       "  <tbody>\n",
       "    <tr>\n",
       "      <th>0</th>\n",
       "      <td>article_misuse</td>\n",
       "      <td>От какво беше направен входа на двора на скини...</td>\n",
       "      <td>От какво беше направен входът на двора на скин...</td>\n",
       "      <td>входа</td>\n",
       "      <td>входът</td>\n",
       "    </tr>\n",
       "    <tr>\n",
       "      <th>1</th>\n",
       "      <td>article_misuse</td>\n",
       "      <td>Танева е предупредила, че документа ще се отра...</td>\n",
       "      <td>Танева е предупредила, че документът ще се отр...</td>\n",
       "      <td>документа</td>\n",
       "      <td>документът</td>\n",
       "    </tr>\n",
       "    <tr>\n",
       "      <th>2</th>\n",
       "      <td>article_misuse</td>\n",
       "      <td>Патогенетичният механизъм на развитието на хип...</td>\n",
       "      <td>Патогенетичният механизъм на развитието на хип...</td>\n",
       "      <td>излишъка</td>\n",
       "      <td>излишъкът</td>\n",
       "    </tr>\n",
       "  </tbody>\n",
       "</table>\n",
       "</div>"
      ],
      "text/plain": [
       "       error_type                                          incorrect  \\\n",
       "0  article_misuse  От какво беше направен входа на двора на скини...   \n",
       "1  article_misuse  Танева е предупредила, че документа ще се отра...   \n",
       "2  article_misuse  Патогенетичният механизъм на развитието на хип...   \n",
       "\n",
       "                                             correct correct_words  \\\n",
       "0  От какво беше направен входът на двора на скин...         входа   \n",
       "1  Танева е предупредила, че документът ще се отр...     документа   \n",
       "2  Патогенетичният механизъм на развитието на хип...      излишъка   \n",
       "\n",
       "  incorrect_words  \n",
       "0          входът  \n",
       "1      документът  \n",
       "2       излишъкът  "
      ]
     },
     "execution_count": 91,
     "metadata": {},
     "output_type": "execute_result"
    }
   ],
   "source": [
    "grammar_errors.head(3)"
   ]
  },
  {
   "cell_type": "markdown",
   "id": "9dd393de-73e8-464f-a7eb-2043d09c619a",
   "metadata": {
    "deletable": true,
    "editable": true,
    "frozen": false,
    "id": "9dd393de-73e8-464f-a7eb-2043d09c619a"
   },
   "source": [
    "#### 7.1.4 Melt the dataset and sort pairs of correct/incorrect sentences to be together"
   ]
  },
  {
   "cell_type": "code",
   "execution_count": null,
   "id": "7eb07c3b-6aa5-425a-89c4-ea092e741e44",
   "metadata": {
    "deletable": true,
    "editable": true,
    "frozen": false,
    "id": "7eb07c3b-6aa5-425a-89c4-ea092e741e44",
    "outputId": "069988fc-519b-48fc-aa0b-59bb169c7c6f"
   },
   "outputs": [
    {
     "data": {
      "text/plain": [
       "(2349, 5)"
      ]
     },
     "execution_count": 92,
     "metadata": {},
     "output_type": "execute_result"
    }
   ],
   "source": [
    "grammar_errors.shape"
   ]
  },
  {
   "cell_type": "code",
   "execution_count": null,
   "id": "fbbb9be4-95d2-4343-94af-37e92e9e693a",
   "metadata": {
    "deletable": true,
    "editable": true,
    "frozen": false,
    "id": "fbbb9be4-95d2-4343-94af-37e92e9e693a"
   },
   "outputs": [],
   "source": [
    "grammar_errors = melt_and_sort_sentences(grammar_errors)"
   ]
  },
  {
   "cell_type": "code",
   "execution_count": null,
   "id": "07bd8c5d-043c-4ffd-b54c-399aa5e3bdfe",
   "metadata": {
    "deletable": true,
    "editable": true,
    "frozen": false,
    "id": "07bd8c5d-043c-4ffd-b54c-399aa5e3bdfe",
    "outputId": "edd5136a-cba2-4efd-f02e-c1cea51562ec"
   },
   "outputs": [
    {
     "data": {
      "text/plain": [
       "(4698, 4)"
      ]
     },
     "execution_count": 94,
     "metadata": {},
     "output_type": "execute_result"
    }
   ],
   "source": [
    "grammar_errors.shape"
   ]
  },
  {
   "cell_type": "code",
   "execution_count": null,
   "id": "81c25413-fece-437c-b3b8-cfc9197adf3b",
   "metadata": {
    "deletable": true,
    "editable": true,
    "frozen": false,
    "id": "81c25413-fece-437c-b3b8-cfc9197adf3b",
    "outputId": "8b3696bf-62ce-4246-aa32-8801a029ace3"
   },
   "outputs": [
    {
     "data": {
      "text/html": [
       "<div>\n",
       "<style scoped>\n",
       "    .dataframe tbody tr th:only-of-type {\n",
       "        vertical-align: middle;\n",
       "    }\n",
       "\n",
       "    .dataframe tbody tr th {\n",
       "        vertical-align: top;\n",
       "    }\n",
       "\n",
       "    .dataframe thead th {\n",
       "        text-align: right;\n",
       "    }\n",
       "</style>\n",
       "<table border=\"1\" class=\"dataframe\">\n",
       "  <thead>\n",
       "    <tr style=\"text-align: right;\">\n",
       "      <th></th>\n",
       "      <th>text</th>\n",
       "      <th>is_correct</th>\n",
       "      <th>incorrect_words</th>\n",
       "      <th>correct_words</th>\n",
       "    </tr>\n",
       "  </thead>\n",
       "  <tbody>\n",
       "    <tr>\n",
       "      <th>0</th>\n",
       "      <td>От какво беше направен входа на двора на скини...</td>\n",
       "      <td>False</td>\n",
       "      <td>входа</td>\n",
       "      <td>входът</td>\n",
       "    </tr>\n",
       "    <tr>\n",
       "      <th>1</th>\n",
       "      <td>От какво беше направен входът на двора на скин...</td>\n",
       "      <td>True</td>\n",
       "      <td></td>\n",
       "      <td></td>\n",
       "    </tr>\n",
       "    <tr>\n",
       "      <th>2</th>\n",
       "      <td>Танева е предупредила, че документа ще се отра...</td>\n",
       "      <td>False</td>\n",
       "      <td>документа</td>\n",
       "      <td>документът</td>\n",
       "    </tr>\n",
       "    <tr>\n",
       "      <th>3</th>\n",
       "      <td>Танева е предупредила, че документът ще се отр...</td>\n",
       "      <td>True</td>\n",
       "      <td></td>\n",
       "      <td></td>\n",
       "    </tr>\n",
       "  </tbody>\n",
       "</table>\n",
       "</div>"
      ],
      "text/plain": [
       "                                                text  is_correct  \\\n",
       "0  От какво беше направен входа на двора на скини...       False   \n",
       "1  От какво беше направен входът на двора на скин...        True   \n",
       "2  Танева е предупредила, че документа ще се отра...       False   \n",
       "3  Танева е предупредила, че документът ще се отр...        True   \n",
       "\n",
       "  incorrect_words correct_words  \n",
       "0           входа        входът  \n",
       "1                                \n",
       "2       документа    документът  \n",
       "3                                "
      ]
     },
     "execution_count": 95,
     "metadata": {},
     "output_type": "execute_result"
    }
   ],
   "source": [
    "grammar_errors.head(4)"
   ]
  },
  {
   "cell_type": "markdown",
   "id": "577393bc-0932-4268-b1b9-65460a81eb1b",
   "metadata": {
    "deletable": true,
    "editable": true,
    "frozen": false,
    "id": "577393bc-0932-4268-b1b9-65460a81eb1b"
   },
   "source": [
    "#### 7.1.5 Add NLP tags"
   ]
  },
  {
   "cell_type": "markdown",
   "id": "3509ef8d-b6be-44e8-b904-68468896560d",
   "metadata": {
    "deletable": true,
    "editable": true,
    "frozen": false,
    "id": "3509ef8d-b6be-44e8-b904-68468896560d"
   },
   "source": [
    "<div style=\"background-color:bisque\">⚠️Note that calculating the features using Stanza takes around 1 hour on a laptop with average specs, therefore here we are loading a pre-saved file."
   ]
  },
  {
   "cell_type": "code",
   "execution_count": null,
   "id": "589959b4-463d-490d-a0ba-9c318ae77fe3",
   "metadata": {
    "deletable": true,
    "editable": true,
    "frozen": false,
    "id": "589959b4-463d-490d-a0ba-9c318ae77fe3"
   },
   "outputs": [],
   "source": [
    "if False:\n",
    "    feature_columns_st = [\"pos\", \"tag\", \"dep\", \"morph\", \"lemmas\", \"left_edge\", \"right_edge\", \"num_tokens\", \"n_sents\"]\n",
    "    grammar_errors[feature_columns_st] = grammar_errors.apply(lambda r: extract_features(nlp_st, r, \"text\"), axis=1, result_type=\"expand\")\n",
    "    grammar_errors.to_csv(\"data/grammar_errors_with_nlp.csv\", index=None)\n",
    "else:\n",
    "    # load from file instead of the above, it is faster\n",
    "    grammar_errors = pd.read_csv(\"data/grammar_errors_with_nlp.csv\")\n",
    "    grammar_errors[\"correct_words\"] = grammar_errors[\"correct_words\"].fillna(\"\")\n",
    "    grammar_errors[\"incorrect_words\"] = grammar_errors[\"incorrect_words\"].fillna(\"\")"
   ]
  },
  {
   "cell_type": "markdown",
   "id": "6ff9d292-af53-4166-bb96-a291da742be5",
   "metadata": {
    "deletable": true,
    "editable": true,
    "frozen": false,
    "id": "6ff9d292-af53-4166-bb96-a291da742be5"
   },
   "source": [
    "#### 7.1.6 Filter only rows with 1 sentence, no quotes and other special characters"
   ]
  },
  {
   "cell_type": "markdown",
   "id": "6069d5c9-16f9-4fed-bcba-23a395d3a8b5",
   "metadata": {
    "deletable": true,
    "editable": true,
    "frozen": false,
    "id": "6069d5c9-16f9-4fed-bcba-23a395d3a8b5"
   },
   "source": [
    "We need to filter out such texts since our rules can't deal with quoted text inside a sentence. Special characters also cause issues."
   ]
  },
  {
   "cell_type": "code",
   "execution_count": null,
   "id": "83de9b24-569c-499b-a43c-1958ea7c4286",
   "metadata": {
    "deletable": true,
    "editable": true,
    "frozen": false,
    "id": "83de9b24-569c-499b-a43c-1958ea7c4286"
   },
   "outputs": [],
   "source": [
    "grammar_errors = grammar_errors[grammar_errors[\"n_sents\"] == 1]"
   ]
  },
  {
   "cell_type": "code",
   "execution_count": null,
   "id": "b91e10c6-425d-4e59-a1dc-fd7aac1ec83c",
   "metadata": {
    "deletable": true,
    "editable": true,
    "frozen": false,
    "id": "b91e10c6-425d-4e59-a1dc-fd7aac1ec83c"
   },
   "outputs": [],
   "source": [
    "pattern = r\"[\\'\\\"‘’“”°/≈\\:]\"\n",
    "grammar_errors = grammar_errors[~grammar_errors['text'].str.contains(pattern)]"
   ]
  },
  {
   "cell_type": "code",
   "execution_count": null,
   "id": "8738b042-550f-46eb-9379-f08b708f5eb3",
   "metadata": {
    "deletable": true,
    "editable": true,
    "frozen": false,
    "id": "8738b042-550f-46eb-9379-f08b708f5eb3",
    "outputId": "80069e67-d4ab-4b22-a14c-062aa49ad39a"
   },
   "outputs": [
    {
     "data": {
      "text/plain": [
       "(3605, 13)"
      ]
     },
     "execution_count": 99,
     "metadata": {},
     "output_type": "execute_result"
    }
   ],
   "source": [
    "grammar_errors.shape"
   ]
  },
  {
   "cell_type": "markdown",
   "id": "fc3b1d83-24d2-4ed1-b0f1-580480ab7913",
   "metadata": {
    "deletable": true,
    "editable": true,
    "frozen": false,
    "id": "fc3b1d83-24d2-4ed1-b0f1-580480ab7913"
   },
   "source": [
    "### 7.2 Test with small subset of the real data"
   ]
  },
  {
   "cell_type": "code",
   "execution_count": null,
   "id": "39a53b1c-5c27-44ea-a9eb-ea06ac17828e",
   "metadata": {
    "deletable": true,
    "editable": true,
    "frozen": false,
    "id": "39a53b1c-5c27-44ea-a9eb-ea06ac17828e"
   },
   "outputs": [],
   "source": [
    "grammar_errors_10tokens = grammar_errors[grammar_errors[\"num_tokens\"] < 10]"
   ]
  },
  {
   "cell_type": "code",
   "execution_count": null,
   "id": "48a375b2-c8f5-4b39-b05d-93fe15fd84c2",
   "metadata": {
    "deletable": true,
    "editable": true,
    "frozen": false,
    "id": "48a375b2-c8f5-4b39-b05d-93fe15fd84c2",
    "outputId": "b0dd6fe4-01c3-4ad4-bee4-540f7f58a9e1"
   },
   "outputs": [
    {
     "name": "stdout",
     "output_type": "stream",
     "text": [
      "10 ❌ Сайта Уча. се е в тяхна помощ. (Actual: '', Expected: 'Сайта')\n",
      "32 ❌ Бих искал и аз да дам своя принос. (Actual: '', Expected: 'своя')\n",
      "50 ❌ Заема има предназначение за обзавеждане на дома. (Actual: '', Expected: 'Заема')\n",
      "258 ❌ Рейс контрола пусна кола за сигурност. (Actual: 'Рейс', Expected: 'контрола')\n",
      "259 ❌ Рейс контролът пусна кола за сигурност. (Actual: 'Рейс', Expected: '')\n",
      "332 ❌ Сайта е разработен от Медия груп 24 ООД. (Actual: '', Expected: 'Сайта')\n",
      "338 ❌ Да, това е Учителят. (Actual: 'Учителят', Expected: '')\n",
      "339 ❌ Да, това е Учителят. (Actual: 'Учителят', Expected: '')\n",
      "366 ❌ Триумвирата е мъртъв. (Actual: '', Expected: 'Триумвирата')\n",
      "416 ❌ Пика на есен 2010 ме хвана в София. (Actual: '', Expected: 'Пика')\n",
      "454 ❌ По какво се различава домата от трактора? (Actual: '', Expected: 'домата')\n",
      "458 ❌ Сайта е написан с Notepad. (Actual: '', Expected: 'Сайта')\n",
      "672 ❌ Нужен ли е сапуна за съществуването на човека? (Actual: '', Expected: 'сапуна')\n",
      "702 ❌ Името на философа носи кратера Платон на Луната. (Actual: '', Expected: 'кратера')\n",
      "720 ❌ Като правило кашалота живее в топлите морета. (Actual: '', Expected: 'кашалота')\n",
      "728 ❌ Немеца с гордост казва (Actual: '', Expected: 'Немеца')\n",
      "746 ❌ Постепенно отпада матриархата и се утвърждава патриархата. (Actual: '', Expected: 'матриархата')\n",
      "880 ❌ Бюфета разполага с три шкафа с вътрешни рафтове, (Actual: '', Expected: 'Бюфета')\n",
      "884 ❌ Въпроса е защо? (Actual: '', Expected: 'Въпроса')\n",
      "938 ❌ Гена влиза в състава на хромозомите. (Actual: '', Expected: 'Гена')\n",
      "1048 ❌ Подписа задължително се поставя след завещателните разпореждания. (Actual: '', Expected: 'Подписа')\n",
      "1122 ❌ Не позволявайте на перфекционизмът да бъде враг на производителността (Actual: '', Expected: 'перфекционизмът')\n",
      "1286 ❌ Предизвика истински фурор, неузнаваемият е! (Actual: '', Expected: 'неузнаваемият')\n",
      "1406 ❌ Браво продължавай тъчеш .. (Actual: '', Expected: 'тъчеш')\n",
      "1668 ❌ Името на философът носи кратерът Платон на Луната. (Actual: 'философът,кратерът', Expected: 'философът')\n",
      "1966 ❌ Много често се образува вълнистият повърхност. (Actual: '', Expected: 'вълнистият')\n",
      "2022 ❌ Администраторът на форума така е решил. (Actual: '', Expected: 'Администраторът')\n",
      "2023 ❌ Администратора на форума така е решил. (Actual: 'Администратора', Expected: '')\n",
      "2112 ❌ Има деликатна консистенция и порестият структура. (Actual: '', Expected: 'порестият')\n",
      "2156 ❌ След полимеризация дисперсионния слой се отстранява с Cleaner. (Actual: '', Expected: 'дисперсионния')\n",
      "2186 ❌ Най-левия е за слонове и коне. (Actual: '', Expected: 'Най-левия')\n",
      "2218 ❌ Първоначалния им брой е 500000 души. (Actual: 'брой', Expected: 'Първоначалния')\n",
      "2219 ❌ Първоначалният им брой е 500000 души. (Actual: 'брой', Expected: '')\n",
      "2228 ❌ да отпадне регулаторния натиск върху цените на генерични медикаменти (Actual: '', Expected: 'регулаторния')\n",
      "2300 ❌ Английския не е официален език в САЩ. (Actual: '', Expected: 'Английския')\n",
      "2328 ❌ Английския е най-често използваният език в науката. (Actual: '', Expected: 'Английския')\n",
      "2330 ❌ Баскетболния Екип GIVOVA Kit Power е изработен от .. (Actual: '', Expected: 'Баскетболния')\n",
      "2378 ❌ Максималния му въртяш момент е 350 Nm. (Actual: '', Expected: 'Максималния')\n",
      "2426 ❌ Кафка е обсебен от деспотичния си баща. (Actual: '', Expected: 'деспотичния')\n",
      "2466 ❌ Какво каза новия американски посланик у нас (Actual: '', Expected: 'новия')\n",
      "2682 ❌ Витаминния комплекс се прилага перорално. (Actual: '', Expected: 'Витаминния')\n",
      "3046 ❌ Бариевия дифлуорид се използва в безоксидните стъкла. (Actual: '', Expected: 'Бариевия')\n",
      "3060 ❌ Новия кандидат-премиер е най-видният масон сред лекарите (Actual: '', Expected: 'Новия')\n",
      "3070 ❌ Върховния съд в Калифорния отмени забраната върху гей-браковете (Actual: '', Expected: 'Върховния')\n",
      "3100 ❌ 1 декември- Лисабонския договор влиза в сила. (Actual: '', Expected: 'Лисабонския')\n",
      "3144 ❌ Следваща статия от категорията Йоан- богословът и църковния политик (Actual: '', Expected: 'църковния')\n",
      "3160 ❌ Пловдивския окръжен съд остави в ареста фалшификатор-рецидивист (Actual: '', Expected: 'Пловдивския')\n",
      "3166 ❌ Къде трябва да бъде поставен ръчния багаж макс. (Actual: '', Expected: 'ръчния')\n",
      "3220 ❌ Доказана свръхчувствителност към съставките на лекарственият продукт. (Actual: '', Expected: 'лекарственият')\n",
      "3308 ❌ Това наложи необходимостта от промяна на лечебният алгоритъм. (Actual: '', Expected: 'лечебният')\n",
      "3328 ❌ Страната е един от последните бастиони на световният комунизъм (Actual: '', Expected: 'световният')\n",
      "3384 ❌ Бисквитката съхранява езиковият код на последната прегледана страница. (Actual: '', Expected: 'езиковият')\n",
      "3396 ❌ Официалният език на форума е българският. (Actual: '', Expected: 'Официалният')\n",
      "3397 ❌ Официалния език на форума е българският. (Actual: 'Официалния', Expected: '')\n",
      "3508 ❌ Хранещи се от чревният химус на гостоприемника. (Actual: '', Expected: 'чревният')\n",
      "3650 ❌ Следваща статияНамаляване на адвокатското възнаграждение в изпълнителният процес (Actual: '', Expected: 'изпълнителният')\n",
      "3812 ❌ Разделете се на няколко приема през целият ден. (Actual: '', Expected: 'целият')\n",
      "3916 ❌ ГЕРБ, ДПС и БСП върнаха хартиеният вот. (Actual: '', Expected: 'хартиеният')\n",
      "3942 ❌ Това е успокоителният хап за съвестта му ... (Actual: '', Expected: 'успокоителният')\n",
      "3943 ❌ Това е успокоителния хап за съвестта му ... (Actual: 'успокоителния', Expected: '')\n",
      "3952 ❌ Картината беше на правилният слой. (Actual: '', Expected: 'правилният')\n",
      "3964 ❌ Най-близък до английският е шотландският език. (Actual: '', Expected: 'английският')\n",
      "4014 ❌ Наградата била 15 -минутен полет със злополучният самолет. (Actual: '', Expected: 'злополучният')\n",
      "4024 ❌ Дуриан е наистина най-миризливият плод в света. (Actual: '', Expected: 'най-миризливият')\n",
      "4034 ❌ Тези инструменти били използвани в симфоничният оркестър. (Actual: '', Expected: 'симфоничният')\n",
      "4098 ❌ Най-старите известни държави са тези от Древният Изток. (Actual: '', Expected: 'Древният')\n",
      "4110 ❌ Задържаха областният координатор на ГЕРБ в Пловдив Георги Мараджиев (Actual: '', Expected: 'областният')\n",
      "4130 ❌ Който пък е роден в днешният град Ниш. (Actual: '', Expected: 'днешният')\n",
      "❌ 68/250 failed.\n"
     ]
    }
   ],
   "source": [
    "# execution will take 30 sec\n",
    "passed, failed = test_definite_article_all(grammar_errors_10tokens, conditions, rules, print_passed=False, print_failed=True)"
   ]
  },
  {
   "cell_type": "markdown",
   "id": "b38e8622-cd5c-4501-a6fa-6e69b96ae543",
   "metadata": {
    "deletable": true,
    "editable": true,
    "frozen": false,
    "id": "b38e8622-cd5c-4501-a6fa-6e69b96ae543"
   },
   "source": [
    "Let's review the outcomes.\n",
    "\n",
    "**To begin with**, the rules failed to detect errors in nearly a quarter (24%) of the tests.\n",
    "However, upon closer inspection of the failures, a pattern emerges. Upon closer look, it is evident that most of the failed tests have even-numbered indices. This suggests that while correctly formed sentences were accurately identified, not all erroneous sentences were successfully detected.\n",
    "\n",
    "Let's take a closer look at the instances where the tests failed for sentences that were initially correct:"
   ]
  },
  {
   "cell_type": "code",
   "execution_count": null,
   "id": "87cdc332-0891-44fd-aca3-da2df60884ce",
   "metadata": {
    "deletable": true,
    "editable": true,
    "frozen": false,
    "id": "87cdc332-0891-44fd-aca3-da2df60884ce",
    "outputId": "af0a34ab-11ab-4d78-a73f-b1cd9d4c55c4"
   },
   "outputs": [
    {
     "data": {
      "text/html": [
       "<div>\n",
       "<style scoped>\n",
       "    .dataframe tbody tr th:only-of-type {\n",
       "        vertical-align: middle;\n",
       "    }\n",
       "\n",
       "    .dataframe tbody tr th {\n",
       "        vertical-align: top;\n",
       "    }\n",
       "\n",
       "    .dataframe thead th {\n",
       "        text-align: right;\n",
       "    }\n",
       "</style>\n",
       "<table border=\"1\" class=\"dataframe\">\n",
       "  <thead>\n",
       "    <tr style=\"text-align: right;\">\n",
       "      <th></th>\n",
       "      <th>text</th>\n",
       "      <th>is_correct</th>\n",
       "      <th>incorrect_words</th>\n",
       "      <th>correct_words</th>\n",
       "    </tr>\n",
       "  </thead>\n",
       "  <tbody>\n",
       "    <tr>\n",
       "      <th>338</th>\n",
       "      <td>Да, това е Учителят.</td>\n",
       "      <td>False</td>\n",
       "      <td></td>\n",
       "      <td></td>\n",
       "    </tr>\n",
       "    <tr>\n",
       "      <th>339</th>\n",
       "      <td>Да, това е Учителят.</td>\n",
       "      <td>True</td>\n",
       "      <td></td>\n",
       "      <td></td>\n",
       "    </tr>\n",
       "    <tr>\n",
       "      <th>2022</th>\n",
       "      <td>Администраторът на форума така е решил.</td>\n",
       "      <td>False</td>\n",
       "      <td>Администраторът</td>\n",
       "      <td>Администратора</td>\n",
       "    </tr>\n",
       "    <tr>\n",
       "      <th>2023</th>\n",
       "      <td>Администратора на форума така е решил.</td>\n",
       "      <td>True</td>\n",
       "      <td></td>\n",
       "      <td></td>\n",
       "    </tr>\n",
       "    <tr>\n",
       "      <th>3396</th>\n",
       "      <td>Официалният език на форума е българският.</td>\n",
       "      <td>False</td>\n",
       "      <td>Официалният</td>\n",
       "      <td>Официалния</td>\n",
       "    </tr>\n",
       "    <tr>\n",
       "      <th>3397</th>\n",
       "      <td>Официалния език на форума е българският.</td>\n",
       "      <td>True</td>\n",
       "      <td></td>\n",
       "      <td></td>\n",
       "    </tr>\n",
       "    <tr>\n",
       "      <th>3942</th>\n",
       "      <td>Това е успокоителният хап за съвестта му ...</td>\n",
       "      <td>False</td>\n",
       "      <td>успокоителният</td>\n",
       "      <td>успокоителния</td>\n",
       "    </tr>\n",
       "    <tr>\n",
       "      <th>3943</th>\n",
       "      <td>Това е успокоителния хап за съвестта му ...</td>\n",
       "      <td>True</td>\n",
       "      <td></td>\n",
       "      <td></td>\n",
       "    </tr>\n",
       "  </tbody>\n",
       "</table>\n",
       "</div>"
      ],
      "text/plain": [
       "                                              text  is_correct  \\\n",
       "338                           Да, това е Учителят.       False   \n",
       "339                           Да, това е Учителят.        True   \n",
       "2022       Администраторът на форума така е решил.       False   \n",
       "2023        Администратора на форума така е решил.        True   \n",
       "3396     Официалният език на форума е българският.       False   \n",
       "3397      Официалния език на форума е българският.        True   \n",
       "3942  Това е успокоителният хап за съвестта му ...       False   \n",
       "3943   Това е успокоителния хап за съвестта му ...        True   \n",
       "\n",
       "      incorrect_words   correct_words  \n",
       "338                                    \n",
       "339                                    \n",
       "2022  Администраторът  Администратора  \n",
       "2023                                   \n",
       "3396      Официалният      Официалния  \n",
       "3397                                   \n",
       "3942   успокоителният   успокоителния  \n",
       "3943                                   "
      ]
     },
     "execution_count": 102,
     "metadata": {},
     "output_type": "execute_result"
    }
   ],
   "source": [
    "grammar_errors.loc[[338, 339, 2022, 2023, 3396, 3397, 3942, 3943 ]][['text', 'is_correct', 'incorrect_words', 'correct_words']]"
   ]
  },
  {
   "cell_type": "markdown",
   "id": "e5b0bd2b-2d8e-4253-b528-578e2599e078",
   "metadata": {
    "deletable": true,
    "editable": true,
    "frozen": false,
    "id": "e5b0bd2b-2d8e-4253-b528-578e2599e078"
   },
   "source": [
    "The sentence _Да, това е Учителят_ is listed as both correct and incorrect.\n",
    "\n",
    "The sentence _Администратора на форума така е решил_ is listed as correct, but in fact it is not.\n",
    "\n",
    "The sentence _Това е успокоителния хап за съвестта му_ is also listed as correct, but in fact it is incorrect.\n",
    "\n",
    "Therefore, in at least these 3 examples, the rules correctly identified the error, but the expected result was wrong bcause the original data in the dataset was wrong.\n",
    "\n",
    "The assumption about the original wrong data is, that the data was scraped from various sources and considered \"correct\", then errors were automatically introduced to produce the incorrect version. However, it's important to note that the source material itself may not always be grammatically accurate. For exmaple, the sentence _Това е успокоителния хап за съвестта му_ can be found [in a blog comment from 2010](https://petdoshkov.blog.bg/drugi/2010/05/10/vyzzivnoto-reshenie-za-nakazanieto-zabelejka.542411). This example demonstrates that even the original text contained grammatical errors, challenging the assumption that the initial data was entirely correct before deliberate mistakes were added.\n",
    "\n",
    "\n"
   ]
  },
  {
   "cell_type": "markdown",
   "id": "83e6e2d3-eb68-4651-a094-cd6391e08fad",
   "metadata": {
    "deletable": true,
    "editable": true,
    "frozen": false,
    "id": "83e6e2d3-eb68-4651-a094-cd6391e08fad"
   },
   "source": [
    "**Another reason** of the many failures is that we still haven't implemented all rules listed in the Grammas section. Additionally, we tested on a small set of 39 pairs of simple sentences so we didn't verify our \"model\" with enough data. Another explanation is that in the NLP features we extracted there are two still unused ones - left edge and right edge."
   ]
  },
  {
   "cell_type": "markdown",
   "id": "22819899-bcfd-4ce1-8f1b-6cc21cdc3070",
   "metadata": {
    "deletable": true,
    "editable": true,
    "frozen": false,
    "id": "22819899-bcfd-4ce1-8f1b-6cc21cdc3070"
   },
   "source": [
    "### 7.3 Test with the whole dataset"
   ]
  },
  {
   "cell_type": "code",
   "execution_count": null,
   "id": "08bc0c40-1ab1-4a6f-9f5a-168b0fb5642e",
   "metadata": {
    "deletable": true,
    "editable": true,
    "frozen": false,
    "id": "08bc0c40-1ab1-4a6f-9f5a-168b0fb5642e",
    "outputId": "dfaef8df-31ae-49b5-a687-d03c1f02a2c3"
   },
   "outputs": [
    {
     "data": {
      "text/plain": [
       "(3605, 13)"
      ]
     },
     "execution_count": 103,
     "metadata": {},
     "output_type": "execute_result"
    }
   ],
   "source": [
    "grammar_errors.shape"
   ]
  },
  {
   "cell_type": "markdown",
   "id": "3ef08480-abab-4652-8b2d-9ae260951eb6",
   "metadata": {
    "deletable": true,
    "editable": true,
    "frozen": false,
    "id": "3ef08480-abab-4652-8b2d-9ae260951eb6"
   },
   "source": [
    "<div style=\"background-color:Bisque\">\n",
    "\n",
    "⚠️The below test will take ~ 18 minutes. As an alternative to executing it you may take a look at the screenshot."
   ]
  },
  {
   "cell_type": "code",
   "execution_count": null,
   "id": "68ee147a-d38b-4162-8012-568185691cbf",
   "metadata": {
    "deletable": true,
    "editable": true,
    "frozen": false,
    "id": "68ee147a-d38b-4162-8012-568185691cbf"
   },
   "outputs": [],
   "source": [
    "if False:\n",
    "    start_time = time.time()\n",
    "\n",
    "    passed, failed = test_definite_article_all(grammar_errors, conditions, rules, print_passed=False, print_failed=False)\n",
    "\n",
    "    end_time = time.time()\n",
    "    execution_time_st = end_time - start_time\n",
    "    print(f\"Execution time (stanza): {execution_time_st} seconds\")"
   ]
  },
  {
   "cell_type": "markdown",
   "id": "68588f7c-de57-4021-ae8d-bced38631a98",
   "metadata": {
    "deletable": true,
    "editable": true,
    "frozen": false,
    "id": "68588f7c-de57-4021-ae8d-bced38631a98"
   },
   "source": [
    "Screenshot of the result:\n",
    "\n",
    "<img src=\"images/whole_dataset_result.png\">"
   ]
  },
  {
   "cell_type": "markdown",
   "id": "bdb232d5-6a7b-4a5c-9134-355b9dd972e9",
   "metadata": {
    "deletable": true,
    "editable": true,
    "frozen": false,
    "id": "bdb232d5-6a7b-4a5c-9134-355b9dd972e9"
   },
   "source": [
    "Testing with the whole dataset we see that one third of the tests failed. Certainly there is room for improvement!"
   ]
  },
  {
   "cell_type": "markdown",
   "id": "964ecbd8-e0cf-4be2-a2f6-b6fabbb32056",
   "metadata": {
    "deletable": true,
    "editable": true,
    "frozen": false,
    "id": "964ecbd8-e0cf-4be2-a2f6-b6fabbb32056"
   },
   "source": [
    "## Summary and insights gained"
   ]
  },
  {
   "cell_type": "markdown",
   "id": "8f673fcc-1dd8-4ab3-a0e3-002660e97a5d",
   "metadata": {
    "deletable": true,
    "editable": true,
    "frozen": false,
    "id": "8f673fcc-1dd8-4ab3-a0e3-002660e97a5d"
   },
   "source": [
    "Although the results of the final test were not as encouraging as hoped, the project still yielded valuable insights.\n",
    "\n",
    "Initially, selecting the appropriate NLP library was a challenging task. While UDPipe offered good performance, it lacked accuracy, and although Stanza delivered better results, it was much slower. This experience highlighted the importance of carefully balancing accuracy and performance when choosing tools for linguistic analysis.\n",
    "\n",
    "Another key realization was the unexpected complexity of Bulgarian grammar, particularly the rules surrounding the use of the definite article. This complexity necessitated a deeper investigation into the language's linguistic structures.\n",
    "\n",
    "Parsing text to detect incorrect definite articles also proved to be more complicated than expected. The development of effective rules for this task was hindered by the diversity of sentence structures encountered.\n",
    "\n",
    "Additionally, the testing dataset posed its own challenges, as it contained inaccuracies that affected the validation process. This emphasized the crucial need for high-quality, accurate datasets.\n",
    "\n",
    "Despite these obstacles, the implementation of rule-based methods produced promising results, especially in identifying errors in shorter sentences. This success demonstrated that even in the face of linguistic complexity, well-designed rules are essential for achieving accurate outcomes.\n",
    "\n",
    "The insights gained from this effort will undoubtedly contribute to the broader field of computational linguistics and inspire more accurate and efficient solutions for grammatical analysis in Bulgarian. As we continue to refine our approach and expand our rule set, we are confident in our ability to develop a robust and reliable tool for checking the correctness of definite articles in Bulgarian texts."
   ]
  },
  {
   "cell_type": "markdown",
   "id": "ab702264-ac2f-4fe8-b244-7e0bd6f9f529",
   "metadata": {
    "deletable": true,
    "editable": true,
    "frozen": false,
    "id": "ab702264-ac2f-4fe8-b244-7e0bd6f9f529"
   },
   "source": [
    "**References**\n",
    "\n",
    "<div id=\"ref1\">[1] Astoria Academy, <a href=\"https://astoria-academy.com/the-definite-articles-of-bulgarian/\">The Definite articles of Bulgarian,</a> 2023</div>\n",
    "\n",
    "<div id=\"ref2\">[2] CoLanguage <a href=\"https://www.colanguage.com/definite-article-bulgarian-nouns\">Definite article of the Bulgarian nouns</a></div>\n",
    "\n",
    "<div id=\"ref3\">[3] в. „Аз Буки“ бр. 16 <a href=\"https://ibl.bas.bg/ezikovi_spravki/otnovo-za-palniya-i-kratkiya-tchlen/\">Отново за пълния и краткия член</a></div>\n",
    "\n",
    "<div id=\"ref4\">[4] Raquel Jacob <a href=\"https://help.unbabel.com/hc/en-us/articles/360022878854-Language-Guidelines-Bulgarian\">Language Guidelines – Bulgarian</a></div>\n",
    "\n",
    "<div id=\"ref5\">[5] Andonova, Sabeva, Zagorova <a href=\"https://caritas.bg/cms/wp-content/uploads/2015/04/A1-English.pdf?x10535\">Bulgarian for Refugees,</a> 2014</div>\n",
    "\n",
    "<div id=\"ref6\">[6] John Leafgren <a href=\"http://www.seelrc.org:8080/grammar/pdf/stand_alone_bulgarian.pdf\">A Concise Bulgarian\n",
    "Grammar</a></div>\n",
    "\n",
    "<div id=\"ref7\">[7] G. Popova <a href=\"https://www.english-linguistics.de/archives/clark/SIMOV/CM/popova.pdf\">Towards an HPSG Account of the\n",
    "Bulgarian Definite Article</a></div>\n",
    "\n",
    "<div id=\"ref8\">[8] K. Bontcheva <a href=\"https://theswissbay.ch/pdf/Books/Linguistics/Mega%20linguistics%20pack/Indo-European/Balto-Slavic/Bulgarian%20Grammar%2C%20Elementary%20%28Bontcheva%29.pdf\">Bulgarian Language - Grammar</a></div>"
   ]
  },
  {
   "cell_type": "code",
   "execution_count": null,
   "id": "d228196e-4193-4c5c-86ae-e9ac57b8051d",
   "metadata": {
    "deletable": true,
    "editable": true,
    "frozen": false,
    "id": "d228196e-4193-4c5c-86ae-e9ac57b8051d"
   },
   "outputs": [],
   "source": []
  }
 ],
 "metadata": {
  "accelerator": "GPU",
  "colab": {
   "gpuType": "T4",
   "provenance": [],
   "toc_visible": true
  },
  "jpcodetoc-showcode": false,
  "jpcodetoc-showmarkdowntxt": false,
  "kernelspec": {
   "display_name": "Python 3 (ipykernel)",
   "language": "python",
   "name": "python3"
  },
  "language_info": {
   "codemirror_mode": {
    "name": "ipython",
    "version": 3
   },
   "file_extension": ".py",
   "mimetype": "text/x-python",
   "name": "python",
   "nbconvert_exporter": "python",
   "pygments_lexer": "ipython3",
   "version": "3.12.4"
  },
  "scenes_data": {
   "active_scene": "Default Scene",
   "init_scene": "",
   "scenes": [
    "Default Scene"
   ]
  },
  "widgets": {
   "application/vnd.jupyter.widget-state+json": {
    "0415e86b8f7148b3aa385ada79c8812d": {
     "model_module": "@jupyter-widgets/controls",
     "model_module_version": "1.5.0",
     "model_name": "ProgressStyleModel",
     "state": {
      "_model_module": "@jupyter-widgets/controls",
      "_model_module_version": "1.5.0",
      "_model_name": "ProgressStyleModel",
      "_view_count": null,
      "_view_module": "@jupyter-widgets/base",
      "_view_module_version": "1.2.0",
      "_view_name": "StyleView",
      "bar_color": null,
      "description_width": ""
     }
    },
    "2c8089ccb3c24a768e241ca96d94cfd7": {
     "model_module": "@jupyter-widgets/controls",
     "model_module_version": "1.5.0",
     "model_name": "HBoxModel",
     "state": {
      "_dom_classes": [],
      "_model_module": "@jupyter-widgets/controls",
      "_model_module_version": "1.5.0",
      "_model_name": "HBoxModel",
      "_view_count": null,
      "_view_module": "@jupyter-widgets/controls",
      "_view_module_version": "1.5.0",
      "_view_name": "HBoxView",
      "box_style": "",
      "children": [
       "IPY_MODEL_3978ae2dd41e40b299fbcdf451db8c36",
       "IPY_MODEL_d8e2a3692bb840b5956039bdb85fc460",
       "IPY_MODEL_ef88866ef291418e986cc1d1333e919c"
      ],
      "layout": "IPY_MODEL_4a03c490bfa645a4aad28a7ba98e7200"
     }
    },
    "3978ae2dd41e40b299fbcdf451db8c36": {
     "model_module": "@jupyter-widgets/controls",
     "model_module_version": "1.5.0",
     "model_name": "HTMLModel",
     "state": {
      "_dom_classes": [],
      "_model_module": "@jupyter-widgets/controls",
      "_model_module_version": "1.5.0",
      "_model_name": "HTMLModel",
      "_view_count": null,
      "_view_module": "@jupyter-widgets/controls",
      "_view_module_version": "1.5.0",
      "_view_name": "HTMLView",
      "description": "",
      "description_tooltip": null,
      "layout": "IPY_MODEL_be928ee564854b73952b086b2a1d12f5",
      "placeholder": "​",
      "style": "IPY_MODEL_3ebe23f8eb5e4ad4b827e988929d74a0",
      "value": "Downloading https://huggingface.co/stanfordnlp/stanza-bg/resolve/v1.6.0/models/default.zip: 100%"
     }
    },
    "3c0d7e5264b74ec9ac703c117e652865": {
     "model_module": "@jupyter-widgets/base",
     "model_module_version": "1.2.0",
     "model_name": "LayoutModel",
     "state": {
      "_model_module": "@jupyter-widgets/base",
      "_model_module_version": "1.2.0",
      "_model_name": "LayoutModel",
      "_view_count": null,
      "_view_module": "@jupyter-widgets/base",
      "_view_module_version": "1.2.0",
      "_view_name": "LayoutView",
      "align_content": null,
      "align_items": null,
      "align_self": null,
      "border": null,
      "bottom": null,
      "display": null,
      "flex": null,
      "flex_flow": null,
      "grid_area": null,
      "grid_auto_columns": null,
      "grid_auto_flow": null,
      "grid_auto_rows": null,
      "grid_column": null,
      "grid_gap": null,
      "grid_row": null,
      "grid_template_areas": null,
      "grid_template_columns": null,
      "grid_template_rows": null,
      "height": null,
      "justify_content": null,
      "justify_items": null,
      "left": null,
      "margin": null,
      "max_height": null,
      "max_width": null,
      "min_height": null,
      "min_width": null,
      "object_fit": null,
      "object_position": null,
      "order": null,
      "overflow": null,
      "overflow_x": null,
      "overflow_y": null,
      "padding": null,
      "right": null,
      "top": null,
      "visibility": null,
      "width": null
     }
    },
    "3ebe23f8eb5e4ad4b827e988929d74a0": {
     "model_module": "@jupyter-widgets/controls",
     "model_module_version": "1.5.0",
     "model_name": "DescriptionStyleModel",
     "state": {
      "_model_module": "@jupyter-widgets/controls",
      "_model_module_version": "1.5.0",
      "_model_name": "DescriptionStyleModel",
      "_view_count": null,
      "_view_module": "@jupyter-widgets/base",
      "_view_module_version": "1.2.0",
      "_view_name": "StyleView",
      "description_width": ""
     }
    },
    "4a03c490bfa645a4aad28a7ba98e7200": {
     "model_module": "@jupyter-widgets/base",
     "model_module_version": "1.2.0",
     "model_name": "LayoutModel",
     "state": {
      "_model_module": "@jupyter-widgets/base",
      "_model_module_version": "1.2.0",
      "_model_name": "LayoutModel",
      "_view_count": null,
      "_view_module": "@jupyter-widgets/base",
      "_view_module_version": "1.2.0",
      "_view_name": "LayoutView",
      "align_content": null,
      "align_items": null,
      "align_self": null,
      "border": null,
      "bottom": null,
      "display": null,
      "flex": null,
      "flex_flow": null,
      "grid_area": null,
      "grid_auto_columns": null,
      "grid_auto_flow": null,
      "grid_auto_rows": null,
      "grid_column": null,
      "grid_gap": null,
      "grid_row": null,
      "grid_template_areas": null,
      "grid_template_columns": null,
      "grid_template_rows": null,
      "height": null,
      "justify_content": null,
      "justify_items": null,
      "left": null,
      "margin": null,
      "max_height": null,
      "max_width": null,
      "min_height": null,
      "min_width": null,
      "object_fit": null,
      "object_position": null,
      "order": null,
      "overflow": null,
      "overflow_x": null,
      "overflow_y": null,
      "padding": null,
      "right": null,
      "top": null,
      "visibility": null,
      "width": null
     }
    },
    "73be804f6c1c4da581585ad20033a51b": {
     "model_module": "@jupyter-widgets/base",
     "model_module_version": "1.2.0",
     "model_name": "LayoutModel",
     "state": {
      "_model_module": "@jupyter-widgets/base",
      "_model_module_version": "1.2.0",
      "_model_name": "LayoutModel",
      "_view_count": null,
      "_view_module": "@jupyter-widgets/base",
      "_view_module_version": "1.2.0",
      "_view_name": "LayoutView",
      "align_content": null,
      "align_items": null,
      "align_self": null,
      "border": null,
      "bottom": null,
      "display": null,
      "flex": null,
      "flex_flow": null,
      "grid_area": null,
      "grid_auto_columns": null,
      "grid_auto_flow": null,
      "grid_auto_rows": null,
      "grid_column": null,
      "grid_gap": null,
      "grid_row": null,
      "grid_template_areas": null,
      "grid_template_columns": null,
      "grid_template_rows": null,
      "height": null,
      "justify_content": null,
      "justify_items": null,
      "left": null,
      "margin": null,
      "max_height": null,
      "max_width": null,
      "min_height": null,
      "min_width": null,
      "object_fit": null,
      "object_position": null,
      "order": null,
      "overflow": null,
      "overflow_x": null,
      "overflow_y": null,
      "padding": null,
      "right": null,
      "top": null,
      "visibility": null,
      "width": null
     }
    },
    "743ff51d7cf144acbd4803073ae79030": {
     "model_module": "@jupyter-widgets/controls",
     "model_module_version": "1.5.0",
     "model_name": "ProgressStyleModel",
     "state": {
      "_model_module": "@jupyter-widgets/controls",
      "_model_module_version": "1.5.0",
      "_model_name": "ProgressStyleModel",
      "_view_count": null,
      "_view_module": "@jupyter-widgets/base",
      "_view_module_version": "1.2.0",
      "_view_name": "StyleView",
      "bar_color": null,
      "description_width": ""
     }
    },
    "82c61d94f1cb4d7f961151f04b9bc392": {
     "model_module": "@jupyter-widgets/base",
     "model_module_version": "1.2.0",
     "model_name": "LayoutModel",
     "state": {
      "_model_module": "@jupyter-widgets/base",
      "_model_module_version": "1.2.0",
      "_model_name": "LayoutModel",
      "_view_count": null,
      "_view_module": "@jupyter-widgets/base",
      "_view_module_version": "1.2.0",
      "_view_name": "LayoutView",
      "align_content": null,
      "align_items": null,
      "align_self": null,
      "border": null,
      "bottom": null,
      "display": null,
      "flex": null,
      "flex_flow": null,
      "grid_area": null,
      "grid_auto_columns": null,
      "grid_auto_flow": null,
      "grid_auto_rows": null,
      "grid_column": null,
      "grid_gap": null,
      "grid_row": null,
      "grid_template_areas": null,
      "grid_template_columns": null,
      "grid_template_rows": null,
      "height": null,
      "justify_content": null,
      "justify_items": null,
      "left": null,
      "margin": null,
      "max_height": null,
      "max_width": null,
      "min_height": null,
      "min_width": null,
      "object_fit": null,
      "object_position": null,
      "order": null,
      "overflow": null,
      "overflow_x": null,
      "overflow_y": null,
      "padding": null,
      "right": null,
      "top": null,
      "visibility": null,
      "width": null
     }
    },
    "844823a6669d4ff195f34cd4f0a57034": {
     "model_module": "@jupyter-widgets/controls",
     "model_module_version": "1.5.0",
     "model_name": "DescriptionStyleModel",
     "state": {
      "_model_module": "@jupyter-widgets/controls",
      "_model_module_version": "1.5.0",
      "_model_name": "DescriptionStyleModel",
      "_view_count": null,
      "_view_module": "@jupyter-widgets/base",
      "_view_module_version": "1.2.0",
      "_view_name": "StyleView",
      "description_width": ""
     }
    },
    "857acc58658b4ec090ae6ad953129a60": {
     "model_module": "@jupyter-widgets/base",
     "model_module_version": "1.2.0",
     "model_name": "LayoutModel",
     "state": {
      "_model_module": "@jupyter-widgets/base",
      "_model_module_version": "1.2.0",
      "_model_name": "LayoutModel",
      "_view_count": null,
      "_view_module": "@jupyter-widgets/base",
      "_view_module_version": "1.2.0",
      "_view_name": "LayoutView",
      "align_content": null,
      "align_items": null,
      "align_self": null,
      "border": null,
      "bottom": null,
      "display": null,
      "flex": null,
      "flex_flow": null,
      "grid_area": null,
      "grid_auto_columns": null,
      "grid_auto_flow": null,
      "grid_auto_rows": null,
      "grid_column": null,
      "grid_gap": null,
      "grid_row": null,
      "grid_template_areas": null,
      "grid_template_columns": null,
      "grid_template_rows": null,
      "height": null,
      "justify_content": null,
      "justify_items": null,
      "left": null,
      "margin": null,
      "max_height": null,
      "max_width": null,
      "min_height": null,
      "min_width": null,
      "object_fit": null,
      "object_position": null,
      "order": null,
      "overflow": null,
      "overflow_x": null,
      "overflow_y": null,
      "padding": null,
      "right": null,
      "top": null,
      "visibility": null,
      "width": null
     }
    },
    "867aff5e74b54b628ac729a5e3ecc9cf": {
     "model_module": "@jupyter-widgets/base",
     "model_module_version": "1.2.0",
     "model_name": "LayoutModel",
     "state": {
      "_model_module": "@jupyter-widgets/base",
      "_model_module_version": "1.2.0",
      "_model_name": "LayoutModel",
      "_view_count": null,
      "_view_module": "@jupyter-widgets/base",
      "_view_module_version": "1.2.0",
      "_view_name": "LayoutView",
      "align_content": null,
      "align_items": null,
      "align_self": null,
      "border": null,
      "bottom": null,
      "display": null,
      "flex": null,
      "flex_flow": null,
      "grid_area": null,
      "grid_auto_columns": null,
      "grid_auto_flow": null,
      "grid_auto_rows": null,
      "grid_column": null,
      "grid_gap": null,
      "grid_row": null,
      "grid_template_areas": null,
      "grid_template_columns": null,
      "grid_template_rows": null,
      "height": null,
      "justify_content": null,
      "justify_items": null,
      "left": null,
      "margin": null,
      "max_height": null,
      "max_width": null,
      "min_height": null,
      "min_width": null,
      "object_fit": null,
      "object_position": null,
      "order": null,
      "overflow": null,
      "overflow_x": null,
      "overflow_y": null,
      "padding": null,
      "right": null,
      "top": null,
      "visibility": null,
      "width": null
     }
    },
    "8aeab4b76c7849f38daf67a085b67156": {
     "model_module": "@jupyter-widgets/controls",
     "model_module_version": "1.5.0",
     "model_name": "HBoxModel",
     "state": {
      "_dom_classes": [],
      "_model_module": "@jupyter-widgets/controls",
      "_model_module_version": "1.5.0",
      "_model_name": "HBoxModel",
      "_view_count": null,
      "_view_module": "@jupyter-widgets/controls",
      "_view_module_version": "1.5.0",
      "_view_name": "HBoxView",
      "box_style": "",
      "children": [
       "IPY_MODEL_f310632df4824b4dbef7c1fcfa764863",
       "IPY_MODEL_9c67c95f74284c0a9d86c985fe1e34e6",
       "IPY_MODEL_aa85f074ed83468dabd6c63b0e1fa01b"
      ],
      "layout": "IPY_MODEL_dfc47ff03e3a427891662a80f852d136"
     }
    },
    "968572eea1004c79bc78ff440e8a1315": {
     "model_module": "@jupyter-widgets/controls",
     "model_module_version": "1.5.0",
     "model_name": "ProgressStyleModel",
     "state": {
      "_model_module": "@jupyter-widgets/controls",
      "_model_module_version": "1.5.0",
      "_model_name": "ProgressStyleModel",
      "_view_count": null,
      "_view_module": "@jupyter-widgets/base",
      "_view_module_version": "1.2.0",
      "_view_name": "StyleView",
      "bar_color": null,
      "description_width": ""
     }
    },
    "970ce1cfaa104a7eb7f7c13c5825c1a0": {
     "model_module": "@jupyter-widgets/controls",
     "model_module_version": "1.5.0",
     "model_name": "HTMLModel",
     "state": {
      "_dom_classes": [],
      "_model_module": "@jupyter-widgets/controls",
      "_model_module_version": "1.5.0",
      "_model_name": "HTMLModel",
      "_view_count": null,
      "_view_module": "@jupyter-widgets/controls",
      "_view_module_version": "1.5.0",
      "_view_name": "HTMLView",
      "description": "",
      "description_tooltip": null,
      "layout": "IPY_MODEL_857acc58658b4ec090ae6ad953129a60",
      "placeholder": "​",
      "style": "IPY_MODEL_a6c4a6f9f1644180a40a279e1cbd9126",
      "value": " 367k/? [00:00&lt;00:00, 14.9MB/s]"
     }
    },
    "9c67c95f74284c0a9d86c985fe1e34e6": {
     "model_module": "@jupyter-widgets/controls",
     "model_module_version": "1.5.0",
     "model_name": "FloatProgressModel",
     "state": {
      "_dom_classes": [],
      "_model_module": "@jupyter-widgets/controls",
      "_model_module_version": "1.5.0",
      "_model_name": "FloatProgressModel",
      "_view_count": null,
      "_view_module": "@jupyter-widgets/controls",
      "_view_module_version": "1.5.0",
      "_view_name": "ProgressView",
      "bar_style": "success",
      "description": "",
      "description_tooltip": null,
      "layout": "IPY_MODEL_fe87379e8b1d458f9d333d6ffb25f25f",
      "max": 45744,
      "min": 0,
      "orientation": "horizontal",
      "style": "IPY_MODEL_968572eea1004c79bc78ff440e8a1315",
      "value": 45744
     }
    },
    "9f9396628b6a461d88aaaaf805bd6335": {
     "model_module": "@jupyter-widgets/controls",
     "model_module_version": "1.5.0",
     "model_name": "HTMLModel",
     "state": {
      "_dom_classes": [],
      "_model_module": "@jupyter-widgets/controls",
      "_model_module_version": "1.5.0",
      "_model_name": "HTMLModel",
      "_view_count": null,
      "_view_module": "@jupyter-widgets/controls",
      "_view_module_version": "1.5.0",
      "_view_name": "HTMLView",
      "description": "",
      "description_tooltip": null,
      "layout": "IPY_MODEL_82c61d94f1cb4d7f961151f04b9bc392",
      "placeholder": "​",
      "style": "IPY_MODEL_dcbaff6a598344729430a30dd39aa31c",
      "value": "Downloading https://raw.githubusercontent.com/stanfordnlp/stanza-resources/main/resources_1.6.0.json: "
     }
    },
    "a6c4a6f9f1644180a40a279e1cbd9126": {
     "model_module": "@jupyter-widgets/controls",
     "model_module_version": "1.5.0",
     "model_name": "DescriptionStyleModel",
     "state": {
      "_model_module": "@jupyter-widgets/controls",
      "_model_module_version": "1.5.0",
      "_model_name": "DescriptionStyleModel",
      "_view_count": null,
      "_view_module": "@jupyter-widgets/base",
      "_view_module_version": "1.2.0",
      "_view_name": "StyleView",
      "description_width": ""
     }
    },
    "aa85f074ed83468dabd6c63b0e1fa01b": {
     "model_module": "@jupyter-widgets/controls",
     "model_module_version": "1.5.0",
     "model_name": "HTMLModel",
     "state": {
      "_dom_classes": [],
      "_model_module": "@jupyter-widgets/controls",
      "_model_module_version": "1.5.0",
      "_model_name": "HTMLModel",
      "_view_count": null,
      "_view_module": "@jupyter-widgets/controls",
      "_view_module_version": "1.5.0",
      "_view_name": "HTMLView",
      "description": "",
      "description_tooltip": null,
      "layout": "IPY_MODEL_c2fc10a1916641f4b78df637681afba8",
      "placeholder": "​",
      "style": "IPY_MODEL_844823a6669d4ff195f34cd4f0a57034",
      "value": " 367k/? [00:00&lt;00:00, 20.1MB/s]"
     }
    },
    "b0aba8c98ad845279ca0698d8747f0ff": {
     "model_module": "@jupyter-widgets/controls",
     "model_module_version": "1.5.0",
     "model_name": "DescriptionStyleModel",
     "state": {
      "_model_module": "@jupyter-widgets/controls",
      "_model_module_version": "1.5.0",
      "_model_name": "DescriptionStyleModel",
      "_view_count": null,
      "_view_module": "@jupyter-widgets/base",
      "_view_module_version": "1.2.0",
      "_view_name": "StyleView",
      "description_width": ""
     }
    },
    "be928ee564854b73952b086b2a1d12f5": {
     "model_module": "@jupyter-widgets/base",
     "model_module_version": "1.2.0",
     "model_name": "LayoutModel",
     "state": {
      "_model_module": "@jupyter-widgets/base",
      "_model_module_version": "1.2.0",
      "_model_name": "LayoutModel",
      "_view_count": null,
      "_view_module": "@jupyter-widgets/base",
      "_view_module_version": "1.2.0",
      "_view_name": "LayoutView",
      "align_content": null,
      "align_items": null,
      "align_self": null,
      "border": null,
      "bottom": null,
      "display": null,
      "flex": null,
      "flex_flow": null,
      "grid_area": null,
      "grid_auto_columns": null,
      "grid_auto_flow": null,
      "grid_auto_rows": null,
      "grid_column": null,
      "grid_gap": null,
      "grid_row": null,
      "grid_template_areas": null,
      "grid_template_columns": null,
      "grid_template_rows": null,
      "height": null,
      "justify_content": null,
      "justify_items": null,
      "left": null,
      "margin": null,
      "max_height": null,
      "max_width": null,
      "min_height": null,
      "min_width": null,
      "object_fit": null,
      "object_position": null,
      "order": null,
      "overflow": null,
      "overflow_x": null,
      "overflow_y": null,
      "padding": null,
      "right": null,
      "top": null,
      "visibility": null,
      "width": null
     }
    },
    "c2fc10a1916641f4b78df637681afba8": {
     "model_module": "@jupyter-widgets/base",
     "model_module_version": "1.2.0",
     "model_name": "LayoutModel",
     "state": {
      "_model_module": "@jupyter-widgets/base",
      "_model_module_version": "1.2.0",
      "_model_name": "LayoutModel",
      "_view_count": null,
      "_view_module": "@jupyter-widgets/base",
      "_view_module_version": "1.2.0",
      "_view_name": "LayoutView",
      "align_content": null,
      "align_items": null,
      "align_self": null,
      "border": null,
      "bottom": null,
      "display": null,
      "flex": null,
      "flex_flow": null,
      "grid_area": null,
      "grid_auto_columns": null,
      "grid_auto_flow": null,
      "grid_auto_rows": null,
      "grid_column": null,
      "grid_gap": null,
      "grid_row": null,
      "grid_template_areas": null,
      "grid_template_columns": null,
      "grid_template_rows": null,
      "height": null,
      "justify_content": null,
      "justify_items": null,
      "left": null,
      "margin": null,
      "max_height": null,
      "max_width": null,
      "min_height": null,
      "min_width": null,
      "object_fit": null,
      "object_position": null,
      "order": null,
      "overflow": null,
      "overflow_x": null,
      "overflow_y": null,
      "padding": null,
      "right": null,
      "top": null,
      "visibility": null,
      "width": null
     }
    },
    "c4a4fc5c28054b4890c60885e095030d": {
     "model_module": "@jupyter-widgets/base",
     "model_module_version": "1.2.0",
     "model_name": "LayoutModel",
     "state": {
      "_model_module": "@jupyter-widgets/base",
      "_model_module_version": "1.2.0",
      "_model_name": "LayoutModel",
      "_view_count": null,
      "_view_module": "@jupyter-widgets/base",
      "_view_module_version": "1.2.0",
      "_view_name": "LayoutView",
      "align_content": null,
      "align_items": null,
      "align_self": null,
      "border": null,
      "bottom": null,
      "display": null,
      "flex": null,
      "flex_flow": null,
      "grid_area": null,
      "grid_auto_columns": null,
      "grid_auto_flow": null,
      "grid_auto_rows": null,
      "grid_column": null,
      "grid_gap": null,
      "grid_row": null,
      "grid_template_areas": null,
      "grid_template_columns": null,
      "grid_template_rows": null,
      "height": null,
      "justify_content": null,
      "justify_items": null,
      "left": null,
      "margin": null,
      "max_height": null,
      "max_width": null,
      "min_height": null,
      "min_width": null,
      "object_fit": null,
      "object_position": null,
      "order": null,
      "overflow": null,
      "overflow_x": null,
      "overflow_y": null,
      "padding": null,
      "right": null,
      "top": null,
      "visibility": null,
      "width": null
     }
    },
    "c96a613eb5ad4a07bdb85497752d18b2": {
     "model_module": "@jupyter-widgets/base",
     "model_module_version": "1.2.0",
     "model_name": "LayoutModel",
     "state": {
      "_model_module": "@jupyter-widgets/base",
      "_model_module_version": "1.2.0",
      "_model_name": "LayoutModel",
      "_view_count": null,
      "_view_module": "@jupyter-widgets/base",
      "_view_module_version": "1.2.0",
      "_view_name": "LayoutView",
      "align_content": null,
      "align_items": null,
      "align_self": null,
      "border": null,
      "bottom": null,
      "display": null,
      "flex": null,
      "flex_flow": null,
      "grid_area": null,
      "grid_auto_columns": null,
      "grid_auto_flow": null,
      "grid_auto_rows": null,
      "grid_column": null,
      "grid_gap": null,
      "grid_row": null,
      "grid_template_areas": null,
      "grid_template_columns": null,
      "grid_template_rows": null,
      "height": null,
      "justify_content": null,
      "justify_items": null,
      "left": null,
      "margin": null,
      "max_height": null,
      "max_width": null,
      "min_height": null,
      "min_width": null,
      "object_fit": null,
      "object_position": null,
      "order": null,
      "overflow": null,
      "overflow_x": null,
      "overflow_y": null,
      "padding": null,
      "right": null,
      "top": null,
      "visibility": null,
      "width": null
     }
    },
    "d8e2a3692bb840b5956039bdb85fc460": {
     "model_module": "@jupyter-widgets/controls",
     "model_module_version": "1.5.0",
     "model_name": "FloatProgressModel",
     "state": {
      "_dom_classes": [],
      "_model_module": "@jupyter-widgets/controls",
      "_model_module_version": "1.5.0",
      "_model_name": "FloatProgressModel",
      "_view_count": null,
      "_view_module": "@jupyter-widgets/controls",
      "_view_module_version": "1.5.0",
      "_view_name": "ProgressView",
      "bar_style": "success",
      "description": "",
      "description_tooltip": null,
      "layout": "IPY_MODEL_73be804f6c1c4da581585ad20033a51b",
      "max": 331382028,
      "min": 0,
      "orientation": "horizontal",
      "style": "IPY_MODEL_0415e86b8f7148b3aa385ada79c8812d",
      "value": 331382028
     }
    },
    "db794fbe4f424b7798a80c36a7be5272": {
     "model_module": "@jupyter-widgets/controls",
     "model_module_version": "1.5.0",
     "model_name": "HBoxModel",
     "state": {
      "_dom_classes": [],
      "_model_module": "@jupyter-widgets/controls",
      "_model_module_version": "1.5.0",
      "_model_name": "HBoxModel",
      "_view_count": null,
      "_view_module": "@jupyter-widgets/controls",
      "_view_module_version": "1.5.0",
      "_view_name": "HBoxView",
      "box_style": "",
      "children": [
       "IPY_MODEL_9f9396628b6a461d88aaaaf805bd6335",
       "IPY_MODEL_e6adf0bdd59c424191dfce3515c571a7",
       "IPY_MODEL_970ce1cfaa104a7eb7f7c13c5825c1a0"
      ],
      "layout": "IPY_MODEL_867aff5e74b54b628ac729a5e3ecc9cf"
     }
    },
    "dcbaff6a598344729430a30dd39aa31c": {
     "model_module": "@jupyter-widgets/controls",
     "model_module_version": "1.5.0",
     "model_name": "DescriptionStyleModel",
     "state": {
      "_model_module": "@jupyter-widgets/controls",
      "_model_module_version": "1.5.0",
      "_model_name": "DescriptionStyleModel",
      "_view_count": null,
      "_view_module": "@jupyter-widgets/base",
      "_view_module_version": "1.2.0",
      "_view_name": "StyleView",
      "description_width": ""
     }
    },
    "dfc47ff03e3a427891662a80f852d136": {
     "model_module": "@jupyter-widgets/base",
     "model_module_version": "1.2.0",
     "model_name": "LayoutModel",
     "state": {
      "_model_module": "@jupyter-widgets/base",
      "_model_module_version": "1.2.0",
      "_model_name": "LayoutModel",
      "_view_count": null,
      "_view_module": "@jupyter-widgets/base",
      "_view_module_version": "1.2.0",
      "_view_name": "LayoutView",
      "align_content": null,
      "align_items": null,
      "align_self": null,
      "border": null,
      "bottom": null,
      "display": null,
      "flex": null,
      "flex_flow": null,
      "grid_area": null,
      "grid_auto_columns": null,
      "grid_auto_flow": null,
      "grid_auto_rows": null,
      "grid_column": null,
      "grid_gap": null,
      "grid_row": null,
      "grid_template_areas": null,
      "grid_template_columns": null,
      "grid_template_rows": null,
      "height": null,
      "justify_content": null,
      "justify_items": null,
      "left": null,
      "margin": null,
      "max_height": null,
      "max_width": null,
      "min_height": null,
      "min_width": null,
      "object_fit": null,
      "object_position": null,
      "order": null,
      "overflow": null,
      "overflow_x": null,
      "overflow_y": null,
      "padding": null,
      "right": null,
      "top": null,
      "visibility": null,
      "width": null
     }
    },
    "e536007fd8134b5f88ae625efe96f855": {
     "model_module": "@jupyter-widgets/controls",
     "model_module_version": "1.5.0",
     "model_name": "DescriptionStyleModel",
     "state": {
      "_model_module": "@jupyter-widgets/controls",
      "_model_module_version": "1.5.0",
      "_model_name": "DescriptionStyleModel",
      "_view_count": null,
      "_view_module": "@jupyter-widgets/base",
      "_view_module_version": "1.2.0",
      "_view_name": "StyleView",
      "description_width": ""
     }
    },
    "e6adf0bdd59c424191dfce3515c571a7": {
     "model_module": "@jupyter-widgets/controls",
     "model_module_version": "1.5.0",
     "model_name": "FloatProgressModel",
     "state": {
      "_dom_classes": [],
      "_model_module": "@jupyter-widgets/controls",
      "_model_module_version": "1.5.0",
      "_model_name": "FloatProgressModel",
      "_view_count": null,
      "_view_module": "@jupyter-widgets/controls",
      "_view_module_version": "1.5.0",
      "_view_name": "ProgressView",
      "bar_style": "success",
      "description": "",
      "description_tooltip": null,
      "layout": "IPY_MODEL_c4a4fc5c28054b4890c60885e095030d",
      "max": 45744,
      "min": 0,
      "orientation": "horizontal",
      "style": "IPY_MODEL_743ff51d7cf144acbd4803073ae79030",
      "value": 45744
     }
    },
    "ef88866ef291418e986cc1d1333e919c": {
     "model_module": "@jupyter-widgets/controls",
     "model_module_version": "1.5.0",
     "model_name": "HTMLModel",
     "state": {
      "_dom_classes": [],
      "_model_module": "@jupyter-widgets/controls",
      "_model_module_version": "1.5.0",
      "_model_name": "HTMLModel",
      "_view_count": null,
      "_view_module": "@jupyter-widgets/controls",
      "_view_module_version": "1.5.0",
      "_view_name": "HTMLView",
      "description": "",
      "description_tooltip": null,
      "layout": "IPY_MODEL_c96a613eb5ad4a07bdb85497752d18b2",
      "placeholder": "​",
      "style": "IPY_MODEL_e536007fd8134b5f88ae625efe96f855",
      "value": " 331M/331M [00:05&lt;00:00, 55.7MB/s]"
     }
    },
    "f310632df4824b4dbef7c1fcfa764863": {
     "model_module": "@jupyter-widgets/controls",
     "model_module_version": "1.5.0",
     "model_name": "HTMLModel",
     "state": {
      "_dom_classes": [],
      "_model_module": "@jupyter-widgets/controls",
      "_model_module_version": "1.5.0",
      "_model_name": "HTMLModel",
      "_view_count": null,
      "_view_module": "@jupyter-widgets/controls",
      "_view_module_version": "1.5.0",
      "_view_name": "HTMLView",
      "description": "",
      "description_tooltip": null,
      "layout": "IPY_MODEL_3c0d7e5264b74ec9ac703c117e652865",
      "placeholder": "​",
      "style": "IPY_MODEL_b0aba8c98ad845279ca0698d8747f0ff",
      "value": "Downloading https://raw.githubusercontent.com/stanfordnlp/stanza-resources/main/resources_1.6.0.json: "
     }
    },
    "fe87379e8b1d458f9d333d6ffb25f25f": {
     "model_module": "@jupyter-widgets/base",
     "model_module_version": "1.2.0",
     "model_name": "LayoutModel",
     "state": {
      "_model_module": "@jupyter-widgets/base",
      "_model_module_version": "1.2.0",
      "_model_name": "LayoutModel",
      "_view_count": null,
      "_view_module": "@jupyter-widgets/base",
      "_view_module_version": "1.2.0",
      "_view_name": "LayoutView",
      "align_content": null,
      "align_items": null,
      "align_self": null,
      "border": null,
      "bottom": null,
      "display": null,
      "flex": null,
      "flex_flow": null,
      "grid_area": null,
      "grid_auto_columns": null,
      "grid_auto_flow": null,
      "grid_auto_rows": null,
      "grid_column": null,
      "grid_gap": null,
      "grid_row": null,
      "grid_template_areas": null,
      "grid_template_columns": null,
      "grid_template_rows": null,
      "height": null,
      "justify_content": null,
      "justify_items": null,
      "left": null,
      "margin": null,
      "max_height": null,
      "max_width": null,
      "min_height": null,
      "min_width": null,
      "object_fit": null,
      "object_position": null,
      "order": null,
      "overflow": null,
      "overflow_x": null,
      "overflow_y": null,
      "padding": null,
      "right": null,
      "top": null,
      "visibility": null,
      "width": null
     }
    }
   }
  }
 },
 "nbformat": 4,
 "nbformat_minor": 5
}
