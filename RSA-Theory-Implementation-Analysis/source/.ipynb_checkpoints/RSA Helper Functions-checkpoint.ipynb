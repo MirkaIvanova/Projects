{
 "cells": [
  {
   "cell_type": "code",
   "execution_count": null,
   "id": "13a5c681-4122-4dbd-b42f-0d28bae6dfe6",
   "metadata": {
    "editable": true,
    "slideshow": {
     "slide_type": ""
    },
    "tags": []
   },
   "outputs": [],
   "source": [
    "import random\n",
    "from functools import wraps\n",
    "import time"
   ]
  },
  {
   "cell_type": "code",
   "execution_count": 2,
   "id": "69c4d48e-5379-42ac-a0aa-486238786515",
   "metadata": {
    "editable": true,
    "slideshow": {
     "slide_type": ""
    },
    "tags": []
   },
   "outputs": [],
   "source": [
    "def mean_time_msec(loops=1000):\n",
    "    \"\"\"\n",
    "    A decorator that measures the mean execution time of a function over n executions.\n",
    "\n",
    "    Input: loops (int): The number of times to execute the function. Defaults to 1000.\n",
    "    Returns: function: A wrapper function that executes the given function n times and measures its mean execution time in milliseconds.\n",
    "    \"\"\"\n",
    "    def decorator(func):\n",
    "        @wraps(func)\n",
    "        def timeit_wrapper(*args, **kwargs):\n",
    "            total_time = 0\n",
    "            start_time = time.perf_counter()\n",
    "            for _ in range(loops):\n",
    "                func(*args, **kwargs)\n",
    "            end_time = time.perf_counter()\n",
    "            total_time = end_time - start_time\n",
    "            mean_time_msec = (total_time / loops) * 1000\n",
    "            return mean_time_msec\n",
    "        return timeit_wrapper\n",
    "    return decorator"
   ]
  },
  {
   "cell_type": "code",
   "execution_count": 18,
   "id": "246064a1-3b74-4fe2-b162-9dc508eae517",
   "metadata": {
    "jupyter": {
     "source_hidden": true
    }
   },
   "outputs": [],
   "source": [
    "def generate_prime_sieve_eratosthenes(n_bits):\n",
    "    \"\"\"\n",
    "    Generate a random prime number within a specified range using the Sieve of Eratosthenes algorithm.\n",
    "\n",
    "    Parameters:\n",
    "    n_bits - the size of the produced prime\n",
    "\n",
    "    Returns:\n",
    "    int: A random prime number with the specified size.\n",
    "    \"\"\"\n",
    "\n",
    "    lower = 2 ** (n_bits - 1)\n",
    "    upper = (2 ** n_bits) - 1\n",
    "\n",
    "    # Use Sieve of Eratosthenes to find all primes up to the upper bound\n",
    "    sieve = [True] * (upper + 1)\n",
    "    sieve[0] = sieve[1] = False  # 0 and 1 are not prime numbers\n",
    "\n",
    "    for number in range(2, int(upper ** 0.5) + 1):\n",
    "        if sieve[number]:\n",
    "            for multiple in range(number * number, upper + 1, number):\n",
    "                sieve[multiple] = False\n",
    "\n",
    "    # Extract primes within the specified range\n",
    "    primes_in_range = [num for num in range(max(2, lower), upper + 1) if sieve[num]]\n",
    "\n",
    "    if not primes_in_range:\n",
    "        raise ValueError(f\"No prime numbers found in the range {lower} to {upper}.\")\n",
    "\n",
    "    # Select a random prime from the list\n",
    "    return random.choice(primes_in_range)"
   ]
  },
  {
   "cell_type": "code",
   "execution_count": 1,
   "id": "29d0ca52-83fb-45dd-bf89-c9bcc566ddc1",
   "metadata": {
    "editable": true,
    "slideshow": {
     "slide_type": ""
    },
    "tags": []
   },
   "outputs": [],
   "source": [
    "def is_prime_miller_rabin(n, k = 5):\n",
    "    \"\"\"Perform the Miller-Rabin primality test on n using k iterations.\"\"\"\n",
    "\n",
    "    # Helper function to perform modular exponentiation\n",
    "    def power_mod(base, exp, mod):\n",
    "        result = 1\n",
    "        base = base % mod\n",
    "        while exp > 0:\n",
    "            if exp % 2 == 1:\n",
    "                result = (result * base) % mod\n",
    "            exp = exp >> 1\n",
    "            base = (base * base) % mod\n",
    "        return result\n",
    "\n",
    "    # If n is less than 2, it is not prime\n",
    "    if n < 2:\n",
    "        return False\n",
    "\n",
    "    # If n is 2 or 3, it is prime\n",
    "    if n in (2, 3):\n",
    "        return True\n",
    "\n",
    "    # If n is even, it is not prime\n",
    "    if n % 2 == 0:\n",
    "        return False\n",
    "\n",
    "    # Write n-1 as 2^r * d\n",
    "    r, d = 0, n - 1\n",
    "    while d % 2 == 0:\n",
    "        d //= 2\n",
    "        r += 1\n",
    "\n",
    "    # Perform k rounds of testing\n",
    "    for _ in range(k):\n",
    "        a = random.randint(2, n - 2)\n",
    "        x = power_mod(a, d, n)\n",
    "        if x == 1 or x == n - 1:\n",
    "            continue\n",
    "\n",
    "        for _ in range(r - 1):\n",
    "            x = power_mod(x, 2, n)\n",
    "            if x == n - 1:\n",
    "                break\n",
    "        else:\n",
    "            return False\n",
    "\n",
    "    return True"
   ]
  },
  {
   "cell_type": "code",
   "execution_count": null,
   "id": "2a289810-1c5e-4a43-8a28-fe17211fb0d0",
   "metadata": {},
   "outputs": [],
   "source": [
    "def get_random_number_sieved(n):\n",
    "    \"\"\"Generate a prime candidate divisible by first primes\"\"\"\n",
    "    primes = [2, 3, 5, 7, 11, 13, 17, 19, 23, 29, 31, 37, 41, 43, 47, 53, 59, 61, 67, 71, 73, 79, 83, 89, 97, 101, 103,\n",
    "              107, 109, 113, 127, 131, 137, 139, 149, 151, 157, 163, 167, 173, 179, 181, 191, 193, 197, 199, 211, 223,\n",
    "              227, 229, 233, 239, 241, 251, 257, 263, 269, 271, 277, 281, 283, 293, 307, 311, 313, 317, 331, 337, 347, 349]\n",
    "\n",
    "    while True:\n",
    "        number = random.randrange(2**(n-1)+1, 2**n - 1)\n",
    "\n",
    "        # Is the number divisible by a pregenerated prime\n",
    "        for divisor in primes:\n",
    "            if number % divisor == 0 and divisor**2 <= number:\n",
    "                break\n",
    "        else:\n",
    "            return number"
   ]
  }
 ],
 "metadata": {
  "kernelspec": {
   "display_name": "Python 3 (ipykernel)",
   "language": "python",
   "name": "python3"
  },
  "language_info": {
   "codemirror_mode": {
    "name": "ipython",
    "version": 3
   },
   "file_extension": ".py",
   "mimetype": "text/x-python",
   "name": "python",
   "nbconvert_exporter": "python",
   "pygments_lexer": "ipython3",
   "version": "3.12.3"
  }
 },
 "nbformat": 4,
 "nbformat_minor": 5
}
